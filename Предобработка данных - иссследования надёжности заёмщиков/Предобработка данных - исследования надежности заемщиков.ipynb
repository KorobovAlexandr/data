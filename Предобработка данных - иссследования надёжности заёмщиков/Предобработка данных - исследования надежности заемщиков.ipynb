{
 "cells": [
  {
   "cell_type": "markdown",
   "id": "386f2ae7",
   "metadata": {
    "deletable": false,
    "editable": false,
    "id": "386f2ae7"
   },
   "source": [
    "# Исследование надежности заемщиков\n"
   ]
  },
  {
   "cell_type": "markdown",
   "id": "ffe86f65",
   "metadata": {
    "deletable": false,
    "editable": false,
    "id": "ffe86f65"
   },
   "source": [
    "Во второй части проекта вы выполните шаги 3 и 4. Их вручную проверит ревьюер.\n",
    "Чтобы вам не пришлось писать код заново для шагов 1 и 2, мы добавили авторские решения в ячейки с кодом. \n",
    "\n"
   ]
  },
  {
   "cell_type": "markdown",
   "id": "26613308",
   "metadata": {
    "deletable": false,
    "editable": false,
    "id": "26613308"
   },
   "source": [
    "## Откройте таблицу и изучите общую информацию о данных"
   ]
  },
  {
   "cell_type": "markdown",
   "id": "3c9f838e",
   "metadata": {
    "deletable": false,
    "editable": false,
    "id": "3c9f838e"
   },
   "source": [
    "**Задание 1. Импортируйте библиотеку pandas. Считайте данные из csv-файла в датафрейм и сохраните в переменную `data`. Путь к файлу:**\n",
    "\n",
    "`/datasets/data.csv`"
   ]
  },
  {
   "cell_type": "code",
   "execution_count": 1,
   "id": "77a68a90",
   "metadata": {
    "deletable": false,
    "id": "77a68a90"
   },
   "outputs": [],
   "source": [
    "import pandas as pd\n",
    "\n",
    "try:\n",
    "    data = pd.read_csv('/datasets/data.csv')\n",
    "except:\n",
    "    data = pd.read_csv('https://code.s3.yandex.net/datasets/data.csv')"
   ]
  },
  {
   "cell_type": "markdown",
   "id": "45365635",
   "metadata": {
    "deletable": false,
    "editable": false,
    "id": "45365635"
   },
   "source": [
    "**Задание 2. Выведите первые 20 строчек датафрейма `data` на экран.**"
   ]
  },
  {
   "cell_type": "code",
   "execution_count": 2,
   "id": "b0451a9a",
   "metadata": {
    "deletable": false,
    "id": "b0451a9a",
    "outputId": "1a8f3ef2-d323-4ec2-ddf7-89670b5944c4"
   },
   "outputs": [
    {
     "data": {
      "text/html": [
       "<div>\n",
       "<style scoped>\n",
       "    .dataframe tbody tr th:only-of-type {\n",
       "        vertical-align: middle;\n",
       "    }\n",
       "\n",
       "    .dataframe tbody tr th {\n",
       "        vertical-align: top;\n",
       "    }\n",
       "\n",
       "    .dataframe thead th {\n",
       "        text-align: right;\n",
       "    }\n",
       "</style>\n",
       "<table border=\"1\" class=\"dataframe\">\n",
       "  <thead>\n",
       "    <tr style=\"text-align: right;\">\n",
       "      <th></th>\n",
       "      <th>children</th>\n",
       "      <th>days_employed</th>\n",
       "      <th>dob_years</th>\n",
       "      <th>education</th>\n",
       "      <th>education_id</th>\n",
       "      <th>family_status</th>\n",
       "      <th>family_status_id</th>\n",
       "      <th>gender</th>\n",
       "      <th>income_type</th>\n",
       "      <th>debt</th>\n",
       "      <th>total_income</th>\n",
       "      <th>purpose</th>\n",
       "    </tr>\n",
       "  </thead>\n",
       "  <tbody>\n",
       "    <tr>\n",
       "      <th>0</th>\n",
       "      <td>1</td>\n",
       "      <td>-8437.673028</td>\n",
       "      <td>42</td>\n",
       "      <td>высшее</td>\n",
       "      <td>0</td>\n",
       "      <td>женат / замужем</td>\n",
       "      <td>0</td>\n",
       "      <td>F</td>\n",
       "      <td>сотрудник</td>\n",
       "      <td>0</td>\n",
       "      <td>253875.639453</td>\n",
       "      <td>покупка жилья</td>\n",
       "    </tr>\n",
       "    <tr>\n",
       "      <th>1</th>\n",
       "      <td>1</td>\n",
       "      <td>-4024.803754</td>\n",
       "      <td>36</td>\n",
       "      <td>среднее</td>\n",
       "      <td>1</td>\n",
       "      <td>женат / замужем</td>\n",
       "      <td>0</td>\n",
       "      <td>F</td>\n",
       "      <td>сотрудник</td>\n",
       "      <td>0</td>\n",
       "      <td>112080.014102</td>\n",
       "      <td>приобретение автомобиля</td>\n",
       "    </tr>\n",
       "    <tr>\n",
       "      <th>2</th>\n",
       "      <td>0</td>\n",
       "      <td>-5623.422610</td>\n",
       "      <td>33</td>\n",
       "      <td>Среднее</td>\n",
       "      <td>1</td>\n",
       "      <td>женат / замужем</td>\n",
       "      <td>0</td>\n",
       "      <td>M</td>\n",
       "      <td>сотрудник</td>\n",
       "      <td>0</td>\n",
       "      <td>145885.952297</td>\n",
       "      <td>покупка жилья</td>\n",
       "    </tr>\n",
       "    <tr>\n",
       "      <th>3</th>\n",
       "      <td>3</td>\n",
       "      <td>-4124.747207</td>\n",
       "      <td>32</td>\n",
       "      <td>среднее</td>\n",
       "      <td>1</td>\n",
       "      <td>женат / замужем</td>\n",
       "      <td>0</td>\n",
       "      <td>M</td>\n",
       "      <td>сотрудник</td>\n",
       "      <td>0</td>\n",
       "      <td>267628.550329</td>\n",
       "      <td>дополнительное образование</td>\n",
       "    </tr>\n",
       "    <tr>\n",
       "      <th>4</th>\n",
       "      <td>0</td>\n",
       "      <td>340266.072047</td>\n",
       "      <td>53</td>\n",
       "      <td>среднее</td>\n",
       "      <td>1</td>\n",
       "      <td>гражданский брак</td>\n",
       "      <td>1</td>\n",
       "      <td>F</td>\n",
       "      <td>пенсионер</td>\n",
       "      <td>0</td>\n",
       "      <td>158616.077870</td>\n",
       "      <td>сыграть свадьбу</td>\n",
       "    </tr>\n",
       "    <tr>\n",
       "      <th>5</th>\n",
       "      <td>0</td>\n",
       "      <td>-926.185831</td>\n",
       "      <td>27</td>\n",
       "      <td>высшее</td>\n",
       "      <td>0</td>\n",
       "      <td>гражданский брак</td>\n",
       "      <td>1</td>\n",
       "      <td>M</td>\n",
       "      <td>компаньон</td>\n",
       "      <td>0</td>\n",
       "      <td>255763.565419</td>\n",
       "      <td>покупка жилья</td>\n",
       "    </tr>\n",
       "    <tr>\n",
       "      <th>6</th>\n",
       "      <td>0</td>\n",
       "      <td>-2879.202052</td>\n",
       "      <td>43</td>\n",
       "      <td>высшее</td>\n",
       "      <td>0</td>\n",
       "      <td>женат / замужем</td>\n",
       "      <td>0</td>\n",
       "      <td>F</td>\n",
       "      <td>компаньон</td>\n",
       "      <td>0</td>\n",
       "      <td>240525.971920</td>\n",
       "      <td>операции с жильем</td>\n",
       "    </tr>\n",
       "    <tr>\n",
       "      <th>7</th>\n",
       "      <td>0</td>\n",
       "      <td>-152.779569</td>\n",
       "      <td>50</td>\n",
       "      <td>СРЕДНЕЕ</td>\n",
       "      <td>1</td>\n",
       "      <td>женат / замужем</td>\n",
       "      <td>0</td>\n",
       "      <td>M</td>\n",
       "      <td>сотрудник</td>\n",
       "      <td>0</td>\n",
       "      <td>135823.934197</td>\n",
       "      <td>образование</td>\n",
       "    </tr>\n",
       "    <tr>\n",
       "      <th>8</th>\n",
       "      <td>2</td>\n",
       "      <td>-6929.865299</td>\n",
       "      <td>35</td>\n",
       "      <td>ВЫСШЕЕ</td>\n",
       "      <td>0</td>\n",
       "      <td>гражданский брак</td>\n",
       "      <td>1</td>\n",
       "      <td>F</td>\n",
       "      <td>сотрудник</td>\n",
       "      <td>0</td>\n",
       "      <td>95856.832424</td>\n",
       "      <td>на проведение свадьбы</td>\n",
       "    </tr>\n",
       "    <tr>\n",
       "      <th>9</th>\n",
       "      <td>0</td>\n",
       "      <td>-2188.756445</td>\n",
       "      <td>41</td>\n",
       "      <td>среднее</td>\n",
       "      <td>1</td>\n",
       "      <td>женат / замужем</td>\n",
       "      <td>0</td>\n",
       "      <td>M</td>\n",
       "      <td>сотрудник</td>\n",
       "      <td>0</td>\n",
       "      <td>144425.938277</td>\n",
       "      <td>покупка жилья для семьи</td>\n",
       "    </tr>\n",
       "    <tr>\n",
       "      <th>10</th>\n",
       "      <td>2</td>\n",
       "      <td>-4171.483647</td>\n",
       "      <td>36</td>\n",
       "      <td>высшее</td>\n",
       "      <td>0</td>\n",
       "      <td>женат / замужем</td>\n",
       "      <td>0</td>\n",
       "      <td>M</td>\n",
       "      <td>компаньон</td>\n",
       "      <td>0</td>\n",
       "      <td>113943.491460</td>\n",
       "      <td>покупка недвижимости</td>\n",
       "    </tr>\n",
       "    <tr>\n",
       "      <th>11</th>\n",
       "      <td>0</td>\n",
       "      <td>-792.701887</td>\n",
       "      <td>40</td>\n",
       "      <td>среднее</td>\n",
       "      <td>1</td>\n",
       "      <td>женат / замужем</td>\n",
       "      <td>0</td>\n",
       "      <td>F</td>\n",
       "      <td>сотрудник</td>\n",
       "      <td>0</td>\n",
       "      <td>77069.234271</td>\n",
       "      <td>покупка коммерческой недвижимости</td>\n",
       "    </tr>\n",
       "    <tr>\n",
       "      <th>12</th>\n",
       "      <td>0</td>\n",
       "      <td>NaN</td>\n",
       "      <td>65</td>\n",
       "      <td>среднее</td>\n",
       "      <td>1</td>\n",
       "      <td>гражданский брак</td>\n",
       "      <td>1</td>\n",
       "      <td>M</td>\n",
       "      <td>пенсионер</td>\n",
       "      <td>0</td>\n",
       "      <td>NaN</td>\n",
       "      <td>сыграть свадьбу</td>\n",
       "    </tr>\n",
       "    <tr>\n",
       "      <th>13</th>\n",
       "      <td>0</td>\n",
       "      <td>-1846.641941</td>\n",
       "      <td>54</td>\n",
       "      <td>неоконченное высшее</td>\n",
       "      <td>2</td>\n",
       "      <td>женат / замужем</td>\n",
       "      <td>0</td>\n",
       "      <td>F</td>\n",
       "      <td>сотрудник</td>\n",
       "      <td>0</td>\n",
       "      <td>130458.228857</td>\n",
       "      <td>приобретение автомобиля</td>\n",
       "    </tr>\n",
       "    <tr>\n",
       "      <th>14</th>\n",
       "      <td>0</td>\n",
       "      <td>-1844.956182</td>\n",
       "      <td>56</td>\n",
       "      <td>высшее</td>\n",
       "      <td>0</td>\n",
       "      <td>гражданский брак</td>\n",
       "      <td>1</td>\n",
       "      <td>F</td>\n",
       "      <td>компаньон</td>\n",
       "      <td>1</td>\n",
       "      <td>165127.911772</td>\n",
       "      <td>покупка жилой недвижимости</td>\n",
       "    </tr>\n",
       "    <tr>\n",
       "      <th>15</th>\n",
       "      <td>1</td>\n",
       "      <td>-972.364419</td>\n",
       "      <td>26</td>\n",
       "      <td>среднее</td>\n",
       "      <td>1</td>\n",
       "      <td>женат / замужем</td>\n",
       "      <td>0</td>\n",
       "      <td>F</td>\n",
       "      <td>сотрудник</td>\n",
       "      <td>0</td>\n",
       "      <td>116820.904450</td>\n",
       "      <td>строительство собственной недвижимости</td>\n",
       "    </tr>\n",
       "    <tr>\n",
       "      <th>16</th>\n",
       "      <td>0</td>\n",
       "      <td>-1719.934226</td>\n",
       "      <td>35</td>\n",
       "      <td>среднее</td>\n",
       "      <td>1</td>\n",
       "      <td>женат / замужем</td>\n",
       "      <td>0</td>\n",
       "      <td>F</td>\n",
       "      <td>сотрудник</td>\n",
       "      <td>0</td>\n",
       "      <td>289202.704229</td>\n",
       "      <td>недвижимость</td>\n",
       "    </tr>\n",
       "    <tr>\n",
       "      <th>17</th>\n",
       "      <td>0</td>\n",
       "      <td>-2369.999720</td>\n",
       "      <td>33</td>\n",
       "      <td>высшее</td>\n",
       "      <td>0</td>\n",
       "      <td>гражданский брак</td>\n",
       "      <td>1</td>\n",
       "      <td>M</td>\n",
       "      <td>сотрудник</td>\n",
       "      <td>0</td>\n",
       "      <td>90410.586745</td>\n",
       "      <td>строительство недвижимости</td>\n",
       "    </tr>\n",
       "    <tr>\n",
       "      <th>18</th>\n",
       "      <td>0</td>\n",
       "      <td>400281.136913</td>\n",
       "      <td>53</td>\n",
       "      <td>среднее</td>\n",
       "      <td>1</td>\n",
       "      <td>вдовец / вдова</td>\n",
       "      <td>2</td>\n",
       "      <td>F</td>\n",
       "      <td>пенсионер</td>\n",
       "      <td>0</td>\n",
       "      <td>56823.777243</td>\n",
       "      <td>на покупку подержанного автомобиля</td>\n",
       "    </tr>\n",
       "    <tr>\n",
       "      <th>19</th>\n",
       "      <td>0</td>\n",
       "      <td>-10038.818549</td>\n",
       "      <td>48</td>\n",
       "      <td>СРЕДНЕЕ</td>\n",
       "      <td>1</td>\n",
       "      <td>в разводе</td>\n",
       "      <td>3</td>\n",
       "      <td>F</td>\n",
       "      <td>сотрудник</td>\n",
       "      <td>0</td>\n",
       "      <td>242831.107982</td>\n",
       "      <td>на покупку своего автомобиля</td>\n",
       "    </tr>\n",
       "  </tbody>\n",
       "</table>\n",
       "</div>"
      ],
      "text/plain": [
       "    children  days_employed  dob_years            education  education_id  \\\n",
       "0          1   -8437.673028         42               высшее             0   \n",
       "1          1   -4024.803754         36              среднее             1   \n",
       "2          0   -5623.422610         33              Среднее             1   \n",
       "3          3   -4124.747207         32              среднее             1   \n",
       "4          0  340266.072047         53              среднее             1   \n",
       "5          0    -926.185831         27               высшее             0   \n",
       "6          0   -2879.202052         43               высшее             0   \n",
       "7          0    -152.779569         50              СРЕДНЕЕ             1   \n",
       "8          2   -6929.865299         35               ВЫСШЕЕ             0   \n",
       "9          0   -2188.756445         41              среднее             1   \n",
       "10         2   -4171.483647         36               высшее             0   \n",
       "11         0    -792.701887         40              среднее             1   \n",
       "12         0            NaN         65              среднее             1   \n",
       "13         0   -1846.641941         54  неоконченное высшее             2   \n",
       "14         0   -1844.956182         56               высшее             0   \n",
       "15         1    -972.364419         26              среднее             1   \n",
       "16         0   -1719.934226         35              среднее             1   \n",
       "17         0   -2369.999720         33               высшее             0   \n",
       "18         0  400281.136913         53              среднее             1   \n",
       "19         0  -10038.818549         48              СРЕДНЕЕ             1   \n",
       "\n",
       "       family_status  family_status_id gender income_type  debt  \\\n",
       "0    женат / замужем                 0      F   сотрудник     0   \n",
       "1    женат / замужем                 0      F   сотрудник     0   \n",
       "2    женат / замужем                 0      M   сотрудник     0   \n",
       "3    женат / замужем                 0      M   сотрудник     0   \n",
       "4   гражданский брак                 1      F   пенсионер     0   \n",
       "5   гражданский брак                 1      M   компаньон     0   \n",
       "6    женат / замужем                 0      F   компаньон     0   \n",
       "7    женат / замужем                 0      M   сотрудник     0   \n",
       "8   гражданский брак                 1      F   сотрудник     0   \n",
       "9    женат / замужем                 0      M   сотрудник     0   \n",
       "10   женат / замужем                 0      M   компаньон     0   \n",
       "11   женат / замужем                 0      F   сотрудник     0   \n",
       "12  гражданский брак                 1      M   пенсионер     0   \n",
       "13   женат / замужем                 0      F   сотрудник     0   \n",
       "14  гражданский брак                 1      F   компаньон     1   \n",
       "15   женат / замужем                 0      F   сотрудник     0   \n",
       "16   женат / замужем                 0      F   сотрудник     0   \n",
       "17  гражданский брак                 1      M   сотрудник     0   \n",
       "18    вдовец / вдова                 2      F   пенсионер     0   \n",
       "19         в разводе                 3      F   сотрудник     0   \n",
       "\n",
       "     total_income                                 purpose  \n",
       "0   253875.639453                           покупка жилья  \n",
       "1   112080.014102                 приобретение автомобиля  \n",
       "2   145885.952297                           покупка жилья  \n",
       "3   267628.550329              дополнительное образование  \n",
       "4   158616.077870                         сыграть свадьбу  \n",
       "5   255763.565419                           покупка жилья  \n",
       "6   240525.971920                       операции с жильем  \n",
       "7   135823.934197                             образование  \n",
       "8    95856.832424                   на проведение свадьбы  \n",
       "9   144425.938277                 покупка жилья для семьи  \n",
       "10  113943.491460                    покупка недвижимости  \n",
       "11   77069.234271       покупка коммерческой недвижимости  \n",
       "12            NaN                         сыграть свадьбу  \n",
       "13  130458.228857                 приобретение автомобиля  \n",
       "14  165127.911772              покупка жилой недвижимости  \n",
       "15  116820.904450  строительство собственной недвижимости  \n",
       "16  289202.704229                            недвижимость  \n",
       "17   90410.586745              строительство недвижимости  \n",
       "18   56823.777243      на покупку подержанного автомобиля  \n",
       "19  242831.107982            на покупку своего автомобиля  "
      ]
     },
     "execution_count": 2,
     "metadata": {},
     "output_type": "execute_result"
    }
   ],
   "source": [
    "data.head(20)"
   ]
  },
  {
   "cell_type": "markdown",
   "id": "0ed8f27f",
   "metadata": {
    "deletable": false,
    "editable": false,
    "id": "0ed8f27f"
   },
   "source": [
    "**Задание 3. Выведите основную информацию о датафрейме с помощью метода `info()`.**"
   ]
  },
  {
   "cell_type": "code",
   "execution_count": 3,
   "id": "ab3f863b",
   "metadata": {
    "deletable": false,
    "id": "ab3f863b",
    "outputId": "15376089-8dad-46c9-b520-c05248d43158"
   },
   "outputs": [
    {
     "name": "stdout",
     "output_type": "stream",
     "text": [
      "<class 'pandas.core.frame.DataFrame'>\n",
      "RangeIndex: 21525 entries, 0 to 21524\n",
      "Data columns (total 12 columns):\n",
      " #   Column            Non-Null Count  Dtype  \n",
      "---  ------            --------------  -----  \n",
      " 0   children          21525 non-null  int64  \n",
      " 1   days_employed     19351 non-null  float64\n",
      " 2   dob_years         21525 non-null  int64  \n",
      " 3   education         21525 non-null  object \n",
      " 4   education_id      21525 non-null  int64  \n",
      " 5   family_status     21525 non-null  object \n",
      " 6   family_status_id  21525 non-null  int64  \n",
      " 7   gender            21525 non-null  object \n",
      " 8   income_type       21525 non-null  object \n",
      " 9   debt              21525 non-null  int64  \n",
      " 10  total_income      19351 non-null  float64\n",
      " 11  purpose           21525 non-null  object \n",
      "dtypes: float64(2), int64(5), object(5)\n",
      "memory usage: 2.0+ MB\n"
     ]
    }
   ],
   "source": [
    "data.info()"
   ]
  },
  {
   "cell_type": "markdown",
   "id": "60e3e22d",
   "metadata": {
    "deletable": false,
    "editable": false,
    "id": "60e3e22d"
   },
   "source": [
    "## Предобработка данных"
   ]
  },
  {
   "cell_type": "markdown",
   "id": "03dc170c",
   "metadata": {
    "deletable": false,
    "editable": false,
    "id": "03dc170c"
   },
   "source": [
    "### Удаление пропусков"
   ]
  },
  {
   "cell_type": "markdown",
   "id": "a4f54eef",
   "metadata": {
    "deletable": false,
    "editable": false,
    "id": "a4f54eef"
   },
   "source": [
    "**Задание 4. Выведите количество пропущенных значений для каждого столбца. Используйте комбинацию двух методов.**"
   ]
  },
  {
   "cell_type": "code",
   "execution_count": 4,
   "id": "2dc372b2",
   "metadata": {
    "deletable": false,
    "id": "2dc372b2",
    "outputId": "81f4d817-781c-465c-ed15-91ce4446810d"
   },
   "outputs": [
    {
     "data": {
      "text/plain": [
       "children               0\n",
       "days_employed       2174\n",
       "dob_years              0\n",
       "education              0\n",
       "education_id           0\n",
       "family_status          0\n",
       "family_status_id       0\n",
       "gender                 0\n",
       "income_type            0\n",
       "debt                   0\n",
       "total_income        2174\n",
       "purpose                0\n",
       "dtype: int64"
      ]
     },
     "execution_count": 4,
     "metadata": {},
     "output_type": "execute_result"
    }
   ],
   "source": [
    "data.isna().sum()"
   ]
  },
  {
   "cell_type": "markdown",
   "id": "14f011b1",
   "metadata": {
    "deletable": false,
    "editable": false,
    "id": "14f011b1"
   },
   "source": [
    "**Задание 5. В двух столбцах есть пропущенные значения. Один из них — `days_employed`. Пропуски в этом столбце вы обработаете на следующем этапе. Другой столбец с пропущенными значениями — `total_income` — хранит данные о доходах. На сумму дохода сильнее всего влияет тип занятости, поэтому заполнить пропуски в этом столбце нужно медианным значением по каждому типу из столбца `income_type`. Например, у человека с типом занятости `сотрудник` пропуск в столбце `total_income` должен быть заполнен медианным доходом среди всех записей с тем же типом.**"
   ]
  },
  {
   "cell_type": "code",
   "execution_count": 6,
   "id": "bdabfb6e",
   "metadata": {
    "deletable": false,
    "id": "bdabfb6e"
   },
   "outputs": [],
   "source": [
    "for t in data['income_type'].unique():\n",
    "    data.loc[(data['income_type'] == t) & (data['total_income'].isna()), 'total_income'] = \\\n",
    "    data.loc[(data['income_type'] == t), 'total_income'].median()"
   ]
  },
  {
   "cell_type": "markdown",
   "id": "5be34059",
   "metadata": {
    "deletable": false,
    "editable": false,
    "id": "5be34059"
   },
   "source": [
    "### Обработка аномальных значений"
   ]
  },
  {
   "cell_type": "markdown",
   "id": "a87606cb",
   "metadata": {
    "deletable": false,
    "editable": false,
    "id": "a87606cb"
   },
   "source": [
    "**Задание 6. В данных могут встречаться артефакты (аномалии) — значения, которые не отражают действительность и появились по какой-то ошибке. таким артефактом будет отрицательное количество дней трудового стажа в столбце `days_employed`. Для реальных данных это нормально. Обработайте значения в этом столбце: замените все отрицательные значения положительными с помощью метода `abs()`.**"
   ]
  },
  {
   "cell_type": "code",
   "execution_count": 7,
   "id": "020c46cc",
   "metadata": {
    "deletable": false,
    "id": "020c46cc"
   },
   "outputs": [],
   "source": [
    "data['days_employed'] = data['days_employed'].abs()"
   ]
  },
  {
   "cell_type": "markdown",
   "id": "45538a3a",
   "metadata": {
    "deletable": false,
    "editable": false,
    "id": "45538a3a"
   },
   "source": [
    "**Задание 7. Для каждого типа занятости выведите медианное значение трудового стажа `days_employed` в днях.**"
   ]
  },
  {
   "cell_type": "code",
   "execution_count": 8,
   "id": "cd3e6328",
   "metadata": {
    "deletable": false,
    "id": "cd3e6328",
    "outputId": "801ef80e-522b-4668-f34e-565af7432bcf"
   },
   "outputs": [
    {
     "data": {
      "text/plain": [
       "income_type\n",
       "безработный        366413.652744\n",
       "в декрете            3296.759962\n",
       "госслужащий          2689.368353\n",
       "компаньон            1547.382223\n",
       "пенсионер          365213.306266\n",
       "предприниматель       520.848083\n",
       "сотрудник            1574.202821\n",
       "студент               578.751554\n",
       "Name: days_employed, dtype: float64"
      ]
     },
     "execution_count": 8,
     "metadata": {},
     "output_type": "execute_result"
    }
   ],
   "source": [
    "data.groupby('income_type')['days_employed'].agg('median')"
   ]
  },
  {
   "cell_type": "markdown",
   "id": "90c5f058",
   "metadata": {
    "deletable": false,
    "editable": false,
    "id": "90c5f058"
   },
   "source": [
    "У двух типов (безработные и пенсионеры) получатся аномально большие значения. Исправить такие значения сложно, поэтому оставьте их как есть."
   ]
  },
  {
   "cell_type": "markdown",
   "id": "9652e50d",
   "metadata": {
    "deletable": false,
    "editable": false,
    "id": "9652e50d"
   },
   "source": [
    "**Задание 8. Выведите перечень уникальных значений столбца `children`.**"
   ]
  },
  {
   "cell_type": "code",
   "execution_count": 9,
   "id": "dbb37b8e",
   "metadata": {
    "deletable": false,
    "id": "dbb37b8e",
    "outputId": "6975b15c-7f95-4697-d16d-a0c79b657b03"
   },
   "outputs": [
    {
     "data": {
      "text/plain": [
       "array([ 1,  0,  3,  2, -1,  4, 20,  5])"
      ]
     },
     "execution_count": 9,
     "metadata": {},
     "output_type": "execute_result"
    }
   ],
   "source": [
    "data['children'].unique()"
   ]
  },
  {
   "cell_type": "markdown",
   "id": "2b8b0715",
   "metadata": {
    "deletable": false,
    "editable": false,
    "id": "2b8b0715"
   },
   "source": [
    "**Задание 9. В столбце `children` есть два аномальных значения. Удалите строки, в которых встречаются такие аномальные значения из датафрейма `data`.**"
   ]
  },
  {
   "cell_type": "code",
   "execution_count": 10,
   "id": "20009df8",
   "metadata": {
    "deletable": false,
    "id": "20009df8"
   },
   "outputs": [],
   "source": [
    "data = data[(data['children'] != -1) & (data['children'] != 20)]"
   ]
  },
  {
   "cell_type": "markdown",
   "id": "8c6ac9f1",
   "metadata": {
    "deletable": false,
    "editable": false,
    "id": "8c6ac9f1"
   },
   "source": [
    "**Задание 10. Ещё раз выведите перечень уникальных значений столбца `children`, чтобы убедиться, что артефакты удалены.**"
   ]
  },
  {
   "cell_type": "code",
   "execution_count": 11,
   "id": "07337b81",
   "metadata": {
    "deletable": false,
    "id": "07337b81",
    "outputId": "b2097101-d49d-44d9-901b-32a65c9463d1"
   },
   "outputs": [
    {
     "data": {
      "text/plain": [
       "array([1, 0, 3, 2, 4, 5])"
      ]
     },
     "execution_count": 11,
     "metadata": {},
     "output_type": "execute_result"
    }
   ],
   "source": [
    "data['children'].unique()"
   ]
  },
  {
   "cell_type": "markdown",
   "id": "ee3f52d4",
   "metadata": {
    "deletable": false,
    "editable": false,
    "id": "ee3f52d4"
   },
   "source": [
    "### Удаление пропусков (продолжение)"
   ]
  },
  {
   "cell_type": "markdown",
   "id": "a700b0e4",
   "metadata": {
    "deletable": false,
    "editable": false,
    "id": "a700b0e4"
   },
   "source": [
    "**Задание 11. Заполните пропуски в столбце `days_employed` медианными значениями по каждого типа занятости `income_type`.**"
   ]
  },
  {
   "cell_type": "code",
   "execution_count": 12,
   "id": "61946b83",
   "metadata": {
    "deletable": false,
    "id": "61946b83"
   },
   "outputs": [],
   "source": [
    "for t in data['income_type'].unique():\n",
    "    data.loc[(data['income_type'] == t) & (data['days_employed'].isna()), 'days_employed'] = \\\n",
    "    data.loc[(data['income_type'] == t), 'days_employed'].median()"
   ]
  },
  {
   "cell_type": "markdown",
   "id": "550dcd9b",
   "metadata": {
    "deletable": false,
    "editable": false,
    "id": "550dcd9b"
   },
   "source": [
    "**Задание 12. Убедитесь, что все пропуски заполнены. Проверьте себя и ещё раз выведите количество пропущенных значений для каждого столбца с помощью двух методов.**"
   ]
  },
  {
   "cell_type": "code",
   "execution_count": 13,
   "id": "937c7014",
   "metadata": {
    "deletable": false,
    "id": "937c7014",
    "outputId": "8da1e4e1-358e-4e87-98c9-f261bce0a7b2"
   },
   "outputs": [
    {
     "data": {
      "text/plain": [
       "children            0\n",
       "days_employed       0\n",
       "dob_years           0\n",
       "education           0\n",
       "education_id        0\n",
       "family_status       0\n",
       "family_status_id    0\n",
       "gender              0\n",
       "income_type         0\n",
       "debt                0\n",
       "total_income        0\n",
       "purpose             0\n",
       "dtype: int64"
      ]
     },
     "execution_count": 13,
     "metadata": {},
     "output_type": "execute_result"
    }
   ],
   "source": [
    "data.isna().sum()"
   ]
  },
  {
   "cell_type": "markdown",
   "id": "d522e295",
   "metadata": {
    "deletable": false,
    "editable": false,
    "id": "d522e295"
   },
   "source": [
    "### Изменение типов данных"
   ]
  },
  {
   "cell_type": "markdown",
   "id": "c229c581",
   "metadata": {
    "deletable": false,
    "editable": false,
    "id": "c229c581"
   },
   "source": [
    "**Задание 13. Замените вещественный тип данных в столбце `total_income` на целочисленный с помощью метода `astype()`.**"
   ]
  },
  {
   "cell_type": "code",
   "execution_count": 14,
   "id": "31036462",
   "metadata": {
    "deletable": false,
    "id": "31036462"
   },
   "outputs": [],
   "source": [
    "data['total_income'] = data['total_income'].astype(int)"
   ]
  },
  {
   "cell_type": "markdown",
   "id": "b8e3d1d9",
   "metadata": {
    "deletable": false,
    "editable": false,
    "id": "b8e3d1d9"
   },
   "source": [
    "### Обработка дубликатов"
   ]
  },
  {
   "cell_type": "markdown",
   "id": "9be53c49",
   "metadata": {
    "deletable": false,
    "editable": false,
    "id": "9be53c49"
   },
   "source": [
    "**Задание 14. Обработайте неявные дубликаты в столбце `education`. В этом столбце есть одни и те же значения, но записанные по-разному: с использованием заглавных и строчных букв. Приведите их к нижнему регистру.**"
   ]
  },
  {
   "cell_type": "code",
   "execution_count": 15,
   "id": "d89e73e1",
   "metadata": {
    "deletable": false,
    "id": "d89e73e1"
   },
   "outputs": [],
   "source": [
    "data['education'] = data['education'].str.lower()"
   ]
  },
  {
   "cell_type": "markdown",
   "id": "01d4500e",
   "metadata": {
    "deletable": false,
    "editable": false,
    "id": "01d4500e"
   },
   "source": [
    "**Задание 15. Выведите на экран количество строк-дубликатов в данных. Если такие строки присутствуют, удалите их.**"
   ]
  },
  {
   "cell_type": "code",
   "execution_count": 16,
   "id": "e10efb23",
   "metadata": {
    "deletable": false,
    "id": "e10efb23",
    "outputId": "9684deba-1934-42d1-99e1-cda61740f822"
   },
   "outputs": [
    {
     "data": {
      "text/plain": [
       "71"
      ]
     },
     "execution_count": 16,
     "metadata": {},
     "output_type": "execute_result"
    }
   ],
   "source": [
    "data.duplicated().sum()"
   ]
  },
  {
   "cell_type": "code",
   "execution_count": 17,
   "id": "df853f20",
   "metadata": {
    "deletable": false,
    "id": "df853f20"
   },
   "outputs": [],
   "source": [
    "data = data.drop_duplicates()"
   ]
  },
  {
   "cell_type": "markdown",
   "id": "627be38f",
   "metadata": {
    "deletable": false,
    "editable": false,
    "id": "627be38f"
   },
   "source": [
    "### Категоризация данных"
   ]
  },
  {
   "cell_type": "markdown",
   "id": "4684c3e0",
   "metadata": {
    "deletable": false,
    "editable": false,
    "id": "4684c3e0"
   },
   "source": [
    "**Задание 16. На основании диапазонов, указанных ниже, создайте в датафрейме `data` столбец `total_income_category` с категориями:**\n",
    "\n",
    "- 0–30000 — `'E'`;\n",
    "- 30001–50000 — `'D'`;\n",
    "- 50001–200000 — `'C'`;\n",
    "- 200001–1000000 — `'B'`;\n",
    "- 1000001 и выше — `'A'`.\n",
    "\n",
    "\n",
    "**Например, кредитополучателю с доходом 25000 нужно назначить категорию `'E'`, а клиенту, получающему 235000, — `'B'`. Используйте собственную функцию с именем `categorize_income()` и метод `apply()`.**"
   ]
  },
  {
   "cell_type": "code",
   "execution_count": 18,
   "id": "78965238",
   "metadata": {
    "deletable": false,
    "id": "78965238"
   },
   "outputs": [],
   "source": [
    "def categorize_income(income):\n",
    "    try:\n",
    "        if 0 <= income <= 30000:\n",
    "            return 'E'\n",
    "        elif 30001 <= income <= 50000:\n",
    "            return 'D'\n",
    "        elif 50001 <= income <= 200000:\n",
    "            return 'C'\n",
    "        elif 200001 <= income <= 1000000:\n",
    "            return 'B'\n",
    "        elif income >= 1000001:\n",
    "            return 'A'\n",
    "    except:\n",
    "        pass"
   ]
  },
  {
   "cell_type": "code",
   "execution_count": 20,
   "id": "0980ada1",
   "metadata": {
    "deletable": false,
    "id": "0980ada1"
   },
   "outputs": [],
   "source": [
    "data['total_income_category'] = data['total_income'].apply(categorize_income)"
   ]
  },
  {
   "cell_type": "markdown",
   "id": "9917bba0",
   "metadata": {
    "deletable": false,
    "editable": false,
    "id": "9917bba0"
   },
   "source": [
    "**Задание 17. Выведите на экран перечень уникальных целей взятия кредита из столбца `purpose`.**"
   ]
  },
  {
   "cell_type": "code",
   "execution_count": 21,
   "id": "ee07b65e",
   "metadata": {
    "deletable": false,
    "id": "ee07b65e",
    "outputId": "673c12d9-7d7e-4ae0-9812-c622c89dd244"
   },
   "outputs": [
    {
     "data": {
      "text/plain": [
       "array(['покупка жилья', 'приобретение автомобиля',\n",
       "       'дополнительное образование', 'сыграть свадьбу',\n",
       "       'операции с жильем', 'образование', 'на проведение свадьбы',\n",
       "       'покупка жилья для семьи', 'покупка недвижимости',\n",
       "       'покупка коммерческой недвижимости', 'покупка жилой недвижимости',\n",
       "       'строительство собственной недвижимости', 'недвижимость',\n",
       "       'строительство недвижимости', 'на покупку подержанного автомобиля',\n",
       "       'на покупку своего автомобиля',\n",
       "       'операции с коммерческой недвижимостью',\n",
       "       'строительство жилой недвижимости', 'жилье',\n",
       "       'операции со своей недвижимостью', 'автомобили',\n",
       "       'заняться образованием', 'сделка с подержанным автомобилем',\n",
       "       'получение образования', 'автомобиль', 'свадьба',\n",
       "       'получение дополнительного образования', 'покупка своего жилья',\n",
       "       'операции с недвижимостью', 'получение высшего образования',\n",
       "       'свой автомобиль', 'сделка с автомобилем',\n",
       "       'профильное образование', 'высшее образование',\n",
       "       'покупка жилья для сдачи', 'на покупку автомобиля', 'ремонт жилью',\n",
       "       'заняться высшим образованием'], dtype=object)"
      ]
     },
     "execution_count": 21,
     "metadata": {},
     "output_type": "execute_result"
    }
   ],
   "source": [
    "data['purpose'].unique()"
   ]
  },
  {
   "cell_type": "markdown",
   "id": "52b79d56",
   "metadata": {
    "deletable": false,
    "editable": false,
    "id": "52b79d56"
   },
   "source": [
    "**Задание 18. Создайте функцию, которая на основании данных из столбца `purpose` сформирует новый столбец `purpose_category`, в который войдут следующие категории:**\n",
    "\n",
    "- `'операции с автомобилем'`,\n",
    "- `'операции с недвижимостью'`,\n",
    "- `'проведение свадьбы'`,\n",
    "- `'получение образования'`.\n",
    "\n",
    "**Например, если в столбце `purpose` находится подстрока `'на покупку автомобиля'`, то в столбце `purpose_category` должна появиться строка `'операции с автомобилем'`.**\n",
    "\n",
    "**Используйте собственную функцию с именем `categorize_purpose()` и метод `apply()`. Изучите данные в столбце `purpose` и определите, какие подстроки помогут вам правильно определить категорию.**"
   ]
  },
  {
   "cell_type": "code",
   "execution_count": 22,
   "id": "be41da5d",
   "metadata": {
    "deletable": false,
    "id": "be41da5d"
   },
   "outputs": [],
   "source": [
    "def categorize_purpose(row):\n",
    "    try:\n",
    "        if 'автом' in row:\n",
    "            return 'операции с автомобилем'\n",
    "        elif 'жил' in row or 'недвиж' in row:\n",
    "            return 'операции с недвижимостью'\n",
    "        elif 'свад' in row:\n",
    "            return 'проведение свадьбы'\n",
    "        elif 'образов' in row:\n",
    "            return 'получение образования'\n",
    "    except:\n",
    "        return 'нет категории'"
   ]
  },
  {
   "cell_type": "code",
   "execution_count": 23,
   "id": "94c4a19a",
   "metadata": {
    "deletable": false,
    "id": "94c4a19a"
   },
   "outputs": [],
   "source": [
    "data['purpose_category'] = data['purpose'].apply(categorize_purpose)"
   ]
  },
  {
   "cell_type": "markdown",
   "id": "3d596c34",
   "metadata": {
    "deletable": false,
    "editable": false,
    "id": "3d596c34"
   },
   "source": [
    "### Шаг 3. Исследуйте данные и ответьте на вопросы"
   ]
  },
  {
   "cell_type": "markdown",
   "id": "648db036",
   "metadata": {
    "deletable": false,
    "editable": false,
    "id": "648db036"
   },
   "source": [
    "#### 3.1 Есть ли зависимость между количеством детей и возвратом кредита в срок?"
   ]
  },
  {
   "cell_type": "code",
   "execution_count": 24,
   "id": "7fcff25e",
   "metadata": {
    "deletable": false,
    "id": "7fcff25e"
   },
   "outputs": [
    {
     "data": {
      "text/plain": [
       "0    19599\n",
       "1     1732\n",
       "Name: debt, dtype: int64"
      ]
     },
     "execution_count": 24,
     "metadata": {},
     "output_type": "execute_result"
    }
   ],
   "source": [
    "data['debt'].value_counts() # с помощью # value_counts посчитаем людей  в столбе debt имеющих и не имеющих задолжность"
   ]
  },
  {
   "cell_type": "code",
   "execution_count": 25,
   "id": "18e2f7f8",
   "metadata": {},
   "outputs": [
    {
     "data": {
      "text/plain": [
       "0    14091\n",
       "1     4808\n",
       "2     2052\n",
       "3      330\n",
       "4       41\n",
       "5        9\n",
       "Name: children, dtype: int64"
      ]
     },
     "execution_count": 25,
     "metadata": {},
     "output_type": "execute_result"
    }
   ],
   "source": [
    "# 19599 из данного дата сета не имеет задолжнотей по кредиту, 1732 человека имеют задолжность\n",
    "data['children'].value_counts() # с помощью # value_counts посчитаем людей с детьми , 14091 не имеет детей, остальные 7240 имеют одного и более детей"
   ]
  },
  {
   "cell_type": "code",
   "execution_count": 26,
   "id": "93cc8326",
   "metadata": {},
   "outputs": [],
   "source": [
    "# Создаём функцию для определения наличия детей:\n",
    "def children_factor(children):\n",
    "    if children == 0:\n",
    "        return 'Детей нет'\n",
    "    if children > 0:\n",
    "        return 'Дети есть'"
   ]
  },
  {
   "cell_type": "code",
   "execution_count": 27,
   "id": "8366be3f",
   "metadata": {},
   "outputs": [
    {
     "data": {
      "text/html": [
       "<div>\n",
       "<style scoped>\n",
       "    .dataframe tbody tr th:only-of-type {\n",
       "        vertical-align: middle;\n",
       "    }\n",
       "\n",
       "    .dataframe tbody tr th {\n",
       "        vertical-align: top;\n",
       "    }\n",
       "\n",
       "    .dataframe thead th {\n",
       "        text-align: right;\n",
       "    }\n",
       "</style>\n",
       "<table border=\"1\" class=\"dataframe\">\n",
       "  <thead>\n",
       "    <tr style=\"text-align: right;\">\n",
       "      <th></th>\n",
       "      <th>no_debt</th>\n",
       "      <th>debt</th>\n",
       "      <th>fraction_of_debtors</th>\n",
       "    </tr>\n",
       "    <tr>\n",
       "      <th>children_factor</th>\n",
       "      <th></th>\n",
       "      <th></th>\n",
       "      <th></th>\n",
       "    </tr>\n",
       "  </thead>\n",
       "  <tbody>\n",
       "    <tr>\n",
       "      <th>Детей нет</th>\n",
       "      <td>0.000000</td>\n",
       "      <td>0.075438</td>\n",
       "      <td>1.000000</td>\n",
       "    </tr>\n",
       "    <tr>\n",
       "      <th>Дети есть</th>\n",
       "      <td>1.396547</td>\n",
       "      <td>0.092403</td>\n",
       "      <td>0.062059</td>\n",
       "    </tr>\n",
       "  </tbody>\n",
       "</table>\n",
       "</div>"
      ],
      "text/plain": [
       "                  no_debt      debt  fraction_of_debtors\n",
       "children_factor                                         \n",
       "Детей нет        0.000000  0.075438             1.000000\n",
       "Дети есть        1.396547  0.092403             0.062059"
      ]
     },
     "metadata": {},
     "output_type": "display_data"
    }
   ],
   "source": [
    "# К имеющейся таблице добавляем столбец children_factor\n",
    "data['children_factor']=data['children'].apply(children_factor)\n",
    "#Создаём сводную таблицу с помощью метода pivot_table()\n",
    "data_pivot_children_debt = data.pivot_table(index=['children_factor'], values=['children','debt'])\n",
    "data_pivot_children_debt.columns = ['no_debt', 'debt']\n",
    "data_pivot_children_debt['fraction_of_debtors'] = data_pivot_children_debt['debt'] / (data_pivot_children_debt['debt']+data_pivot_children_debt['no_debt']) #Создаём столбец fraction_of_debtors(доля должников) и добавялем его к имеющейся таблице\n",
    "display(data_pivot_children_debt)"
   ]
  },
  {
   "cell_type": "markdown",
   "id": "2eb9088e",
   "metadata": {
    "deletable": false,
    "id": "2eb9088e"
   },
   "source": [
    "**Вывод:** Можем сделать вывод, что наличие детей влияет на возвращение кредита в срок. Клиенты с детьми чаще имеют задолжность по кредиту,по сравнению с клиентами без детей."
   ]
  },
  {
   "cell_type": "markdown",
   "id": "74c9b3a7",
   "metadata": {
    "deletable": false,
    "editable": false,
    "id": "74c9b3a7"
   },
   "source": [
    "#### 3.2 Есть ли зависимость между семейным положением и возвратом кредита в срок?"
   ]
  },
  {
   "cell_type": "code",
   "execution_count": 28,
   "id": "8098ab3b",
   "metadata": {
    "deletable": false,
    "id": "8098ab3b"
   },
   "outputs": [
    {
     "data": {
      "text/html": [
       "<div>\n",
       "<style scoped>\n",
       "    .dataframe tbody tr th:only-of-type {\n",
       "        vertical-align: middle;\n",
       "    }\n",
       "\n",
       "    .dataframe tbody tr th {\n",
       "        vertical-align: top;\n",
       "    }\n",
       "\n",
       "    .dataframe thead th {\n",
       "        text-align: right;\n",
       "    }\n",
       "</style>\n",
       "<table border=\"1\" class=\"dataframe\">\n",
       "  <thead>\n",
       "    <tr style=\"text-align: right;\">\n",
       "      <th></th>\n",
       "      <th>no_debt</th>\n",
       "      <th>debt</th>\n",
       "      <th>fraction_of_debtors</th>\n",
       "    </tr>\n",
       "    <tr>\n",
       "      <th>family_status</th>\n",
       "      <th></th>\n",
       "      <th></th>\n",
       "      <th></th>\n",
       "    </tr>\n",
       "  </thead>\n",
       "  <tbody>\n",
       "    <tr>\n",
       "      <th>Не женат / не замужем</th>\n",
       "      <td>2523</td>\n",
       "      <td>273</td>\n",
       "      <td>2524.0</td>\n",
       "    </tr>\n",
       "    <tr>\n",
       "      <th>в разводе</th>\n",
       "      <td>1105</td>\n",
       "      <td>84</td>\n",
       "      <td>1106.0</td>\n",
       "    </tr>\n",
       "    <tr>\n",
       "      <th>вдовец / вдова</th>\n",
       "      <td>888</td>\n",
       "      <td>63</td>\n",
       "      <td>889.0</td>\n",
       "    </tr>\n",
       "    <tr>\n",
       "      <th>гражданский брак</th>\n",
       "      <td>3749</td>\n",
       "      <td>385</td>\n",
       "      <td>3750.0</td>\n",
       "    </tr>\n",
       "    <tr>\n",
       "      <th>женат / замужем</th>\n",
       "      <td>11334</td>\n",
       "      <td>927</td>\n",
       "      <td>11335.0</td>\n",
       "    </tr>\n",
       "  </tbody>\n",
       "</table>\n",
       "</div>"
      ],
      "text/plain": [
       "                       no_debt  debt  fraction_of_debtors\n",
       "family_status                                            \n",
       "Не женат / не замужем     2523   273               2524.0\n",
       "в разводе                 1105    84               1106.0\n",
       "вдовец / вдова             888    63                889.0\n",
       "гражданский брак          3749   385               3750.0\n",
       "женат / замужем          11334   927              11335.0"
      ]
     },
     "metadata": {},
     "output_type": "display_data"
    }
   ],
   "source": [
    "# Создаём сводною таблицу с помощью метода pivot_table:\n",
    "data_pivot_familystatus_debt = data.pivot_table (index=['family_status'], columns=['debt'], values='gender', aggfunc='count')\n",
    "data_pivot_familystatus_debt.columns = ['no_debt', 'debt']\n",
    "data_pivot_familystatus_debt['fraction_of_debtors'] =(data_pivot_familystatus_debt['debt'] / data_pivot_familystatus_debt['debt'] +data_pivot_familystatus_debt['no_debt'])  #считаем долю должников , называем столбец data_pivot_familystatus_debt[fraction_of_debtors]и интегрируем его в таблицу\n",
    "display(data_pivot_familystatus_debt)"
   ]
  },
  {
   "cell_type": "markdown",
   "id": "c389ca63",
   "metadata": {
    "deletable": false,
    "id": "c389ca63"
   },
   "source": [
    "**Вывод:** Женатые/замужние клиенты чаще всего имеют задолжность по кредиту. Но стоит отметить, что это может быть связано с тем что данной категория самая часто встречающаяся, поэтому и неимеющих задолжностей также лидирует данная группа."
   ]
  },
  {
   "cell_type": "markdown",
   "id": "9529de68",
   "metadata": {
    "deletable": false,
    "editable": false,
    "id": "9529de68"
   },
   "source": [
    "#### 3.3 Есть ли зависимость между уровнем дохода и возвратом кредита в срок?"
   ]
  },
  {
   "cell_type": "code",
   "execution_count": 29,
   "id": "8787f44a",
   "metadata": {
    "deletable": false,
    "id": "8787f44a"
   },
   "outputs": [
    {
     "data": {
      "text/html": [
       "<div>\n",
       "<style scoped>\n",
       "    .dataframe tbody tr th:only-of-type {\n",
       "        vertical-align: middle;\n",
       "    }\n",
       "\n",
       "    .dataframe tbody tr th {\n",
       "        vertical-align: top;\n",
       "    }\n",
       "\n",
       "    .dataframe thead th {\n",
       "        text-align: right;\n",
       "    }\n",
       "</style>\n",
       "<table border=\"1\" class=\"dataframe\">\n",
       "  <thead>\n",
       "    <tr style=\"text-align: right;\">\n",
       "      <th></th>\n",
       "      <th>no_debt</th>\n",
       "      <th>debt</th>\n",
       "      <th>fraction_of_debtors</th>\n",
       "    </tr>\n",
       "    <tr>\n",
       "      <th>total_income_category</th>\n",
       "      <th></th>\n",
       "      <th></th>\n",
       "      <th></th>\n",
       "    </tr>\n",
       "  </thead>\n",
       "  <tbody>\n",
       "    <tr>\n",
       "      <th>A</th>\n",
       "      <td>23</td>\n",
       "      <td>2</td>\n",
       "      <td>8.0%</td>\n",
       "    </tr>\n",
       "    <tr>\n",
       "      <th>B</th>\n",
       "      <td>4660</td>\n",
       "      <td>354</td>\n",
       "      <td>7.1%</td>\n",
       "    </tr>\n",
       "    <tr>\n",
       "      <th>C</th>\n",
       "      <td>14568</td>\n",
       "      <td>1353</td>\n",
       "      <td>8.5%</td>\n",
       "    </tr>\n",
       "    <tr>\n",
       "      <th>D</th>\n",
       "      <td>328</td>\n",
       "      <td>21</td>\n",
       "      <td>6.0%</td>\n",
       "    </tr>\n",
       "    <tr>\n",
       "      <th>E</th>\n",
       "      <td>20</td>\n",
       "      <td>2</td>\n",
       "      <td>9.1%</td>\n",
       "    </tr>\n",
       "  </tbody>\n",
       "</table>\n",
       "</div>"
      ],
      "text/plain": [
       "                       no_debt  debt fraction_of_debtors\n",
       "total_income_category                                   \n",
       "A                           23     2                8.0%\n",
       "B                         4660   354                7.1%\n",
       "C                        14568  1353                8.5%\n",
       "D                          328    21                6.0%\n",
       "E                           20     2                9.1%"
      ]
     },
     "metadata": {},
     "output_type": "display_data"
    }
   ],
   "source": [
    "# Создаём сводную таблицу с помощью метода pivot_table #примечание:в роли столбца по которому происходит группировка данных является раннее созданный нами столбец total_income_category(задание 16)\n",
    "data_pivot_totalincome_debt = data.pivot_table (index=['total_income_category'], columns=['debt'], values='gender',aggfunc='count')\n",
    "data_pivot_totalincome_debt.columns = ['no_debt', 'debt']\n",
    "data_pivot_totalincome_debt['fraction_of_debtors'] = data_pivot_totalincome_debt['debt']/ (data_pivot_totalincome_debt['debt']+data_pivot_totalincome_debt['no_debt'])\n",
    "data_pivot_totalincome_debt['fraction_of_debtors'] = data_pivot_totalincome_debt['fraction_of_debtors'].map('{:.1%}'.format) # переведём столбец \"доля должников\"в % для наглядности\n",
    "display(data_pivot_totalincome_debt)\n"
   ]
  },
  {
   "cell_type": "markdown",
   "id": "6dd14b57",
   "metadata": {
    "deletable": false,
    "id": "6dd14b57"
   },
   "source": [
    "**Вывод:** Опираясь на процентное соотношение доли должников: Лица получающие больше всех, чаще всех имеют задолжность, но т.к количество людей не сопоставимо с количеством людей в других выборках(малое количество) в зачёт мы эту выборку не берём\n",
    "Сравним самые многочисленные выборки: это категории B и C : Те кто находится  в категории \"C\" чаще становятся должниками ( не смотря на то что денежных средств получают больше)\n",
    "Ну и я думаю стоит отметить что категория \"D\" имеет самый низкий риск иметь задолжность по кредиту. ( в зачёт также не берём из-за небольшого количества)\n"
   ]
  },
  {
   "cell_type": "markdown",
   "id": "1dcc9b12",
   "metadata": {
    "deletable": false,
    "editable": false,
    "id": "1dcc9b12"
   },
   "source": [
    "#### 3.4 Как разные цели кредита влияют на его возврат в срок?"
   ]
  },
  {
   "cell_type": "code",
   "execution_count": 30,
   "id": "c602bc8b",
   "metadata": {
    "deletable": false,
    "id": "c602bc8b"
   },
   "outputs": [
    {
     "data": {
      "text/html": [
       "<div>\n",
       "<style scoped>\n",
       "    .dataframe tbody tr th:only-of-type {\n",
       "        vertical-align: middle;\n",
       "    }\n",
       "\n",
       "    .dataframe tbody tr th {\n",
       "        vertical-align: top;\n",
       "    }\n",
       "\n",
       "    .dataframe thead th {\n",
       "        text-align: right;\n",
       "    }\n",
       "</style>\n",
       "<table border=\"1\" class=\"dataframe\">\n",
       "  <thead>\n",
       "    <tr style=\"text-align: right;\">\n",
       "      <th></th>\n",
       "      <th>no_debt</th>\n",
       "      <th>debt</th>\n",
       "      <th>fraction_of_debtors</th>\n",
       "    </tr>\n",
       "    <tr>\n",
       "      <th>purpose_category</th>\n",
       "      <th></th>\n",
       "      <th></th>\n",
       "      <th></th>\n",
       "    </tr>\n",
       "  </thead>\n",
       "  <tbody>\n",
       "    <tr>\n",
       "      <th>операции с автомобилем</th>\n",
       "      <td>3879</td>\n",
       "      <td>400</td>\n",
       "      <td>9.3%</td>\n",
       "    </tr>\n",
       "    <tr>\n",
       "      <th>операции с недвижимостью</th>\n",
       "      <td>9971</td>\n",
       "      <td>780</td>\n",
       "      <td>7.3%</td>\n",
       "    </tr>\n",
       "    <tr>\n",
       "      <th>получение образования</th>\n",
       "      <td>3619</td>\n",
       "      <td>369</td>\n",
       "      <td>9.3%</td>\n",
       "    </tr>\n",
       "    <tr>\n",
       "      <th>проведение свадьбы</th>\n",
       "      <td>2130</td>\n",
       "      <td>183</td>\n",
       "      <td>7.9%</td>\n",
       "    </tr>\n",
       "  </tbody>\n",
       "</table>\n",
       "</div>"
      ],
      "text/plain": [
       "                          no_debt  debt fraction_of_debtors\n",
       "purpose_category                                           \n",
       "операции с автомобилем       3879   400                9.3%\n",
       "операции с недвижимостью     9971   780                7.3%\n",
       "получение образования        3619   369                9.3%\n",
       "проведение свадьбы           2130   183                7.9%"
      ]
     },
     "metadata": {},
     "output_type": "display_data"
    }
   ],
   "source": [
    "# Создаём сводную таблицу с помощью метода pivot_table\n",
    "data_purpose_debt = data.pivot_table (index='purpose_category', columns='debt', values='gender', aggfunc='count')\n",
    "data_purpose_debt.columns = ['no_debt', 'debt']\n",
    "data_purpose_debt['fraction_of_debtors']=data_purpose_debt['debt']/(data_purpose_debt['debt']+data_purpose_debt['no_debt'])\n",
    "data_purpose_debt['fraction_of_debtors']=data_purpose_debt['fraction_of_debtors'].map('{:.1%}'.format) #Долю должников переводим в %\n",
    "display(data_purpose_debt)"
   ]
  },
  {
   "cell_type": "markdown",
   "id": "cf05ed63",
   "metadata": {
    "deletable": false,
    "id": "cf05ed63"
   },
   "source": [
    "Чаще всего и одинаково часто, задолжность образовывается по кредитам взятых на операции с авто, получением образования.\n",
    "Цель кредита : првоедение свадьбы занимает 3е место нашего антирейтинга\n",
    "займы на операции с недвижимостью имеют самый низкий риск задолжностей\n",
    "При всём этом операции с недвижимостью самые часто встречающиеся, поэтому при выводе на экран без столбца \"доля должников\" формируется мнение что \"недвижимость\" самый высокорискованный кредит ( в плане задолжностей)"
   ]
  },
  {
   "cell_type": "markdown",
   "id": "46c1f10b",
   "metadata": {
    "deletable": false,
    "editable": false,
    "id": "46c1f10b"
   },
   "source": [
    "#### 3.5 Приведите возможные причины появления пропусков в исходных данных."
   ]
  },
  {
   "cell_type": "markdown",
   "id": "3697d2a9",
   "metadata": {
    "deletable": false,
    "id": "3697d2a9"
   },
   "source": [
    "*Ответ:* человеческий фактор(невнимательность,пропуск,опечатка),повреждение файла, возможно кто-то решил скрыть эту информацию."
   ]
  },
  {
   "cell_type": "markdown",
   "id": "3137d257",
   "metadata": {
    "deletable": false,
    "editable": false,
    "id": "3137d257"
   },
   "source": [
    "#### 3.6 Объясните, почему заполнить пропуски медианным значением — лучшее решение для количественных переменных."
   ]
  },
  {
   "cell_type": "markdown",
   "id": "cf40012a",
   "metadata": {
    "deletable": false,
    "id": "cf40012a"
   },
   "source": [
    " *Ответ:* Медиана предпочтительнее т.к. в статистике она более устойчива к факторам и опечаткам допустим, поясню на примере: если мы считаем среднюю зарплату, то премия к концу года может сильно повлиять на среднее арифметическое, а медиана меньше подвержена такому риску. Итог: медиана более объективна в статистике."
   ]
  },
  {
   "cell_type": "markdown",
   "id": "57bc304e",
   "metadata": {
    "deletable": false,
    "editable": false,
    "id": "57bc304e"
   },
   "source": [
    "### Шаг 4: общий вывод."
   ]
  },
  {
   "cell_type": "markdown",
   "id": "1ab75d1c",
   "metadata": {
    "deletable": false,
    "id": "1ab75d1c"
   },
   "source": [
    "Итак, мы взяли датафрейм, удалили пропуски, обработали аномальные значения,обработали дубликаты, изменили типы данных для возможности подсчёта некоторых значений,категоризировали данные с помощью функций\n",
    "Далее мы вывели полученные данные в сводные таблицы и сделали следующие выводы:\n",
    "1ое: Наличие детей влияет на возвращение кредита в срок. Клиенты с детьми чаще имеют задолжность по кредиту,по сравнению с клиентами без детей.\n",
    "2ое: Женатые/замужние клиенты чаще всего имеют задолжность по кредиту.\n",
    "3е:Лица получающие больше всех, чаще всех имеют задолжность, но т.к количество людей не сопоставимо с количеством людей в других выборках(малое количество) в зачёт мы эту выборку не берём\n",
    "Сравним самые многочисленные выборки: это категории B и C : Те кто находится  в категории \"C\" чаще становятся должниками ( не смотря на то что денежных средств получают больше)\n",
    "4е: Чаще всего и одинаково часто, задолжность образовывается по кредитам взятых на операции с авто, получением образования.\n",
    "Цель кредита : првоедение свадьбы занимает 3е место нашего антирейтинга\n",
    "займы на операции с недвижимостью имеют самый низкий риск задолжностей\n",
    "При всём этом операции с недвижимостью самые часто встречающиеся, поэтому при выводе на экран без столбца \"доля должников\" формируется мнение что \"недвижимость\" самый высокорискованный кредит ( в плане задолжностей)\n"
   ]
  }
 ],
 "metadata": {
  "ExecuteTimeLog": [
   {
    "duration": 4,
    "start_time": "2023-09-21T19:09:14.934Z"
   },
   {
    "duration": 51,
    "start_time": "2023-09-21T19:17:11.533Z"
   },
   {
    "duration": 6,
    "start_time": "2023-09-21T19:17:23.933Z"
   },
   {
    "duration": 697,
    "start_time": "2023-09-21T19:17:28.971Z"
   },
   {
    "duration": 21,
    "start_time": "2023-09-21T19:17:29.670Z"
   },
   {
    "duration": 14,
    "start_time": "2023-09-21T19:17:29.692Z"
   },
   {
    "duration": 16,
    "start_time": "2023-09-21T19:17:29.708Z"
   },
   {
    "duration": 35,
    "start_time": "2023-09-21T19:17:29.726Z"
   },
   {
    "duration": 3,
    "start_time": "2023-09-21T19:17:29.763Z"
   },
   {
    "duration": 16,
    "start_time": "2023-09-21T19:17:29.768Z"
   },
   {
    "duration": 4,
    "start_time": "2023-09-21T19:17:29.786Z"
   },
   {
    "duration": 8,
    "start_time": "2023-09-21T19:17:29.791Z"
   },
   {
    "duration": 13,
    "start_time": "2023-09-21T19:17:29.801Z"
   },
   {
    "duration": 45,
    "start_time": "2023-09-21T19:17:29.816Z"
   },
   {
    "duration": 10,
    "start_time": "2023-09-21T19:17:29.863Z"
   },
   {
    "duration": 9,
    "start_time": "2023-09-21T19:17:29.874Z"
   },
   {
    "duration": 40,
    "start_time": "2023-09-21T19:17:29.885Z"
   },
   {
    "duration": 91,
    "start_time": "2023-09-21T19:17:29.927Z"
   },
   {
    "duration": 60,
    "start_time": "2023-09-21T19:17:30.019Z"
   },
   {
    "duration": 82,
    "start_time": "2023-09-21T19:17:30.080Z"
   },
   {
    "duration": 34,
    "start_time": "2023-09-21T19:17:30.164Z"
   },
   {
    "duration": 32,
    "start_time": "2023-09-21T19:17:30.200Z"
   },
   {
    "duration": 24,
    "start_time": "2023-09-21T19:17:30.234Z"
   },
   {
    "duration": 45,
    "start_time": "2023-09-21T19:17:30.260Z"
   },
   {
    "duration": 66,
    "start_time": "2023-09-21T19:17:30.307Z"
   },
   {
    "duration": 61,
    "start_time": "2023-09-21T19:17:30.374Z"
   },
   {
    "duration": 27,
    "start_time": "2023-09-21T19:17:30.436Z"
   },
   {
    "duration": 42,
    "start_time": "2023-09-21T19:17:30.465Z"
   },
   {
    "duration": 15,
    "start_time": "2023-09-21T19:25:16.215Z"
   },
   {
    "duration": 59,
    "start_time": "2023-09-21T19:26:49.657Z"
   },
   {
    "duration": 7,
    "start_time": "2023-09-21T19:27:07.727Z"
   },
   {
    "duration": 10,
    "start_time": "2023-09-21T19:27:24.034Z"
   },
   {
    "duration": 3,
    "start_time": "2023-09-21T19:27:38.975Z"
   },
   {
    "duration": 93,
    "start_time": "2023-09-21T19:32:41.400Z"
   },
   {
    "duration": 9,
    "start_time": "2023-09-21T19:32:47.933Z"
   },
   {
    "duration": 70,
    "start_time": "2023-09-21T19:34:21.604Z"
   },
   {
    "duration": 6,
    "start_time": "2023-09-21T19:34:29.634Z"
   },
   {
    "duration": 9,
    "start_time": "2023-09-21T19:35:39.651Z"
   },
   {
    "duration": 3,
    "start_time": "2023-09-21T19:37:26.793Z"
   },
   {
    "duration": 8,
    "start_time": "2023-09-21T19:37:48.978Z"
   },
   {
    "duration": 7,
    "start_time": "2023-09-21T19:38:11.083Z"
   },
   {
    "duration": 8,
    "start_time": "2023-09-21T19:39:39.475Z"
   },
   {
    "duration": 8,
    "start_time": "2023-09-21T19:39:46.902Z"
   },
   {
    "duration": 7,
    "start_time": "2023-09-21T19:41:58.481Z"
   },
   {
    "duration": 10,
    "start_time": "2023-09-21T19:42:05.970Z"
   },
   {
    "duration": 9,
    "start_time": "2023-09-21T19:42:36.117Z"
   },
   {
    "duration": 7,
    "start_time": "2023-09-21T19:42:43.141Z"
   },
   {
    "duration": 8,
    "start_time": "2023-09-21T19:45:28.900Z"
   },
   {
    "duration": 7,
    "start_time": "2023-09-21T19:46:12.900Z"
   },
   {
    "duration": 3,
    "start_time": "2023-09-21T19:46:22.732Z"
   },
   {
    "duration": 7,
    "start_time": "2023-09-21T19:46:27.270Z"
   },
   {
    "duration": 7,
    "start_time": "2023-09-21T19:46:44.290Z"
   },
   {
    "duration": 7,
    "start_time": "2023-09-21T19:46:57.148Z"
   },
   {
    "duration": 7,
    "start_time": "2023-09-21T19:49:51.512Z"
   },
   {
    "duration": 8,
    "start_time": "2023-09-21T19:50:18.635Z"
   },
   {
    "duration": 142,
    "start_time": "2023-09-22T17:47:26.866Z"
   },
   {
    "duration": 119,
    "start_time": "2023-09-22T17:47:56.144Z"
   },
   {
    "duration": 76,
    "start_time": "2023-09-22T18:00:49.780Z"
   },
   {
    "duration": 7,
    "start_time": "2023-09-22T18:06:24.082Z"
   },
   {
    "duration": 7,
    "start_time": "2023-09-22T18:06:54.573Z"
   },
   {
    "duration": 1399,
    "start_time": "2023-09-22T18:07:07.153Z"
   },
   {
    "duration": 36,
    "start_time": "2023-09-22T18:07:08.558Z"
   },
   {
    "duration": 33,
    "start_time": "2023-09-22T18:07:08.595Z"
   },
   {
    "duration": 29,
    "start_time": "2023-09-22T18:07:08.630Z"
   },
   {
    "duration": 45,
    "start_time": "2023-09-22T18:07:08.662Z"
   },
   {
    "duration": 8,
    "start_time": "2023-09-22T18:07:08.712Z"
   },
   {
    "duration": 32,
    "start_time": "2023-09-22T18:07:08.722Z"
   },
   {
    "duration": 21,
    "start_time": "2023-09-22T18:07:08.757Z"
   },
   {
    "duration": 9,
    "start_time": "2023-09-22T18:07:08.780Z"
   },
   {
    "duration": 8,
    "start_time": "2023-09-22T18:07:08.790Z"
   },
   {
    "duration": 89,
    "start_time": "2023-09-22T18:07:08.799Z"
   },
   {
    "duration": 27,
    "start_time": "2023-09-22T18:07:08.890Z"
   },
   {
    "duration": 14,
    "start_time": "2023-09-22T18:07:08.919Z"
   },
   {
    "duration": 27,
    "start_time": "2023-09-22T18:07:08.938Z"
   },
   {
    "duration": 24,
    "start_time": "2023-09-22T18:07:08.967Z"
   },
   {
    "duration": 48,
    "start_time": "2023-09-22T18:07:08.993Z"
   },
   {
    "duration": 10,
    "start_time": "2023-09-22T18:07:09.043Z"
   },
   {
    "duration": 19,
    "start_time": "2023-09-22T18:07:09.061Z"
   },
   {
    "duration": 9,
    "start_time": "2023-09-22T18:07:09.082Z"
   },
   {
    "duration": 4,
    "start_time": "2023-09-22T18:07:09.093Z"
   },
   {
    "duration": 21,
    "start_time": "2023-09-22T18:07:09.100Z"
   },
   {
    "duration": 107,
    "start_time": "2023-09-22T18:07:09.123Z"
   },
   {
    "duration": 0,
    "start_time": "2023-09-22T18:07:09.232Z"
   },
   {
    "duration": 0,
    "start_time": "2023-09-22T18:07:09.235Z"
   },
   {
    "duration": 0,
    "start_time": "2023-09-22T18:07:09.236Z"
   },
   {
    "duration": 13,
    "start_time": "2023-09-22T18:07:11.544Z"
   },
   {
    "duration": 120,
    "start_time": "2023-09-22T18:07:22.780Z"
   },
   {
    "duration": 8,
    "start_time": "2023-09-22T18:07:28.099Z"
   },
   {
    "duration": 4,
    "start_time": "2023-09-22T18:07:39.956Z"
   },
   {
    "duration": 17,
    "start_time": "2023-09-22T18:07:45.550Z"
   },
   {
    "duration": 19,
    "start_time": "2023-09-22T18:08:20.170Z"
   },
   {
    "duration": 38,
    "start_time": "2023-09-22T18:08:34.998Z"
   },
   {
    "duration": 21,
    "start_time": "2023-09-22T18:09:15.061Z"
   },
   {
    "duration": 227,
    "start_time": "2023-09-22T18:12:17.548Z"
   },
   {
    "duration": 9,
    "start_time": "2023-09-22T18:12:24.546Z"
   },
   {
    "duration": 7,
    "start_time": "2023-09-22T18:15:28.452Z"
   },
   {
    "duration": 9,
    "start_time": "2023-09-22T18:15:30.641Z"
   },
   {
    "duration": 18,
    "start_time": "2023-09-22T18:15:31.637Z"
   },
   {
    "duration": 6,
    "start_time": "2023-09-22T18:15:42.830Z"
   },
   {
    "duration": 9,
    "start_time": "2023-09-22T18:19:36.782Z"
   },
   {
    "duration": 17,
    "start_time": "2023-09-22T18:23:16.071Z"
   },
   {
    "duration": 15,
    "start_time": "2023-09-22T18:23:31.547Z"
   },
   {
    "duration": 24,
    "start_time": "2023-09-22T18:23:42.868Z"
   },
   {
    "duration": 21,
    "start_time": "2023-09-22T18:24:11.846Z"
   },
   {
    "duration": 1836,
    "start_time": "2023-09-22T18:25:35.686Z"
   },
   {
    "duration": 1971,
    "start_time": "2023-09-22T18:26:04.775Z"
   },
   {
    "duration": 14,
    "start_time": "2023-09-22T18:26:27.459Z"
   },
   {
    "duration": 215,
    "start_time": "2023-09-22T18:38:26.491Z"
   },
   {
    "duration": 197,
    "start_time": "2023-09-22T18:38:33.578Z"
   },
   {
    "duration": 174,
    "start_time": "2023-09-22T18:39:10.833Z"
   },
   {
    "duration": 5,
    "start_time": "2023-09-22T18:39:20.084Z"
   },
   {
    "duration": 4,
    "start_time": "2023-09-22T18:39:34.667Z"
   },
   {
    "duration": 33,
    "start_time": "2023-09-22T18:41:43.249Z"
   },
   {
    "duration": 38,
    "start_time": "2023-09-22T18:42:18.192Z"
   },
   {
    "duration": 21,
    "start_time": "2023-09-22T19:41:30.811Z"
   },
   {
    "duration": 29,
    "start_time": "2023-09-22T19:41:49.851Z"
   },
   {
    "duration": 24,
    "start_time": "2023-09-22T19:41:59.162Z"
   },
   {
    "duration": 32,
    "start_time": "2023-09-22T19:43:01.090Z"
   },
   {
    "duration": 21,
    "start_time": "2023-09-22T19:43:17.262Z"
   },
   {
    "duration": 25,
    "start_time": "2023-09-22T19:43:23.897Z"
   },
   {
    "duration": 25,
    "start_time": "2023-09-22T19:43:40.683Z"
   },
   {
    "duration": 32,
    "start_time": "2023-09-22T19:44:16.508Z"
   },
   {
    "duration": 23,
    "start_time": "2023-09-22T19:45:14.781Z"
   },
   {
    "duration": 39,
    "start_time": "2023-09-22T19:46:31.785Z"
   },
   {
    "duration": 22,
    "start_time": "2023-09-22T19:46:41.236Z"
   },
   {
    "duration": 97,
    "start_time": "2023-09-22T19:46:54.178Z"
   },
   {
    "duration": 36,
    "start_time": "2023-09-22T19:47:05.405Z"
   },
   {
    "duration": 25,
    "start_time": "2023-09-22T19:49:34.516Z"
   },
   {
    "duration": 30,
    "start_time": "2023-09-22T19:49:44.002Z"
   },
   {
    "duration": 26,
    "start_time": "2023-09-22T19:49:50.141Z"
   },
   {
    "duration": 19,
    "start_time": "2023-09-22T19:50:27.281Z"
   },
   {
    "duration": 38,
    "start_time": "2023-09-22T19:50:39.906Z"
   },
   {
    "duration": 29,
    "start_time": "2023-09-22T19:51:12.056Z"
   },
   {
    "duration": 14,
    "start_time": "2023-09-22T19:52:00.228Z"
   },
   {
    "duration": 48,
    "start_time": "2023-09-22T19:52:16.593Z"
   },
   {
    "duration": 98,
    "start_time": "2023-09-22T19:54:40.585Z"
   },
   {
    "duration": 139,
    "start_time": "2023-09-22T19:55:07.924Z"
   },
   {
    "duration": 19,
    "start_time": "2023-09-22T19:55:12.857Z"
   },
   {
    "duration": 30,
    "start_time": "2023-09-22T19:55:20.492Z"
   },
   {
    "duration": 22,
    "start_time": "2023-09-22T19:55:52.658Z"
   },
   {
    "duration": 45,
    "start_time": "2023-09-22T20:04:27.605Z"
   },
   {
    "duration": 17,
    "start_time": "2023-09-22T20:06:02.923Z"
   },
   {
    "duration": 13,
    "start_time": "2023-09-22T20:30:02.841Z"
   },
   {
    "duration": 21,
    "start_time": "2023-09-22T20:31:05.045Z"
   },
   {
    "duration": 19,
    "start_time": "2023-09-22T20:32:26.402Z"
   },
   {
    "duration": 21,
    "start_time": "2023-09-22T20:32:39.724Z"
   },
   {
    "duration": 499,
    "start_time": "2023-09-22T20:33:24.040Z"
   },
   {
    "duration": 15,
    "start_time": "2023-09-22T20:34:17.355Z"
   },
   {
    "duration": 13,
    "start_time": "2023-09-22T20:34:32.340Z"
   },
   {
    "duration": 16,
    "start_time": "2023-09-22T20:34:40.956Z"
   },
   {
    "duration": 18,
    "start_time": "2023-09-22T20:34:49.230Z"
   },
   {
    "duration": 85,
    "start_time": "2023-09-22T20:34:59.066Z"
   },
   {
    "duration": 14,
    "start_time": "2023-09-22T20:35:08.562Z"
   },
   {
    "duration": 93,
    "start_time": "2023-09-22T20:36:11.329Z"
   },
   {
    "duration": 27,
    "start_time": "2023-09-22T20:36:18.512Z"
   },
   {
    "duration": 19,
    "start_time": "2023-09-22T20:43:04.869Z"
   },
   {
    "duration": 16,
    "start_time": "2023-09-22T20:44:27.575Z"
   },
   {
    "duration": 18,
    "start_time": "2023-09-22T20:44:45.382Z"
   },
   {
    "duration": 28,
    "start_time": "2023-09-22T20:45:06.540Z"
   },
   {
    "duration": 43,
    "start_time": "2023-09-22T20:45:16.747Z"
   },
   {
    "duration": 54,
    "start_time": "2023-09-22T20:45:26.643Z"
   },
   {
    "duration": 19,
    "start_time": "2023-09-22T20:45:52.980Z"
   },
   {
    "duration": 33,
    "start_time": "2023-09-22T20:46:26.029Z"
   },
   {
    "duration": 18,
    "start_time": "2023-09-22T20:50:47.635Z"
   },
   {
    "duration": 20,
    "start_time": "2023-09-22T21:00:45.732Z"
   },
   {
    "duration": 12,
    "start_time": "2023-09-22T21:06:11.809Z"
   },
   {
    "duration": 78,
    "start_time": "2023-09-22T21:08:21.271Z"
   },
   {
    "duration": 97,
    "start_time": "2023-09-22T21:08:26.606Z"
   },
   {
    "duration": 82,
    "start_time": "2023-09-22T21:08:29.572Z"
   },
   {
    "duration": 95,
    "start_time": "2023-09-22T21:08:40.608Z"
   },
   {
    "duration": 94,
    "start_time": "2023-09-22T21:09:37.976Z"
   },
   {
    "duration": 103,
    "start_time": "2023-09-22T21:09:49.357Z"
   },
   {
    "duration": 119,
    "start_time": "2023-09-22T21:12:54.951Z"
   },
   {
    "duration": 82,
    "start_time": "2023-09-22T21:16:38.244Z"
   },
   {
    "duration": 108,
    "start_time": "2023-09-22T21:18:39.977Z"
   },
   {
    "duration": 95,
    "start_time": "2023-09-22T21:19:22.806Z"
   },
   {
    "duration": 43,
    "start_time": "2023-09-24T16:48:43.966Z"
   },
   {
    "duration": 1136,
    "start_time": "2023-09-24T16:48:55.165Z"
   },
   {
    "duration": 25,
    "start_time": "2023-09-24T16:48:56.303Z"
   },
   {
    "duration": 22,
    "start_time": "2023-09-24T16:48:56.330Z"
   },
   {
    "duration": 14,
    "start_time": "2023-09-24T16:48:56.354Z"
   },
   {
    "duration": 40,
    "start_time": "2023-09-24T16:48:56.372Z"
   },
   {
    "duration": 3,
    "start_time": "2023-09-24T16:48:56.414Z"
   },
   {
    "duration": 9,
    "start_time": "2023-09-24T16:48:56.418Z"
   },
   {
    "duration": 4,
    "start_time": "2023-09-24T16:48:56.428Z"
   },
   {
    "duration": 13,
    "start_time": "2023-09-24T16:48:56.452Z"
   },
   {
    "duration": 12,
    "start_time": "2023-09-24T16:48:56.469Z"
   },
   {
    "duration": 35,
    "start_time": "2023-09-24T16:48:56.483Z"
   },
   {
    "duration": 9,
    "start_time": "2023-09-24T16:48:56.520Z"
   },
   {
    "duration": 3,
    "start_time": "2023-09-24T16:48:56.531Z"
   },
   {
    "duration": 29,
    "start_time": "2023-09-24T16:48:56.535Z"
   },
   {
    "duration": 20,
    "start_time": "2023-09-24T16:48:56.565Z"
   },
   {
    "duration": 15,
    "start_time": "2023-09-24T16:48:56.586Z"
   },
   {
    "duration": 3,
    "start_time": "2023-09-24T16:48:56.603Z"
   },
   {
    "duration": 14,
    "start_time": "2023-09-24T16:48:56.607Z"
   },
   {
    "duration": 12,
    "start_time": "2023-09-24T16:48:56.623Z"
   },
   {
    "duration": 4,
    "start_time": "2023-09-24T16:48:56.660Z"
   },
   {
    "duration": 13,
    "start_time": "2023-09-24T16:48:56.667Z"
   },
   {
    "duration": 4,
    "start_time": "2023-09-24T16:48:56.682Z"
   },
   {
    "duration": 10,
    "start_time": "2023-09-24T16:48:56.688Z"
   },
   {
    "duration": 5,
    "start_time": "2023-09-24T16:48:56.699Z"
   },
   {
    "duration": 24,
    "start_time": "2023-09-24T16:48:56.705Z"
   },
   {
    "duration": 30,
    "start_time": "2023-09-24T16:48:56.731Z"
   },
   {
    "duration": 13,
    "start_time": "2023-09-24T16:48:56.762Z"
   },
   {
    "duration": 15,
    "start_time": "2023-09-24T16:48:56.778Z"
   },
   {
    "duration": 20,
    "start_time": "2023-09-24T16:49:25.337Z"
   },
   {
    "duration": 16,
    "start_time": "2023-09-24T16:49:39.003Z"
   },
   {
    "duration": 16,
    "start_time": "2023-09-24T16:49:50.765Z"
   },
   {
    "duration": 1478,
    "start_time": "2023-09-24T16:58:45.814Z"
   },
   {
    "duration": 463,
    "start_time": "2023-09-24T17:01:06.705Z"
   },
   {
    "duration": 21,
    "start_time": "2023-09-24T17:01:07.170Z"
   },
   {
    "duration": 15,
    "start_time": "2023-09-24T17:01:07.193Z"
   },
   {
    "duration": 19,
    "start_time": "2023-09-24T17:01:07.210Z"
   },
   {
    "duration": 51,
    "start_time": "2023-09-24T17:01:07.231Z"
   },
   {
    "duration": 3,
    "start_time": "2023-09-24T17:01:07.284Z"
   },
   {
    "duration": 16,
    "start_time": "2023-09-24T17:01:07.288Z"
   },
   {
    "duration": 12,
    "start_time": "2023-09-24T17:01:07.306Z"
   },
   {
    "duration": 14,
    "start_time": "2023-09-24T17:01:07.320Z"
   },
   {
    "duration": 5,
    "start_time": "2023-09-24T17:01:07.336Z"
   },
   {
    "duration": 50,
    "start_time": "2023-09-24T17:01:07.342Z"
   },
   {
    "duration": 12,
    "start_time": "2023-09-24T17:01:07.394Z"
   },
   {
    "duration": 4,
    "start_time": "2023-09-24T17:01:07.407Z"
   },
   {
    "duration": 12,
    "start_time": "2023-09-24T17:01:07.412Z"
   },
   {
    "duration": 44,
    "start_time": "2023-09-24T17:01:07.426Z"
   },
   {
    "duration": 17,
    "start_time": "2023-09-24T17:01:07.472Z"
   },
   {
    "duration": 10,
    "start_time": "2023-09-24T17:01:07.491Z"
   },
   {
    "duration": 41,
    "start_time": "2023-09-24T17:01:07.503Z"
   },
   {
    "duration": 22,
    "start_time": "2023-09-24T17:01:07.545Z"
   },
   {
    "duration": 20,
    "start_time": "2023-09-24T17:01:07.569Z"
   },
   {
    "duration": 11,
    "start_time": "2023-09-24T17:01:07.590Z"
   },
   {
    "duration": 18,
    "start_time": "2023-09-24T17:01:07.602Z"
   },
   {
    "duration": 16,
    "start_time": "2023-09-24T17:01:07.622Z"
   },
   {
    "duration": 8,
    "start_time": "2023-09-24T17:01:07.639Z"
   },
   {
    "duration": 36,
    "start_time": "2023-09-24T17:01:07.648Z"
   },
   {
    "duration": 1606,
    "start_time": "2023-09-24T17:01:07.686Z"
   },
   {
    "duration": 0,
    "start_time": "2023-09-24T17:01:09.294Z"
   },
   {
    "duration": 0,
    "start_time": "2023-09-24T17:01:09.295Z"
   },
   {
    "duration": 1400,
    "start_time": "2023-09-24T17:04:30.428Z"
   },
   {
    "duration": 22,
    "start_time": "2023-09-24T17:06:39.030Z"
   },
   {
    "duration": 18,
    "start_time": "2023-09-24T17:07:08.005Z"
   },
   {
    "duration": 1842,
    "start_time": "2023-09-24T17:08:22.204Z"
   },
   {
    "duration": 1232,
    "start_time": "2023-09-24T17:12:12.892Z"
   },
   {
    "duration": 1011,
    "start_time": "2023-09-24T17:12:36.577Z"
   },
   {
    "duration": 1282,
    "start_time": "2023-09-24T17:13:47.090Z"
   },
   {
    "duration": 1594,
    "start_time": "2023-09-24T17:17:14.285Z"
   },
   {
    "duration": 138,
    "start_time": "2023-09-24T17:31:05.628Z"
   },
   {
    "duration": 23,
    "start_time": "2023-09-24T17:31:17.931Z"
   },
   {
    "duration": 21,
    "start_time": "2023-09-24T17:36:13.479Z"
   },
   {
    "duration": 20,
    "start_time": "2023-09-24T17:40:18.991Z"
   },
   {
    "duration": 23,
    "start_time": "2023-09-24T17:40:39.984Z"
   },
   {
    "duration": 108,
    "start_time": "2023-09-24T17:43:43.965Z"
   },
   {
    "duration": 21,
    "start_time": "2023-09-24T17:45:52.692Z"
   },
   {
    "duration": 30,
    "start_time": "2023-09-24T17:47:47.644Z"
   },
   {
    "duration": 20,
    "start_time": "2023-09-24T17:48:15.201Z"
   },
   {
    "duration": 41,
    "start_time": "2023-09-24T17:51:46.132Z"
   },
   {
    "duration": 23,
    "start_time": "2023-09-24T17:52:04.875Z"
   },
   {
    "duration": 24,
    "start_time": "2023-09-24T17:52:23.360Z"
   },
   {
    "duration": 245,
    "start_time": "2023-09-24T17:55:37.723Z"
   },
   {
    "duration": 24,
    "start_time": "2023-09-24T17:55:55.101Z"
   },
   {
    "duration": 19,
    "start_time": "2023-09-24T17:59:57.603Z"
   },
   {
    "duration": 31,
    "start_time": "2023-09-24T18:00:07.935Z"
   },
   {
    "duration": 28,
    "start_time": "2023-09-24T18:01:34.457Z"
   },
   {
    "duration": 35,
    "start_time": "2023-09-24T18:01:51.336Z"
   },
   {
    "duration": 1097,
    "start_time": "2023-09-24T18:07:06.708Z"
   },
   {
    "duration": 1019,
    "start_time": "2023-09-24T18:08:39.197Z"
   },
   {
    "duration": 4,
    "start_time": "2023-09-24T18:09:40.692Z"
   },
   {
    "duration": 1154,
    "start_time": "2023-09-24T18:09:53.264Z"
   },
   {
    "duration": 20,
    "start_time": "2023-09-24T18:11:29.418Z"
   },
   {
    "duration": 20,
    "start_time": "2023-09-24T18:23:56.871Z"
   },
   {
    "duration": 26,
    "start_time": "2023-09-24T18:27:33.048Z"
   },
   {
    "duration": 22,
    "start_time": "2023-09-24T18:28:20.349Z"
   },
   {
    "duration": 19,
    "start_time": "2023-09-24T18:29:01.364Z"
   },
   {
    "duration": 26,
    "start_time": "2023-09-24T18:31:46.138Z"
   },
   {
    "duration": 25,
    "start_time": "2023-09-24T18:32:13.479Z"
   },
   {
    "duration": 26,
    "start_time": "2023-09-24T18:33:41.699Z"
   },
   {
    "duration": 19,
    "start_time": "2023-09-24T18:46:48.464Z"
   },
   {
    "duration": 18,
    "start_time": "2023-09-24T18:48:09.606Z"
   },
   {
    "duration": 501,
    "start_time": "2024-02-29T20:15:07.879Z"
   },
   {
    "duration": 23,
    "start_time": "2024-02-29T20:15:09.989Z"
   },
   {
    "duration": 14,
    "start_time": "2024-02-29T20:15:12.160Z"
   },
   {
    "duration": 10,
    "start_time": "2024-02-29T20:15:15.360Z"
   },
   {
    "duration": 34,
    "start_time": "2024-02-29T20:15:16.409Z"
   },
   {
    "duration": 33,
    "start_time": "2024-02-29T20:15:34.390Z"
   },
   {
    "duration": 3,
    "start_time": "2024-02-29T20:15:41.735Z"
   },
   {
    "duration": 8,
    "start_time": "2024-02-29T20:15:43.730Z"
   },
   {
    "duration": 5,
    "start_time": "2024-02-29T20:15:48.834Z"
   },
   {
    "duration": 6,
    "start_time": "2024-02-29T20:15:50.059Z"
   },
   {
    "duration": 5,
    "start_time": "2024-02-29T20:15:54.255Z"
   },
   {
    "duration": 34,
    "start_time": "2024-02-29T20:15:59.090Z"
   },
   {
    "duration": 10,
    "start_time": "2024-02-29T20:16:01.035Z"
   },
   {
    "duration": 3,
    "start_time": "2024-02-29T20:16:03.040Z"
   },
   {
    "duration": 11,
    "start_time": "2024-02-29T20:16:04.870Z"
   },
   {
    "duration": 19,
    "start_time": "2024-02-29T20:16:05.951Z"
   },
   {
    "duration": 19,
    "start_time": "2024-02-29T20:16:06.385Z"
   },
   {
    "duration": 4,
    "start_time": "2024-02-29T20:16:08.035Z"
   },
   {
    "duration": 10,
    "start_time": "2024-02-29T20:16:08.745Z"
   },
   {
    "duration": 10,
    "start_time": "2024-02-29T20:16:13.135Z"
   },
   {
    "duration": 5,
    "start_time": "2024-02-29T20:16:14.725Z"
   },
   {
    "duration": 3,
    "start_time": "2024-02-29T20:16:16.640Z"
   },
   {
    "duration": 8,
    "start_time": "2024-02-29T20:16:17.340Z"
   },
   {
    "duration": 5,
    "start_time": "2024-02-29T20:16:18.755Z"
   },
   {
    "duration": 5,
    "start_time": "2024-02-29T20:16:19.120Z"
   },
   {
    "duration": 3,
    "start_time": "2024-02-29T20:16:19.965Z"
   },
   {
    "duration": 28,
    "start_time": "2024-02-29T20:16:20.245Z"
   },
   {
    "duration": 21,
    "start_time": "2024-02-29T20:16:22.850Z"
   },
   {
    "duration": 19,
    "start_time": "2024-02-29T20:16:24.800Z"
   },
   {
    "duration": 20,
    "start_time": "2024-02-29T20:16:26.515Z"
   }
  ],
  "colab": {
   "provenance": []
  },
  "kernelspec": {
   "display_name": "Python 3 (ipykernel)",
   "language": "python",
   "name": "python3"
  },
  "language_info": {
   "codemirror_mode": {
    "name": "ipython",
    "version": 3
   },
   "file_extension": ".py",
   "mimetype": "text/x-python",
   "name": "python",
   "nbconvert_exporter": "python",
   "pygments_lexer": "ipython3",
   "version": "3.9.5"
  },
  "toc": {
   "base_numbering": 1,
   "nav_menu": {},
   "number_sections": true,
   "sideBar": true,
   "skip_h1_title": true,
   "title_cell": "Table of Contents",
   "title_sidebar": "Contents",
   "toc_cell": false,
   "toc_position": {},
   "toc_section_display": true,
   "toc_window_display": false
  }
 },
 "nbformat": 4,
 "nbformat_minor": 5
}
