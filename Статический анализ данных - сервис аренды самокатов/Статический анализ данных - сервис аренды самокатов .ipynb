{
 "cells": [
  {
   "cell_type": "code",
   "execution_count": 2,
   "id": "dded8767",
   "metadata": {},
   "outputs": [],
   "source": [
    "import pandas as pd #ипортируем библиотеку пандас\n",
    "import scipy.stats as st #Ипортируем библиотеку для проверки гипотез.\n",
    "import matplotlib.pyplot as plt #ипортируем библиотеку Matplotlib для построения графиков\n",
    "import numpy as np #Импортируем библиотеку Numpy"
   ]
  },
  {
   "cell_type": "markdown",
   "id": "2fa24e8d",
   "metadata": {},
   "source": [
    "Название проекта :Анализ сервиса аренды самокатов GoFast"
   ]
  },
  {
   "cell_type": "markdown",
   "id": "af45c821",
   "metadata": {},
   "source": [
    "Цель выполнения проекта является: анализ данных и проверка  гипотез, которые могут помочь бизнесу вырасти.\n",
    "Составим план выполнения работ:\n",
    "Шаг 1. Загрузим данные\n",
    "1.1 Считаем CSV-файлы с данными с помощью библиотеки pandas и сохраним их в датафреймы: users,rides,subscriptions. Пути к файлам:\n",
    "/datasets/users_go.csv\n",
    "/datasets/rides_go.csv\n",
    "/datasets/subscriptions_go.csv\n",
    "1.2 Выведем первые строки каждого набора данных. Изучим общую информацию о каждом датафрейме.\n",
    "Шаг 2. Предобработаем данные\n",
    "2.1 Приведём столбец date к типу даты pandas.\n",
    "2.2 Создадим новый столбец с номером месяца на основе столбца date.\n",
    "2.3 Проверим наличие пропущенных значений и дубликатов в датафреймах. Обработаем их, если такие значения присутствуют.\n",
    "Шаг 3. Исследовательский анализ данных\n",
    "Опишем и визуализируем общую информацию о пользователях и поездках:\n",
    "3.1 частота встречаемости городов;\n",
    "3.2 соотношение пользователей с подпиской и без подписки;\n",
    "3.3 возраст пользователей;\n",
    "3.4 расстояние, которое пользователь преодолел за одну поездку;\n",
    "3.5 продолжительность поездок.\n",
    "Шаг 4. Объединеним данные\n",
    "4.1 Объединим данные о пользователях, поездках и подписках в один датафрейм. Для этого воспользуемся методом merge().\n",
    "4.2 Создадим ещё два датафрейма из датафрейма, созданного на этапе 4.1:\n",
    "c данными о пользователях без подписки;\n",
    "с данными о пользователях с подпиской.\n",
    "4.3 Визуализируем информацию о расстоянии и времени поездок для пользователей обеих категорий.\n",
    "Шаг 5. Подсчетаем выручку\n",
    "5.1 Создадим датафрейм с агрегированными данными о поездках на основе датафрейма с объединёнными данными из шага 4: найдите суммарное расстояние, количество поездок и суммарное время для каждого пользователя за каждый месяц.\n",
    "5.2 В этот же датафрейм добавим столбец с помесячной выручкой, которую принёс каждый пользователь. Для этого обратимся к информации об условиях оплаты для подписчиков и тех, у кого нет подписки.\n",
    "Продолжительность каждой поездки в каждой строке исходного датафрейма для подсчёта стоимости округлим до следующего целого числа."
   ]
  },
  {
   "cell_type": "markdown",
   "id": "1df38258",
   "metadata": {},
   "source": [
    "Добавим описание данных для удобства:\n",
    "В основных данных есть информация о пользователях, их поездках и подписках.\n",
    " Пользователи — users_go.csv\n",
    "user_id\tуникальный идентификатор пользователя\n",
    "name\tимя пользователя\n",
    "age\tвозраст\n",
    "city\tгород\n",
    "subscription_type\tтип подписки (free, ultra)\n",
    "Поездки — rides_go.csv\n",
    "user_id\tуникальный идентификатор пользователя\n",
    "distance\tрасстояние, которое пользователь проехал в текущей сессии (в метрах)\n",
    "duration\tпродолжительность сессии (в минутах) — время с того момента, как пользователь нажал кнопку «Начать поездку» до момента, как он нажал кнопку «Завершить поездку»\n",
    "date\tдата совершения поездки\n",
    "Подписки — subscriptions_go.csv\n",
    "subscription_type\tтип подписки\n",
    "minute_price\tстоимость одной минуты поездки по данной подписке\n",
    "start_ride_price\tстоимость начала поездки\n",
    "subscription_fee\tстоимость ежемесячного платежа\n"
   ]
  },
  {
   "cell_type": "markdown",
   "id": "06c970fa",
   "metadata": {},
   "source": [
    "#### Шаг 1. Загрузка данных"
   ]
  },
  {
   "cell_type": "code",
   "execution_count": 3,
   "id": "bcefe2b9",
   "metadata": {},
   "outputs": [],
   "source": [
    "# Считаем CSV-файлы с данными с помощью библиотеки pandas и сохраните их в датафреймы: users,rides,subscriptions.\n",
    "users = pd.read_csv('/datasets/users_go.csv')\n",
    "rides = pd.read_csv('/datasets/rides_go.csv')\n",
    "subscriptions = pd.read_csv('/datasets/subscriptions_go.csv')"
   ]
  },
  {
   "cell_type": "code",
   "execution_count": 4,
   "id": "9dded29d",
   "metadata": {},
   "outputs": [
    {
     "data": {
      "text/html": [
       "<div>\n",
       "<style scoped>\n",
       "    .dataframe tbody tr th:only-of-type {\n",
       "        vertical-align: middle;\n",
       "    }\n",
       "\n",
       "    .dataframe tbody tr th {\n",
       "        vertical-align: top;\n",
       "    }\n",
       "\n",
       "    .dataframe thead th {\n",
       "        text-align: right;\n",
       "    }\n",
       "</style>\n",
       "<table border=\"1\" class=\"dataframe\">\n",
       "  <thead>\n",
       "    <tr style=\"text-align: right;\">\n",
       "      <th></th>\n",
       "      <th>user_id</th>\n",
       "      <th>name</th>\n",
       "      <th>age</th>\n",
       "      <th>city</th>\n",
       "      <th>subscription_type</th>\n",
       "    </tr>\n",
       "  </thead>\n",
       "  <tbody>\n",
       "    <tr>\n",
       "      <th>0</th>\n",
       "      <td>1</td>\n",
       "      <td>Кира</td>\n",
       "      <td>22</td>\n",
       "      <td>Тюмень</td>\n",
       "      <td>ultra</td>\n",
       "    </tr>\n",
       "    <tr>\n",
       "      <th>1</th>\n",
       "      <td>2</td>\n",
       "      <td>Станислав</td>\n",
       "      <td>31</td>\n",
       "      <td>Омск</td>\n",
       "      <td>ultra</td>\n",
       "    </tr>\n",
       "    <tr>\n",
       "      <th>2</th>\n",
       "      <td>3</td>\n",
       "      <td>Алексей</td>\n",
       "      <td>20</td>\n",
       "      <td>Москва</td>\n",
       "      <td>ultra</td>\n",
       "    </tr>\n",
       "    <tr>\n",
       "      <th>3</th>\n",
       "      <td>4</td>\n",
       "      <td>Константин</td>\n",
       "      <td>26</td>\n",
       "      <td>Ростов-на-Дону</td>\n",
       "      <td>ultra</td>\n",
       "    </tr>\n",
       "    <tr>\n",
       "      <th>4</th>\n",
       "      <td>5</td>\n",
       "      <td>Адель</td>\n",
       "      <td>28</td>\n",
       "      <td>Омск</td>\n",
       "      <td>ultra</td>\n",
       "    </tr>\n",
       "  </tbody>\n",
       "</table>\n",
       "</div>"
      ],
      "text/plain": [
       "   user_id        name  age            city subscription_type\n",
       "0        1        Кира   22          Тюмень             ultra\n",
       "1        2   Станислав   31            Омск             ultra\n",
       "2        3     Алексей   20          Москва             ultra\n",
       "3        4  Константин   26  Ростов-на-Дону             ultra\n",
       "4        5       Адель   28            Омск             ultra"
      ]
     },
     "execution_count": 4,
     "metadata": {},
     "output_type": "execute_result"
    }
   ],
   "source": [
    "#Выведем первые строки первых 5 строк , 3х наших датафреймов, также выведем .info и .describe() для каждого датафрейма\n",
    "#users\n",
    "users.head()"
   ]
  },
  {
   "cell_type": "code",
   "execution_count": 5,
   "id": "73b8904b",
   "metadata": {},
   "outputs": [
    {
     "name": "stdout",
     "output_type": "stream",
     "text": [
      "<class 'pandas.core.frame.DataFrame'>\n",
      "RangeIndex: 1565 entries, 0 to 1564\n",
      "Data columns (total 5 columns):\n",
      " #   Column             Non-Null Count  Dtype \n",
      "---  ------             --------------  ----- \n",
      " 0   user_id            1565 non-null   int64 \n",
      " 1   name               1565 non-null   object\n",
      " 2   age                1565 non-null   int64 \n",
      " 3   city               1565 non-null   object\n",
      " 4   subscription_type  1565 non-null   object\n",
      "dtypes: int64(2), object(3)\n",
      "memory usage: 61.3+ KB\n"
     ]
    }
   ],
   "source": [
    "users.info()"
   ]
  },
  {
   "cell_type": "code",
   "execution_count": 6,
   "id": "1e58b663",
   "metadata": {},
   "outputs": [
    {
     "data": {
      "text/html": [
       "<div>\n",
       "<style scoped>\n",
       "    .dataframe tbody tr th:only-of-type {\n",
       "        vertical-align: middle;\n",
       "    }\n",
       "\n",
       "    .dataframe tbody tr th {\n",
       "        vertical-align: top;\n",
       "    }\n",
       "\n",
       "    .dataframe thead th {\n",
       "        text-align: right;\n",
       "    }\n",
       "</style>\n",
       "<table border=\"1\" class=\"dataframe\">\n",
       "  <thead>\n",
       "    <tr style=\"text-align: right;\">\n",
       "      <th></th>\n",
       "      <th>user_id</th>\n",
       "      <th>distance</th>\n",
       "      <th>duration</th>\n",
       "      <th>date</th>\n",
       "    </tr>\n",
       "  </thead>\n",
       "  <tbody>\n",
       "    <tr>\n",
       "      <th>0</th>\n",
       "      <td>1</td>\n",
       "      <td>4409.919140</td>\n",
       "      <td>25.599769</td>\n",
       "      <td>2021-01-01</td>\n",
       "    </tr>\n",
       "    <tr>\n",
       "      <th>1</th>\n",
       "      <td>1</td>\n",
       "      <td>2617.592153</td>\n",
       "      <td>15.816871</td>\n",
       "      <td>2021-01-18</td>\n",
       "    </tr>\n",
       "    <tr>\n",
       "      <th>2</th>\n",
       "      <td>1</td>\n",
       "      <td>754.159807</td>\n",
       "      <td>6.232113</td>\n",
       "      <td>2021-04-20</td>\n",
       "    </tr>\n",
       "    <tr>\n",
       "      <th>3</th>\n",
       "      <td>1</td>\n",
       "      <td>2694.783254</td>\n",
       "      <td>18.511000</td>\n",
       "      <td>2021-08-11</td>\n",
       "    </tr>\n",
       "    <tr>\n",
       "      <th>4</th>\n",
       "      <td>1</td>\n",
       "      <td>4028.687306</td>\n",
       "      <td>26.265803</td>\n",
       "      <td>2021-08-28</td>\n",
       "    </tr>\n",
       "  </tbody>\n",
       "</table>\n",
       "</div>"
      ],
      "text/plain": [
       "   user_id     distance   duration        date\n",
       "0        1  4409.919140  25.599769  2021-01-01\n",
       "1        1  2617.592153  15.816871  2021-01-18\n",
       "2        1   754.159807   6.232113  2021-04-20\n",
       "3        1  2694.783254  18.511000  2021-08-11\n",
       "4        1  4028.687306  26.265803  2021-08-28"
      ]
     },
     "execution_count": 6,
     "metadata": {},
     "output_type": "execute_result"
    }
   ],
   "source": [
    "#rides \n",
    "rides.head()"
   ]
  },
  {
   "cell_type": "code",
   "execution_count": 7,
   "id": "2b75f397",
   "metadata": {},
   "outputs": [
    {
     "name": "stdout",
     "output_type": "stream",
     "text": [
      "<class 'pandas.core.frame.DataFrame'>\n",
      "RangeIndex: 18068 entries, 0 to 18067\n",
      "Data columns (total 4 columns):\n",
      " #   Column    Non-Null Count  Dtype  \n",
      "---  ------    --------------  -----  \n",
      " 0   user_id   18068 non-null  int64  \n",
      " 1   distance  18068 non-null  float64\n",
      " 2   duration  18068 non-null  float64\n",
      " 3   date      18068 non-null  object \n",
      "dtypes: float64(2), int64(1), object(1)\n",
      "memory usage: 564.8+ KB\n"
     ]
    }
   ],
   "source": [
    "rides.info()"
   ]
  },
  {
   "cell_type": "code",
   "execution_count": 8,
   "id": "81ce6d56",
   "metadata": {},
   "outputs": [
    {
     "data": {
      "text/html": [
       "<div>\n",
       "<style scoped>\n",
       "    .dataframe tbody tr th:only-of-type {\n",
       "        vertical-align: middle;\n",
       "    }\n",
       "\n",
       "    .dataframe tbody tr th {\n",
       "        vertical-align: top;\n",
       "    }\n",
       "\n",
       "    .dataframe thead th {\n",
       "        text-align: right;\n",
       "    }\n",
       "</style>\n",
       "<table border=\"1\" class=\"dataframe\">\n",
       "  <thead>\n",
       "    <tr style=\"text-align: right;\">\n",
       "      <th></th>\n",
       "      <th>subscription_type</th>\n",
       "      <th>minute_price</th>\n",
       "      <th>start_ride_price</th>\n",
       "      <th>subscription_fee</th>\n",
       "    </tr>\n",
       "  </thead>\n",
       "  <tbody>\n",
       "    <tr>\n",
       "      <th>0</th>\n",
       "      <td>free</td>\n",
       "      <td>8</td>\n",
       "      <td>50</td>\n",
       "      <td>0</td>\n",
       "    </tr>\n",
       "    <tr>\n",
       "      <th>1</th>\n",
       "      <td>ultra</td>\n",
       "      <td>6</td>\n",
       "      <td>0</td>\n",
       "      <td>199</td>\n",
       "    </tr>\n",
       "  </tbody>\n",
       "</table>\n",
       "</div>"
      ],
      "text/plain": [
       "  subscription_type  minute_price  start_ride_price  subscription_fee\n",
       "0              free             8                50                 0\n",
       "1             ultra             6                 0               199"
      ]
     },
     "execution_count": 8,
     "metadata": {},
     "output_type": "execute_result"
    }
   ],
   "source": [
    "#subscription\n",
    "subscriptions.head()"
   ]
  },
  {
   "cell_type": "code",
   "execution_count": 9,
   "id": "fa09fa4b",
   "metadata": {},
   "outputs": [
    {
     "name": "stdout",
     "output_type": "stream",
     "text": [
      "<class 'pandas.core.frame.DataFrame'>\n",
      "RangeIndex: 2 entries, 0 to 1\n",
      "Data columns (total 4 columns):\n",
      " #   Column             Non-Null Count  Dtype \n",
      "---  ------             --------------  ----- \n",
      " 0   subscription_type  2 non-null      object\n",
      " 1   minute_price       2 non-null      int64 \n",
      " 2   start_ride_price   2 non-null      int64 \n",
      " 3   subscription_fee   2 non-null      int64 \n",
      "dtypes: int64(3), object(1)\n",
      "memory usage: 192.0+ bytes\n"
     ]
    }
   ],
   "source": [
    "subscriptions.info()"
   ]
  },
  {
   "cell_type": "code",
   "execution_count": 10,
   "id": "d526d7c1",
   "metadata": {},
   "outputs": [
    {
     "data": {
      "text/html": [
       "<div>\n",
       "<style scoped>\n",
       "    .dataframe tbody tr th:only-of-type {\n",
       "        vertical-align: middle;\n",
       "    }\n",
       "\n",
       "    .dataframe tbody tr th {\n",
       "        vertical-align: top;\n",
       "    }\n",
       "\n",
       "    .dataframe thead th {\n",
       "        text-align: right;\n",
       "    }\n",
       "</style>\n",
       "<table border=\"1\" class=\"dataframe\">\n",
       "  <thead>\n",
       "    <tr style=\"text-align: right;\">\n",
       "      <th></th>\n",
       "      <th>user_id</th>\n",
       "      <th>age</th>\n",
       "    </tr>\n",
       "  </thead>\n",
       "  <tbody>\n",
       "    <tr>\n",
       "      <th>count</th>\n",
       "      <td>1565.000000</td>\n",
       "      <td>1565.000000</td>\n",
       "    </tr>\n",
       "    <tr>\n",
       "      <th>mean</th>\n",
       "      <td>762.633866</td>\n",
       "      <td>24.922045</td>\n",
       "    </tr>\n",
       "    <tr>\n",
       "      <th>std</th>\n",
       "      <td>443.260155</td>\n",
       "      <td>4.553496</td>\n",
       "    </tr>\n",
       "    <tr>\n",
       "      <th>min</th>\n",
       "      <td>1.000000</td>\n",
       "      <td>12.000000</td>\n",
       "    </tr>\n",
       "    <tr>\n",
       "      <th>25%</th>\n",
       "      <td>378.000000</td>\n",
       "      <td>22.000000</td>\n",
       "    </tr>\n",
       "    <tr>\n",
       "      <th>50%</th>\n",
       "      <td>762.000000</td>\n",
       "      <td>25.000000</td>\n",
       "    </tr>\n",
       "    <tr>\n",
       "      <th>75%</th>\n",
       "      <td>1146.000000</td>\n",
       "      <td>28.000000</td>\n",
       "    </tr>\n",
       "    <tr>\n",
       "      <th>max</th>\n",
       "      <td>1534.000000</td>\n",
       "      <td>43.000000</td>\n",
       "    </tr>\n",
       "  </tbody>\n",
       "</table>\n",
       "</div>"
      ],
      "text/plain": [
       "           user_id          age\n",
       "count  1565.000000  1565.000000\n",
       "mean    762.633866    24.922045\n",
       "std     443.260155     4.553496\n",
       "min       1.000000    12.000000\n",
       "25%     378.000000    22.000000\n",
       "50%     762.000000    25.000000\n",
       "75%    1146.000000    28.000000\n",
       "max    1534.000000    43.000000"
      ]
     },
     "execution_count": 10,
     "metadata": {},
     "output_type": "execute_result"
    }
   ],
   "source": [
    "users.describe()"
   ]
  },
  {
   "cell_type": "code",
   "execution_count": 11,
   "id": "28ab0483",
   "metadata": {},
   "outputs": [
    {
     "data": {
      "text/html": [
       "<div>\n",
       "<style scoped>\n",
       "    .dataframe tbody tr th:only-of-type {\n",
       "        vertical-align: middle;\n",
       "    }\n",
       "\n",
       "    .dataframe tbody tr th {\n",
       "        vertical-align: top;\n",
       "    }\n",
       "\n",
       "    .dataframe thead th {\n",
       "        text-align: right;\n",
       "    }\n",
       "</style>\n",
       "<table border=\"1\" class=\"dataframe\">\n",
       "  <thead>\n",
       "    <tr style=\"text-align: right;\">\n",
       "      <th></th>\n",
       "      <th>user_id</th>\n",
       "      <th>distance</th>\n",
       "      <th>duration</th>\n",
       "    </tr>\n",
       "  </thead>\n",
       "  <tbody>\n",
       "    <tr>\n",
       "      <th>count</th>\n",
       "      <td>18068.000000</td>\n",
       "      <td>18068.000000</td>\n",
       "      <td>18068.000000</td>\n",
       "    </tr>\n",
       "    <tr>\n",
       "      <th>mean</th>\n",
       "      <td>842.869936</td>\n",
       "      <td>3070.659976</td>\n",
       "      <td>17.805011</td>\n",
       "    </tr>\n",
       "    <tr>\n",
       "      <th>std</th>\n",
       "      <td>434.734317</td>\n",
       "      <td>1116.831209</td>\n",
       "      <td>6.091051</td>\n",
       "    </tr>\n",
       "    <tr>\n",
       "      <th>min</th>\n",
       "      <td>1.000000</td>\n",
       "      <td>0.855683</td>\n",
       "      <td>0.500000</td>\n",
       "    </tr>\n",
       "    <tr>\n",
       "      <th>25%</th>\n",
       "      <td>487.000000</td>\n",
       "      <td>2543.226360</td>\n",
       "      <td>13.597563</td>\n",
       "    </tr>\n",
       "    <tr>\n",
       "      <th>50%</th>\n",
       "      <td>889.000000</td>\n",
       "      <td>3133.609994</td>\n",
       "      <td>17.678395</td>\n",
       "    </tr>\n",
       "    <tr>\n",
       "      <th>75%</th>\n",
       "      <td>1213.250000</td>\n",
       "      <td>3776.222735</td>\n",
       "      <td>21.724800</td>\n",
       "    </tr>\n",
       "    <tr>\n",
       "      <th>max</th>\n",
       "      <td>1534.000000</td>\n",
       "      <td>7211.007745</td>\n",
       "      <td>40.823963</td>\n",
       "    </tr>\n",
       "  </tbody>\n",
       "</table>\n",
       "</div>"
      ],
      "text/plain": [
       "            user_id      distance      duration\n",
       "count  18068.000000  18068.000000  18068.000000\n",
       "mean     842.869936   3070.659976     17.805011\n",
       "std      434.734317   1116.831209      6.091051\n",
       "min        1.000000      0.855683      0.500000\n",
       "25%      487.000000   2543.226360     13.597563\n",
       "50%      889.000000   3133.609994     17.678395\n",
       "75%     1213.250000   3776.222735     21.724800\n",
       "max     1534.000000   7211.007745     40.823963"
      ]
     },
     "execution_count": 11,
     "metadata": {},
     "output_type": "execute_result"
    }
   ],
   "source": [
    "rides.describe()\n"
   ]
  },
  {
   "cell_type": "code",
   "execution_count": 12,
   "id": "a4c8556e",
   "metadata": {},
   "outputs": [
    {
     "data": {
      "text/html": [
       "<div>\n",
       "<style scoped>\n",
       "    .dataframe tbody tr th:only-of-type {\n",
       "        vertical-align: middle;\n",
       "    }\n",
       "\n",
       "    .dataframe tbody tr th {\n",
       "        vertical-align: top;\n",
       "    }\n",
       "\n",
       "    .dataframe thead th {\n",
       "        text-align: right;\n",
       "    }\n",
       "</style>\n",
       "<table border=\"1\" class=\"dataframe\">\n",
       "  <thead>\n",
       "    <tr style=\"text-align: right;\">\n",
       "      <th></th>\n",
       "      <th>minute_price</th>\n",
       "      <th>start_ride_price</th>\n",
       "      <th>subscription_fee</th>\n",
       "    </tr>\n",
       "  </thead>\n",
       "  <tbody>\n",
       "    <tr>\n",
       "      <th>count</th>\n",
       "      <td>2.000000</td>\n",
       "      <td>2.000000</td>\n",
       "      <td>2.000000</td>\n",
       "    </tr>\n",
       "    <tr>\n",
       "      <th>mean</th>\n",
       "      <td>7.000000</td>\n",
       "      <td>25.000000</td>\n",
       "      <td>99.500000</td>\n",
       "    </tr>\n",
       "    <tr>\n",
       "      <th>std</th>\n",
       "      <td>1.414214</td>\n",
       "      <td>35.355339</td>\n",
       "      <td>140.714249</td>\n",
       "    </tr>\n",
       "    <tr>\n",
       "      <th>min</th>\n",
       "      <td>6.000000</td>\n",
       "      <td>0.000000</td>\n",
       "      <td>0.000000</td>\n",
       "    </tr>\n",
       "    <tr>\n",
       "      <th>25%</th>\n",
       "      <td>6.500000</td>\n",
       "      <td>12.500000</td>\n",
       "      <td>49.750000</td>\n",
       "    </tr>\n",
       "    <tr>\n",
       "      <th>50%</th>\n",
       "      <td>7.000000</td>\n",
       "      <td>25.000000</td>\n",
       "      <td>99.500000</td>\n",
       "    </tr>\n",
       "    <tr>\n",
       "      <th>75%</th>\n",
       "      <td>7.500000</td>\n",
       "      <td>37.500000</td>\n",
       "      <td>149.250000</td>\n",
       "    </tr>\n",
       "    <tr>\n",
       "      <th>max</th>\n",
       "      <td>8.000000</td>\n",
       "      <td>50.000000</td>\n",
       "      <td>199.000000</td>\n",
       "    </tr>\n",
       "  </tbody>\n",
       "</table>\n",
       "</div>"
      ],
      "text/plain": [
       "       minute_price  start_ride_price  subscription_fee\n",
       "count      2.000000          2.000000          2.000000\n",
       "mean       7.000000         25.000000         99.500000\n",
       "std        1.414214         35.355339        140.714249\n",
       "min        6.000000          0.000000          0.000000\n",
       "25%        6.500000         12.500000         49.750000\n",
       "50%        7.000000         25.000000         99.500000\n",
       "75%        7.500000         37.500000        149.250000\n",
       "max        8.000000         50.000000        199.000000"
      ]
     },
     "execution_count": 12,
     "metadata": {},
     "output_type": "execute_result"
    }
   ],
   "source": [
    "subscriptions.describe()"
   ]
  },
  {
   "cell_type": "markdown",
   "id": "d3fc6afc",
   "metadata": {},
   "source": [
    "Вывод:\n",
    "users :1565 cтрок, 5 столбцов\n",
    "rides:18068 строк , 5 столбцов \n",
    "subscriptions : 2 столбца, 4 строчки.\n",
    "Можем понять примерное представление о датасетах,например средний и максимальный возвраст пользователей)\n",
    "Можем обратить внимание на dtype.\n",
    "Оценить масштабность и объём работы.\n",
    "Оценили количество строк и столбцов для контроля дальнейшего соеднения датасетов."
   ]
  },
  {
   "cell_type": "markdown",
   "id": "85e2636c",
   "metadata": {},
   "source": [
    "#### Шаг 2. Предобработка данных"
   ]
  },
  {
   "cell_type": "markdown",
   "id": "44af1bc4",
   "metadata": {},
   "source": [
    "Предобработка данных : начнём со столбца date в датасете rides, приведём к типу даты pandas"
   ]
  },
  {
   "cell_type": "code",
   "execution_count": 13,
   "id": "761b92c4",
   "metadata": {},
   "outputs": [
    {
     "name": "stdout",
     "output_type": "stream",
     "text": [
      "<class 'pandas.core.frame.DataFrame'>\n",
      "RangeIndex: 18068 entries, 0 to 18067\n",
      "Data columns (total 4 columns):\n",
      " #   Column    Non-Null Count  Dtype         \n",
      "---  ------    --------------  -----         \n",
      " 0   user_id   18068 non-null  int64         \n",
      " 1   distance  18068 non-null  float64       \n",
      " 2   duration  18068 non-null  float64       \n",
      " 3   date      18068 non-null  datetime64[ns]\n",
      "dtypes: datetime64[ns](1), float64(2), int64(1)\n",
      "memory usage: 564.8 KB\n"
     ]
    }
   ],
   "source": [
    "rides['date']=pd.to_datetime(rides['date'] ,format='%Y-%m-%dT%H:%M:%S')\n",
    "#Проверяем \n",
    "rides.info()"
   ]
  },
  {
   "cell_type": "markdown",
   "id": "514a2c95",
   "metadata": {},
   "source": [
    "Создадим новый столбец с номером месяца на основе столбца date."
   ]
  },
  {
   "cell_type": "code",
   "execution_count": 14,
   "id": "b8d006b5",
   "metadata": {},
   "outputs": [
    {
     "data": {
      "text/html": [
       "<div>\n",
       "<style scoped>\n",
       "    .dataframe tbody tr th:only-of-type {\n",
       "        vertical-align: middle;\n",
       "    }\n",
       "\n",
       "    .dataframe tbody tr th {\n",
       "        vertical-align: top;\n",
       "    }\n",
       "\n",
       "    .dataframe thead th {\n",
       "        text-align: right;\n",
       "    }\n",
       "</style>\n",
       "<table border=\"1\" class=\"dataframe\">\n",
       "  <thead>\n",
       "    <tr style=\"text-align: right;\">\n",
       "      <th></th>\n",
       "      <th>user_id</th>\n",
       "      <th>distance</th>\n",
       "      <th>duration</th>\n",
       "      <th>date</th>\n",
       "      <th>month</th>\n",
       "    </tr>\n",
       "  </thead>\n",
       "  <tbody>\n",
       "    <tr>\n",
       "      <th>0</th>\n",
       "      <td>1</td>\n",
       "      <td>4409.919140</td>\n",
       "      <td>25.599769</td>\n",
       "      <td>2021-01-01</td>\n",
       "      <td>1</td>\n",
       "    </tr>\n",
       "    <tr>\n",
       "      <th>1</th>\n",
       "      <td>1</td>\n",
       "      <td>2617.592153</td>\n",
       "      <td>15.816871</td>\n",
       "      <td>2021-01-18</td>\n",
       "      <td>1</td>\n",
       "    </tr>\n",
       "    <tr>\n",
       "      <th>2</th>\n",
       "      <td>1</td>\n",
       "      <td>754.159807</td>\n",
       "      <td>6.232113</td>\n",
       "      <td>2021-04-20</td>\n",
       "      <td>4</td>\n",
       "    </tr>\n",
       "    <tr>\n",
       "      <th>3</th>\n",
       "      <td>1</td>\n",
       "      <td>2694.783254</td>\n",
       "      <td>18.511000</td>\n",
       "      <td>2021-08-11</td>\n",
       "      <td>8</td>\n",
       "    </tr>\n",
       "    <tr>\n",
       "      <th>4</th>\n",
       "      <td>1</td>\n",
       "      <td>4028.687306</td>\n",
       "      <td>26.265803</td>\n",
       "      <td>2021-08-28</td>\n",
       "      <td>8</td>\n",
       "    </tr>\n",
       "  </tbody>\n",
       "</table>\n",
       "</div>"
      ],
      "text/plain": [
       "   user_id     distance   duration       date  month\n",
       "0        1  4409.919140  25.599769 2021-01-01      1\n",
       "1        1  2617.592153  15.816871 2021-01-18      1\n",
       "2        1   754.159807   6.232113 2021-04-20      4\n",
       "3        1  2694.783254  18.511000 2021-08-11      8\n",
       "4        1  4028.687306  26.265803 2021-08-28      8"
      ]
     },
     "execution_count": 14,
     "metadata": {},
     "output_type": "execute_result"
    }
   ],
   "source": [
    "rides['month'] = rides['date'].dt.month\n",
    "# Проверяем\n",
    "rides.head()"
   ]
  },
  {
   "cell_type": "code",
   "execution_count": 15,
   "id": "66572631",
   "metadata": {},
   "outputs": [
    {
     "data": {
      "text/html": [
       "<div>\n",
       "<style scoped>\n",
       "    .dataframe tbody tr th:only-of-type {\n",
       "        vertical-align: middle;\n",
       "    }\n",
       "\n",
       "    .dataframe tbody tr th {\n",
       "        vertical-align: top;\n",
       "    }\n",
       "\n",
       "    .dataframe thead th {\n",
       "        text-align: right;\n",
       "    }\n",
       "</style>\n",
       "<table border=\"1\" class=\"dataframe\">\n",
       "  <thead>\n",
       "    <tr style=\"text-align: right;\">\n",
       "      <th></th>\n",
       "      <th>user_id</th>\n",
       "      <th>distance</th>\n",
       "      <th>duration</th>\n",
       "      <th>date</th>\n",
       "      <th>month</th>\n",
       "    </tr>\n",
       "  </thead>\n",
       "  <tbody>\n",
       "    <tr>\n",
       "      <th>18063</th>\n",
       "      <td>1534</td>\n",
       "      <td>3781.098080</td>\n",
       "      <td>19.822962</td>\n",
       "      <td>2021-11-04</td>\n",
       "      <td>11</td>\n",
       "    </tr>\n",
       "    <tr>\n",
       "      <th>18064</th>\n",
       "      <td>1534</td>\n",
       "      <td>2840.423057</td>\n",
       "      <td>21.409799</td>\n",
       "      <td>2021-11-16</td>\n",
       "      <td>11</td>\n",
       "    </tr>\n",
       "    <tr>\n",
       "      <th>18065</th>\n",
       "      <td>1534</td>\n",
       "      <td>3826.185507</td>\n",
       "      <td>18.435051</td>\n",
       "      <td>2021-11-18</td>\n",
       "      <td>11</td>\n",
       "    </tr>\n",
       "    <tr>\n",
       "      <th>18066</th>\n",
       "      <td>1534</td>\n",
       "      <td>2902.308661</td>\n",
       "      <td>16.674362</td>\n",
       "      <td>2021-11-27</td>\n",
       "      <td>11</td>\n",
       "    </tr>\n",
       "    <tr>\n",
       "      <th>18067</th>\n",
       "      <td>1534</td>\n",
       "      <td>2371.711192</td>\n",
       "      <td>15.893917</td>\n",
       "      <td>2021-12-29</td>\n",
       "      <td>12</td>\n",
       "    </tr>\n",
       "  </tbody>\n",
       "</table>\n",
       "</div>"
      ],
      "text/plain": [
       "       user_id     distance   duration       date  month\n",
       "18063     1534  3781.098080  19.822962 2021-11-04     11\n",
       "18064     1534  2840.423057  21.409799 2021-11-16     11\n",
       "18065     1534  3826.185507  18.435051 2021-11-18     11\n",
       "18066     1534  2902.308661  16.674362 2021-11-27     11\n",
       "18067     1534  2371.711192  15.893917 2021-12-29     12"
      ]
     },
     "execution_count": 15,
     "metadata": {},
     "output_type": "execute_result"
    }
   ],
   "source": [
    "#Выведем последние строки дата сета для определения периода данных.\n",
    "rides.tail()"
   ]
  },
  {
   "cell_type": "markdown",
   "id": "1381f803",
   "metadata": {},
   "source": [
    "Проверим наличие пропущенных значений и дубликатов в датафреймах. Обработаем их, если такие значения присутствуют. "
   ]
  },
  {
   "cell_type": "code",
   "execution_count": 16,
   "id": "ccd9611b",
   "metadata": {},
   "outputs": [
    {
     "data": {
      "text/plain": [
       "user_id              0\n",
       "name                 0\n",
       "age                  0\n",
       "city                 0\n",
       "subscription_type    0\n",
       "dtype: int64"
      ]
     },
     "execution_count": 16,
     "metadata": {},
     "output_type": "execute_result"
    }
   ],
   "source": [
    "users.isna().sum()"
   ]
  },
  {
   "cell_type": "markdown",
   "id": "02a2d1f6",
   "metadata": {},
   "source": [
    "В датасете users пропуски отсутствуют"
   ]
  },
  {
   "cell_type": "code",
   "execution_count": 17,
   "id": "f7996478",
   "metadata": {},
   "outputs": [
    {
     "data": {
      "text/plain": [
       "user_id     0\n",
       "distance    0\n",
       "duration    0\n",
       "date        0\n",
       "month       0\n",
       "dtype: int64"
      ]
     },
     "execution_count": 17,
     "metadata": {},
     "output_type": "execute_result"
    }
   ],
   "source": [
    "rides.isna().sum()"
   ]
  },
  {
   "cell_type": "markdown",
   "id": "b002e2c3",
   "metadata": {},
   "source": [
    "В датасете rides пропуски отсутствуют"
   ]
  },
  {
   "cell_type": "code",
   "execution_count": 18,
   "id": "091b64a0",
   "metadata": {},
   "outputs": [
    {
     "data": {
      "text/plain": [
       "subscription_type    0\n",
       "minute_price         0\n",
       "start_ride_price     0\n",
       "subscription_fee     0\n",
       "dtype: int64"
      ]
     },
     "execution_count": 18,
     "metadata": {},
     "output_type": "execute_result"
    }
   ],
   "source": [
    "subscriptions.isna().sum()"
   ]
  },
  {
   "cell_type": "markdown",
   "id": "a132084d",
   "metadata": {},
   "source": [
    "Проверим наличие дубликатов в датасетах, при нахождении дубликатов удалим их."
   ]
  },
  {
   "cell_type": "code",
   "execution_count": 19,
   "id": "8e64dd6d",
   "metadata": {},
   "outputs": [
    {
     "data": {
      "text/plain": [
       "31"
      ]
     },
     "execution_count": 19,
     "metadata": {},
     "output_type": "execute_result"
    }
   ],
   "source": [
    "users.duplicated().sum() #кол-во дубликатов для users"
   ]
  },
  {
   "cell_type": "code",
   "execution_count": 20,
   "id": "621b1b2c",
   "metadata": {},
   "outputs": [],
   "source": [
    "users.drop_duplicates(inplace=True) # Удаляем дубликаты с параметром inplace=True ( Здесь и сейчас)"
   ]
  },
  {
   "cell_type": "code",
   "execution_count": 21,
   "id": "ffabd541",
   "metadata": {},
   "outputs": [
    {
     "data": {
      "text/plain": [
       "0"
      ]
     },
     "execution_count": 21,
     "metadata": {},
     "output_type": "execute_result"
    }
   ],
   "source": [
    "users.duplicated().sum() # проверяем наличие дубликатов"
   ]
  },
  {
   "cell_type": "code",
   "execution_count": 22,
   "id": "229c58b8",
   "metadata": {},
   "outputs": [
    {
     "data": {
      "text/plain": [
       "0"
      ]
     },
     "execution_count": 22,
     "metadata": {},
     "output_type": "execute_result"
    }
   ],
   "source": [
    "rides.duplicated().sum() #Проверяем дубликаты для rides "
   ]
  },
  {
   "cell_type": "markdown",
   "id": "2bc55bf2",
   "metadata": {},
   "source": [
    "Дубликаты отсутствуют"
   ]
  },
  {
   "cell_type": "code",
   "execution_count": 23,
   "id": "e822e5c2",
   "metadata": {},
   "outputs": [
    {
     "data": {
      "text/plain": [
       "0"
      ]
     },
     "execution_count": 23,
     "metadata": {},
     "output_type": "execute_result"
    }
   ],
   "source": [
    "subscriptions.duplicated().sum() # Проверяем дубликаты для subscriptions"
   ]
  },
  {
   "cell_type": "markdown",
   "id": "94df9f16",
   "metadata": {},
   "source": [
    "Дубликаты отсутствуют"
   ]
  },
  {
   "cell_type": "markdown",
   "id": "52951ec5",
   "metadata": {},
   "source": [
    "в датасете subscriptions пропуски отсутствуют\n"
   ]
  },
  {
   "cell_type": "markdown",
   "id": "5be36f40",
   "metadata": {},
   "source": [
    "Вывод:\n",
    "В представленных датасетах отсутствуют пропуски, можем предположить, что данные были предобработаны для анализа.\n",
    "Обнаружены дубликаты в датасете users , 31 дубликат, удалили с помощью команды drop_duplicates. В остальных датасетах дубликаты отсутствуют"
   ]
  },
  {
   "cell_type": "markdown",
   "id": "c8b4baf5",
   "metadata": {},
   "source": [
    "#### Шаг 3. Исследовательский анализ данных"
   ]
  },
  {
   "cell_type": "markdown",
   "id": "dd920eb3",
   "metadata": {},
   "source": [
    "Опишем и визуализируем общую информацию о пользователях и поездках:"
   ]
  },
  {
   "cell_type": "code",
   "execution_count": 24,
   "id": "1f273faf",
   "metadata": {},
   "outputs": [
    {
     "data": {
      "text/plain": [
       "array(['Екатеринбург', 'Краснодар', 'Москва', 'Омск', 'Пятигорск',\n",
       "       'Ростов-на-Дону', 'Сочи', 'Тюмень'], dtype=object)"
      ]
     },
     "execution_count": 24,
     "metadata": {},
     "output_type": "execute_result"
    }
   ],
   "source": [
    "# частота встречаемости городов,датасет users столбец city:\n",
    "#Рассмотрим уникальные значения в столбце\n",
    "users['city'].sort_values().unique()"
   ]
  },
  {
   "cell_type": "code",
   "execution_count": 25,
   "id": "2b0c4ef8",
   "metadata": {},
   "outputs": [
    {
     "data": {
      "text/plain": [
       "Пятигорск         219\n",
       "Екатеринбург      204\n",
       "Ростов-на-Дону    198\n",
       "Краснодар         193\n",
       "Сочи              189\n",
       "Омск              183\n",
       "Тюмень            180\n",
       "Москва            168\n",
       "Name: city, dtype: int64"
      ]
     },
     "execution_count": 25,
     "metadata": {},
     "output_type": "execute_result"
    }
   ],
   "source": [
    "# Представим столбец city из датасета users в форме таблицы.\n",
    "table_city = users['city'].value_counts()\n",
    "table_city"
   ]
  },
  {
   "cell_type": "code",
   "execution_count": 26,
   "id": "456f97b6",
   "metadata": {},
   "outputs": [
    {
     "data": {
      "text/plain": [
       "<AxesSubplot:title={'center':'Кол-во пользователей по городам'}, xlabel='Город', ylabel='Кол-во пользователей'>"
      ]
     },
     "execution_count": 26,
     "metadata": {},
     "output_type": "execute_result"
    },
    {
     "data": {
      "image/png": "[encoded data removed]",
      "text/plain": [
       "<Figure size 720x216 with 1 Axes>"
      ]
     },
     "metadata": {
      "needs_background": "light"
     },
     "output_type": "display_data"
    }
   ],
   "source": [
    "users['city'].value_counts().plot(title='Кол-во пользователей по городам',xlabel='Город',ylabel='Кол-во пользователей',figsize=(10,3))"
   ]
  },
  {
   "cell_type": "markdown",
   "id": "e9e2ec06",
   "metadata": {},
   "source": [
    "По столбцу city в датафрейме users мы можем скзаать , что количество городов присутствия = 8 , самая высокая активность пользователей в городе Пятигорск."
   ]
  },
  {
   "cell_type": "code",
   "execution_count": 27,
   "id": "1358c905",
   "metadata": {},
   "outputs": [
    {
     "data": {
      "text/plain": [
       "array([835, 699])"
      ]
     },
     "execution_count": 27,
     "metadata": {},
     "output_type": "execute_result"
    },
    {
     "data": {
      "image/png": "[encoded data removed]",
      "text/plain": [
       "<Figure size 432x288 with 1 Axes>"
      ]
     },
     "metadata": {
      "needs_background": "light"
     },
     "output_type": "display_data"
    }
   ],
   "source": [
    "# соотношение пользователей с подпиской и без подписки\n",
    "#датасет\n",
    "users['subscription_type'].hist()\n",
    "users['subscription_type'].value_counts().unique()"
   ]
  },
  {
   "cell_type": "markdown",
   "id": "b401e9a0",
   "metadata": {},
   "source": [
    "users_subscribe = ['subscription_type'].value_counts().unique()"
   ]
  },
  {
   "cell_type": "code",
   "execution_count": 28,
   "id": "706038a9",
   "metadata": {},
   "outputs": [
    {
     "data": {
      "image/png": "[encoded data removed]",
      "text/plain": [
       "<Figure size 504x504 with 1 Axes>"
      ]
     },
     "metadata": {},
     "output_type": "display_data"
    }
   ],
   "source": [
    "users['subscription_type'].value_counts().plot(kind = 'pie', y = 'users_subscribe',autopct = '%1.0f%%',figsize=(7,7), title = 'Распределение пользователей по городам');"
   ]
  },
  {
   "cell_type": "markdown",
   "id": "2b4eb7bf",
   "metadata": {},
   "source": [
    "По столбцу subscription_type датафрейма users можем сделать вывод , количество пользователей без подписок, больше количества пользователей с подпиской. Без подписки 846, с подпиской 719."
   ]
  },
  {
   "cell_type": "code",
   "execution_count": 29,
   "id": "dbfd1efb",
   "metadata": {},
   "outputs": [
    {
     "data": {
      "text/plain": [
       "<AxesSubplot:>"
      ]
     },
     "execution_count": 29,
     "metadata": {},
     "output_type": "execute_result"
    },
    {
     "data": {
      "image/png": "[encoded data removed]",
      "text/plain": [
       "<Figure size 432x288 with 1 Axes>"
      ]
     },
     "metadata": {
      "needs_background": "light"
     },
     "output_type": "display_data"
    }
   ],
   "source": [
    "#Возраст пользователей, #столбец age датафрейма users:\n",
    "users['age'].hist()"
   ]
  },
  {
   "cell_type": "markdown",
   "id": "2830dc7a",
   "metadata": {},
   "source": [
    "По гистограмме мы можем сделать вывод, что большинство пользователей в возврасте от ~22 до ~27 лет."
   ]
  },
  {
   "cell_type": "code",
   "execution_count": 30,
   "id": "1143f46e",
   "metadata": {},
   "outputs": [
    {
     "data": {
      "text/plain": [
       "24.903520208604956"
      ]
     },
     "execution_count": 30,
     "metadata": {},
     "output_type": "execute_result"
    }
   ],
   "source": [
    "#Проверим с помощью команды .mean (среднее составляет 24.9)\n",
    "users['age'].mean()"
   ]
  },
  {
   "cell_type": "code",
   "execution_count": 31,
   "id": "fd64d78c",
   "metadata": {},
   "outputs": [
    {
     "data": {
      "text/plain": [
       "count    1534.000000\n",
       "mean       24.903520\n",
       "std         4.572367\n",
       "min        12.000000\n",
       "25%        22.000000\n",
       "50%        25.000000\n",
       "75%        28.000000\n",
       "max        43.000000\n",
       "Name: age, dtype: float64"
      ]
     },
     "execution_count": 31,
     "metadata": {},
     "output_type": "execute_result"
    }
   ],
   "source": [
    "users['age'].describe()"
   ]
  },
  {
   "cell_type": "code",
   "execution_count": 32,
   "id": "2f52c0d5",
   "metadata": {},
   "outputs": [
    {
     "data": {
      "text/plain": [
       "<AxesSubplot:>"
      ]
     },
     "execution_count": 32,
     "metadata": {},
     "output_type": "execute_result"
    },
    {
     "data": {
      "image/png": "[encoded data removed]",
      "text/plain": [
       "<Figure size 432x288 with 1 Axes>"
      ]
     },
     "metadata": {
      "needs_background": "light"
     },
     "output_type": "display_data"
    }
   ],
   "source": [
    "#расстояние, которое пользователь преодолел за одну поездку\n",
    "#столбец distance датафрейма rides, т.к одна строчка является одной поездкой , рассмотрим гистограмму по столбцу.\n",
    "rides['distance'].hist(bins=60)\n"
   ]
  },
  {
   "cell_type": "markdown",
   "id": "c3814d73",
   "metadata": {},
   "source": [
    "Рассматривая гистограмму видим, что в большинстве случаев пользователи проезжают расстояние от 2900 м! до 3500м."
   ]
  },
  {
   "cell_type": "code",
   "execution_count": 33,
   "id": "4b82097a",
   "metadata": {},
   "outputs": [
    {
     "data": {
      "text/plain": [
       "3070.6599756818814"
      ]
     },
     "execution_count": 33,
     "metadata": {},
     "output_type": "execute_result"
    }
   ],
   "source": [
    "#Проверим с помощью .mean()\n",
    "rides['distance'].mean() "
   ]
  },
  {
   "cell_type": "code",
   "execution_count": 34,
   "id": "3fe9dab4",
   "metadata": {},
   "outputs": [
    {
     "data": {
      "text/plain": [
       "<AxesSubplot:>"
      ]
     },
     "execution_count": 34,
     "metadata": {},
     "output_type": "execute_result"
    },
    {
     "data": {
      "image/png": "[encoded data removed]",
      "text/plain": [
       "<Figure size 432x288 with 1 Axes>"
      ]
     },
     "metadata": {
      "needs_background": "light"
     },
     "output_type": "display_data"
    }
   ],
   "source": [
    "# Продолжительность поездок ,столбец duration датафрейма rides: т.к каждая поездка это строка: построим гистограмму по столбцу\n",
    "rides['duration'].hist(bins=60) "
   ]
  },
  {
   "cell_type": "markdown",
   "id": "e4cbc56b",
   "metadata": {},
   "source": [
    "Увеличев параметр bins мы увидели странный пик около 0 примерно до 100"
   ]
  },
  {
   "cell_type": "code",
   "execution_count": 35,
   "id": "44e533aa",
   "metadata": {},
   "outputs": [
    {
     "data": {
      "text/plain": [
       "<AxesSubplot:>"
      ]
     },
     "execution_count": 35,
     "metadata": {},
     "output_type": "execute_result"
    },
    {
     "data": {
      "image/png": "[encoded data removed]",
      "text/plain": [
       "<Figure size 432x288 with 1 Axes>"
      ]
     },
     "metadata": {
      "needs_background": "light"
     },
     "output_type": "display_data"
    }
   ],
   "source": [
    "#Создадим ящик с \"усами\"\n",
    "rides['duration'].plot(kind='box')"
   ]
  },
  {
   "cell_type": "markdown",
   "id": "746d0fa2",
   "metadata": {},
   "source": [
    "Судя по усам можем предположить что всё что выше 35 и ниже ~ 3 является выбросами."
   ]
  },
  {
   "cell_type": "code",
   "execution_count": 36,
   "id": "76d6c58e",
   "metadata": {},
   "outputs": [
    {
     "data": {
      "text/plain": [
       "17.80501119798444"
      ]
     },
     "execution_count": 36,
     "metadata": {},
     "output_type": "execute_result"
    }
   ],
   "source": [
    "#Проверим mean\n",
    "rides['duration'].mean()"
   ]
  },
  {
   "cell_type": "markdown",
   "id": "44ade9bd",
   "metadata": {},
   "source": [
    "Большинство поездок занимает 13-21 минут, среднее в 17.8 это подтверждает.\n",
    "\n",
    "p.s если сопоставить среднее поездки и среднее время продолжительности поездок, 3 км за 17 минут - время на старт/завершение получим что-то около 15/3 = 5км/ч.\n",
    "p.ps просто мои рассуждения касаемо реалистичности данных))"
   ]
  },
  {
   "cell_type": "markdown",
   "id": "7c61ba5f",
   "metadata": {},
   "source": [
    "Вывод: Мы визуализировали интересующие нас данные : 8 городов присутствия, большинство пользователей без подписки,средний возвраст 22-27 лет, среднее расстояние пройденно на самокате 3000м,среднее время поездки 17 минут."
   ]
  },
  {
   "cell_type": "markdown",
   "id": "e353fd26",
   "metadata": {},
   "source": [
    "#### Шаг 4. Объединение данных"
   ]
  },
  {
   "cell_type": "markdown",
   "id": "77cea1f7",
   "metadata": {},
   "source": [
    "Объединим данные о пользователях, поездках и подписках в один датафрейм. Для этого воспользуемся методом merge(). Объединённый датафрейм назовём data."
   ]
  },
  {
   "cell_type": "markdown",
   "id": "4c62a7ed",
   "metadata": {},
   "source": [
    "data = users.merge(rides, 'outer').merge(subscriptions, 'outer') #Перевёл в маркдаун"
   ]
  },
  {
   "cell_type": "code",
   "execution_count": 37,
   "id": "f7bd8c2a",
   "metadata": {},
   "outputs": [],
   "source": [
    "data = users.merge(rides, on='user_id') #Общее юсер айди\n",
    "data = data.merge(subscriptions, on ='subscription_type') #общее субскрипшн тайп\n"
   ]
  },
  {
   "cell_type": "code",
   "execution_count": 38,
   "id": "50d536cc",
   "metadata": {},
   "outputs": [
    {
     "data": {
      "text/html": [
       "<div>\n",
       "<style scoped>\n",
       "    .dataframe tbody tr th:only-of-type {\n",
       "        vertical-align: middle;\n",
       "    }\n",
       "\n",
       "    .dataframe tbody tr th {\n",
       "        vertical-align: top;\n",
       "    }\n",
       "\n",
       "    .dataframe thead th {\n",
       "        text-align: right;\n",
       "    }\n",
       "</style>\n",
       "<table border=\"1\" class=\"dataframe\">\n",
       "  <thead>\n",
       "    <tr style=\"text-align: right;\">\n",
       "      <th></th>\n",
       "      <th>user_id</th>\n",
       "      <th>name</th>\n",
       "      <th>age</th>\n",
       "      <th>city</th>\n",
       "      <th>subscription_type</th>\n",
       "      <th>distance</th>\n",
       "      <th>duration</th>\n",
       "      <th>date</th>\n",
       "      <th>month</th>\n",
       "      <th>minute_price</th>\n",
       "      <th>start_ride_price</th>\n",
       "      <th>subscription_fee</th>\n",
       "    </tr>\n",
       "  </thead>\n",
       "  <tbody>\n",
       "    <tr>\n",
       "      <th>0</th>\n",
       "      <td>1</td>\n",
       "      <td>Кира</td>\n",
       "      <td>22</td>\n",
       "      <td>Тюмень</td>\n",
       "      <td>ultra</td>\n",
       "      <td>4409.919140</td>\n",
       "      <td>25.599769</td>\n",
       "      <td>2021-01-01</td>\n",
       "      <td>1</td>\n",
       "      <td>6</td>\n",
       "      <td>0</td>\n",
       "      <td>199</td>\n",
       "    </tr>\n",
       "    <tr>\n",
       "      <th>1</th>\n",
       "      <td>1</td>\n",
       "      <td>Кира</td>\n",
       "      <td>22</td>\n",
       "      <td>Тюмень</td>\n",
       "      <td>ultra</td>\n",
       "      <td>2617.592153</td>\n",
       "      <td>15.816871</td>\n",
       "      <td>2021-01-18</td>\n",
       "      <td>1</td>\n",
       "      <td>6</td>\n",
       "      <td>0</td>\n",
       "      <td>199</td>\n",
       "    </tr>\n",
       "    <tr>\n",
       "      <th>2</th>\n",
       "      <td>1</td>\n",
       "      <td>Кира</td>\n",
       "      <td>22</td>\n",
       "      <td>Тюмень</td>\n",
       "      <td>ultra</td>\n",
       "      <td>754.159807</td>\n",
       "      <td>6.232113</td>\n",
       "      <td>2021-04-20</td>\n",
       "      <td>4</td>\n",
       "      <td>6</td>\n",
       "      <td>0</td>\n",
       "      <td>199</td>\n",
       "    </tr>\n",
       "    <tr>\n",
       "      <th>3</th>\n",
       "      <td>1</td>\n",
       "      <td>Кира</td>\n",
       "      <td>22</td>\n",
       "      <td>Тюмень</td>\n",
       "      <td>ultra</td>\n",
       "      <td>2694.783254</td>\n",
       "      <td>18.511000</td>\n",
       "      <td>2021-08-11</td>\n",
       "      <td>8</td>\n",
       "      <td>6</td>\n",
       "      <td>0</td>\n",
       "      <td>199</td>\n",
       "    </tr>\n",
       "    <tr>\n",
       "      <th>4</th>\n",
       "      <td>1</td>\n",
       "      <td>Кира</td>\n",
       "      <td>22</td>\n",
       "      <td>Тюмень</td>\n",
       "      <td>ultra</td>\n",
       "      <td>4028.687306</td>\n",
       "      <td>26.265803</td>\n",
       "      <td>2021-08-28</td>\n",
       "      <td>8</td>\n",
       "      <td>6</td>\n",
       "      <td>0</td>\n",
       "      <td>199</td>\n",
       "    </tr>\n",
       "    <tr>\n",
       "      <th>...</th>\n",
       "      <td>...</td>\n",
       "      <td>...</td>\n",
       "      <td>...</td>\n",
       "      <td>...</td>\n",
       "      <td>...</td>\n",
       "      <td>...</td>\n",
       "      <td>...</td>\n",
       "      <td>...</td>\n",
       "      <td>...</td>\n",
       "      <td>...</td>\n",
       "      <td>...</td>\n",
       "      <td>...</td>\n",
       "    </tr>\n",
       "    <tr>\n",
       "      <th>18063</th>\n",
       "      <td>1534</td>\n",
       "      <td>Альберт</td>\n",
       "      <td>25</td>\n",
       "      <td>Краснодар</td>\n",
       "      <td>free</td>\n",
       "      <td>3781.098080</td>\n",
       "      <td>19.822962</td>\n",
       "      <td>2021-11-04</td>\n",
       "      <td>11</td>\n",
       "      <td>8</td>\n",
       "      <td>50</td>\n",
       "      <td>0</td>\n",
       "    </tr>\n",
       "    <tr>\n",
       "      <th>18064</th>\n",
       "      <td>1534</td>\n",
       "      <td>Альберт</td>\n",
       "      <td>25</td>\n",
       "      <td>Краснодар</td>\n",
       "      <td>free</td>\n",
       "      <td>2840.423057</td>\n",
       "      <td>21.409799</td>\n",
       "      <td>2021-11-16</td>\n",
       "      <td>11</td>\n",
       "      <td>8</td>\n",
       "      <td>50</td>\n",
       "      <td>0</td>\n",
       "    </tr>\n",
       "    <tr>\n",
       "      <th>18065</th>\n",
       "      <td>1534</td>\n",
       "      <td>Альберт</td>\n",
       "      <td>25</td>\n",
       "      <td>Краснодар</td>\n",
       "      <td>free</td>\n",
       "      <td>3826.185507</td>\n",
       "      <td>18.435051</td>\n",
       "      <td>2021-11-18</td>\n",
       "      <td>11</td>\n",
       "      <td>8</td>\n",
       "      <td>50</td>\n",
       "      <td>0</td>\n",
       "    </tr>\n",
       "    <tr>\n",
       "      <th>18066</th>\n",
       "      <td>1534</td>\n",
       "      <td>Альберт</td>\n",
       "      <td>25</td>\n",
       "      <td>Краснодар</td>\n",
       "      <td>free</td>\n",
       "      <td>2902.308661</td>\n",
       "      <td>16.674362</td>\n",
       "      <td>2021-11-27</td>\n",
       "      <td>11</td>\n",
       "      <td>8</td>\n",
       "      <td>50</td>\n",
       "      <td>0</td>\n",
       "    </tr>\n",
       "    <tr>\n",
       "      <th>18067</th>\n",
       "      <td>1534</td>\n",
       "      <td>Альберт</td>\n",
       "      <td>25</td>\n",
       "      <td>Краснодар</td>\n",
       "      <td>free</td>\n",
       "      <td>2371.711192</td>\n",
       "      <td>15.893917</td>\n",
       "      <td>2021-12-29</td>\n",
       "      <td>12</td>\n",
       "      <td>8</td>\n",
       "      <td>50</td>\n",
       "      <td>0</td>\n",
       "    </tr>\n",
       "  </tbody>\n",
       "</table>\n",
       "<p>18068 rows × 12 columns</p>\n",
       "</div>"
      ],
      "text/plain": [
       "       user_id     name  age       city subscription_type     distance  \\\n",
       "0            1     Кира   22     Тюмень             ultra  4409.919140   \n",
       "1            1     Кира   22     Тюмень             ultra  2617.592153   \n",
       "2            1     Кира   22     Тюмень             ultra   754.159807   \n",
       "3            1     Кира   22     Тюмень             ultra  2694.783254   \n",
       "4            1     Кира   22     Тюмень             ultra  4028.687306   \n",
       "...        ...      ...  ...        ...               ...          ...   \n",
       "18063     1534  Альберт   25  Краснодар              free  3781.098080   \n",
       "18064     1534  Альберт   25  Краснодар              free  2840.423057   \n",
       "18065     1534  Альберт   25  Краснодар              free  3826.185507   \n",
       "18066     1534  Альберт   25  Краснодар              free  2902.308661   \n",
       "18067     1534  Альберт   25  Краснодар              free  2371.711192   \n",
       "\n",
       "        duration       date  month  minute_price  start_ride_price  \\\n",
       "0      25.599769 2021-01-01      1             6                 0   \n",
       "1      15.816871 2021-01-18      1             6                 0   \n",
       "2       6.232113 2021-04-20      4             6                 0   \n",
       "3      18.511000 2021-08-11      8             6                 0   \n",
       "4      26.265803 2021-08-28      8             6                 0   \n",
       "...          ...        ...    ...           ...               ...   \n",
       "18063  19.822962 2021-11-04     11             8                50   \n",
       "18064  21.409799 2021-11-16     11             8                50   \n",
       "18065  18.435051 2021-11-18     11             8                50   \n",
       "18066  16.674362 2021-11-27     11             8                50   \n",
       "18067  15.893917 2021-12-29     12             8                50   \n",
       "\n",
       "       subscription_fee  \n",
       "0                   199  \n",
       "1                   199  \n",
       "2                   199  \n",
       "3                   199  \n",
       "4                   199  \n",
       "...                 ...  \n",
       "18063                 0  \n",
       "18064                 0  \n",
       "18065                 0  \n",
       "18066                 0  \n",
       "18067                 0  \n",
       "\n",
       "[18068 rows x 12 columns]"
      ]
     },
     "execution_count": 38,
     "metadata": {},
     "output_type": "execute_result"
    }
   ],
   "source": [
    "data"
   ]
  },
  {
   "cell_type": "code",
   "execution_count": 39,
   "id": "c2db653e",
   "metadata": {},
   "outputs": [
    {
     "name": "stdout",
     "output_type": "stream",
     "text": [
      "<class 'pandas.core.frame.DataFrame'>\n",
      "Int64Index: 18068 entries, 0 to 18067\n",
      "Data columns (total 12 columns):\n",
      " #   Column             Non-Null Count  Dtype         \n",
      "---  ------             --------------  -----         \n",
      " 0   user_id            18068 non-null  int64         \n",
      " 1   name               18068 non-null  object        \n",
      " 2   age                18068 non-null  int64         \n",
      " 3   city               18068 non-null  object        \n",
      " 4   subscription_type  18068 non-null  object        \n",
      " 5   distance           18068 non-null  float64       \n",
      " 6   duration           18068 non-null  float64       \n",
      " 7   date               18068 non-null  datetime64[ns]\n",
      " 8   month              18068 non-null  int64         \n",
      " 9   minute_price       18068 non-null  int64         \n",
      " 10  start_ride_price   18068 non-null  int64         \n",
      " 11  subscription_fee   18068 non-null  int64         \n",
      "dtypes: datetime64[ns](1), float64(2), int64(6), object(3)\n",
      "memory usage: 1.8+ MB\n"
     ]
    }
   ],
   "source": [
    "#Выведем info\n",
    "data.info() #для объединённого датасета и сопоставим с изначальными данным."
   ]
  },
  {
   "cell_type": "markdown",
   "id": "315d7b69",
   "metadata": {},
   "source": [
    "Создадим ещё два датафрейма из датафрейма, созданного на этапе 4.1: c данными о пользователях без подписки; с данными о пользователях с подпиской. Воспользуемся методом query()\n"
   ]
  },
  {
   "cell_type": "markdown",
   "id": "8f53ce78",
   "metadata": {},
   "source": [
    "Выполним \"извлечение\" по столбцу subscription_type , по значению \"ultra' и 'free' датафрейма data.\n",
    "Каждой из этих выборок присвоим новую переменную."
   ]
  },
  {
   "cell_type": "code",
   "execution_count": 40,
   "id": "cd5c5cfc",
   "metadata": {},
   "outputs": [
    {
     "data": {
      "text/html": [
       "<div>\n",
       "<style scoped>\n",
       "    .dataframe tbody tr th:only-of-type {\n",
       "        vertical-align: middle;\n",
       "    }\n",
       "\n",
       "    .dataframe tbody tr th {\n",
       "        vertical-align: top;\n",
       "    }\n",
       "\n",
       "    .dataframe thead th {\n",
       "        text-align: right;\n",
       "    }\n",
       "</style>\n",
       "<table border=\"1\" class=\"dataframe\">\n",
       "  <thead>\n",
       "    <tr style=\"text-align: right;\">\n",
       "      <th></th>\n",
       "      <th>user_id</th>\n",
       "      <th>name</th>\n",
       "      <th>age</th>\n",
       "      <th>city</th>\n",
       "      <th>subscription_type</th>\n",
       "      <th>distance</th>\n",
       "      <th>duration</th>\n",
       "      <th>date</th>\n",
       "      <th>month</th>\n",
       "      <th>minute_price</th>\n",
       "      <th>start_ride_price</th>\n",
       "      <th>subscription_fee</th>\n",
       "    </tr>\n",
       "  </thead>\n",
       "  <tbody>\n",
       "    <tr>\n",
       "      <th>6500</th>\n",
       "      <td>700</td>\n",
       "      <td>Айдар</td>\n",
       "      <td>22</td>\n",
       "      <td>Омск</td>\n",
       "      <td>free</td>\n",
       "      <td>2515.690719</td>\n",
       "      <td>14.944286</td>\n",
       "      <td>2021-01-02</td>\n",
       "      <td>1</td>\n",
       "      <td>8</td>\n",
       "      <td>50</td>\n",
       "      <td>0</td>\n",
       "    </tr>\n",
       "    <tr>\n",
       "      <th>6501</th>\n",
       "      <td>700</td>\n",
       "      <td>Айдар</td>\n",
       "      <td>22</td>\n",
       "      <td>Омск</td>\n",
       "      <td>free</td>\n",
       "      <td>846.932642</td>\n",
       "      <td>16.234663</td>\n",
       "      <td>2021-02-01</td>\n",
       "      <td>2</td>\n",
       "      <td>8</td>\n",
       "      <td>50</td>\n",
       "      <td>0</td>\n",
       "    </tr>\n",
       "    <tr>\n",
       "      <th>6502</th>\n",
       "      <td>700</td>\n",
       "      <td>Айдар</td>\n",
       "      <td>22</td>\n",
       "      <td>Омск</td>\n",
       "      <td>free</td>\n",
       "      <td>4004.434142</td>\n",
       "      <td>20.016628</td>\n",
       "      <td>2021-02-04</td>\n",
       "      <td>2</td>\n",
       "      <td>8</td>\n",
       "      <td>50</td>\n",
       "      <td>0</td>\n",
       "    </tr>\n",
       "    <tr>\n",
       "      <th>6503</th>\n",
       "      <td>700</td>\n",
       "      <td>Айдар</td>\n",
       "      <td>22</td>\n",
       "      <td>Омск</td>\n",
       "      <td>free</td>\n",
       "      <td>1205.911290</td>\n",
       "      <td>9.782872</td>\n",
       "      <td>2021-02-10</td>\n",
       "      <td>2</td>\n",
       "      <td>8</td>\n",
       "      <td>50</td>\n",
       "      <td>0</td>\n",
       "    </tr>\n",
       "    <tr>\n",
       "      <th>6504</th>\n",
       "      <td>700</td>\n",
       "      <td>Айдар</td>\n",
       "      <td>22</td>\n",
       "      <td>Омск</td>\n",
       "      <td>free</td>\n",
       "      <td>3047.379435</td>\n",
       "      <td>17.427673</td>\n",
       "      <td>2021-02-14</td>\n",
       "      <td>2</td>\n",
       "      <td>8</td>\n",
       "      <td>50</td>\n",
       "      <td>0</td>\n",
       "    </tr>\n",
       "  </tbody>\n",
       "</table>\n",
       "</div>"
      ],
      "text/plain": [
       "      user_id   name  age  city subscription_type     distance   duration  \\\n",
       "6500      700  Айдар   22  Омск              free  2515.690719  14.944286   \n",
       "6501      700  Айдар   22  Омск              free   846.932642  16.234663   \n",
       "6502      700  Айдар   22  Омск              free  4004.434142  20.016628   \n",
       "6503      700  Айдар   22  Омск              free  1205.911290   9.782872   \n",
       "6504      700  Айдар   22  Омск              free  3047.379435  17.427673   \n",
       "\n",
       "           date  month  minute_price  start_ride_price  subscription_fee  \n",
       "6500 2021-01-02      1             8                50                 0  \n",
       "6501 2021-02-01      2             8                50                 0  \n",
       "6502 2021-02-04      2             8                50                 0  \n",
       "6503 2021-02-10      2             8                50                 0  \n",
       "6504 2021-02-14      2             8                50                 0  "
      ]
     },
     "execution_count": 40,
     "metadata": {},
     "output_type": "execute_result"
    }
   ],
   "source": [
    "data_free = data.query('subscription_type == \"free\"')\n",
    "#Сразу проверим\n",
    "data_free.head()"
   ]
  },
  {
   "cell_type": "code",
   "execution_count": 46,
   "id": "e1628b54",
   "metadata": {},
   "outputs": [
    {
     "data": {
      "text/html": [
       "<div>\n",
       "<style scoped>\n",
       "    .dataframe tbody tr th:only-of-type {\n",
       "        vertical-align: middle;\n",
       "    }\n",
       "\n",
       "    .dataframe tbody tr th {\n",
       "        vertical-align: top;\n",
       "    }\n",
       "\n",
       "    .dataframe thead th {\n",
       "        text-align: right;\n",
       "    }\n",
       "</style>\n",
       "<table border=\"1\" class=\"dataframe\">\n",
       "  <thead>\n",
       "    <tr style=\"text-align: right;\">\n",
       "      <th></th>\n",
       "      <th>user_id</th>\n",
       "      <th>name</th>\n",
       "      <th>age</th>\n",
       "      <th>city</th>\n",
       "      <th>subscription_type</th>\n",
       "      <th>distance</th>\n",
       "      <th>duration</th>\n",
       "      <th>date</th>\n",
       "      <th>month</th>\n",
       "      <th>minute_price</th>\n",
       "      <th>start_ride_price</th>\n",
       "      <th>subscription_fee</th>\n",
       "    </tr>\n",
       "  </thead>\n",
       "  <tbody>\n",
       "    <tr>\n",
       "      <th>0</th>\n",
       "      <td>1</td>\n",
       "      <td>Кира</td>\n",
       "      <td>22</td>\n",
       "      <td>Тюмень</td>\n",
       "      <td>ultra</td>\n",
       "      <td>4409.919140</td>\n",
       "      <td>25.599769</td>\n",
       "      <td>2021-01-01</td>\n",
       "      <td>1</td>\n",
       "      <td>6</td>\n",
       "      <td>0</td>\n",
       "      <td>199</td>\n",
       "    </tr>\n",
       "    <tr>\n",
       "      <th>1</th>\n",
       "      <td>1</td>\n",
       "      <td>Кира</td>\n",
       "      <td>22</td>\n",
       "      <td>Тюмень</td>\n",
       "      <td>ultra</td>\n",
       "      <td>2617.592153</td>\n",
       "      <td>15.816871</td>\n",
       "      <td>2021-01-18</td>\n",
       "      <td>1</td>\n",
       "      <td>6</td>\n",
       "      <td>0</td>\n",
       "      <td>199</td>\n",
       "    </tr>\n",
       "    <tr>\n",
       "      <th>2</th>\n",
       "      <td>1</td>\n",
       "      <td>Кира</td>\n",
       "      <td>22</td>\n",
       "      <td>Тюмень</td>\n",
       "      <td>ultra</td>\n",
       "      <td>754.159807</td>\n",
       "      <td>6.232113</td>\n",
       "      <td>2021-04-20</td>\n",
       "      <td>4</td>\n",
       "      <td>6</td>\n",
       "      <td>0</td>\n",
       "      <td>199</td>\n",
       "    </tr>\n",
       "    <tr>\n",
       "      <th>3</th>\n",
       "      <td>1</td>\n",
       "      <td>Кира</td>\n",
       "      <td>22</td>\n",
       "      <td>Тюмень</td>\n",
       "      <td>ultra</td>\n",
       "      <td>2694.783254</td>\n",
       "      <td>18.511000</td>\n",
       "      <td>2021-08-11</td>\n",
       "      <td>8</td>\n",
       "      <td>6</td>\n",
       "      <td>0</td>\n",
       "      <td>199</td>\n",
       "    </tr>\n",
       "    <tr>\n",
       "      <th>4</th>\n",
       "      <td>1</td>\n",
       "      <td>Кира</td>\n",
       "      <td>22</td>\n",
       "      <td>Тюмень</td>\n",
       "      <td>ultra</td>\n",
       "      <td>4028.687306</td>\n",
       "      <td>26.265803</td>\n",
       "      <td>2021-08-28</td>\n",
       "      <td>8</td>\n",
       "      <td>6</td>\n",
       "      <td>0</td>\n",
       "      <td>199</td>\n",
       "    </tr>\n",
       "  </tbody>\n",
       "</table>\n",
       "</div>"
      ],
      "text/plain": [
       "   user_id  name  age    city subscription_type     distance   duration  \\\n",
       "0        1  Кира   22  Тюмень             ultra  4409.919140  25.599769   \n",
       "1        1  Кира   22  Тюмень             ultra  2617.592153  15.816871   \n",
       "2        1  Кира   22  Тюмень             ultra   754.159807   6.232113   \n",
       "3        1  Кира   22  Тюмень             ultra  2694.783254  18.511000   \n",
       "4        1  Кира   22  Тюмень             ultra  4028.687306  26.265803   \n",
       "\n",
       "        date  month  minute_price  start_ride_price  subscription_fee  \n",
       "0 2021-01-01      1             6                 0               199  \n",
       "1 2021-01-18      1             6                 0               199  \n",
       "2 2021-04-20      4             6                 0               199  \n",
       "3 2021-08-11      8             6                 0               199  \n",
       "4 2021-08-28      8             6                 0               199  "
      ]
     },
     "execution_count": 46,
     "metadata": {},
     "output_type": "execute_result"
    }
   ],
   "source": [
    "data_ultra = data.query('subscription_type == \"ultra\"')\n",
    "#Сразу проверяем\n",
    "data_ultra.head()"
   ]
  },
  {
   "cell_type": "markdown",
   "id": "4c956058",
   "metadata": {},
   "source": [
    "Визуализируем информацию о расстоянии и времени поездок для пользователей обеих категорий.\n",
    "Выведем на экран описательную статистику .describe() каждого столбца , для сравнения средних значений и медианы."
   ]
  },
  {
   "cell_type": "code",
   "execution_count": 47,
   "id": "e62a43bb",
   "metadata": {},
   "outputs": [
    {
     "data": {
      "text/plain": [
       "count    11568.000000\n",
       "mean      3045.495282\n",
       "std       1246.173806\n",
       "min          0.855683\n",
       "25%       2366.562689\n",
       "50%       3114.648465\n",
       "75%       3905.697894\n",
       "max       7211.007745\n",
       "Name: distance, dtype: float64"
      ]
     },
     "execution_count": 47,
     "metadata": {},
     "output_type": "execute_result"
    }
   ],
   "source": [
    "data_free['distance'].describe()"
   ]
  },
  {
   "cell_type": "code",
   "execution_count": 48,
   "id": "50ee4064",
   "metadata": {},
   "outputs": [
    {
     "data": {
      "text/plain": [
       "count    6500.000000\n",
       "mean     3115.445388\n",
       "std       836.895330\n",
       "min       244.210438\n",
       "25%      2785.444017\n",
       "50%      3148.637229\n",
       "75%      3560.574425\n",
       "max      5699.769662\n",
       "Name: distance, dtype: float64"
      ]
     },
     "execution_count": 48,
     "metadata": {},
     "output_type": "execute_result"
    }
   ],
   "source": [
    "data_ultra['distance'].describe()"
   ]
  },
  {
   "cell_type": "markdown",
   "id": "e5e3c9b5",
   "metadata": {},
   "source": [
    "Расстояние : Среднее значение совсем немного выше у пользователей с подпиской, у медианного значения разница ещё менее существенна. \n"
   ]
  },
  {
   "cell_type": "code",
   "execution_count": 49,
   "id": "90afb258",
   "metadata": {},
   "outputs": [
    {
     "data": {
      "text/plain": [
       "<AxesSubplot:>"
      ]
     },
     "execution_count": 49,
     "metadata": {},
     "output_type": "execute_result"
    },
    {
     "data": {
      "image/png": "[encoded data removed]",
      "text/plain": [
       "<Figure size 432x288 with 1 Axes>"
      ]
     },
     "metadata": {
      "needs_background": "light"
     },
     "output_type": "display_data"
    }
   ],
   "source": [
    "#Для наглядности построим гистограммы по показателям distance пользователей с подпиской и без. Пользователи без подписке на графике отображются оранжевыми линиями, с подпиской соответственно синим.\n",
    "data_free['distance'].hist(bins=30,color='orange',)\n",
    "data_ultra['distance'].hist(bins=30,color='blue')\n"
   ]
  },
  {
   "cell_type": "code",
   "execution_count": 50,
   "id": "f69c8ddf",
   "metadata": {},
   "outputs": [
    {
     "data": {
      "text/plain": [
       "<AxesSubplot:title={'center':'Расстояние пользователей с подпиской и без'}, xlabel='Расстояние(в метрах)', ylabel='Пользователи'>"
      ]
     },
     "execution_count": 50,
     "metadata": {},
     "output_type": "execute_result"
    },
    {
     "data": {
      "image/png": "[encoded data removed]",
      "text/plain": [
       "<Figure size 432x288 with 1 Axes>"
      ]
     },
     "metadata": {
      "needs_background": "light"
     },
     "output_type": "display_data"
    }
   ],
   "source": [
    "data_free['distance'].plot(color='orange',xlabel='Расстояние',ylabel='Пользователи',title='Расстояние пользователей с подпиской и без')\n",
    "data_ultra['distance'].plot(color='blue',xlabel='Расстояние(в метрах)',ylabel='Пользователи')"
   ]
  },
  {
   "cell_type": "markdown",
   "id": "5407ddbd",
   "metadata": {},
   "source": [
    "Можем видеть что пользователи без подписки совершают более длинныеы поездки (+1000м)"
   ]
  },
  {
   "cell_type": "markdown",
   "id": "fd6ff467",
   "metadata": {},
   "source": [
    "Теперь рассмотрим столбец duration, время сессии."
   ]
  },
  {
   "cell_type": "code",
   "execution_count": 51,
   "id": "f76a4422",
   "metadata": {},
   "outputs": [
    {
     "data": {
      "text/plain": [
       "count    11568.000000\n",
       "mean        17.390909\n",
       "std          6.326803\n",
       "min          0.500000\n",
       "25%         12.958437\n",
       "50%         17.326890\n",
       "75%         21.594071\n",
       "max         34.948498\n",
       "Name: duration, dtype: float64"
      ]
     },
     "execution_count": 51,
     "metadata": {},
     "output_type": "execute_result"
    }
   ],
   "source": [
    "data_free['duration'].describe()\n"
   ]
  },
  {
   "cell_type": "code",
   "execution_count": 52,
   "id": "13da89dc",
   "metadata": {},
   "outputs": [
    {
     "data": {
      "text/plain": [
       "count    6500.000000\n",
       "mean       18.541985\n",
       "std         5.572048\n",
       "min         3.760353\n",
       "25%        14.524654\n",
       "50%        18.178153\n",
       "75%        21.884129\n",
       "max        40.823963\n",
       "Name: duration, dtype: float64"
      ]
     },
     "execution_count": 52,
     "metadata": {},
     "output_type": "execute_result"
    }
   ],
   "source": [
    "data_ultra['duration'].describe()"
   ]
  },
  {
   "cell_type": "markdown",
   "id": "f0c7fcd8",
   "metadata": {},
   "source": [
    "среднее и медиана одинаково для пользователей с подпиской и без, рассмотрим на гистограмме:"
   ]
  },
  {
   "cell_type": "code",
   "execution_count": 53,
   "id": "579b30e7",
   "metadata": {},
   "outputs": [
    {
     "data": {
      "text/plain": [
       "<AxesSubplot:>"
      ]
     },
     "execution_count": 53,
     "metadata": {},
     "output_type": "execute_result"
    },
    {
     "data": {
      "image/png": "[encoded data removed]",
      "text/plain": [
       "<Figure size 432x288 with 1 Axes>"
      ]
     },
     "metadata": {
      "needs_background": "light"
     },
     "output_type": "display_data"
    }
   ],
   "source": [
    "data_free['duration'].hist(bins=30,color='orange',)\n",
    "data_ultra['duration'].hist(bins=30,color='blue')"
   ]
  },
  {
   "cell_type": "code",
   "execution_count": 54,
   "id": "dde81edd",
   "metadata": {},
   "outputs": [
    {
     "data": {
      "text/plain": [
       "<AxesSubplot:title={'center':'Время сессии пользователей с подпиской и без'}, xlabel='Время в минутах', ylabel='Кол-во пользователей'>"
      ]
     },
     "execution_count": 54,
     "metadata": {},
     "output_type": "execute_result"
    },
    {
     "data": {
      "image/png": "[encoded data removed]",
      "text/plain": [
       "<Figure size 432x288 with 1 Axes>"
      ]
     },
     "metadata": {
      "needs_background": "light"
     },
     "output_type": "display_data"
    }
   ],
   "source": [
    "data_free['duration'].plot(color='orange',xlabel='Время в минутах',ylabel='Кол-во пользователей',title='Время сессии пользователей с подпиской и без')\n",
    "data_ultra['duration'].plot(color='blue',xlabel='Время в минутах',ylabel='Кол-во пользователей')"
   ]
  },
  {
   "cell_type": "markdown",
   "id": "2974363a",
   "metadata": {},
   "source": [
    "Люди без подписки тратят больше времени на сессию, это безусловно связано с большим рассстоянием , пройденным пользователями без подписки ultra."
   ]
  },
  {
   "cell_type": "markdown",
   "id": "9c0c9890",
   "metadata": {},
   "source": [
    "Вывод :Пользователи без подписки проезжают большее расстояние , чем пользователи с подпиской ( тоесть ездят на самокате на более длинные расстояние, соответственно и время сессии пользователей без подписки выше,чем у пользователей с подпиской."
   ]
  },
  {
   "cell_type": "markdown",
   "id": "af47ab2f",
   "metadata": {},
   "source": [
    "#### Шаг 5. Подсчёт выручки"
   ]
  },
  {
   "cell_type": "markdown",
   "id": "3ba6f737",
   "metadata": {},
   "source": [
    "Подсчетаем выручку. датасет с агрегированными данными это data. Найдём суммарное расстояние, количество поездок и суммарное время для каждого пользователя за каждый месяц. "
   ]
  },
  {
   "cell_type": "markdown",
   "id": "83dfa1bd",
   "metadata": {},
   "source": [
    "Помесячная выручка считается по формуле: стоимость старта поездки \n",
    "×\n",
    "×  количество поездок \n",
    "+\n",
    "+ стоимость одной минуты поездки \n",
    "×\n",
    "× общая продолжительность всех поездок в минутах \n",
    "+\n",
    "+ стоимость подписки.\n"
   ]
  },
  {
   "cell_type": "markdown",
   "id": "a3ddf485",
   "metadata": {},
   "source": [
    "Построим сводную таблицу с интересующими нас позициями:"
   ]
  },
  {
   "cell_type": "code",
   "execution_count": 55,
   "id": "7cb17f4d",
   "metadata": {},
   "outputs": [],
   "source": [
    "# каждое значение из столбца duration округляется с помощью «потолка», согалсно задания:\n",
    "data['duration'] = np.ceil(data['duration'])"
   ]
  },
  {
   "cell_type": "code",
   "execution_count": 56,
   "id": "efc42df7",
   "metadata": {},
   "outputs": [],
   "source": [
    "end_data = data.pivot_table(index = ['user_id','month'],values = ['duration','distance','name','subscription_type','minute_price','start_ride_price','subscription_fee'],aggfunc ={'distance':'sum','name':'count','subscription_type':'max','duration':'sum','minute_price':'min','start_ride_price':'min','subscription_fee':'min'})                         "
   ]
  },
  {
   "cell_type": "code",
   "execution_count": 57,
   "id": "c8f09dae",
   "metadata": {},
   "outputs": [],
   "source": [
    "# Переименуем столбец name  в count_rides , будет показывать количество поездок в месяц.\n",
    "end_data.rename(columns = {'name' : 'count_rides'}, inplace = True)"
   ]
  },
  {
   "cell_type": "markdown",
   "id": "85699b58",
   "metadata": {},
   "source": [
    "UPD: Добавили в сводную таблицу данные из subscruption."
   ]
  },
  {
   "cell_type": "code",
   "execution_count": 58,
   "id": "73ea73b8",
   "metadata": {},
   "outputs": [
    {
     "data": {
      "text/html": [
       "<div>\n",
       "<style scoped>\n",
       "    .dataframe tbody tr th:only-of-type {\n",
       "        vertical-align: middle;\n",
       "    }\n",
       "\n",
       "    .dataframe tbody tr th {\n",
       "        vertical-align: top;\n",
       "    }\n",
       "\n",
       "    .dataframe thead th {\n",
       "        text-align: right;\n",
       "    }\n",
       "</style>\n",
       "<table border=\"1\" class=\"dataframe\">\n",
       "  <thead>\n",
       "    <tr style=\"text-align: right;\">\n",
       "      <th></th>\n",
       "      <th></th>\n",
       "      <th>distance</th>\n",
       "      <th>duration</th>\n",
       "      <th>minute_price</th>\n",
       "      <th>count_rides</th>\n",
       "      <th>start_ride_price</th>\n",
       "      <th>subscription_fee</th>\n",
       "      <th>subscription_type</th>\n",
       "    </tr>\n",
       "    <tr>\n",
       "      <th>user_id</th>\n",
       "      <th>month</th>\n",
       "      <th></th>\n",
       "      <th></th>\n",
       "      <th></th>\n",
       "      <th></th>\n",
       "      <th></th>\n",
       "      <th></th>\n",
       "      <th></th>\n",
       "    </tr>\n",
       "  </thead>\n",
       "  <tbody>\n",
       "    <tr>\n",
       "      <th rowspan=\"6\" valign=\"top\">1</th>\n",
       "      <th>1</th>\n",
       "      <td>7027.511294</td>\n",
       "      <td>42.0</td>\n",
       "      <td>6</td>\n",
       "      <td>2</td>\n",
       "      <td>0</td>\n",
       "      <td>199</td>\n",
       "      <td>ultra</td>\n",
       "    </tr>\n",
       "    <tr>\n",
       "      <th>4</th>\n",
       "      <td>754.159807</td>\n",
       "      <td>7.0</td>\n",
       "      <td>6</td>\n",
       "      <td>1</td>\n",
       "      <td>0</td>\n",
       "      <td>199</td>\n",
       "      <td>ultra</td>\n",
       "    </tr>\n",
       "    <tr>\n",
       "      <th>8</th>\n",
       "      <td>6723.470560</td>\n",
       "      <td>46.0</td>\n",
       "      <td>6</td>\n",
       "      <td>2</td>\n",
       "      <td>0</td>\n",
       "      <td>199</td>\n",
       "      <td>ultra</td>\n",
       "    </tr>\n",
       "    <tr>\n",
       "      <th>10</th>\n",
       "      <td>5809.911100</td>\n",
       "      <td>32.0</td>\n",
       "      <td>6</td>\n",
       "      <td>2</td>\n",
       "      <td>0</td>\n",
       "      <td>199</td>\n",
       "      <td>ultra</td>\n",
       "    </tr>\n",
       "    <tr>\n",
       "      <th>11</th>\n",
       "      <td>7003.499363</td>\n",
       "      <td>56.0</td>\n",
       "      <td>6</td>\n",
       "      <td>3</td>\n",
       "      <td>0</td>\n",
       "      <td>199</td>\n",
       "      <td>ultra</td>\n",
       "    </tr>\n",
       "    <tr>\n",
       "      <th>12</th>\n",
       "      <td>6751.629942</td>\n",
       "      <td>28.0</td>\n",
       "      <td>6</td>\n",
       "      <td>2</td>\n",
       "      <td>0</td>\n",
       "      <td>199</td>\n",
       "      <td>ultra</td>\n",
       "    </tr>\n",
       "    <tr>\n",
       "      <th rowspan=\"4\" valign=\"top\">2</th>\n",
       "      <th>3</th>\n",
       "      <td>10187.723006</td>\n",
       "      <td>63.0</td>\n",
       "      <td>6</td>\n",
       "      <td>3</td>\n",
       "      <td>0</td>\n",
       "      <td>199</td>\n",
       "      <td>ultra</td>\n",
       "    </tr>\n",
       "    <tr>\n",
       "      <th>4</th>\n",
       "      <td>6164.381824</td>\n",
       "      <td>40.0</td>\n",
       "      <td>6</td>\n",
       "      <td>2</td>\n",
       "      <td>0</td>\n",
       "      <td>199</td>\n",
       "      <td>ultra</td>\n",
       "    </tr>\n",
       "    <tr>\n",
       "      <th>6</th>\n",
       "      <td>3255.338202</td>\n",
       "      <td>14.0</td>\n",
       "      <td>6</td>\n",
       "      <td>1</td>\n",
       "      <td>0</td>\n",
       "      <td>199</td>\n",
       "      <td>ultra</td>\n",
       "    </tr>\n",
       "    <tr>\n",
       "      <th>7</th>\n",
       "      <td>6780.722964</td>\n",
       "      <td>48.0</td>\n",
       "      <td>6</td>\n",
       "      <td>2</td>\n",
       "      <td>0</td>\n",
       "      <td>199</td>\n",
       "      <td>ultra</td>\n",
       "    </tr>\n",
       "  </tbody>\n",
       "</table>\n",
       "</div>"
      ],
      "text/plain": [
       "                   distance  duration  minute_price  count_rides  \\\n",
       "user_id month                                                      \n",
       "1       1       7027.511294      42.0             6            2   \n",
       "        4        754.159807       7.0             6            1   \n",
       "        8       6723.470560      46.0             6            2   \n",
       "        10      5809.911100      32.0             6            2   \n",
       "        11      7003.499363      56.0             6            3   \n",
       "        12      6751.629942      28.0             6            2   \n",
       "2       3      10187.723006      63.0             6            3   \n",
       "        4       6164.381824      40.0             6            2   \n",
       "        6       3255.338202      14.0             6            1   \n",
       "        7       6780.722964      48.0             6            2   \n",
       "\n",
       "               start_ride_price  subscription_fee subscription_type  \n",
       "user_id month                                                        \n",
       "1       1                     0               199             ultra  \n",
       "        4                     0               199             ultra  \n",
       "        8                     0               199             ultra  \n",
       "        10                    0               199             ultra  \n",
       "        11                    0               199             ultra  \n",
       "        12                    0               199             ultra  \n",
       "2       3                     0               199             ultra  \n",
       "        4                     0               199             ultra  \n",
       "        6                     0               199             ultra  \n",
       "        7                     0               199             ultra  "
      ]
     },
     "execution_count": 58,
     "metadata": {},
     "output_type": "execute_result"
    }
   ],
   "source": [
    "end_data.head(10)"
   ]
  },
  {
   "cell_type": "markdown",
   "id": "65705156",
   "metadata": {},
   "source": [
    "Теперь у нас имеются все данные для добавления столбца с помесячной выручкой. Назовём его monthly_revenue"
   ]
  },
  {
   "cell_type": "markdown",
   "id": "004e6e55",
   "metadata": {},
   "source": [
    "(стоимость старта поездки × количество поездок)+ стоимость одной минуты поездки × общая продолжительность всех поездок в минутах) + стоимость подписки"
   ]
  },
  {
   "cell_type": "code",
   "execution_count": 59,
   "id": "74bb8284",
   "metadata": {},
   "outputs": [],
   "source": [
    "end_data['monthly_revenue'] = (end_data['start_ride_price'] * end_data['count_rides']) + end_data['minute_price'] * end_data['duration']+end_data['subscription_fee']"
   ]
  },
  {
   "cell_type": "code",
   "execution_count": 60,
   "id": "daa8acb6",
   "metadata": {},
   "outputs": [
    {
     "data": {
      "text/html": [
       "<div>\n",
       "<style scoped>\n",
       "    .dataframe tbody tr th:only-of-type {\n",
       "        vertical-align: middle;\n",
       "    }\n",
       "\n",
       "    .dataframe tbody tr th {\n",
       "        vertical-align: top;\n",
       "    }\n",
       "\n",
       "    .dataframe thead th {\n",
       "        text-align: right;\n",
       "    }\n",
       "</style>\n",
       "<table border=\"1\" class=\"dataframe\">\n",
       "  <thead>\n",
       "    <tr style=\"text-align: right;\">\n",
       "      <th></th>\n",
       "      <th></th>\n",
       "      <th>distance</th>\n",
       "      <th>duration</th>\n",
       "      <th>minute_price</th>\n",
       "      <th>count_rides</th>\n",
       "      <th>start_ride_price</th>\n",
       "      <th>subscription_fee</th>\n",
       "      <th>subscription_type</th>\n",
       "      <th>monthly_revenue</th>\n",
       "    </tr>\n",
       "    <tr>\n",
       "      <th>user_id</th>\n",
       "      <th>month</th>\n",
       "      <th></th>\n",
       "      <th></th>\n",
       "      <th></th>\n",
       "      <th></th>\n",
       "      <th></th>\n",
       "      <th></th>\n",
       "      <th></th>\n",
       "      <th></th>\n",
       "    </tr>\n",
       "  </thead>\n",
       "  <tbody>\n",
       "    <tr>\n",
       "      <th>541</th>\n",
       "      <th>6</th>\n",
       "      <td>5797.184140</td>\n",
       "      <td>35.0</td>\n",
       "      <td>6</td>\n",
       "      <td>2</td>\n",
       "      <td>0</td>\n",
       "      <td>199</td>\n",
       "      <td>ultra</td>\n",
       "      <td>409.0</td>\n",
       "    </tr>\n",
       "    <tr>\n",
       "      <th>676</th>\n",
       "      <th>3</th>\n",
       "      <td>3528.959013</td>\n",
       "      <td>20.0</td>\n",
       "      <td>6</td>\n",
       "      <td>1</td>\n",
       "      <td>0</td>\n",
       "      <td>199</td>\n",
       "      <td>ultra</td>\n",
       "      <td>319.0</td>\n",
       "    </tr>\n",
       "    <tr>\n",
       "      <th>1450</th>\n",
       "      <th>7</th>\n",
       "      <td>524.234915</td>\n",
       "      <td>10.0</td>\n",
       "      <td>8</td>\n",
       "      <td>1</td>\n",
       "      <td>50</td>\n",
       "      <td>0</td>\n",
       "      <td>free</td>\n",
       "      <td>130.0</td>\n",
       "    </tr>\n",
       "    <tr>\n",
       "      <th>1339</th>\n",
       "      <th>12</th>\n",
       "      <td>3094.554308</td>\n",
       "      <td>31.0</td>\n",
       "      <td>8</td>\n",
       "      <td>2</td>\n",
       "      <td>50</td>\n",
       "      <td>0</td>\n",
       "      <td>free</td>\n",
       "      <td>348.0</td>\n",
       "    </tr>\n",
       "    <tr>\n",
       "      <th>1464</th>\n",
       "      <th>6</th>\n",
       "      <td>2558.179248</td>\n",
       "      <td>10.0</td>\n",
       "      <td>8</td>\n",
       "      <td>1</td>\n",
       "      <td>50</td>\n",
       "      <td>0</td>\n",
       "      <td>free</td>\n",
       "      <td>130.0</td>\n",
       "    </tr>\n",
       "    <tr>\n",
       "      <th>846</th>\n",
       "      <th>6</th>\n",
       "      <td>10495.069558</td>\n",
       "      <td>69.0</td>\n",
       "      <td>8</td>\n",
       "      <td>3</td>\n",
       "      <td>50</td>\n",
       "      <td>0</td>\n",
       "      <td>free</td>\n",
       "      <td>702.0</td>\n",
       "    </tr>\n",
       "    <tr>\n",
       "      <th>952</th>\n",
       "      <th>2</th>\n",
       "      <td>6835.348746</td>\n",
       "      <td>51.0</td>\n",
       "      <td>8</td>\n",
       "      <td>2</td>\n",
       "      <td>50</td>\n",
       "      <td>0</td>\n",
       "      <td>free</td>\n",
       "      <td>508.0</td>\n",
       "    </tr>\n",
       "    <tr>\n",
       "      <th>227</th>\n",
       "      <th>5</th>\n",
       "      <td>3258.874126</td>\n",
       "      <td>16.0</td>\n",
       "      <td>6</td>\n",
       "      <td>1</td>\n",
       "      <td>0</td>\n",
       "      <td>199</td>\n",
       "      <td>ultra</td>\n",
       "      <td>295.0</td>\n",
       "    </tr>\n",
       "    <tr>\n",
       "      <th>825</th>\n",
       "      <th>3</th>\n",
       "      <td>5525.076456</td>\n",
       "      <td>37.0</td>\n",
       "      <td>8</td>\n",
       "      <td>2</td>\n",
       "      <td>50</td>\n",
       "      <td>0</td>\n",
       "      <td>free</td>\n",
       "      <td>396.0</td>\n",
       "    </tr>\n",
       "    <tr>\n",
       "      <th>472</th>\n",
       "      <th>6</th>\n",
       "      <td>5343.219853</td>\n",
       "      <td>30.0</td>\n",
       "      <td>6</td>\n",
       "      <td>2</td>\n",
       "      <td>0</td>\n",
       "      <td>199</td>\n",
       "      <td>ultra</td>\n",
       "      <td>379.0</td>\n",
       "    </tr>\n",
       "    <tr>\n",
       "      <th>255</th>\n",
       "      <th>8</th>\n",
       "      <td>3124.092851</td>\n",
       "      <td>10.0</td>\n",
       "      <td>6</td>\n",
       "      <td>1</td>\n",
       "      <td>0</td>\n",
       "      <td>199</td>\n",
       "      <td>ultra</td>\n",
       "      <td>259.0</td>\n",
       "    </tr>\n",
       "    <tr>\n",
       "      <th>718</th>\n",
       "      <th>11</th>\n",
       "      <td>2205.643644</td>\n",
       "      <td>21.0</td>\n",
       "      <td>8</td>\n",
       "      <td>1</td>\n",
       "      <td>50</td>\n",
       "      <td>0</td>\n",
       "      <td>free</td>\n",
       "      <td>218.0</td>\n",
       "    </tr>\n",
       "    <tr>\n",
       "      <th>171</th>\n",
       "      <th>12</th>\n",
       "      <td>2484.308812</td>\n",
       "      <td>17.0</td>\n",
       "      <td>6</td>\n",
       "      <td>1</td>\n",
       "      <td>0</td>\n",
       "      <td>199</td>\n",
       "      <td>ultra</td>\n",
       "      <td>301.0</td>\n",
       "    </tr>\n",
       "    <tr>\n",
       "      <th>972</th>\n",
       "      <th>12</th>\n",
       "      <td>7675.627176</td>\n",
       "      <td>44.0</td>\n",
       "      <td>8</td>\n",
       "      <td>2</td>\n",
       "      <td>50</td>\n",
       "      <td>0</td>\n",
       "      <td>free</td>\n",
       "      <td>452.0</td>\n",
       "    </tr>\n",
       "    <tr>\n",
       "      <th>1376</th>\n",
       "      <th>11</th>\n",
       "      <td>2773.698661</td>\n",
       "      <td>20.0</td>\n",
       "      <td>8</td>\n",
       "      <td>1</td>\n",
       "      <td>50</td>\n",
       "      <td>0</td>\n",
       "      <td>free</td>\n",
       "      <td>210.0</td>\n",
       "    </tr>\n",
       "  </tbody>\n",
       "</table>\n",
       "</div>"
      ],
      "text/plain": [
       "                   distance  duration  minute_price  count_rides  \\\n",
       "user_id month                                                      \n",
       "541     6       5797.184140      35.0             6            2   \n",
       "676     3       3528.959013      20.0             6            1   \n",
       "1450    7        524.234915      10.0             8            1   \n",
       "1339    12      3094.554308      31.0             8            2   \n",
       "1464    6       2558.179248      10.0             8            1   \n",
       "846     6      10495.069558      69.0             8            3   \n",
       "952     2       6835.348746      51.0             8            2   \n",
       "227     5       3258.874126      16.0             6            1   \n",
       "825     3       5525.076456      37.0             8            2   \n",
       "472     6       5343.219853      30.0             6            2   \n",
       "255     8       3124.092851      10.0             6            1   \n",
       "718     11      2205.643644      21.0             8            1   \n",
       "171     12      2484.308812      17.0             6            1   \n",
       "972     12      7675.627176      44.0             8            2   \n",
       "1376    11      2773.698661      20.0             8            1   \n",
       "\n",
       "               start_ride_price  subscription_fee subscription_type  \\\n",
       "user_id month                                                         \n",
       "541     6                     0               199             ultra   \n",
       "676     3                     0               199             ultra   \n",
       "1450    7                    50                 0              free   \n",
       "1339    12                   50                 0              free   \n",
       "1464    6                    50                 0              free   \n",
       "846     6                    50                 0              free   \n",
       "952     2                    50                 0              free   \n",
       "227     5                     0               199             ultra   \n",
       "825     3                    50                 0              free   \n",
       "472     6                     0               199             ultra   \n",
       "255     8                     0               199             ultra   \n",
       "718     11                   50                 0              free   \n",
       "171     12                    0               199             ultra   \n",
       "972     12                   50                 0              free   \n",
       "1376    11                   50                 0              free   \n",
       "\n",
       "               monthly_revenue  \n",
       "user_id month                   \n",
       "541     6                409.0  \n",
       "676     3                319.0  \n",
       "1450    7                130.0  \n",
       "1339    12               348.0  \n",
       "1464    6                130.0  \n",
       "846     6                702.0  \n",
       "952     2                508.0  \n",
       "227     5                295.0  \n",
       "825     3                396.0  \n",
       "472     6                379.0  \n",
       "255     8                259.0  \n",
       "718     11               218.0  \n",
       "171     12               301.0  \n",
       "972     12               452.0  \n",
       "1376    11               210.0  "
      ]
     },
     "execution_count": 60,
     "metadata": {},
     "output_type": "execute_result"
    }
   ],
   "source": [
    "#Проверяем:\n",
    "end_data.sample(15) #Выводим рандомные строки из таблтцы"
   ]
  },
  {
   "cell_type": "markdown",
   "id": "e3ab7b06",
   "metadata": {},
   "source": [
    "Вывод : Создали сводную таблицу по параметрам необходимых для подчёта помесяной выручки (monthly_revenue) , далее по формуле произвели расчёт. Получили помесячную выручку на каждого пользователя, что и требовалось в задании."
   ]
  },
  {
   "cell_type": "markdown",
   "id": "5aa611c0",
   "metadata": {},
   "source": [
    "#### Шаг 6. Проверка гипотез"
   ]
  },
  {
   "cell_type": "markdown",
   "id": "d759d3ee",
   "metadata": {},
   "source": [
    "Проверьте гипотезу. Используя исходные данные о продолжительности каждой сессии — отдельно для подписчиков и тех, у кого нет подписки:тратят ли пользователи с подпиской больше времени на поездки?\n",
    "Исходные данные берём из датафрейма users:\n",
    "Нулевая гипотеза будет : пользователи с подпиской тратят столько же времени как пользователи без подписки\n",
    "Первая гипотеза будет : пользователи с подпиской тратят больше времени чем пользователи без подписки.\n"
   ]
  },
  {
   "cell_type": "code",
   "execution_count": 61,
   "id": "067a4f19",
   "metadata": {},
   "outputs": [],
   "source": [
    "import scipy.stats as st #Ипортируем библиотеку для проверки гипотез."
   ]
  },
  {
   "cell_type": "code",
   "execution_count": 62,
   "id": "1ec9e819",
   "metadata": {},
   "outputs": [
    {
     "name": "stdout",
     "output_type": "stream",
     "text": [
      "Среднее значение продолжтельности поездки с подспиской: 18.54198516280583\n",
      "Среднее значение продолжтельности поездки без подписки: 17.39090929866399\n",
      "pvalue = 1.2804098316645618e-34\n",
      "Отвергаем нулевую гипотезу\n"
     ]
    }
   ],
   "source": [
    "ultra=data_ultra['duration'] #Время с подпиской)\n",
    "free=data_free['duration'] #Время без подписки \n",
    "alpha = 0.05 # Задаём уровень значимости , по стандрарту\n",
    "results = st.ttest_ind(ultra, free, alternative ='greater') #Проводим Ттест для двух выборок , гипотезу БОЛЬШЕ используем как альтернативную \n",
    "print('Среднее значение продолжтельности поездки с подспиской:',ultra.mean())\n",
    "print('Среднее значение продолжтельности поездки без подписки:',free.mean())\n",
    "print('pvalue =',results.pvalue) #Проверяем Pvalue\n",
    "if results.pvalue < alpha:\n",
    "    print('Отвергаем нулевую гипотезу')\n",
    "else:\n",
    "    print('Нет оснований отвергнуть нулевую гипотезу')"
   ]
  },
  {
   "cell_type": "markdown",
   "id": "06e4580c",
   "metadata": {},
   "source": [
    "Можно отвергнуть нулевую гипотезу, есть основания говорить, что пользователи с подпиской тратят в сервисе больше времени."
   ]
  },
  {
   "cell_type": "markdown",
   "id": "a78ef3fb",
   "metadata": {},
   "source": [
    "Следующая гипотеза: Можно ли сказать, что среднее расстояние, которое проезжают пользователи с подпиской за одну поездку,равно 3130 метров? \n",
    "Нулевая гипотеза: Расстояние distance пользователей с подпиской ultra = 3130\n",
    "Первая гипотеза: Расстояние distance пользователей с подпиской ultra > 3130метров"
   ]
  },
  {
   "cell_type": "code",
   "execution_count": 63,
   "id": "3f811feb",
   "metadata": {},
   "outputs": [
    {
     "name": "stdout",
     "output_type": "stream",
     "text": [
      "0.9195368847849785\n",
      "Не удалось отвергнуть нулевую гипотезу\n"
     ]
    }
   ],
   "source": [
    "ultra_distance = data_ultra['distance']\n",
    "interested_value = 3130 \n",
    "alpha =0.05\n",
    "result= st.ttest_1samp (ultra_distance,interested_value,alternative='greater')\n",
    "print(result.pvalue)\n",
    "if result.pvalue < alpha:\n",
    "    print('Отвергаем нулевую гипотезу')\n",
    "else:\n",
    "    print('Не удалось отвергнуть нулевую гипотезу')"
   ]
  },
  {
   "cell_type": "markdown",
   "id": "68c47f94",
   "metadata": {},
   "source": [
    "Проверив данную гипотезу , мы не можем утверждать что  расстояние distance пользователей с подпиской превышает 3130 м.\n"
   ]
  },
  {
   "cell_type": "markdown",
   "id": "3085b43c",
   "metadata": {},
   "source": [
    "Следующая гипотеза:Проверьте гипотезу о том, будет ли помесячная выручка от пользователей с подпиской по месяцам выше, чем выручка от пользователей без подписки. Сделайте вывод."
   ]
  },
  {
   "cell_type": "markdown",
   "id": "c8a2852d",
   "metadata": {},
   "source": [
    "Обратимся  к нашему итоговому датасету end_data , столбцу monthly_revenue\n",
    "нулевая гипотеза : помесячная выручка с пользователей с подпиской = помесячной выручке с пользователей без подписки\n",
    "1ая гипотеза: помесячная выручка с пользователей с подпиской выше (>) помесячной выручки с пользователей без подписки"
   ]
  },
  {
   "cell_type": "code",
   "execution_count": 64,
   "id": "66875ceb",
   "metadata": {},
   "outputs": [
    {
     "name": "stdout",
     "output_type": "stream",
     "text": [
      "Среднее выручки для пользователей с подпиской: 362.7921906022502\n",
      "Среднее выручки для пользователей с подпиской: 328.6413651073845\n",
      "1.8850394384715216e-31\n",
      "Отвергаем нулевую гипотезу\n"
     ]
    }
   ],
   "source": [
    "ultra_monthly_revenue = end_data.loc[end_data.subscription_type == 'ultra', 'monthly_revenue'] \n",
    "free_monthly_revenue = end_data.loc[end_data.subscription_type == 'free','monthly_revenue']\n",
    "result=st.ttest_ind(ultra_monthly_revenue,free_monthly_revenue,alternative = 'greater')\n",
    "alpha=0.05\n",
    "print('Среднее выручки для пользователей с подпиской:',ultra_monthly_revenue.mean())\n",
    "print('Среднее выручки для пользователей с подпиской:',free_monthly_revenue.mean())\n",
    "print(result.pvalue) # Выедем pvalue\n",
    "if results.pvalue < alpha:\n",
    "    print('Отвергаем нулевую гипотезу')\n",
    "else:\n",
    "    print('Не удалось отвергнуть нулевую гипотезу')"
   ]
  },
  {
   "cell_type": "markdown",
   "id": "5a581c84",
   "metadata": {},
   "source": [
    "Отвергаем нулевую гипотезу, следовательно есть основания предпоагать что пользователи с подпиской приносят больше выручки , чем пользователи без подписки."
   ]
  },
  {
   "cell_type": "markdown",
   "id": "28e7d2d2",
   "metadata": {},
   "source": [
    "6.4 Представьте такую ситуацию: техническая команда сервиса обновила сервера, с которыми взаимодействует мобильное приложение. Она надеется, что из-за этого количество обращений в техподдержку значимо снизилось. Некоторый файл содержит для каждого пользователя данные о количестве обращений до обновления и после него. Какой тест вам понадобился бы для проверки этой гипотезы?"
   ]
  },
  {
   "cell_type": "markdown",
   "id": "aa4c3628",
   "metadata": {},
   "source": [
    "Гипотеза о равенстве средних для зависимых (парных) выборок\n",
    "нулевая гипотеза:u1=u2\n",
    "альтернативная гипотеза:u1>u2 ( имею ввиду , что количество обращений после станет меньше , чем было до )\n",
    "метод  st.ttest_rel"
   ]
  },
  {
   "cell_type": "markdown",
   "id": "3ab68a3d",
   "metadata": {},
   "source": [
    "Вывод : Мы отвергли две нулевых гипотезы , одну гипотезу отвергнуть не удалось."
   ]
  },
  {
   "cell_type": "markdown",
   "id": "cf546b8e",
   "metadata": {},
   "source": [
    "Общий вывод: \n",
    "    В ходе выполнения работ мы выполнили работу по предобработке данных:\n",
    "    начнали со столбца date в датасете rides, привели его к типу даты pandas\n",
    "    извлекли из даты месяц( для дальнейшего получения помесячной выручки)\n",
    "    проверили датасеты на присутствие пропусков (пропуска отсутствуют)\n",
    "    Описали и визуализировали с помощью гистограмм общую информацию о пользователях и поездках:: 8 городов присутствия, большинство пользователей без подписки,средний возвраст 22-27 лет, среднее расстояние пройденно на самокате 3000м,среднее время поездки 17 минут.\n",
    "    Далее мы объеденили датасеты , построили сводную таблицу с необходимыми нам данным для расчёта помесячной прибыли. Получили помесячную выручку на каждого пользователя, что и требовалось в задании.\n",
    "    После этого работали с гипотезами.\n",
    "    "
   ]
  },
  {
   "cell_type": "markdown",
   "id": "2b453ee2",
   "metadata": {},
   "source": [
    "Общий вывод:\n",
    "Выполнили предобработку данных.\n",
    "Проверили на наличие пропусков\n",
    "Обработали дубликаты \n",
    "Произвели исследовательский анализ данных.\n",
    "Визуализировали данные : количество городов присутствия : 8 , самая высокая активность пользователей в городе Пятигорск.\n",
    "Выяснили что 54 % пользователей без используют приложение без платной подписки , 46 % используют подписку.\n",
    "Средний возвраст пользователей составляет 25 лет\n",
    "В среднем пользователи проезжают 3000м (3км)\n",
    "Среднее время сессии 18 минут \n",
    "Затем выполнили объеденение данных.\n",
    "Визуализировали пройденное расстояние и время сессий пользователей с подпиской и без.\n",
    "Пользователи без подписки проезжают большее расстояние , чем пользователи с подпиской ( тоесть ездят на самокате на более длинные расстояние, соответственно и время сессии пользователей без подписки выше,чем у пользователей с подпиской\n",
    "С помощью сводной таблицы посчитали помесячную выручку на каждого пользователя.\n",
    "\n",
    "  Мы разобрали 3 гипотезы : \n",
    "Можно предполагать что пользователи с подпиской тратят в приложении больше времени.\n",
    "Мы не можем утверждать , что расстояние пройденное пользователями с подпиской больше чем расстояние пройденное пользователями без подписки\n",
    "Есть основания предпоагать что пользователи с подпиской приносят больше выручки , чем пользователи без подписки.\n",
    "                                                                                       \n",
    "                                                                                       \n"
   ]
  },
  {
   "cell_type": "markdown",
   "id": "ce7d59be",
   "metadata": {},
   "source": []
  }
 ],
 "metadata": {
  "ExecuteTimeLog": [
   {
    "duration": 7,
    "start_time": "2023-10-17T12:11:56.912Z"
   },
   {
    "duration": 418,
    "start_time": "2023-10-17T12:12:53.778Z"
   },
   {
    "duration": 198,
    "start_time": "2023-10-17T12:12:54.198Z"
   },
   {
    "duration": 15,
    "start_time": "2023-10-17T12:12:54.398Z"
   },
   {
    "duration": 8,
    "start_time": "2023-10-17T12:13:13.580Z"
   },
   {
    "duration": 8,
    "start_time": "2023-10-17T12:14:12.717Z"
   },
   {
    "duration": 10,
    "start_time": "2023-10-17T12:14:40.073Z"
   },
   {
    "duration": 8,
    "start_time": "2023-10-17T12:15:47.312Z"
   },
   {
    "duration": 7,
    "start_time": "2023-10-17T12:15:56.581Z"
   },
   {
    "duration": 73,
    "start_time": "2023-10-17T16:29:18.395Z"
   },
   {
    "duration": 446,
    "start_time": "2023-10-17T16:29:28.353Z"
   },
   {
    "duration": 224,
    "start_time": "2023-10-17T16:29:28.802Z"
   },
   {
    "duration": 14,
    "start_time": "2023-10-17T16:29:29.028Z"
   },
   {
    "duration": 26,
    "start_time": "2023-10-17T16:29:29.044Z"
   },
   {
    "duration": 12,
    "start_time": "2023-10-17T16:29:29.072Z"
   },
   {
    "duration": 11,
    "start_time": "2023-10-17T16:29:56.065Z"
   },
   {
    "duration": 12,
    "start_time": "2023-10-17T16:33:51.767Z"
   },
   {
    "duration": 8,
    "start_time": "2023-10-17T16:34:06.317Z"
   },
   {
    "duration": 20,
    "start_time": "2023-10-17T16:34:27.651Z"
   },
   {
    "duration": 9,
    "start_time": "2023-10-17T16:34:38.072Z"
   },
   {
    "duration": 2041,
    "start_time": "2023-10-17T16:40:50.085Z"
   },
   {
    "duration": 1717,
    "start_time": "2023-10-17T16:41:33.724Z"
   },
   {
    "duration": 11,
    "start_time": "2023-10-17T16:41:56.783Z"
   },
   {
    "duration": 62,
    "start_time": "2023-10-17T16:42:00.788Z"
   },
   {
    "duration": 525,
    "start_time": "2023-10-17T16:42:08.438Z"
   },
   {
    "duration": 90,
    "start_time": "2023-10-17T16:42:08.974Z"
   },
   {
    "duration": 26,
    "start_time": "2023-10-17T16:42:09.070Z"
   },
   {
    "duration": 12,
    "start_time": "2023-10-17T16:42:09.099Z"
   },
   {
    "duration": 12,
    "start_time": "2023-10-17T16:42:09.114Z"
   },
   {
    "duration": 15,
    "start_time": "2023-10-17T16:42:09.128Z"
   },
   {
    "duration": 24,
    "start_time": "2023-10-17T16:43:26.575Z"
   },
   {
    "duration": 81,
    "start_time": "2023-10-17T16:44:28.133Z"
   },
   {
    "duration": 21,
    "start_time": "2023-10-17T16:44:46.687Z"
   },
   {
    "duration": 25,
    "start_time": "2023-10-17T16:45:00.643Z"
   },
   {
    "duration": 8,
    "start_time": "2023-10-17T16:45:12.289Z"
   },
   {
    "duration": 12,
    "start_time": "2023-10-17T16:59:41.501Z"
   },
   {
    "duration": 17,
    "start_time": "2023-10-17T16:59:56.378Z"
   },
   {
    "duration": 14,
    "start_time": "2023-10-17T17:00:03.311Z"
   },
   {
    "duration": 7,
    "start_time": "2023-10-17T17:02:03.335Z"
   },
   {
    "duration": 7,
    "start_time": "2023-10-17T17:03:44.408Z"
   },
   {
    "duration": 7,
    "start_time": "2023-10-17T17:07:30.109Z"
   },
   {
    "duration": 132,
    "start_time": "2023-10-17T17:19:59.276Z"
   },
   {
    "duration": 102,
    "start_time": "2023-10-17T17:20:05.462Z"
   },
   {
    "duration": 6,
    "start_time": "2023-10-17T17:20:15.315Z"
   },
   {
    "duration": 7,
    "start_time": "2023-10-17T17:21:56.418Z"
   },
   {
    "duration": 666,
    "start_time": "2023-10-17T17:24:33.834Z"
   },
   {
    "duration": 242,
    "start_time": "2023-10-17T17:24:50.874Z"
   },
   {
    "duration": 158,
    "start_time": "2023-10-17T17:24:57.805Z"
   },
   {
    "duration": 141,
    "start_time": "2023-10-17T17:25:03.959Z"
   },
   {
    "duration": 237,
    "start_time": "2023-10-17T17:25:09.544Z"
   },
   {
    "duration": 154,
    "start_time": "2023-10-17T17:25:14.941Z"
   },
   {
    "duration": 349,
    "start_time": "2023-10-17T17:25:21.027Z"
   },
   {
    "duration": 166,
    "start_time": "2023-10-17T17:25:31.093Z"
   },
   {
    "duration": 253,
    "start_time": "2023-10-17T17:27:23.333Z"
   },
   {
    "duration": 270,
    "start_time": "2023-10-17T17:27:44.448Z"
   },
   {
    "duration": 175,
    "start_time": "2023-10-17T17:27:57.194Z"
   },
   {
    "duration": 160,
    "start_time": "2023-10-17T17:28:04.762Z"
   },
   {
    "duration": 184,
    "start_time": "2023-10-17T17:28:09.005Z"
   },
   {
    "duration": 183,
    "start_time": "2023-10-17T17:28:38.779Z"
   },
   {
    "duration": 168,
    "start_time": "2023-10-17T17:28:43.558Z"
   },
   {
    "duration": 176,
    "start_time": "2023-10-17T17:28:47.902Z"
   },
   {
    "duration": 148,
    "start_time": "2023-10-17T17:28:54.882Z"
   },
   {
    "duration": 152,
    "start_time": "2023-10-17T17:29:00.596Z"
   },
   {
    "duration": 174,
    "start_time": "2023-10-17T17:29:07.925Z"
   },
   {
    "duration": 162,
    "start_time": "2023-10-17T17:29:43.779Z"
   },
   {
    "duration": 195,
    "start_time": "2023-10-17T17:30:00.297Z"
   },
   {
    "duration": 249,
    "start_time": "2023-10-17T17:30:07.231Z"
   },
   {
    "duration": 142,
    "start_time": "2023-10-17T17:30:19.392Z"
   },
   {
    "duration": 198,
    "start_time": "2023-10-17T17:30:25.298Z"
   },
   {
    "duration": 1427,
    "start_time": "2023-10-17T17:33:16.468Z"
   },
   {
    "duration": 10,
    "start_time": "2023-10-17T17:33:27.122Z"
   },
   {
    "duration": 23,
    "start_time": "2023-10-17T17:33:36.944Z"
   },
   {
    "duration": 136,
    "start_time": "2023-10-17T17:36:06.129Z"
   },
   {
    "duration": 81,
    "start_time": "2023-10-17T17:36:27.415Z"
   },
   {
    "duration": 79,
    "start_time": "2023-10-17T17:36:35.535Z"
   },
   {
    "duration": 106,
    "start_time": "2023-10-17T17:36:38.695Z"
   },
   {
    "duration": 126,
    "start_time": "2023-10-17T17:36:52.155Z"
   },
   {
    "duration": 1734,
    "start_time": "2023-10-17T17:39:55.421Z"
   },
   {
    "duration": 151,
    "start_time": "2023-10-17T17:40:15.189Z"
   },
   {
    "duration": 141,
    "start_time": "2023-10-17T17:41:40.371Z"
   },
   {
    "duration": 174,
    "start_time": "2023-10-17T17:44:54.586Z"
   },
   {
    "duration": 1630,
    "start_time": "2023-10-17T18:06:59.493Z"
   },
   {
    "duration": 139,
    "start_time": "2023-10-17T18:07:40.490Z"
   },
   {
    "duration": 4,
    "start_time": "2023-10-17T18:08:37.836Z"
   },
   {
    "duration": 8,
    "start_time": "2023-10-17T18:09:10.047Z"
   },
   {
    "duration": 5,
    "start_time": "2023-10-17T18:09:38.115Z"
   },
   {
    "duration": 5,
    "start_time": "2023-10-17T18:10:30.077Z"
   },
   {
    "duration": 2,
    "start_time": "2023-10-17T18:12:04.510Z"
   },
   {
    "duration": 4,
    "start_time": "2023-10-17T18:12:16.883Z"
   },
   {
    "duration": 140,
    "start_time": "2023-10-17T18:14:57.561Z"
   },
   {
    "duration": 135,
    "start_time": "2023-10-17T18:15:14.633Z"
   },
   {
    "duration": 5,
    "start_time": "2023-10-17T18:16:47.944Z"
   },
   {
    "duration": 37,
    "start_time": "2023-10-17T19:07:21.007Z"
   },
   {
    "duration": 9,
    "start_time": "2023-10-17T19:14:52.607Z"
   },
   {
    "duration": 18,
    "start_time": "2023-10-17T19:15:15.798Z"
   },
   {
    "duration": 13,
    "start_time": "2023-10-17T19:15:22.983Z"
   },
   {
    "duration": 14,
    "start_time": "2023-10-17T19:15:36.039Z"
   },
   {
    "duration": 11,
    "start_time": "2023-10-17T19:19:34.608Z"
   },
   {
    "duration": 14,
    "start_time": "2023-10-17T19:23:56.408Z"
   },
   {
    "duration": 14,
    "start_time": "2023-10-17T19:25:48.032Z"
   },
   {
    "duration": 13,
    "start_time": "2023-10-17T19:25:57.344Z"
   },
   {
    "duration": 11,
    "start_time": "2023-10-17T19:27:49.700Z"
   },
   {
    "duration": 18,
    "start_time": "2023-10-17T19:28:04.798Z"
   },
   {
    "duration": 83,
    "start_time": "2023-10-17T19:29:19.525Z"
   },
   {
    "duration": 119,
    "start_time": "2023-10-17T19:29:47.497Z"
   },
   {
    "duration": 81,
    "start_time": "2023-10-17T19:29:52.095Z"
   },
   {
    "duration": 85,
    "start_time": "2023-10-17T19:30:10.983Z"
   },
   {
    "duration": 453,
    "start_time": "2023-10-17T19:30:20.227Z"
   },
   {
    "duration": 70,
    "start_time": "2023-10-17T19:30:20.682Z"
   },
   {
    "duration": 16,
    "start_time": "2023-10-17T19:30:20.753Z"
   },
   {
    "duration": 14,
    "start_time": "2023-10-17T19:30:20.771Z"
   },
   {
    "duration": 31,
    "start_time": "2023-10-17T19:30:20.787Z"
   },
   {
    "duration": 24,
    "start_time": "2023-10-17T19:30:20.820Z"
   },
   {
    "duration": 11,
    "start_time": "2023-10-17T19:30:20.846Z"
   },
   {
    "duration": 38,
    "start_time": "2023-10-17T19:30:20.859Z"
   },
   {
    "duration": 8,
    "start_time": "2023-10-17T19:30:20.899Z"
   },
   {
    "duration": 15,
    "start_time": "2023-10-17T19:30:20.910Z"
   },
   {
    "duration": 27,
    "start_time": "2023-10-17T19:30:20.927Z"
   },
   {
    "duration": 449,
    "start_time": "2023-10-17T19:30:20.955Z"
   },
   {
    "duration": 131,
    "start_time": "2023-10-17T19:30:21.406Z"
   },
   {
    "duration": 177,
    "start_time": "2023-10-17T19:30:21.539Z"
   },
   {
    "duration": 5,
    "start_time": "2023-10-17T19:30:21.718Z"
   },
   {
    "duration": 160,
    "start_time": "2023-10-17T19:30:21.725Z"
   },
   {
    "duration": 5,
    "start_time": "2023-10-17T19:30:21.887Z"
   },
   {
    "duration": 159,
    "start_time": "2023-10-17T19:30:21.895Z"
   },
   {
    "duration": 5,
    "start_time": "2023-10-17T19:30:22.056Z"
   },
   {
    "duration": 118,
    "start_time": "2023-10-17T19:30:22.063Z"
   },
   {
    "duration": 82,
    "start_time": "2023-10-17T19:30:22.183Z"
   },
   {
    "duration": 71,
    "start_time": "2023-10-17T19:30:22.267Z"
   },
   {
    "duration": 17,
    "start_time": "2023-10-17T19:31:10.228Z"
   },
   {
    "duration": 6,
    "start_time": "2023-10-17T19:33:20.389Z"
   },
   {
    "duration": 8,
    "start_time": "2023-10-17T19:33:25.661Z"
   },
   {
    "duration": 9,
    "start_time": "2023-10-17T19:34:42.529Z"
   },
   {
    "duration": 159,
    "start_time": "2023-10-17T20:01:58.635Z"
   },
   {
    "duration": 152,
    "start_time": "2023-10-17T20:05:25.912Z"
   },
   {
    "duration": 13,
    "start_time": "2023-10-17T20:14:30.020Z"
   },
   {
    "duration": 9,
    "start_time": "2023-10-17T20:14:44.500Z"
   },
   {
    "duration": 167,
    "start_time": "2023-10-17T20:18:12.945Z"
   },
   {
    "duration": 233,
    "start_time": "2023-10-17T20:26:09.779Z"
   },
   {
    "duration": 226,
    "start_time": "2023-10-17T20:29:41.735Z"
   },
   {
    "duration": 107,
    "start_time": "2023-10-17T20:32:08.109Z"
   },
   {
    "duration": 53,
    "start_time": "2023-10-18T06:48:23.038Z"
   },
   {
    "duration": 477,
    "start_time": "2023-10-18T06:49:06.128Z"
   },
   {
    "duration": 194,
    "start_time": "2023-10-18T06:49:06.606Z"
   },
   {
    "duration": 15,
    "start_time": "2023-10-18T06:49:06.801Z"
   },
   {
    "duration": 24,
    "start_time": "2023-10-18T06:49:06.818Z"
   },
   {
    "duration": 21,
    "start_time": "2023-10-18T06:49:06.844Z"
   },
   {
    "duration": 31,
    "start_time": "2023-10-18T06:49:06.867Z"
   },
   {
    "duration": 10,
    "start_time": "2023-10-18T06:49:06.900Z"
   },
   {
    "duration": 10,
    "start_time": "2023-10-18T06:49:06.912Z"
   },
   {
    "duration": 14,
    "start_time": "2023-10-18T06:49:06.924Z"
   },
   {
    "duration": 13,
    "start_time": "2023-10-18T06:49:06.939Z"
   },
   {
    "duration": 8,
    "start_time": "2023-10-18T06:49:06.953Z"
   },
   {
    "duration": 587,
    "start_time": "2023-10-18T06:49:06.963Z"
   },
   {
    "duration": 143,
    "start_time": "2023-10-18T06:49:07.552Z"
   },
   {
    "duration": 154,
    "start_time": "2023-10-18T06:49:07.700Z"
   },
   {
    "duration": 4,
    "start_time": "2023-10-18T06:49:07.857Z"
   },
   {
    "duration": 167,
    "start_time": "2023-10-18T06:49:07.863Z"
   },
   {
    "duration": 5,
    "start_time": "2023-10-18T06:49:08.032Z"
   },
   {
    "duration": 239,
    "start_time": "2023-10-18T06:49:08.039Z"
   },
   {
    "duration": 5,
    "start_time": "2023-10-18T06:49:08.280Z"
   },
   {
    "duration": 35,
    "start_time": "2023-10-18T06:49:08.287Z"
   },
   {
    "duration": 30,
    "start_time": "2023-10-18T06:49:08.324Z"
   },
   {
    "duration": 17,
    "start_time": "2023-10-18T06:49:08.356Z"
   },
   {
    "duration": 11,
    "start_time": "2023-10-18T06:49:08.375Z"
   },
   {
    "duration": 11,
    "start_time": "2023-10-18T06:49:08.388Z"
   },
   {
    "duration": 219,
    "start_time": "2023-10-18T06:49:08.401Z"
   },
   {
    "duration": 10,
    "start_time": "2023-10-18T06:49:08.622Z"
   },
   {
    "duration": 13,
    "start_time": "2023-10-18T06:49:08.647Z"
   },
   {
    "duration": 236,
    "start_time": "2023-10-18T06:49:08.662Z"
   },
   {
    "duration": 20,
    "start_time": "2023-10-18T06:49:08.900Z"
   },
   {
    "duration": 90,
    "start_time": "2023-10-18T06:49:57.023Z"
   },
   {
    "duration": 21,
    "start_time": "2023-10-18T06:50:04.128Z"
   },
   {
    "duration": 15,
    "start_time": "2023-10-18T06:52:28.166Z"
   },
   {
    "duration": 16,
    "start_time": "2023-10-18T06:52:50.277Z"
   },
   {
    "duration": 15,
    "start_time": "2023-10-18T06:56:45.300Z"
   },
   {
    "duration": 897,
    "start_time": "2023-10-18T07:00:12.273Z"
   },
   {
    "duration": 874,
    "start_time": "2023-10-18T07:00:30.569Z"
   },
   {
    "duration": 13,
    "start_time": "2023-10-18T07:00:33.501Z"
   },
   {
    "duration": 14,
    "start_time": "2023-10-18T07:01:15.452Z"
   },
   {
    "duration": 441,
    "start_time": "2023-10-18T07:01:23.835Z"
   },
   {
    "duration": 69,
    "start_time": "2023-10-18T07:01:24.278Z"
   },
   {
    "duration": 16,
    "start_time": "2023-10-18T07:01:24.349Z"
   },
   {
    "duration": 60,
    "start_time": "2023-10-18T07:01:24.367Z"
   },
   {
    "duration": 37,
    "start_time": "2023-10-18T07:01:24.429Z"
   },
   {
    "duration": 48,
    "start_time": "2023-10-18T07:01:24.467Z"
   },
   {
    "duration": 37,
    "start_time": "2023-10-18T07:01:24.517Z"
   },
   {
    "duration": 11,
    "start_time": "2023-10-18T07:01:24.556Z"
   },
   {
    "duration": 35,
    "start_time": "2023-10-18T07:01:24.568Z"
   },
   {
    "duration": 26,
    "start_time": "2023-10-18T07:01:24.607Z"
   },
   {
    "duration": 31,
    "start_time": "2023-10-18T07:01:24.635Z"
   },
   {
    "duration": 436,
    "start_time": "2023-10-18T07:01:24.668Z"
   },
   {
    "duration": 161,
    "start_time": "2023-10-18T07:01:25.105Z"
   },
   {
    "duration": 197,
    "start_time": "2023-10-18T07:01:25.268Z"
   },
   {
    "duration": 5,
    "start_time": "2023-10-18T07:01:25.467Z"
   },
   {
    "duration": 163,
    "start_time": "2023-10-18T07:01:25.474Z"
   },
   {
    "duration": 11,
    "start_time": "2023-10-18T07:01:25.639Z"
   },
   {
    "duration": 163,
    "start_time": "2023-10-18T07:01:25.652Z"
   },
   {
    "duration": 4,
    "start_time": "2023-10-18T07:01:25.818Z"
   },
   {
    "duration": 42,
    "start_time": "2023-10-18T07:01:25.824Z"
   },
   {
    "duration": 81,
    "start_time": "2023-10-18T07:01:25.867Z"
   },
   {
    "duration": 16,
    "start_time": "2023-10-18T07:01:25.950Z"
   },
   {
    "duration": 24,
    "start_time": "2023-10-18T07:01:25.968Z"
   },
   {
    "duration": 14,
    "start_time": "2023-10-18T07:01:25.994Z"
   },
   {
    "duration": 238,
    "start_time": "2023-10-18T07:01:26.010Z"
   },
   {
    "duration": 8,
    "start_time": "2023-10-18T07:01:26.250Z"
   },
   {
    "duration": 17,
    "start_time": "2023-10-18T07:01:26.260Z"
   },
   {
    "duration": 251,
    "start_time": "2023-10-18T07:01:26.280Z"
   },
   {
    "duration": 15,
    "start_time": "2023-10-18T07:01:26.533Z"
   },
   {
    "duration": 933,
    "start_time": "2023-10-18T07:01:26.550Z"
   },
   {
    "duration": 84,
    "start_time": "2023-10-18T07:01:36.358Z"
   },
   {
    "duration": 12,
    "start_time": "2023-10-18T07:02:03.191Z"
   },
   {
    "duration": 9,
    "start_time": "2023-10-18T07:02:06.326Z"
   },
   {
    "duration": 10,
    "start_time": "2023-10-18T08:14:48.543Z"
   },
   {
    "duration": 427,
    "start_time": "2023-10-18T08:15:04.885Z"
   },
   {
    "duration": 77,
    "start_time": "2023-10-18T08:15:05.314Z"
   },
   {
    "duration": 18,
    "start_time": "2023-10-18T08:15:05.393Z"
   },
   {
    "duration": 9,
    "start_time": "2023-10-18T08:15:05.414Z"
   },
   {
    "duration": 36,
    "start_time": "2023-10-18T08:15:05.425Z"
   },
   {
    "duration": 18,
    "start_time": "2023-10-18T08:15:05.462Z"
   },
   {
    "duration": 11,
    "start_time": "2023-10-18T08:15:05.482Z"
   },
   {
    "duration": 6,
    "start_time": "2023-10-18T08:15:05.495Z"
   },
   {
    "duration": 11,
    "start_time": "2023-10-18T08:15:05.502Z"
   },
   {
    "duration": 11,
    "start_time": "2023-10-18T08:15:05.517Z"
   },
   {
    "duration": 23,
    "start_time": "2023-10-18T08:15:05.529Z"
   },
   {
    "duration": 450,
    "start_time": "2023-10-18T08:15:05.554Z"
   },
   {
    "duration": 145,
    "start_time": "2023-10-18T08:15:06.006Z"
   },
   {
    "duration": 160,
    "start_time": "2023-10-18T08:15:06.153Z"
   },
   {
    "duration": 4,
    "start_time": "2023-10-18T08:15:06.315Z"
   },
   {
    "duration": 183,
    "start_time": "2023-10-18T08:15:06.321Z"
   },
   {
    "duration": 5,
    "start_time": "2023-10-18T08:15:06.506Z"
   },
   {
    "duration": 173,
    "start_time": "2023-10-18T08:15:06.513Z"
   },
   {
    "duration": 5,
    "start_time": "2023-10-18T08:15:06.687Z"
   },
   {
    "duration": 40,
    "start_time": "2023-10-18T08:15:06.693Z"
   },
   {
    "duration": 98,
    "start_time": "2023-10-18T08:15:06.735Z"
   },
   {
    "duration": 16,
    "start_time": "2023-10-18T08:15:06.835Z"
   },
   {
    "duration": 53,
    "start_time": "2023-10-18T08:15:06.853Z"
   },
   {
    "duration": 23,
    "start_time": "2023-10-18T08:15:06.908Z"
   },
   {
    "duration": 235,
    "start_time": "2023-10-18T08:15:06.933Z"
   },
   {
    "duration": 9,
    "start_time": "2023-10-18T08:15:07.170Z"
   },
   {
    "duration": 38,
    "start_time": "2023-10-18T08:15:07.180Z"
   },
   {
    "duration": 245,
    "start_time": "2023-10-18T08:15:07.221Z"
   },
   {
    "duration": 20,
    "start_time": "2023-10-18T08:15:07.468Z"
   },
   {
    "duration": 11,
    "start_time": "2023-10-18T08:15:57.014Z"
   },
   {
    "duration": 917,
    "start_time": "2023-10-18T08:25:01.921Z"
   },
   {
    "duration": 953,
    "start_time": "2023-10-18T08:28:42.445Z"
   },
   {
    "duration": 78,
    "start_time": "2023-10-18T08:30:41.342Z"
   },
   {
    "duration": 8,
    "start_time": "2023-10-18T08:30:57.280Z"
   },
   {
    "duration": 1054,
    "start_time": "2023-10-18T08:34:34.570Z"
   },
   {
    "duration": 14,
    "start_time": "2023-10-18T08:34:38.458Z"
   },
   {
    "duration": 4,
    "start_time": "2023-10-18T08:55:51.738Z"
   },
   {
    "duration": 17,
    "start_time": "2023-10-18T08:56:07.935Z"
   },
   {
    "duration": 12,
    "start_time": "2023-10-18T08:56:31.862Z"
   },
   {
    "duration": 12,
    "start_time": "2023-10-18T08:58:26.118Z"
   },
   {
    "duration": 12,
    "start_time": "2023-10-18T09:03:01.498Z"
   },
   {
    "duration": 13,
    "start_time": "2023-10-18T09:03:05.146Z"
   },
   {
    "duration": 27,
    "start_time": "2023-10-18T09:03:24.236Z"
   },
   {
    "duration": 11,
    "start_time": "2023-10-18T09:10:25.138Z"
   },
   {
    "duration": 9,
    "start_time": "2023-10-18T09:10:29.657Z"
   },
   {
    "duration": 14,
    "start_time": "2023-10-18T09:10:31.116Z"
   },
   {
    "duration": 16,
    "start_time": "2023-10-18T09:11:55.834Z"
   },
   {
    "duration": 9,
    "start_time": "2023-10-18T09:12:36.733Z"
   },
   {
    "duration": 7,
    "start_time": "2023-10-18T09:12:58.058Z"
   },
   {
    "duration": 949,
    "start_time": "2023-10-18T09:12:58.622Z"
   },
   {
    "duration": 3,
    "start_time": "2023-10-18T09:12:59.573Z"
   },
   {
    "duration": 9,
    "start_time": "2023-10-18T09:12:59.662Z"
   },
   {
    "duration": 4,
    "start_time": "2023-10-18T09:13:12.510Z"
   },
   {
    "duration": 17,
    "start_time": "2023-10-18T09:14:04.854Z"
   },
   {
    "duration": 20,
    "start_time": "2023-10-18T09:14:18.313Z"
   },
   {
    "duration": 11,
    "start_time": "2023-10-18T09:15:00.151Z"
   },
   {
    "duration": 16,
    "start_time": "2023-10-18T09:15:09.016Z"
   },
   {
    "duration": 21,
    "start_time": "2023-10-18T09:15:17.073Z"
   },
   {
    "duration": 9,
    "start_time": "2023-10-18T09:17:22.902Z"
   },
   {
    "duration": 10,
    "start_time": "2023-10-18T09:21:09.906Z"
   },
   {
    "duration": 1173,
    "start_time": "2023-10-18T09:21:15.179Z"
   },
   {
    "duration": 4,
    "start_time": "2023-10-18T09:21:16.356Z"
   },
   {
    "duration": 43,
    "start_time": "2023-10-18T09:21:16.363Z"
   },
   {
    "duration": 18,
    "start_time": "2023-10-18T09:21:17.534Z"
   },
   {
    "duration": 14,
    "start_time": "2023-10-18T09:21:52.887Z"
   },
   {
    "duration": 19,
    "start_time": "2023-10-18T09:21:58.638Z"
   },
   {
    "duration": 6,
    "start_time": "2023-10-18T09:55:08.080Z"
   },
   {
    "duration": 16,
    "start_time": "2023-10-18T09:57:02.665Z"
   },
   {
    "duration": 21,
    "start_time": "2023-10-18T09:57:09.301Z"
   },
   {
    "duration": 42,
    "start_time": "2023-10-18T10:04:42.452Z"
   },
   {
    "duration": 23,
    "start_time": "2023-10-18T10:04:48.430Z"
   },
   {
    "duration": 9,
    "start_time": "2023-10-18T11:38:02.805Z"
   },
   {
    "duration": 612,
    "start_time": "2023-10-18T11:38:25.130Z"
   },
   {
    "duration": 131,
    "start_time": "2023-10-18T11:38:25.745Z"
   },
   {
    "duration": 20,
    "start_time": "2023-10-18T11:38:25.879Z"
   },
   {
    "duration": 9,
    "start_time": "2023-10-18T11:38:25.901Z"
   },
   {
    "duration": 13,
    "start_time": "2023-10-18T11:38:25.912Z"
   },
   {
    "duration": 46,
    "start_time": "2023-10-18T11:38:25.927Z"
   },
   {
    "duration": 20,
    "start_time": "2023-10-18T11:38:25.977Z"
   },
   {
    "duration": 30,
    "start_time": "2023-10-18T11:38:26.001Z"
   },
   {
    "duration": 24,
    "start_time": "2023-10-18T11:38:26.033Z"
   },
   {
    "duration": 13,
    "start_time": "2023-10-18T11:38:26.062Z"
   },
   {
    "duration": 24,
    "start_time": "2023-10-18T11:38:26.077Z"
   },
   {
    "duration": 630,
    "start_time": "2023-10-18T11:38:26.104Z"
   },
   {
    "duration": 175,
    "start_time": "2023-10-18T11:38:26.736Z"
   },
   {
    "duration": 214,
    "start_time": "2023-10-18T11:38:26.914Z"
   },
   {
    "duration": 5,
    "start_time": "2023-10-18T11:38:27.129Z"
   },
   {
    "duration": 206,
    "start_time": "2023-10-18T11:38:27.136Z"
   },
   {
    "duration": 13,
    "start_time": "2023-10-18T11:38:27.343Z"
   },
   {
    "duration": 188,
    "start_time": "2023-10-18T11:38:27.362Z"
   },
   {
    "duration": 7,
    "start_time": "2023-10-18T11:38:27.552Z"
   },
   {
    "duration": 42,
    "start_time": "2023-10-18T11:38:27.561Z"
   },
   {
    "duration": 103,
    "start_time": "2023-10-18T11:38:27.605Z"
   },
   {
    "duration": 16,
    "start_time": "2023-10-18T11:38:27.709Z"
   },
   {
    "duration": 37,
    "start_time": "2023-10-18T11:38:27.726Z"
   },
   {
    "duration": 25,
    "start_time": "2023-10-18T11:38:27.766Z"
   },
   {
    "duration": 294,
    "start_time": "2023-10-18T11:38:27.794Z"
   },
   {
    "duration": 22,
    "start_time": "2023-10-18T11:38:28.091Z"
   },
   {
    "duration": 11,
    "start_time": "2023-10-18T11:38:28.121Z"
   },
   {
    "duration": 474,
    "start_time": "2023-10-18T11:38:28.136Z"
   },
   {
    "duration": 3,
    "start_time": "2023-10-18T11:38:28.611Z"
   },
   {
    "duration": 1128,
    "start_time": "2023-10-18T11:38:28.616Z"
   },
   {
    "duration": 9,
    "start_time": "2023-10-18T11:38:29.746Z"
   },
   {
    "duration": 6,
    "start_time": "2023-10-18T11:38:29.770Z"
   },
   {
    "duration": 27,
    "start_time": "2023-10-18T11:38:29.778Z"
   },
   {
    "duration": 22,
    "start_time": "2023-10-18T11:38:29.807Z"
   },
   {
    "duration": 43,
    "start_time": "2023-10-18T11:38:29.831Z"
   },
   {
    "duration": 127,
    "start_time": "2023-10-18T11:38:29.876Z"
   },
   {
    "duration": 8,
    "start_time": "2023-10-18T11:40:43.983Z"
   },
   {
    "duration": 2440,
    "start_time": "2023-10-18T11:44:07.305Z"
   },
   {
    "duration": 10,
    "start_time": "2023-10-18T11:44:47.810Z"
   },
   {
    "duration": 15,
    "start_time": "2023-10-18T11:45:50.887Z"
   },
   {
    "duration": 495,
    "start_time": "2023-10-18T11:46:03.217Z"
   },
   {
    "duration": 95,
    "start_time": "2023-10-18T11:46:03.714Z"
   },
   {
    "duration": 25,
    "start_time": "2023-10-18T11:46:03.811Z"
   },
   {
    "duration": 30,
    "start_time": "2023-10-18T11:46:03.839Z"
   },
   {
    "duration": 35,
    "start_time": "2023-10-18T11:46:03.877Z"
   },
   {
    "duration": 178,
    "start_time": "2023-10-18T11:46:03.915Z"
   },
   {
    "duration": 36,
    "start_time": "2023-10-18T11:46:04.096Z"
   },
   {
    "duration": 9,
    "start_time": "2023-10-18T11:46:04.134Z"
   },
   {
    "duration": 42,
    "start_time": "2023-10-18T11:46:04.146Z"
   },
   {
    "duration": 33,
    "start_time": "2023-10-18T11:46:04.190Z"
   },
   {
    "duration": 39,
    "start_time": "2023-10-18T11:46:04.225Z"
   },
   {
    "duration": 570,
    "start_time": "2023-10-18T11:46:04.266Z"
   },
   {
    "duration": 173,
    "start_time": "2023-10-18T11:46:04.839Z"
   },
   {
    "duration": 234,
    "start_time": "2023-10-18T11:46:05.016Z"
   },
   {
    "duration": 24,
    "start_time": "2023-10-18T11:46:05.253Z"
   },
   {
    "duration": 221,
    "start_time": "2023-10-18T11:46:05.280Z"
   },
   {
    "duration": 6,
    "start_time": "2023-10-18T11:46:05.504Z"
   },
   {
    "duration": 257,
    "start_time": "2023-10-18T11:46:05.512Z"
   },
   {
    "duration": 7,
    "start_time": "2023-10-18T11:46:05.771Z"
   },
   {
    "duration": 35,
    "start_time": "2023-10-18T11:46:05.780Z"
   },
   {
    "duration": 112,
    "start_time": "2023-10-18T11:46:05.817Z"
   },
   {
    "duration": 23,
    "start_time": "2023-10-18T11:46:05.931Z"
   },
   {
    "duration": 27,
    "start_time": "2023-10-18T11:46:05.956Z"
   },
   {
    "duration": 21,
    "start_time": "2023-10-18T11:46:05.985Z"
   },
   {
    "duration": 305,
    "start_time": "2023-10-18T11:46:06.008Z"
   },
   {
    "duration": 11,
    "start_time": "2023-10-18T11:46:06.315Z"
   },
   {
    "duration": 20,
    "start_time": "2023-10-18T11:46:06.328Z"
   },
   {
    "duration": 287,
    "start_time": "2023-10-18T11:46:06.350Z"
   },
   {
    "duration": 3,
    "start_time": "2023-10-18T11:46:06.639Z"
   },
   {
    "duration": 1070,
    "start_time": "2023-10-18T11:46:06.652Z"
   },
   {
    "duration": 3,
    "start_time": "2023-10-18T11:46:07.724Z"
   },
   {
    "duration": 18,
    "start_time": "2023-10-18T11:46:07.728Z"
   },
   {
    "duration": 21,
    "start_time": "2023-10-18T11:46:07.749Z"
   },
   {
    "duration": 8,
    "start_time": "2023-10-18T11:46:07.772Z"
   },
   {
    "duration": 18,
    "start_time": "2023-10-18T11:46:07.782Z"
   },
   {
    "duration": 123,
    "start_time": "2023-10-18T11:46:07.801Z"
   },
   {
    "duration": 11,
    "start_time": "2023-10-18T11:46:39.128Z"
   },
   {
    "duration": 9,
    "start_time": "2023-10-18T11:46:54.503Z"
   },
   {
    "duration": 2618,
    "start_time": "2023-10-18T11:54:00.769Z"
   },
   {
    "duration": 11,
    "start_time": "2023-10-18T11:54:41.120Z"
   },
   {
    "duration": 12,
    "start_time": "2023-10-18T11:54:50.197Z"
   },
   {
    "duration": 13,
    "start_time": "2023-10-18T11:55:44.969Z"
   },
   {
    "duration": 469,
    "start_time": "2023-10-18T11:56:22.806Z"
   },
   {
    "duration": 14,
    "start_time": "2023-10-18T11:56:23.352Z"
   },
   {
    "duration": 5,
    "start_time": "2023-10-18T12:02:06.295Z"
   },
   {
    "duration": 8,
    "start_time": "2023-10-18T12:02:41.741Z"
   },
   {
    "duration": 7,
    "start_time": "2023-10-18T12:02:49.723Z"
   },
   {
    "duration": 8,
    "start_time": "2023-10-18T12:02:56.681Z"
   },
   {
    "duration": 10,
    "start_time": "2023-10-18T12:05:15.447Z"
   },
   {
    "duration": 7,
    "start_time": "2023-10-18T12:06:50.264Z"
   },
   {
    "duration": 10,
    "start_time": "2023-10-18T12:08:01.961Z"
   },
   {
    "duration": 8,
    "start_time": "2023-10-18T12:08:08.660Z"
   },
   {
    "duration": 8,
    "start_time": "2023-10-18T12:10:30.266Z"
   },
   {
    "duration": 8,
    "start_time": "2023-10-18T12:10:56.888Z"
   },
   {
    "duration": 8,
    "start_time": "2023-10-18T12:29:05.890Z"
   },
   {
    "duration": 6,
    "start_time": "2023-10-18T12:29:10.563Z"
   },
   {
    "duration": 6,
    "start_time": "2023-10-18T12:44:37.367Z"
   },
   {
    "duration": 13,
    "start_time": "2023-10-18T12:45:44.342Z"
   },
   {
    "duration": 51,
    "start_time": "2023-10-18T16:36:47.602Z"
   },
   {
    "duration": 466,
    "start_time": "2023-10-18T16:37:53.043Z"
   },
   {
    "duration": 327,
    "start_time": "2023-10-18T16:37:53.511Z"
   },
   {
    "duration": 19,
    "start_time": "2023-10-18T16:37:53.840Z"
   },
   {
    "duration": 15,
    "start_time": "2023-10-18T16:37:53.862Z"
   },
   {
    "duration": 20,
    "start_time": "2023-10-18T16:37:53.879Z"
   },
   {
    "duration": 37,
    "start_time": "2023-10-18T16:37:53.902Z"
   },
   {
    "duration": 13,
    "start_time": "2023-10-18T16:37:53.942Z"
   },
   {
    "duration": 11,
    "start_time": "2023-10-18T16:37:53.957Z"
   },
   {
    "duration": 20,
    "start_time": "2023-10-18T16:37:53.969Z"
   },
   {
    "duration": 7,
    "start_time": "2023-10-18T16:37:53.993Z"
   },
   {
    "duration": 23,
    "start_time": "2023-10-18T16:37:54.001Z"
   },
   {
    "duration": 738,
    "start_time": "2023-10-18T16:37:54.026Z"
   },
   {
    "duration": 157,
    "start_time": "2023-10-18T16:37:54.766Z"
   },
   {
    "duration": 169,
    "start_time": "2023-10-18T16:37:54.925Z"
   },
   {
    "duration": 5,
    "start_time": "2023-10-18T16:37:55.096Z"
   },
   {
    "duration": 162,
    "start_time": "2023-10-18T16:37:55.103Z"
   },
   {
    "duration": 5,
    "start_time": "2023-10-18T16:37:55.267Z"
   },
   {
    "duration": 229,
    "start_time": "2023-10-18T16:37:55.274Z"
   },
   {
    "duration": 5,
    "start_time": "2023-10-18T16:37:55.505Z"
   },
   {
    "duration": 34,
    "start_time": "2023-10-18T16:37:55.512Z"
   },
   {
    "duration": 27,
    "start_time": "2023-10-18T16:37:55.548Z"
   },
   {
    "duration": 16,
    "start_time": "2023-10-18T16:37:55.577Z"
   },
   {
    "duration": 9,
    "start_time": "2023-10-18T16:37:55.595Z"
   },
   {
    "duration": 12,
    "start_time": "2023-10-18T16:37:55.605Z"
   },
   {
    "duration": 234,
    "start_time": "2023-10-18T16:37:55.619Z"
   },
   {
    "duration": 9,
    "start_time": "2023-10-18T16:37:55.855Z"
   },
   {
    "duration": 23,
    "start_time": "2023-10-18T16:37:55.866Z"
   },
   {
    "duration": 255,
    "start_time": "2023-10-18T16:37:55.893Z"
   },
   {
    "duration": 3,
    "start_time": "2023-10-18T16:37:56.156Z"
   },
   {
    "duration": 896,
    "start_time": "2023-10-18T16:37:56.161Z"
   },
   {
    "duration": 3,
    "start_time": "2023-10-18T16:37:57.059Z"
   },
   {
    "duration": 11,
    "start_time": "2023-10-18T16:37:57.064Z"
   },
   {
    "duration": 24,
    "start_time": "2023-10-18T16:37:57.077Z"
   },
   {
    "duration": 21,
    "start_time": "2023-10-18T16:37:57.103Z"
   },
   {
    "duration": 19,
    "start_time": "2023-10-18T16:37:57.126Z"
   },
   {
    "duration": 448,
    "start_time": "2023-10-18T16:37:57.148Z"
   },
   {
    "duration": 6,
    "start_time": "2023-10-18T16:37:57.598Z"
   },
   {
    "duration": 36,
    "start_time": "2023-10-18T16:37:57.605Z"
   },
   {
    "duration": 17,
    "start_time": "2023-10-18T16:37:57.642Z"
   },
   {
    "duration": 125,
    "start_time": "2023-10-18T16:39:53.968Z"
   },
   {
    "duration": 18,
    "start_time": "2023-10-18T16:40:12.464Z"
   },
   {
    "duration": 9,
    "start_time": "2023-10-18T16:40:25.714Z"
   },
   {
    "duration": 13,
    "start_time": "2023-10-18T16:42:41.873Z"
   },
   {
    "duration": 479,
    "start_time": "2023-10-18T17:00:06.358Z"
   },
   {
    "duration": 82,
    "start_time": "2023-10-18T17:00:06.839Z"
   },
   {
    "duration": 19,
    "start_time": "2023-10-18T17:00:06.923Z"
   },
   {
    "duration": 16,
    "start_time": "2023-10-18T17:00:06.946Z"
   },
   {
    "duration": 64,
    "start_time": "2023-10-18T17:00:06.965Z"
   },
   {
    "duration": 49,
    "start_time": "2023-10-18T17:00:07.032Z"
   },
   {
    "duration": 22,
    "start_time": "2023-10-18T17:00:07.083Z"
   },
   {
    "duration": 7,
    "start_time": "2023-10-18T17:00:07.106Z"
   },
   {
    "duration": 30,
    "start_time": "2023-10-18T17:00:07.114Z"
   },
   {
    "duration": 20,
    "start_time": "2023-10-18T17:00:07.148Z"
   },
   {
    "duration": 7,
    "start_time": "2023-10-18T17:00:07.174Z"
   },
   {
    "duration": 531,
    "start_time": "2023-10-18T17:00:07.183Z"
   },
   {
    "duration": 143,
    "start_time": "2023-10-18T17:00:07.716Z"
   },
   {
    "duration": 185,
    "start_time": "2023-10-18T17:00:07.863Z"
   },
   {
    "duration": 21,
    "start_time": "2023-10-18T17:00:08.050Z"
   },
   {
    "duration": 162,
    "start_time": "2023-10-18T17:00:08.073Z"
   },
   {
    "duration": 5,
    "start_time": "2023-10-18T17:00:08.237Z"
   },
   {
    "duration": 176,
    "start_time": "2023-10-18T17:00:08.243Z"
   },
   {
    "duration": 5,
    "start_time": "2023-10-18T17:00:08.421Z"
   },
   {
    "duration": 44,
    "start_time": "2023-10-18T17:00:08.428Z"
   },
   {
    "duration": 100,
    "start_time": "2023-10-18T17:00:08.474Z"
   },
   {
    "duration": 18,
    "start_time": "2023-10-18T17:00:08.576Z"
   },
   {
    "duration": 34,
    "start_time": "2023-10-18T17:00:08.596Z"
   },
   {
    "duration": 41,
    "start_time": "2023-10-18T17:00:08.632Z"
   },
   {
    "duration": 283,
    "start_time": "2023-10-18T17:00:08.676Z"
   },
   {
    "duration": 17,
    "start_time": "2023-10-18T17:00:08.961Z"
   },
   {
    "duration": 14,
    "start_time": "2023-10-18T17:00:08.980Z"
   },
   {
    "duration": 319,
    "start_time": "2023-10-18T17:00:08.998Z"
   },
   {
    "duration": 2,
    "start_time": "2023-10-18T17:00:09.320Z"
   },
   {
    "duration": 968,
    "start_time": "2023-10-18T17:00:09.324Z"
   },
   {
    "duration": 3,
    "start_time": "2023-10-18T17:00:10.294Z"
   },
   {
    "duration": 224,
    "start_time": "2023-10-18T17:00:10.299Z"
   },
   {
    "duration": 55,
    "start_time": "2023-10-18T17:00:10.525Z"
   },
   {
    "duration": 35,
    "start_time": "2023-10-18T17:00:10.581Z"
   },
   {
    "duration": 59,
    "start_time": "2023-10-18T17:00:10.618Z"
   },
   {
    "duration": 450,
    "start_time": "2023-10-18T17:00:10.680Z"
   },
   {
    "duration": 6,
    "start_time": "2023-10-18T17:00:11.131Z"
   },
   {
    "duration": 38,
    "start_time": "2023-10-18T17:00:11.138Z"
   },
   {
    "duration": 33,
    "start_time": "2023-10-18T17:00:11.178Z"
   },
   {
    "duration": 104,
    "start_time": "2023-10-18T17:00:11.213Z"
   },
   {
    "duration": 436,
    "start_time": "2023-10-19T01:08:12.669Z"
   },
   {
    "duration": 210,
    "start_time": "2023-10-19T01:08:13.107Z"
   },
   {
    "duration": 14,
    "start_time": "2023-10-19T01:08:13.319Z"
   },
   {
    "duration": 25,
    "start_time": "2023-10-19T01:08:13.335Z"
   },
   {
    "duration": 25,
    "start_time": "2023-10-19T01:08:13.362Z"
   },
   {
    "duration": 34,
    "start_time": "2023-10-19T01:08:13.389Z"
   },
   {
    "duration": 52,
    "start_time": "2023-10-19T01:08:13.425Z"
   },
   {
    "duration": 10,
    "start_time": "2023-10-19T01:08:13.479Z"
   },
   {
    "duration": 14,
    "start_time": "2023-10-19T01:08:13.490Z"
   },
   {
    "duration": 7,
    "start_time": "2023-10-19T01:08:13.505Z"
   },
   {
    "duration": 10,
    "start_time": "2023-10-19T01:08:13.513Z"
   },
   {
    "duration": 570,
    "start_time": "2023-10-19T01:08:13.525Z"
   },
   {
    "duration": 133,
    "start_time": "2023-10-19T01:08:14.100Z"
   },
   {
    "duration": 156,
    "start_time": "2023-10-19T01:08:14.236Z"
   },
   {
    "duration": 9,
    "start_time": "2023-10-19T01:08:14.394Z"
   },
   {
    "duration": 158,
    "start_time": "2023-10-19T01:08:14.405Z"
   },
   {
    "duration": 6,
    "start_time": "2023-10-19T01:08:14.565Z"
   },
   {
    "duration": 253,
    "start_time": "2023-10-19T01:08:14.573Z"
   },
   {
    "duration": 5,
    "start_time": "2023-10-19T01:08:14.828Z"
   },
   {
    "duration": 28,
    "start_time": "2023-10-19T01:08:14.834Z"
   },
   {
    "duration": 20,
    "start_time": "2023-10-19T01:08:14.864Z"
   },
   {
    "duration": 16,
    "start_time": "2023-10-19T01:08:14.901Z"
   },
   {
    "duration": 10,
    "start_time": "2023-10-19T01:08:14.919Z"
   },
   {
    "duration": 27,
    "start_time": "2023-10-19T01:08:14.931Z"
   },
   {
    "duration": 230,
    "start_time": "2023-10-19T01:08:14.960Z"
   },
   {
    "duration": 17,
    "start_time": "2023-10-19T01:08:15.192Z"
   },
   {
    "duration": 31,
    "start_time": "2023-10-19T01:08:15.211Z"
   },
   {
    "duration": 215,
    "start_time": "2023-10-19T01:08:15.244Z"
   },
   {
    "duration": 3,
    "start_time": "2023-10-19T01:08:15.461Z"
   },
   {
    "duration": 854,
    "start_time": "2023-10-19T01:08:15.466Z"
   },
   {
    "duration": 4,
    "start_time": "2023-10-19T01:08:16.322Z"
   },
   {
    "duration": 66,
    "start_time": "2023-10-19T01:08:16.328Z"
   },
   {
    "duration": 48,
    "start_time": "2023-10-19T01:08:16.395Z"
   },
   {
    "duration": 29,
    "start_time": "2023-10-19T01:08:16.445Z"
   },
   {
    "duration": 57,
    "start_time": "2023-10-19T01:08:16.476Z"
   },
   {
    "duration": 495,
    "start_time": "2023-10-19T01:08:16.535Z"
   },
   {
    "duration": 7,
    "start_time": "2023-10-19T01:08:17.032Z"
   },
   {
    "duration": 25,
    "start_time": "2023-10-19T01:08:17.041Z"
   },
   {
    "duration": 54,
    "start_time": "2023-10-19T01:08:17.068Z"
   },
   {
    "duration": 22,
    "start_time": "2023-10-19T01:16:38.244Z"
   },
   {
    "duration": 6,
    "start_time": "2023-10-19T01:18:27.358Z"
   },
   {
    "duration": 400,
    "start_time": "2023-10-19T01:23:23.366Z"
   },
   {
    "duration": 71,
    "start_time": "2023-10-19T01:23:23.767Z"
   },
   {
    "duration": 14,
    "start_time": "2023-10-19T01:23:23.840Z"
   },
   {
    "duration": 15,
    "start_time": "2023-10-19T01:23:23.855Z"
   },
   {
    "duration": 10,
    "start_time": "2023-10-19T01:23:23.872Z"
   },
   {
    "duration": 22,
    "start_time": "2023-10-19T01:23:23.884Z"
   },
   {
    "duration": 11,
    "start_time": "2023-10-19T01:23:23.907Z"
   },
   {
    "duration": 16,
    "start_time": "2023-10-19T01:23:23.919Z"
   },
   {
    "duration": 7,
    "start_time": "2023-10-19T01:23:23.937Z"
   },
   {
    "duration": 12,
    "start_time": "2023-10-19T01:23:23.948Z"
   },
   {
    "duration": 11,
    "start_time": "2023-10-19T01:23:23.961Z"
   },
   {
    "duration": 434,
    "start_time": "2023-10-19T01:23:23.974Z"
   },
   {
    "duration": 139,
    "start_time": "2023-10-19T01:23:24.409Z"
   },
   {
    "duration": 191,
    "start_time": "2023-10-19T01:23:24.552Z"
   },
   {
    "duration": 4,
    "start_time": "2023-10-19T01:23:24.744Z"
   },
   {
    "duration": 156,
    "start_time": "2023-10-19T01:23:24.750Z"
   },
   {
    "duration": 4,
    "start_time": "2023-10-19T01:23:24.907Z"
   },
   {
    "duration": 149,
    "start_time": "2023-10-19T01:23:24.913Z"
   },
   {
    "duration": 4,
    "start_time": "2023-10-19T01:23:25.064Z"
   },
   {
    "duration": 32,
    "start_time": "2023-10-19T01:23:25.070Z"
   },
   {
    "duration": 80,
    "start_time": "2023-10-19T01:23:25.103Z"
   },
   {
    "duration": 17,
    "start_time": "2023-10-19T01:23:25.185Z"
   },
   {
    "duration": 16,
    "start_time": "2023-10-19T01:23:25.203Z"
   },
   {
    "duration": 15,
    "start_time": "2023-10-19T01:23:25.221Z"
   },
   {
    "duration": 199,
    "start_time": "2023-10-19T01:23:25.237Z"
   },
   {
    "duration": 9,
    "start_time": "2023-10-19T01:23:25.438Z"
   },
   {
    "duration": 8,
    "start_time": "2023-10-19T01:23:25.448Z"
   },
   {
    "duration": 238,
    "start_time": "2023-10-19T01:23:25.459Z"
   },
   {
    "duration": 2,
    "start_time": "2023-10-19T01:23:25.701Z"
   },
   {
    "duration": 796,
    "start_time": "2023-10-19T01:23:25.705Z"
   },
   {
    "duration": 4,
    "start_time": "2023-10-19T01:23:26.503Z"
   },
   {
    "duration": 15,
    "start_time": "2023-10-19T01:23:26.509Z"
   },
   {
    "duration": 37,
    "start_time": "2023-10-19T01:23:26.525Z"
   },
   {
    "duration": 21,
    "start_time": "2023-10-19T01:23:26.563Z"
   },
   {
    "duration": 29,
    "start_time": "2023-10-19T01:23:26.586Z"
   },
   {
    "duration": 394,
    "start_time": "2023-10-19T01:23:26.616Z"
   },
   {
    "duration": 6,
    "start_time": "2023-10-19T01:23:27.012Z"
   },
   {
    "duration": 19,
    "start_time": "2023-10-19T01:23:27.019Z"
   },
   {
    "duration": 14,
    "start_time": "2023-10-19T01:23:27.040Z"
   },
   {
    "duration": 52,
    "start_time": "2023-10-19T16:23:32.934Z"
   },
   {
    "duration": 1329,
    "start_time": "2023-10-19T16:23:42.723Z"
   },
   {
    "duration": 336,
    "start_time": "2023-10-19T16:23:44.056Z"
   },
   {
    "duration": 13,
    "start_time": "2023-10-19T16:23:44.394Z"
   },
   {
    "duration": 28,
    "start_time": "2023-10-19T16:23:44.409Z"
   },
   {
    "duration": 15,
    "start_time": "2023-10-19T16:23:44.438Z"
   },
   {
    "duration": 26,
    "start_time": "2023-10-19T16:23:44.455Z"
   },
   {
    "duration": 34,
    "start_time": "2023-10-19T16:23:44.483Z"
   },
   {
    "duration": 24,
    "start_time": "2023-10-19T16:23:44.519Z"
   },
   {
    "duration": 19,
    "start_time": "2023-10-19T16:23:44.545Z"
   },
   {
    "duration": 26,
    "start_time": "2023-10-19T16:23:44.568Z"
   },
   {
    "duration": 33,
    "start_time": "2023-10-19T16:23:44.596Z"
   },
   {
    "duration": 33,
    "start_time": "2023-10-19T16:23:44.631Z"
   },
   {
    "duration": 181,
    "start_time": "2023-10-19T16:23:44.666Z"
   },
   {
    "duration": 146,
    "start_time": "2023-10-19T16:23:44.849Z"
   },
   {
    "duration": 161,
    "start_time": "2023-10-19T16:23:44.997Z"
   },
   {
    "duration": 5,
    "start_time": "2023-10-19T16:23:45.160Z"
   },
   {
    "duration": 165,
    "start_time": "2023-10-19T16:23:45.167Z"
   },
   {
    "duration": 4,
    "start_time": "2023-10-19T16:23:45.335Z"
   },
   {
    "duration": 167,
    "start_time": "2023-10-19T16:23:45.342Z"
   },
   {
    "duration": 5,
    "start_time": "2023-10-19T16:23:45.510Z"
   },
   {
    "duration": 30,
    "start_time": "2023-10-19T16:23:45.517Z"
   },
   {
    "duration": 22,
    "start_time": "2023-10-19T16:23:45.557Z"
   },
   {
    "duration": 20,
    "start_time": "2023-10-19T16:23:45.582Z"
   },
   {
    "duration": 10,
    "start_time": "2023-10-19T16:23:45.603Z"
   },
   {
    "duration": 43,
    "start_time": "2023-10-19T16:23:45.614Z"
   },
   {
    "duration": 226,
    "start_time": "2023-10-19T16:23:45.659Z"
   },
   {
    "duration": 12,
    "start_time": "2023-10-19T16:23:45.887Z"
   },
   {
    "duration": 10,
    "start_time": "2023-10-19T16:23:45.902Z"
   },
   {
    "duration": 258,
    "start_time": "2023-10-19T16:23:45.913Z"
   },
   {
    "duration": 3,
    "start_time": "2023-10-19T16:23:46.173Z"
   },
   {
    "duration": 920,
    "start_time": "2023-10-19T16:23:46.178Z"
   },
   {
    "duration": 3,
    "start_time": "2023-10-19T16:23:47.100Z"
   },
   {
    "duration": 13,
    "start_time": "2023-10-19T16:23:47.105Z"
   },
   {
    "duration": 16,
    "start_time": "2023-10-19T16:23:47.120Z"
   },
   {
    "duration": 7,
    "start_time": "2023-10-19T16:23:47.138Z"
   },
   {
    "duration": 29,
    "start_time": "2023-10-19T16:23:47.146Z"
   },
   {
    "duration": 17,
    "start_time": "2023-10-19T16:23:47.176Z"
   },
   {
    "duration": 19,
    "start_time": "2023-10-19T16:23:47.195Z"
   },
   {
    "duration": 17,
    "start_time": "2023-10-19T16:23:47.216Z"
   },
   {
    "duration": 26,
    "start_time": "2023-10-19T16:23:47.234Z"
   },
   {
    "duration": 9,
    "start_time": "2023-10-19T16:24:29.748Z"
   },
   {
    "duration": 12,
    "start_time": "2023-10-19T16:24:38.681Z"
   },
   {
    "duration": 11,
    "start_time": "2023-10-19T16:24:49.736Z"
   },
   {
    "duration": 18,
    "start_time": "2023-10-19T16:44:00.336Z"
   },
   {
    "duration": 23,
    "start_time": "2023-10-19T16:44:15.193Z"
   },
   {
    "duration": 27,
    "start_time": "2023-10-19T16:44:33.202Z"
   },
   {
    "duration": 10,
    "start_time": "2023-10-19T17:05:31.085Z"
   },
   {
    "duration": 108,
    "start_time": "2023-10-19T17:11:03.522Z"
   },
   {
    "duration": 6,
    "start_time": "2023-10-19T17:11:24.387Z"
   },
   {
    "duration": 29,
    "start_time": "2023-10-19T17:12:27.480Z"
   },
   {
    "duration": 7,
    "start_time": "2023-10-19T17:12:48.179Z"
   },
   {
    "duration": 18,
    "start_time": "2023-10-19T17:12:58.785Z"
   },
   {
    "duration": 8,
    "start_time": "2023-10-19T17:12:59.810Z"
   },
   {
    "duration": 8,
    "start_time": "2023-10-19T17:13:39.095Z"
   },
   {
    "duration": 7,
    "start_time": "2023-10-19T17:13:41.229Z"
   },
   {
    "duration": 10,
    "start_time": "2023-10-19T17:15:22.837Z"
   },
   {
    "duration": 9,
    "start_time": "2023-10-19T17:16:20.192Z"
   },
   {
    "duration": 176,
    "start_time": "2023-10-19T17:21:17.006Z"
   },
   {
    "duration": 11,
    "start_time": "2023-10-19T17:23:19.709Z"
   },
   {
    "duration": 6,
    "start_time": "2023-10-19T17:23:24.895Z"
   },
   {
    "duration": 250,
    "start_time": "2023-10-19T17:25:00.646Z"
   },
   {
    "duration": 159,
    "start_time": "2023-10-19T17:26:19.460Z"
   },
   {
    "duration": 182,
    "start_time": "2023-10-19T17:27:42.300Z"
   },
   {
    "duration": 187,
    "start_time": "2023-10-19T17:28:01.018Z"
   },
   {
    "duration": 126,
    "start_time": "2023-10-19T17:31:39.910Z"
   },
   {
    "duration": 152,
    "start_time": "2023-10-19T17:31:45.481Z"
   },
   {
    "duration": 113,
    "start_time": "2023-10-19T17:33:40.819Z"
   },
   {
    "duration": 368,
    "start_time": "2023-10-19T17:36:28.077Z"
   },
   {
    "duration": 131,
    "start_time": "2023-10-19T17:39:27.884Z"
   },
   {
    "duration": 10,
    "start_time": "2023-10-19T17:40:57.647Z"
   },
   {
    "duration": 11,
    "start_time": "2023-10-19T17:42:02.209Z"
   },
   {
    "duration": 168,
    "start_time": "2023-10-19T17:42:42.795Z"
   },
   {
    "duration": 97,
    "start_time": "2023-10-19T17:45:04.408Z"
   },
   {
    "duration": 142,
    "start_time": "2023-10-19T17:46:30.958Z"
   },
   {
    "duration": 14,
    "start_time": "2023-10-19T17:50:32.852Z"
   },
   {
    "duration": 94,
    "start_time": "2023-10-19T17:51:18.589Z"
   },
   {
    "duration": 182,
    "start_time": "2023-10-19T17:51:43.219Z"
   },
   {
    "duration": 92,
    "start_time": "2023-10-19T17:53:35.360Z"
   },
   {
    "duration": 9,
    "start_time": "2023-10-19T17:53:43.202Z"
   },
   {
    "duration": 207,
    "start_time": "2023-10-19T17:53:48.153Z"
   },
   {
    "duration": 147,
    "start_time": "2023-10-19T17:53:55.160Z"
   },
   {
    "duration": 185,
    "start_time": "2023-10-19T17:53:59.684Z"
   },
   {
    "duration": 897,
    "start_time": "2023-10-19T17:54:03.713Z"
   },
   {
    "duration": 242,
    "start_time": "2023-10-19T17:54:08.999Z"
   },
   {
    "duration": 981,
    "start_time": "2023-10-19T17:54:13.275Z"
   },
   {
    "duration": 1079,
    "start_time": "2023-10-19T17:54:18.862Z"
   },
   {
    "duration": 412,
    "start_time": "2023-10-19T17:54:22.192Z"
   },
   {
    "duration": 262,
    "start_time": "2023-10-19T17:54:26.800Z"
   },
   {
    "duration": 123,
    "start_time": "2023-10-19T17:55:53.112Z"
   },
   {
    "duration": 157,
    "start_time": "2023-10-19T17:56:24.865Z"
   },
   {
    "duration": 181,
    "start_time": "2023-10-19T18:06:30.544Z"
   },
   {
    "duration": 807,
    "start_time": "2023-10-19T18:06:35.994Z"
   },
   {
    "duration": 488,
    "start_time": "2023-10-19T18:06:44.150Z"
   },
   {
    "duration": 121,
    "start_time": "2023-10-19T18:10:59.799Z"
   },
   {
    "duration": 138,
    "start_time": "2023-10-19T18:15:31.723Z"
   },
   {
    "duration": 14,
    "start_time": "2023-10-19T18:16:02.339Z"
   },
   {
    "duration": 25,
    "start_time": "2023-10-19T18:39:06.356Z"
   },
   {
    "duration": 17,
    "start_time": "2023-10-19T18:39:31.330Z"
   },
   {
    "duration": 32,
    "start_time": "2023-10-19T18:39:37.242Z"
   },
   {
    "duration": 97,
    "start_time": "2023-10-19T18:41:33.898Z"
   },
   {
    "duration": 16,
    "start_time": "2023-10-19T18:41:40.639Z"
   },
   {
    "duration": 214,
    "start_time": "2023-10-19T18:50:30.433Z"
   },
   {
    "duration": 176,
    "start_time": "2023-10-19T18:51:08.117Z"
   },
   {
    "duration": 218,
    "start_time": "2023-10-19T18:51:27.628Z"
   },
   {
    "duration": 166,
    "start_time": "2023-10-19T18:54:19.164Z"
   },
   {
    "duration": 199,
    "start_time": "2023-10-19T18:54:59.268Z"
   },
   {
    "duration": 210,
    "start_time": "2023-10-19T18:56:05.810Z"
   },
   {
    "duration": 214,
    "start_time": "2023-10-19T18:56:16.724Z"
   },
   {
    "duration": 216,
    "start_time": "2023-10-19T18:56:22.668Z"
   },
   {
    "duration": 216,
    "start_time": "2023-10-19T18:56:35.550Z"
   },
   {
    "duration": 212,
    "start_time": "2023-10-19T18:56:41.609Z"
   },
   {
    "duration": 234,
    "start_time": "2023-10-19T18:57:18.539Z"
   },
   {
    "duration": 215,
    "start_time": "2023-10-19T18:57:30.706Z"
   },
   {
    "duration": 457,
    "start_time": "2023-10-19T18:57:48.292Z"
   },
   {
    "duration": 127,
    "start_time": "2023-10-19T18:58:03.712Z"
   },
   {
    "duration": 131,
    "start_time": "2023-10-19T18:58:08.588Z"
   },
   {
    "duration": 124,
    "start_time": "2023-10-19T18:58:19.576Z"
   },
   {
    "duration": 124,
    "start_time": "2023-10-19T18:58:49.125Z"
   },
   {
    "duration": 212,
    "start_time": "2023-10-19T18:59:11.822Z"
   },
   {
    "duration": 220,
    "start_time": "2023-10-19T19:00:07.528Z"
   },
   {
    "duration": 231,
    "start_time": "2023-10-19T19:00:40.352Z"
   },
   {
    "duration": 234,
    "start_time": "2023-10-19T19:01:37.077Z"
   },
   {
    "duration": 246,
    "start_time": "2023-10-19T19:02:05.520Z"
   },
   {
    "duration": 222,
    "start_time": "2023-10-19T19:02:13.813Z"
   },
   {
    "duration": 246,
    "start_time": "2023-10-19T19:02:34.597Z"
   },
   {
    "duration": 262,
    "start_time": "2023-10-19T19:08:03.066Z"
   },
   {
    "duration": 241,
    "start_time": "2023-10-19T19:08:57.097Z"
   },
   {
    "duration": 168,
    "start_time": "2023-10-19T19:10:12.677Z"
   },
   {
    "duration": 150,
    "start_time": "2023-10-19T19:11:21.266Z"
   },
   {
    "duration": 252,
    "start_time": "2023-10-19T19:11:54.123Z"
   },
   {
    "duration": 13,
    "start_time": "2023-10-19T19:12:11.985Z"
   },
   {
    "duration": 393,
    "start_time": "2023-10-19T19:12:52.135Z"
   },
   {
    "duration": 13,
    "start_time": "2023-10-19T19:13:05.712Z"
   },
   {
    "duration": 210,
    "start_time": "2023-10-19T19:13:12.207Z"
   },
   {
    "duration": 304,
    "start_time": "2023-10-19T19:14:18.737Z"
   },
   {
    "duration": 5,
    "start_time": "2023-10-19T19:23:23.406Z"
   },
   {
    "duration": 857,
    "start_time": "2023-10-19T19:23:24.169Z"
   },
   {
    "duration": 98,
    "start_time": "2023-10-19T19:23:37.464Z"
   },
   {
    "duration": 1191,
    "start_time": "2023-10-19T19:23:59.586Z"
   },
   {
    "duration": 154,
    "start_time": "2023-10-19T19:24:00.779Z"
   },
   {
    "duration": 14,
    "start_time": "2023-10-19T19:24:00.935Z"
   },
   {
    "duration": 39,
    "start_time": "2023-10-19T19:24:00.951Z"
   },
   {
    "duration": 52,
    "start_time": "2023-10-19T19:24:00.992Z"
   },
   {
    "duration": 63,
    "start_time": "2023-10-19T19:24:01.046Z"
   },
   {
    "duration": 56,
    "start_time": "2023-10-19T19:24:01.111Z"
   },
   {
    "duration": 50,
    "start_time": "2023-10-19T19:24:01.169Z"
   },
   {
    "duration": 59,
    "start_time": "2023-10-19T19:24:01.221Z"
   },
   {
    "duration": 55,
    "start_time": "2023-10-19T19:24:01.283Z"
   },
   {
    "duration": 104,
    "start_time": "2023-10-19T19:24:01.340Z"
   },
   {
    "duration": 67,
    "start_time": "2023-10-19T19:24:01.446Z"
   },
   {
    "duration": 59,
    "start_time": "2023-10-19T19:24:01.515Z"
   },
   {
    "duration": 55,
    "start_time": "2023-10-19T19:24:01.576Z"
   },
   {
    "duration": 54,
    "start_time": "2023-10-19T19:24:01.633Z"
   },
   {
    "duration": 75,
    "start_time": "2023-10-19T19:24:01.689Z"
   },
   {
    "duration": 72,
    "start_time": "2023-10-19T19:24:01.765Z"
   },
   {
    "duration": 133,
    "start_time": "2023-10-19T19:24:01.839Z"
   },
   {
    "duration": 102,
    "start_time": "2023-10-19T19:24:01.974Z"
   },
   {
    "duration": 42,
    "start_time": "2023-10-19T19:24:02.078Z"
   },
   {
    "duration": 45,
    "start_time": "2023-10-19T19:24:02.122Z"
   },
   {
    "duration": 47,
    "start_time": "2023-10-19T19:24:02.168Z"
   },
   {
    "duration": 85,
    "start_time": "2023-10-19T19:24:02.217Z"
   },
   {
    "duration": 141,
    "start_time": "2023-10-19T19:24:02.304Z"
   },
   {
    "duration": 202,
    "start_time": "2023-10-19T19:24:02.446Z"
   },
   {
    "duration": 134,
    "start_time": "2023-10-19T19:24:02.650Z"
   },
   {
    "duration": 113,
    "start_time": "2023-10-19T19:24:02.786Z"
   },
   {
    "duration": 0,
    "start_time": "2023-10-19T19:24:02.901Z"
   },
   {
    "duration": 0,
    "start_time": "2023-10-19T19:24:02.902Z"
   },
   {
    "duration": 0,
    "start_time": "2023-10-19T19:24:02.904Z"
   },
   {
    "duration": 0,
    "start_time": "2023-10-19T19:24:02.905Z"
   },
   {
    "duration": 0,
    "start_time": "2023-10-19T19:24:02.906Z"
   },
   {
    "duration": 0,
    "start_time": "2023-10-19T19:24:02.907Z"
   },
   {
    "duration": 0,
    "start_time": "2023-10-19T19:24:02.909Z"
   },
   {
    "duration": 0,
    "start_time": "2023-10-19T19:24:02.910Z"
   },
   {
    "duration": 0,
    "start_time": "2023-10-19T19:24:02.911Z"
   },
   {
    "duration": 0,
    "start_time": "2023-10-19T19:24:02.912Z"
   },
   {
    "duration": 0,
    "start_time": "2023-10-19T19:24:02.913Z"
   },
   {
    "duration": 0,
    "start_time": "2023-10-19T19:24:02.914Z"
   },
   {
    "duration": 0,
    "start_time": "2023-10-19T19:24:02.915Z"
   },
   {
    "duration": 0,
    "start_time": "2023-10-19T19:24:02.917Z"
   },
   {
    "duration": 0,
    "start_time": "2023-10-19T19:24:02.918Z"
   },
   {
    "duration": 0,
    "start_time": "2023-10-19T19:24:02.919Z"
   },
   {
    "duration": 0,
    "start_time": "2023-10-19T19:24:02.920Z"
   },
   {
    "duration": 0,
    "start_time": "2023-10-19T19:24:02.957Z"
   },
   {
    "duration": 0,
    "start_time": "2023-10-19T19:24:02.958Z"
   },
   {
    "duration": 0,
    "start_time": "2023-10-19T19:24:02.959Z"
   },
   {
    "duration": 0,
    "start_time": "2023-10-19T19:24:02.960Z"
   },
   {
    "duration": 0,
    "start_time": "2023-10-19T19:24:02.961Z"
   },
   {
    "duration": 0,
    "start_time": "2023-10-19T19:24:02.962Z"
   },
   {
    "duration": 0,
    "start_time": "2023-10-19T19:24:02.964Z"
   },
   {
    "duration": 0,
    "start_time": "2023-10-19T19:24:02.964Z"
   },
   {
    "duration": 0,
    "start_time": "2023-10-19T19:24:02.965Z"
   },
   {
    "duration": 0,
    "start_time": "2023-10-19T19:24:02.967Z"
   },
   {
    "duration": 0,
    "start_time": "2023-10-19T19:24:02.968Z"
   },
   {
    "duration": 0,
    "start_time": "2023-10-19T19:24:02.969Z"
   },
   {
    "duration": 0,
    "start_time": "2023-10-19T19:24:02.971Z"
   },
   {
    "duration": 0,
    "start_time": "2023-10-19T19:24:02.972Z"
   },
   {
    "duration": 0,
    "start_time": "2023-10-19T19:24:02.973Z"
   },
   {
    "duration": 10,
    "start_time": "2023-10-19T19:25:37.875Z"
   },
   {
    "duration": 1240,
    "start_time": "2023-10-19T19:25:56.732Z"
   },
   {
    "duration": 161,
    "start_time": "2023-10-19T19:25:57.974Z"
   },
   {
    "duration": 13,
    "start_time": "2023-10-19T19:25:58.137Z"
   },
   {
    "duration": 27,
    "start_time": "2023-10-19T19:25:58.152Z"
   },
   {
    "duration": 25,
    "start_time": "2023-10-19T19:25:58.181Z"
   },
   {
    "duration": 42,
    "start_time": "2023-10-19T19:25:58.208Z"
   },
   {
    "duration": 16,
    "start_time": "2023-10-19T19:25:58.252Z"
   },
   {
    "duration": 42,
    "start_time": "2023-10-19T19:25:58.270Z"
   },
   {
    "duration": 35,
    "start_time": "2023-10-19T19:25:58.314Z"
   },
   {
    "duration": 31,
    "start_time": "2023-10-19T19:25:58.352Z"
   },
   {
    "duration": 28,
    "start_time": "2023-10-19T19:25:58.385Z"
   },
   {
    "duration": 46,
    "start_time": "2023-10-19T19:25:58.415Z"
   },
   {
    "duration": 21,
    "start_time": "2023-10-19T19:25:58.463Z"
   },
   {
    "duration": 25,
    "start_time": "2023-10-19T19:25:58.486Z"
   },
   {
    "duration": 24,
    "start_time": "2023-10-19T19:25:58.513Z"
   },
   {
    "duration": 29,
    "start_time": "2023-10-19T19:25:58.539Z"
   },
   {
    "duration": 12,
    "start_time": "2023-10-19T19:25:58.570Z"
   },
   {
    "duration": 26,
    "start_time": "2023-10-19T19:25:58.583Z"
   },
   {
    "duration": 19,
    "start_time": "2023-10-19T19:25:58.611Z"
   },
   {
    "duration": 37,
    "start_time": "2023-10-19T19:25:58.632Z"
   },
   {
    "duration": 22,
    "start_time": "2023-10-19T19:25:58.672Z"
   },
   {
    "duration": 15,
    "start_time": "2023-10-19T19:25:58.697Z"
   },
   {
    "duration": 34,
    "start_time": "2023-10-19T19:25:58.715Z"
   },
   {
    "duration": 36,
    "start_time": "2023-10-19T19:25:58.751Z"
   },
   {
    "duration": 220,
    "start_time": "2023-10-19T19:25:58.789Z"
   },
   {
    "duration": 152,
    "start_time": "2023-10-19T19:25:59.011Z"
   },
   {
    "duration": 105,
    "start_time": "2023-10-19T19:25:59.166Z"
   },
   {
    "duration": 0,
    "start_time": "2023-10-19T19:25:59.274Z"
   },
   {
    "duration": 0,
    "start_time": "2023-10-19T19:25:59.275Z"
   },
   {
    "duration": 0,
    "start_time": "2023-10-19T19:25:59.276Z"
   },
   {
    "duration": 0,
    "start_time": "2023-10-19T19:25:59.277Z"
   },
   {
    "duration": 0,
    "start_time": "2023-10-19T19:25:59.278Z"
   },
   {
    "duration": 0,
    "start_time": "2023-10-19T19:25:59.280Z"
   },
   {
    "duration": 0,
    "start_time": "2023-10-19T19:25:59.281Z"
   },
   {
    "duration": 0,
    "start_time": "2023-10-19T19:25:59.282Z"
   },
   {
    "duration": 0,
    "start_time": "2023-10-19T19:25:59.282Z"
   },
   {
    "duration": 0,
    "start_time": "2023-10-19T19:25:59.283Z"
   },
   {
    "duration": 0,
    "start_time": "2023-10-19T19:25:59.284Z"
   },
   {
    "duration": 0,
    "start_time": "2023-10-19T19:25:59.286Z"
   },
   {
    "duration": 0,
    "start_time": "2023-10-19T19:25:59.287Z"
   },
   {
    "duration": 0,
    "start_time": "2023-10-19T19:25:59.289Z"
   },
   {
    "duration": 0,
    "start_time": "2023-10-19T19:25:59.289Z"
   },
   {
    "duration": 0,
    "start_time": "2023-10-19T19:25:59.291Z"
   },
   {
    "duration": 0,
    "start_time": "2023-10-19T19:25:59.292Z"
   },
   {
    "duration": 0,
    "start_time": "2023-10-19T19:25:59.293Z"
   },
   {
    "duration": 0,
    "start_time": "2023-10-19T19:25:59.294Z"
   },
   {
    "duration": 0,
    "start_time": "2023-10-19T19:25:59.295Z"
   },
   {
    "duration": 0,
    "start_time": "2023-10-19T19:25:59.296Z"
   },
   {
    "duration": 0,
    "start_time": "2023-10-19T19:25:59.297Z"
   },
   {
    "duration": 0,
    "start_time": "2023-10-19T19:25:59.298Z"
   },
   {
    "duration": 0,
    "start_time": "2023-10-19T19:25:59.299Z"
   },
   {
    "duration": 0,
    "start_time": "2023-10-19T19:25:59.300Z"
   },
   {
    "duration": 0,
    "start_time": "2023-10-19T19:25:59.300Z"
   },
   {
    "duration": 0,
    "start_time": "2023-10-19T19:25:59.301Z"
   },
   {
    "duration": 0,
    "start_time": "2023-10-19T19:25:59.302Z"
   },
   {
    "duration": 0,
    "start_time": "2023-10-19T19:25:59.304Z"
   },
   {
    "duration": 0,
    "start_time": "2023-10-19T19:25:59.357Z"
   },
   {
    "duration": 0,
    "start_time": "2023-10-19T19:25:59.358Z"
   },
   {
    "duration": 0,
    "start_time": "2023-10-19T19:25:59.359Z"
   },
   {
    "duration": 11,
    "start_time": "2023-10-19T19:26:20.143Z"
   },
   {
    "duration": 11,
    "start_time": "2023-10-19T19:26:37.013Z"
   },
   {
    "duration": 11,
    "start_time": "2023-10-19T19:26:50.218Z"
   },
   {
    "duration": 10,
    "start_time": "2023-10-19T19:27:05.941Z"
   },
   {
    "duration": 1168,
    "start_time": "2023-10-19T19:27:50.992Z"
   },
   {
    "duration": 144,
    "start_time": "2023-10-19T19:27:52.163Z"
   },
   {
    "duration": 14,
    "start_time": "2023-10-19T19:27:52.309Z"
   },
   {
    "duration": 42,
    "start_time": "2023-10-19T19:27:52.325Z"
   },
   {
    "duration": 21,
    "start_time": "2023-10-19T19:27:52.369Z"
   },
   {
    "duration": 20,
    "start_time": "2023-10-19T19:27:52.392Z"
   },
   {
    "duration": 15,
    "start_time": "2023-10-19T19:27:52.413Z"
   },
   {
    "duration": 40,
    "start_time": "2023-10-19T19:27:52.430Z"
   },
   {
    "duration": 28,
    "start_time": "2023-10-19T19:27:52.472Z"
   },
   {
    "duration": 38,
    "start_time": "2023-10-19T19:27:52.503Z"
   },
   {
    "duration": 19,
    "start_time": "2023-10-19T19:27:52.543Z"
   },
   {
    "duration": 51,
    "start_time": "2023-10-19T19:27:52.565Z"
   },
   {
    "duration": 14,
    "start_time": "2023-10-19T19:27:52.618Z"
   },
   {
    "duration": 10,
    "start_time": "2023-10-19T19:27:52.634Z"
   },
   {
    "duration": 34,
    "start_time": "2023-10-19T19:27:52.645Z"
   },
   {
    "duration": 24,
    "start_time": "2023-10-19T19:27:52.680Z"
   },
   {
    "duration": 31,
    "start_time": "2023-10-19T19:27:52.705Z"
   },
   {
    "duration": 14,
    "start_time": "2023-10-19T19:27:52.737Z"
   },
   {
    "duration": 22,
    "start_time": "2023-10-19T19:27:52.752Z"
   },
   {
    "duration": 61,
    "start_time": "2023-10-19T19:27:52.776Z"
   },
   {
    "duration": 36,
    "start_time": "2023-10-19T19:27:52.839Z"
   },
   {
    "duration": 22,
    "start_time": "2023-10-19T19:27:52.877Z"
   },
   {
    "duration": 34,
    "start_time": "2023-10-19T19:27:52.901Z"
   },
   {
    "duration": 43,
    "start_time": "2023-10-19T19:27:52.937Z"
   },
   {
    "duration": 191,
    "start_time": "2023-10-19T19:27:52.982Z"
   },
   {
    "duration": 132,
    "start_time": "2023-10-19T19:27:53.175Z"
   },
   {
    "duration": 107,
    "start_time": "2023-10-19T19:27:53.309Z"
   },
   {
    "duration": 0,
    "start_time": "2023-10-19T19:27:53.418Z"
   },
   {
    "duration": 0,
    "start_time": "2023-10-19T19:27:53.419Z"
   },
   {
    "duration": 0,
    "start_time": "2023-10-19T19:27:53.420Z"
   },
   {
    "duration": 0,
    "start_time": "2023-10-19T19:27:53.422Z"
   },
   {
    "duration": 0,
    "start_time": "2023-10-19T19:27:53.423Z"
   },
   {
    "duration": 0,
    "start_time": "2023-10-19T19:27:53.424Z"
   },
   {
    "duration": 0,
    "start_time": "2023-10-19T19:27:53.425Z"
   },
   {
    "duration": 0,
    "start_time": "2023-10-19T19:27:53.426Z"
   },
   {
    "duration": 0,
    "start_time": "2023-10-19T19:27:53.427Z"
   },
   {
    "duration": 0,
    "start_time": "2023-10-19T19:27:53.428Z"
   },
   {
    "duration": 0,
    "start_time": "2023-10-19T19:27:53.429Z"
   },
   {
    "duration": 0,
    "start_time": "2023-10-19T19:27:53.430Z"
   },
   {
    "duration": 0,
    "start_time": "2023-10-19T19:27:53.431Z"
   },
   {
    "duration": 0,
    "start_time": "2023-10-19T19:27:53.432Z"
   },
   {
    "duration": 0,
    "start_time": "2023-10-19T19:27:53.456Z"
   },
   {
    "duration": 0,
    "start_time": "2023-10-19T19:27:53.458Z"
   },
   {
    "duration": 0,
    "start_time": "2023-10-19T19:27:53.459Z"
   },
   {
    "duration": 0,
    "start_time": "2023-10-19T19:27:53.460Z"
   },
   {
    "duration": 0,
    "start_time": "2023-10-19T19:27:53.461Z"
   },
   {
    "duration": 0,
    "start_time": "2023-10-19T19:27:53.462Z"
   },
   {
    "duration": 0,
    "start_time": "2023-10-19T19:27:53.463Z"
   },
   {
    "duration": 0,
    "start_time": "2023-10-19T19:27:53.464Z"
   },
   {
    "duration": 0,
    "start_time": "2023-10-19T19:27:53.465Z"
   },
   {
    "duration": 0,
    "start_time": "2023-10-19T19:27:53.466Z"
   },
   {
    "duration": 0,
    "start_time": "2023-10-19T19:27:53.467Z"
   },
   {
    "duration": 0,
    "start_time": "2023-10-19T19:27:53.467Z"
   },
   {
    "duration": 0,
    "start_time": "2023-10-19T19:27:53.468Z"
   },
   {
    "duration": 0,
    "start_time": "2023-10-19T19:27:53.469Z"
   },
   {
    "duration": 0,
    "start_time": "2023-10-19T19:27:53.470Z"
   },
   {
    "duration": 0,
    "start_time": "2023-10-19T19:27:53.471Z"
   },
   {
    "duration": 0,
    "start_time": "2023-10-19T19:27:53.472Z"
   },
   {
    "duration": 11,
    "start_time": "2023-10-19T19:28:13.558Z"
   },
   {
    "duration": 1269,
    "start_time": "2023-10-19T19:28:59.538Z"
   },
   {
    "duration": 161,
    "start_time": "2023-10-19T19:29:00.810Z"
   },
   {
    "duration": 14,
    "start_time": "2023-10-19T19:29:00.973Z"
   },
   {
    "duration": 27,
    "start_time": "2023-10-19T19:29:00.989Z"
   },
   {
    "duration": 54,
    "start_time": "2023-10-19T19:29:01.018Z"
   },
   {
    "duration": 93,
    "start_time": "2023-10-19T19:29:01.074Z"
   },
   {
    "duration": 74,
    "start_time": "2023-10-19T19:29:01.169Z"
   },
   {
    "duration": 65,
    "start_time": "2023-10-19T19:29:01.245Z"
   },
   {
    "duration": 77,
    "start_time": "2023-10-19T19:29:01.312Z"
   },
   {
    "duration": 94,
    "start_time": "2023-10-19T19:29:01.392Z"
   },
   {
    "duration": 73,
    "start_time": "2023-10-19T19:29:01.487Z"
   },
   {
    "duration": 104,
    "start_time": "2023-10-19T19:29:01.562Z"
   },
   {
    "duration": 100,
    "start_time": "2023-10-19T19:29:01.669Z"
   },
   {
    "duration": 46,
    "start_time": "2023-10-19T19:29:01.771Z"
   },
   {
    "duration": 106,
    "start_time": "2023-10-19T19:29:01.820Z"
   },
   {
    "duration": 102,
    "start_time": "2023-10-19T19:29:01.929Z"
   },
   {
    "duration": 76,
    "start_time": "2023-10-19T19:29:02.033Z"
   },
   {
    "duration": 36,
    "start_time": "2023-10-19T19:29:02.112Z"
   },
   {
    "duration": 48,
    "start_time": "2023-10-19T19:29:02.150Z"
   },
   {
    "duration": 22,
    "start_time": "2023-10-19T19:29:02.199Z"
   },
   {
    "duration": 35,
    "start_time": "2023-10-19T19:29:02.223Z"
   },
   {
    "duration": 17,
    "start_time": "2023-10-19T19:29:02.259Z"
   },
   {
    "duration": 61,
    "start_time": "2023-10-19T19:29:02.278Z"
   },
   {
    "duration": 71,
    "start_time": "2023-10-19T19:29:02.341Z"
   },
   {
    "duration": 203,
    "start_time": "2023-10-19T19:29:02.414Z"
   },
   {
    "duration": 127,
    "start_time": "2023-10-19T19:29:02.619Z"
   },
   {
    "duration": 118,
    "start_time": "2023-10-19T19:29:02.757Z"
   },
   {
    "duration": 0,
    "start_time": "2023-10-19T19:29:02.878Z"
   },
   {
    "duration": 0,
    "start_time": "2023-10-19T19:29:02.880Z"
   },
   {
    "duration": 0,
    "start_time": "2023-10-19T19:29:02.881Z"
   },
   {
    "duration": 0,
    "start_time": "2023-10-19T19:29:02.883Z"
   },
   {
    "duration": 0,
    "start_time": "2023-10-19T19:29:02.885Z"
   },
   {
    "duration": 0,
    "start_time": "2023-10-19T19:29:02.886Z"
   },
   {
    "duration": 0,
    "start_time": "2023-10-19T19:29:02.888Z"
   },
   {
    "duration": 0,
    "start_time": "2023-10-19T19:29:02.889Z"
   },
   {
    "duration": 0,
    "start_time": "2023-10-19T19:29:02.891Z"
   },
   {
    "duration": 0,
    "start_time": "2023-10-19T19:29:02.892Z"
   },
   {
    "duration": 0,
    "start_time": "2023-10-19T19:29:02.894Z"
   },
   {
    "duration": 0,
    "start_time": "2023-10-19T19:29:02.896Z"
   },
   {
    "duration": 0,
    "start_time": "2023-10-19T19:29:02.897Z"
   },
   {
    "duration": 0,
    "start_time": "2023-10-19T19:29:02.898Z"
   },
   {
    "duration": 0,
    "start_time": "2023-10-19T19:29:02.900Z"
   },
   {
    "duration": 0,
    "start_time": "2023-10-19T19:29:02.901Z"
   },
   {
    "duration": 0,
    "start_time": "2023-10-19T19:29:02.903Z"
   },
   {
    "duration": 0,
    "start_time": "2023-10-19T19:29:02.904Z"
   },
   {
    "duration": 0,
    "start_time": "2023-10-19T19:29:02.906Z"
   },
   {
    "duration": 0,
    "start_time": "2023-10-19T19:29:02.907Z"
   },
   {
    "duration": 0,
    "start_time": "2023-10-19T19:29:02.908Z"
   },
   {
    "duration": 0,
    "start_time": "2023-10-19T19:29:02.909Z"
   },
   {
    "duration": 0,
    "start_time": "2023-10-19T19:29:02.910Z"
   },
   {
    "duration": 0,
    "start_time": "2023-10-19T19:29:02.910Z"
   },
   {
    "duration": 0,
    "start_time": "2023-10-19T19:29:02.957Z"
   },
   {
    "duration": 0,
    "start_time": "2023-10-19T19:29:02.958Z"
   },
   {
    "duration": 0,
    "start_time": "2023-10-19T19:29:02.959Z"
   },
   {
    "duration": 0,
    "start_time": "2023-10-19T19:29:02.960Z"
   },
   {
    "duration": 0,
    "start_time": "2023-10-19T19:29:02.961Z"
   },
   {
    "duration": 0,
    "start_time": "2023-10-19T19:29:02.962Z"
   },
   {
    "duration": 0,
    "start_time": "2023-10-19T19:29:02.963Z"
   },
   {
    "duration": 0,
    "start_time": "2023-10-19T19:29:02.964Z"
   },
   {
    "duration": 10,
    "start_time": "2023-10-19T19:29:12.328Z"
   },
   {
    "duration": 33,
    "start_time": "2023-10-19T19:30:14.563Z"
   },
   {
    "duration": 15,
    "start_time": "2023-10-19T19:30:19.210Z"
   },
   {
    "duration": 796,
    "start_time": "2023-10-19T19:31:15.100Z"
   },
   {
    "duration": 10,
    "start_time": "2023-10-19T19:31:24.214Z"
   },
   {
    "duration": 11,
    "start_time": "2023-10-19T19:31:31.877Z"
   },
   {
    "duration": 10,
    "start_time": "2023-10-19T19:31:40.475Z"
   },
   {
    "duration": 1748,
    "start_time": "2023-10-19T19:31:51.383Z"
   },
   {
    "duration": 1496,
    "start_time": "2023-10-19T19:32:13.251Z"
   },
   {
    "duration": 1564,
    "start_time": "2023-10-19T19:32:42.059Z"
   },
   {
    "duration": 9,
    "start_time": "2023-10-19T19:32:45.872Z"
   },
   {
    "duration": 3,
    "start_time": "2023-10-19T19:32:53.768Z"
   },
   {
    "duration": 4,
    "start_time": "2023-10-19T19:32:57.321Z"
   },
   {
    "duration": 10,
    "start_time": "2023-10-19T19:33:34.934Z"
   },
   {
    "duration": 10,
    "start_time": "2023-10-19T19:33:39.984Z"
   },
   {
    "duration": 1192,
    "start_time": "2023-10-19T19:33:49.079Z"
   },
   {
    "duration": 153,
    "start_time": "2023-10-19T19:33:50.275Z"
   },
   {
    "duration": 13,
    "start_time": "2023-10-19T19:33:50.431Z"
   },
   {
    "duration": 31,
    "start_time": "2023-10-19T19:33:50.446Z"
   },
   {
    "duration": 18,
    "start_time": "2023-10-19T19:33:50.480Z"
   },
   {
    "duration": 52,
    "start_time": "2023-10-19T19:33:50.501Z"
   },
   {
    "duration": 36,
    "start_time": "2023-10-19T19:33:50.555Z"
   },
   {
    "duration": 46,
    "start_time": "2023-10-19T19:33:50.593Z"
   },
   {
    "duration": 26,
    "start_time": "2023-10-19T19:33:50.643Z"
   },
   {
    "duration": 45,
    "start_time": "2023-10-19T19:33:50.672Z"
   },
   {
    "duration": 23,
    "start_time": "2023-10-19T19:33:50.720Z"
   },
   {
    "duration": 48,
    "start_time": "2023-10-19T19:33:50.746Z"
   },
   {
    "duration": 100,
    "start_time": "2023-10-19T19:33:50.796Z"
   },
   {
    "duration": 35,
    "start_time": "2023-10-19T19:33:50.898Z"
   },
   {
    "duration": 20,
    "start_time": "2023-10-19T19:33:50.935Z"
   },
   {
    "duration": 30,
    "start_time": "2023-10-19T19:33:50.957Z"
   },
   {
    "duration": 25,
    "start_time": "2023-10-19T19:33:50.989Z"
   },
   {
    "duration": 19,
    "start_time": "2023-10-19T19:33:51.016Z"
   },
   {
    "duration": 15,
    "start_time": "2023-10-19T19:33:51.037Z"
   },
   {
    "duration": 21,
    "start_time": "2023-10-19T19:33:51.055Z"
   },
   {
    "duration": 66,
    "start_time": "2023-10-19T19:33:51.079Z"
   },
   {
    "duration": 20,
    "start_time": "2023-10-19T19:33:51.148Z"
   },
   {
    "duration": 24,
    "start_time": "2023-10-19T19:33:51.170Z"
   },
   {
    "duration": 29,
    "start_time": "2023-10-19T19:33:51.196Z"
   },
   {
    "duration": 184,
    "start_time": "2023-10-19T19:33:51.228Z"
   },
   {
    "duration": 133,
    "start_time": "2023-10-19T19:33:51.413Z"
   },
   {
    "duration": 100,
    "start_time": "2023-10-19T19:33:51.559Z"
   },
   {
    "duration": 0,
    "start_time": "2023-10-19T19:33:51.661Z"
   },
   {
    "duration": 0,
    "start_time": "2023-10-19T19:33:51.662Z"
   },
   {
    "duration": 0,
    "start_time": "2023-10-19T19:33:51.664Z"
   },
   {
    "duration": 0,
    "start_time": "2023-10-19T19:33:51.665Z"
   },
   {
    "duration": 0,
    "start_time": "2023-10-19T19:33:51.666Z"
   },
   {
    "duration": 0,
    "start_time": "2023-10-19T19:33:51.667Z"
   },
   {
    "duration": 0,
    "start_time": "2023-10-19T19:33:51.669Z"
   },
   {
    "duration": 0,
    "start_time": "2023-10-19T19:33:51.670Z"
   },
   {
    "duration": 0,
    "start_time": "2023-10-19T19:33:51.671Z"
   },
   {
    "duration": 0,
    "start_time": "2023-10-19T19:33:51.672Z"
   },
   {
    "duration": 0,
    "start_time": "2023-10-19T19:33:51.673Z"
   },
   {
    "duration": 0,
    "start_time": "2023-10-19T19:33:51.675Z"
   },
   {
    "duration": 0,
    "start_time": "2023-10-19T19:33:51.677Z"
   },
   {
    "duration": 0,
    "start_time": "2023-10-19T19:33:51.678Z"
   },
   {
    "duration": 0,
    "start_time": "2023-10-19T19:33:51.680Z"
   },
   {
    "duration": 0,
    "start_time": "2023-10-19T19:33:51.681Z"
   },
   {
    "duration": 0,
    "start_time": "2023-10-19T19:33:51.682Z"
   },
   {
    "duration": 0,
    "start_time": "2023-10-19T19:33:51.683Z"
   },
   {
    "duration": 0,
    "start_time": "2023-10-19T19:33:51.684Z"
   },
   {
    "duration": 0,
    "start_time": "2023-10-19T19:33:51.688Z"
   },
   {
    "duration": 0,
    "start_time": "2023-10-19T19:33:51.689Z"
   },
   {
    "duration": 0,
    "start_time": "2023-10-19T19:33:51.690Z"
   },
   {
    "duration": 0,
    "start_time": "2023-10-19T19:33:51.691Z"
   },
   {
    "duration": 0,
    "start_time": "2023-10-19T19:33:51.692Z"
   },
   {
    "duration": 1,
    "start_time": "2023-10-19T19:33:51.693Z"
   },
   {
    "duration": 0,
    "start_time": "2023-10-19T19:33:51.694Z"
   },
   {
    "duration": 0,
    "start_time": "2023-10-19T19:33:51.696Z"
   },
   {
    "duration": 0,
    "start_time": "2023-10-19T19:33:51.756Z"
   },
   {
    "duration": 0,
    "start_time": "2023-10-19T19:33:51.758Z"
   },
   {
    "duration": 0,
    "start_time": "2023-10-19T19:33:51.759Z"
   },
   {
    "duration": 0,
    "start_time": "2023-10-19T19:33:51.760Z"
   },
   {
    "duration": 0,
    "start_time": "2023-10-19T19:33:51.761Z"
   },
   {
    "duration": 13,
    "start_time": "2023-10-19T19:33:59.383Z"
   },
   {
    "duration": 11,
    "start_time": "2023-10-19T19:34:01.358Z"
   },
   {
    "duration": 14,
    "start_time": "2023-10-19T19:34:29.009Z"
   },
   {
    "duration": 10,
    "start_time": "2023-10-19T19:34:41.098Z"
   },
   {
    "duration": 11,
    "start_time": "2023-10-19T19:34:46.091Z"
   },
   {
    "duration": 12,
    "start_time": "2023-10-19T19:44:04.600Z"
   },
   {
    "duration": 10,
    "start_time": "2023-10-19T19:44:15.924Z"
   },
   {
    "duration": 11,
    "start_time": "2023-10-19T19:44:22.402Z"
   },
   {
    "duration": 9,
    "start_time": "2023-10-19T19:45:03.596Z"
   },
   {
    "duration": 10,
    "start_time": "2023-10-19T19:45:22.236Z"
   },
   {
    "duration": 11,
    "start_time": "2023-10-19T19:45:30.285Z"
   },
   {
    "duration": 11,
    "start_time": "2023-10-19T19:45:53.584Z"
   },
   {
    "duration": 9,
    "start_time": "2023-10-19T19:46:09.385Z"
   },
   {
    "duration": 10,
    "start_time": "2023-10-19T19:46:21.385Z"
   },
   {
    "duration": 1208,
    "start_time": "2023-10-19T19:50:01.241Z"
   },
   {
    "duration": 140,
    "start_time": "2023-10-19T19:50:02.451Z"
   },
   {
    "duration": 15,
    "start_time": "2023-10-19T19:50:02.593Z"
   },
   {
    "duration": 75,
    "start_time": "2023-10-19T19:50:02.610Z"
   },
   {
    "duration": 99,
    "start_time": "2023-10-19T19:50:02.686Z"
   },
   {
    "duration": 64,
    "start_time": "2023-10-19T19:50:02.787Z"
   },
   {
    "duration": 58,
    "start_time": "2023-10-19T19:50:02.854Z"
   },
   {
    "duration": 57,
    "start_time": "2023-10-19T19:50:02.914Z"
   },
   {
    "duration": 72,
    "start_time": "2023-10-19T19:50:02.973Z"
   },
   {
    "duration": 74,
    "start_time": "2023-10-19T19:50:03.049Z"
   },
   {
    "duration": 53,
    "start_time": "2023-10-19T19:50:03.125Z"
   },
   {
    "duration": 49,
    "start_time": "2023-10-19T19:50:03.180Z"
   },
   {
    "duration": 127,
    "start_time": "2023-10-19T19:50:03.231Z"
   },
   {
    "duration": 47,
    "start_time": "2023-10-19T19:50:03.360Z"
   },
   {
    "duration": 52,
    "start_time": "2023-10-19T19:50:03.409Z"
   },
   {
    "duration": 34,
    "start_time": "2023-10-19T19:50:03.463Z"
   },
   {
    "duration": 203,
    "start_time": "2023-10-19T19:50:03.499Z"
   },
   {
    "duration": 71,
    "start_time": "2023-10-19T19:50:03.704Z"
   },
   {
    "duration": 34,
    "start_time": "2023-10-19T19:50:03.777Z"
   },
   {
    "duration": 24,
    "start_time": "2023-10-19T19:50:03.813Z"
   },
   {
    "duration": 19,
    "start_time": "2023-10-19T19:50:03.839Z"
   },
   {
    "duration": 10,
    "start_time": "2023-10-19T19:50:03.860Z"
   },
   {
    "duration": 15,
    "start_time": "2023-10-19T19:50:03.872Z"
   },
   {
    "duration": 14,
    "start_time": "2023-10-19T19:50:03.889Z"
   },
   {
    "duration": 181,
    "start_time": "2023-10-19T19:50:03.904Z"
   },
   {
    "duration": 135,
    "start_time": "2023-10-19T19:50:04.086Z"
   },
   {
    "duration": 112,
    "start_time": "2023-10-19T19:50:04.223Z"
   },
   {
    "duration": 0,
    "start_time": "2023-10-19T19:50:04.338Z"
   },
   {
    "duration": 0,
    "start_time": "2023-10-19T19:50:04.339Z"
   },
   {
    "duration": 0,
    "start_time": "2023-10-19T19:50:04.340Z"
   },
   {
    "duration": 0,
    "start_time": "2023-10-19T19:50:04.341Z"
   },
   {
    "duration": 0,
    "start_time": "2023-10-19T19:50:04.342Z"
   },
   {
    "duration": 0,
    "start_time": "2023-10-19T19:50:04.343Z"
   },
   {
    "duration": 0,
    "start_time": "2023-10-19T19:50:04.356Z"
   },
   {
    "duration": 0,
    "start_time": "2023-10-19T19:50:04.358Z"
   },
   {
    "duration": 0,
    "start_time": "2023-10-19T19:50:04.359Z"
   },
   {
    "duration": 0,
    "start_time": "2023-10-19T19:50:04.360Z"
   },
   {
    "duration": 0,
    "start_time": "2023-10-19T19:50:04.361Z"
   },
   {
    "duration": 0,
    "start_time": "2023-10-19T19:50:04.362Z"
   },
   {
    "duration": 0,
    "start_time": "2023-10-19T19:50:04.364Z"
   },
   {
    "duration": 0,
    "start_time": "2023-10-19T19:50:04.365Z"
   },
   {
    "duration": 0,
    "start_time": "2023-10-19T19:50:04.366Z"
   },
   {
    "duration": 0,
    "start_time": "2023-10-19T19:50:04.367Z"
   },
   {
    "duration": 0,
    "start_time": "2023-10-19T19:50:04.369Z"
   },
   {
    "duration": 0,
    "start_time": "2023-10-19T19:50:04.370Z"
   },
   {
    "duration": 0,
    "start_time": "2023-10-19T19:50:04.371Z"
   },
   {
    "duration": 0,
    "start_time": "2023-10-19T19:50:04.372Z"
   },
   {
    "duration": 0,
    "start_time": "2023-10-19T19:50:04.373Z"
   },
   {
    "duration": 0,
    "start_time": "2023-10-19T19:50:04.374Z"
   },
   {
    "duration": 0,
    "start_time": "2023-10-19T19:50:04.375Z"
   },
   {
    "duration": 0,
    "start_time": "2023-10-19T19:50:04.376Z"
   },
   {
    "duration": 0,
    "start_time": "2023-10-19T19:50:04.377Z"
   },
   {
    "duration": 0,
    "start_time": "2023-10-19T19:50:04.378Z"
   },
   {
    "duration": 0,
    "start_time": "2023-10-19T19:50:04.379Z"
   },
   {
    "duration": 0,
    "start_time": "2023-10-19T19:50:04.381Z"
   },
   {
    "duration": 0,
    "start_time": "2023-10-19T19:50:04.382Z"
   },
   {
    "duration": 0,
    "start_time": "2023-10-19T19:50:04.383Z"
   },
   {
    "duration": 0,
    "start_time": "2023-10-19T19:50:04.384Z"
   },
   {
    "duration": 0,
    "start_time": "2023-10-19T19:50:04.385Z"
   },
   {
    "duration": 9,
    "start_time": "2023-10-19T19:50:30.913Z"
   },
   {
    "duration": 10,
    "start_time": "2023-10-19T19:51:06.618Z"
   },
   {
    "duration": 10,
    "start_time": "2023-10-19T19:51:20.894Z"
   },
   {
    "duration": 10,
    "start_time": "2023-10-19T19:51:26.901Z"
   },
   {
    "duration": 9,
    "start_time": "2023-10-19T19:51:32.318Z"
   },
   {
    "duration": 10,
    "start_time": "2023-10-19T19:51:43.106Z"
   },
   {
    "duration": 9,
    "start_time": "2023-10-19T19:51:48.380Z"
   },
   {
    "duration": 10,
    "start_time": "2023-10-19T19:51:53.145Z"
   },
   {
    "duration": 1230,
    "start_time": "2023-10-19T19:51:58.423Z"
   },
   {
    "duration": 127,
    "start_time": "2023-10-19T19:51:59.657Z"
   },
   {
    "duration": 13,
    "start_time": "2023-10-19T19:51:59.786Z"
   },
   {
    "duration": 36,
    "start_time": "2023-10-19T19:51:59.801Z"
   },
   {
    "duration": 39,
    "start_time": "2023-10-19T19:51:59.839Z"
   },
   {
    "duration": 23,
    "start_time": "2023-10-19T19:51:59.880Z"
   },
   {
    "duration": 11,
    "start_time": "2023-10-19T19:51:59.905Z"
   },
   {
    "duration": 41,
    "start_time": "2023-10-19T19:51:59.918Z"
   },
   {
    "duration": 35,
    "start_time": "2023-10-19T19:51:59.960Z"
   },
   {
    "duration": 74,
    "start_time": "2023-10-19T19:51:59.998Z"
   },
   {
    "duration": 66,
    "start_time": "2023-10-19T19:52:00.074Z"
   },
   {
    "duration": 53,
    "start_time": "2023-10-19T19:52:00.142Z"
   },
   {
    "duration": 32,
    "start_time": "2023-10-19T19:52:00.197Z"
   },
   {
    "duration": 61,
    "start_time": "2023-10-19T19:52:00.231Z"
   },
   {
    "duration": 68,
    "start_time": "2023-10-19T19:52:00.294Z"
   },
   {
    "duration": 41,
    "start_time": "2023-10-19T19:52:00.364Z"
   },
   {
    "duration": 52,
    "start_time": "2023-10-19T19:52:00.407Z"
   },
   {
    "duration": 34,
    "start_time": "2023-10-19T19:52:00.461Z"
   },
   {
    "duration": 26,
    "start_time": "2023-10-19T19:52:00.498Z"
   },
   {
    "duration": 34,
    "start_time": "2023-10-19T19:52:00.526Z"
   },
   {
    "duration": 27,
    "start_time": "2023-10-19T19:52:00.562Z"
   },
   {
    "duration": 25,
    "start_time": "2023-10-19T19:52:00.591Z"
   },
   {
    "duration": 29,
    "start_time": "2023-10-19T19:52:00.619Z"
   },
   {
    "duration": 45,
    "start_time": "2023-10-19T19:52:00.650Z"
   },
   {
    "duration": 196,
    "start_time": "2023-10-19T19:52:00.697Z"
   },
   {
    "duration": 135,
    "start_time": "2023-10-19T19:52:00.895Z"
   },
   {
    "duration": 116,
    "start_time": "2023-10-19T19:52:01.032Z"
   },
   {
    "duration": 0,
    "start_time": "2023-10-19T19:52:01.151Z"
   },
   {
    "duration": 0,
    "start_time": "2023-10-19T19:52:01.156Z"
   },
   {
    "duration": 0,
    "start_time": "2023-10-19T19:52:01.158Z"
   },
   {
    "duration": 0,
    "start_time": "2023-10-19T19:52:01.159Z"
   },
   {
    "duration": 0,
    "start_time": "2023-10-19T19:52:01.160Z"
   },
   {
    "duration": 0,
    "start_time": "2023-10-19T19:52:01.162Z"
   },
   {
    "duration": 0,
    "start_time": "2023-10-19T19:52:01.163Z"
   },
   {
    "duration": 0,
    "start_time": "2023-10-19T19:52:01.164Z"
   },
   {
    "duration": 0,
    "start_time": "2023-10-19T19:52:01.165Z"
   },
   {
    "duration": 0,
    "start_time": "2023-10-19T19:52:01.167Z"
   },
   {
    "duration": 0,
    "start_time": "2023-10-19T19:52:01.168Z"
   },
   {
    "duration": 0,
    "start_time": "2023-10-19T19:52:01.169Z"
   },
   {
    "duration": 0,
    "start_time": "2023-10-19T19:52:01.171Z"
   },
   {
    "duration": 0,
    "start_time": "2023-10-19T19:52:01.171Z"
   },
   {
    "duration": 0,
    "start_time": "2023-10-19T19:52:01.172Z"
   },
   {
    "duration": 0,
    "start_time": "2023-10-19T19:52:01.174Z"
   },
   {
    "duration": 0,
    "start_time": "2023-10-19T19:52:01.175Z"
   },
   {
    "duration": 0,
    "start_time": "2023-10-19T19:52:01.176Z"
   },
   {
    "duration": 0,
    "start_time": "2023-10-19T19:52:01.178Z"
   },
   {
    "duration": 0,
    "start_time": "2023-10-19T19:52:01.179Z"
   },
   {
    "duration": 0,
    "start_time": "2023-10-19T19:52:01.180Z"
   },
   {
    "duration": 0,
    "start_time": "2023-10-19T19:52:01.182Z"
   },
   {
    "duration": 0,
    "start_time": "2023-10-19T19:52:01.183Z"
   },
   {
    "duration": 0,
    "start_time": "2023-10-19T19:52:01.184Z"
   },
   {
    "duration": 0,
    "start_time": "2023-10-19T19:52:01.185Z"
   },
   {
    "duration": 0,
    "start_time": "2023-10-19T19:52:01.186Z"
   },
   {
    "duration": 0,
    "start_time": "2023-10-19T19:52:01.187Z"
   },
   {
    "duration": 0,
    "start_time": "2023-10-19T19:52:01.189Z"
   },
   {
    "duration": 0,
    "start_time": "2023-10-19T19:52:01.190Z"
   },
   {
    "duration": 0,
    "start_time": "2023-10-19T19:52:01.191Z"
   },
   {
    "duration": 0,
    "start_time": "2023-10-19T19:52:01.192Z"
   },
   {
    "duration": 10,
    "start_time": "2023-10-19T19:52:09.089Z"
   },
   {
    "duration": 104,
    "start_time": "2023-10-19T19:53:10.398Z"
   },
   {
    "duration": 9,
    "start_time": "2023-10-19T19:53:15.136Z"
   },
   {
    "duration": 33,
    "start_time": "2023-10-19T19:53:38.281Z"
   },
   {
    "duration": 11,
    "start_time": "2023-10-19T19:54:13.026Z"
   },
   {
    "duration": 11,
    "start_time": "2023-10-19T19:54:21.900Z"
   },
   {
    "duration": 8,
    "start_time": "2023-10-19T19:54:28.363Z"
   },
   {
    "duration": 5,
    "start_time": "2023-10-19T19:54:44.837Z"
   },
   {
    "duration": 5,
    "start_time": "2023-10-19T19:54:48.734Z"
   },
   {
    "duration": 802,
    "start_time": "2023-10-19T19:54:51.551Z"
   },
   {
    "duration": 5,
    "start_time": "2023-10-19T19:54:53.473Z"
   },
   {
    "duration": 14,
    "start_time": "2023-10-19T19:55:00.700Z"
   },
   {
    "duration": 1342,
    "start_time": "2023-10-19T19:55:11.950Z"
   },
   {
    "duration": 158,
    "start_time": "2023-10-19T19:55:13.294Z"
   },
   {
    "duration": 13,
    "start_time": "2023-10-19T19:55:13.454Z"
   },
   {
    "duration": 28,
    "start_time": "2023-10-19T19:55:13.469Z"
   },
   {
    "duration": 21,
    "start_time": "2023-10-19T19:55:13.498Z"
   },
   {
    "duration": 35,
    "start_time": "2023-10-19T19:55:13.521Z"
   },
   {
    "duration": 14,
    "start_time": "2023-10-19T19:55:13.558Z"
   },
   {
    "duration": 27,
    "start_time": "2023-10-19T19:55:13.574Z"
   },
   {
    "duration": 20,
    "start_time": "2023-10-19T19:55:13.603Z"
   },
   {
    "duration": 26,
    "start_time": "2023-10-19T19:55:13.626Z"
   },
   {
    "duration": 19,
    "start_time": "2023-10-19T19:55:13.656Z"
   },
   {
    "duration": 16,
    "start_time": "2023-10-19T19:55:13.677Z"
   },
   {
    "duration": 12,
    "start_time": "2023-10-19T19:55:13.695Z"
   },
   {
    "duration": 9,
    "start_time": "2023-10-19T19:55:13.709Z"
   },
   {
    "duration": 42,
    "start_time": "2023-10-19T19:55:13.720Z"
   },
   {
    "duration": 10,
    "start_time": "2023-10-19T19:55:13.763Z"
   },
   {
    "duration": 10,
    "start_time": "2023-10-19T19:55:13.775Z"
   },
   {
    "duration": 10,
    "start_time": "2023-10-19T19:55:13.787Z"
   },
   {
    "duration": 5,
    "start_time": "2023-10-19T19:55:13.798Z"
   },
   {
    "duration": 7,
    "start_time": "2023-10-19T19:55:13.805Z"
   },
   {
    "duration": 9,
    "start_time": "2023-10-19T19:55:13.813Z"
   },
   {
    "duration": 35,
    "start_time": "2023-10-19T19:55:13.823Z"
   },
   {
    "duration": 6,
    "start_time": "2023-10-19T19:55:13.860Z"
   },
   {
    "duration": 14,
    "start_time": "2023-10-19T19:55:13.868Z"
   },
   {
    "duration": 184,
    "start_time": "2023-10-19T19:55:13.884Z"
   },
   {
    "duration": 130,
    "start_time": "2023-10-19T19:55:14.070Z"
   },
   {
    "duration": 107,
    "start_time": "2023-10-19T19:55:14.202Z"
   },
   {
    "duration": 0,
    "start_time": "2023-10-19T19:55:14.311Z"
   },
   {
    "duration": 0,
    "start_time": "2023-10-19T19:55:14.313Z"
   },
   {
    "duration": 0,
    "start_time": "2023-10-19T19:55:14.314Z"
   },
   {
    "duration": 0,
    "start_time": "2023-10-19T19:55:14.315Z"
   },
   {
    "duration": 0,
    "start_time": "2023-10-19T19:55:14.316Z"
   },
   {
    "duration": 0,
    "start_time": "2023-10-19T19:55:14.317Z"
   },
   {
    "duration": 0,
    "start_time": "2023-10-19T19:55:14.318Z"
   },
   {
    "duration": 0,
    "start_time": "2023-10-19T19:55:14.319Z"
   },
   {
    "duration": 0,
    "start_time": "2023-10-19T19:55:14.320Z"
   },
   {
    "duration": 0,
    "start_time": "2023-10-19T19:55:14.321Z"
   },
   {
    "duration": 0,
    "start_time": "2023-10-19T19:55:14.322Z"
   },
   {
    "duration": 0,
    "start_time": "2023-10-19T19:55:14.323Z"
   },
   {
    "duration": 0,
    "start_time": "2023-10-19T19:55:14.324Z"
   },
   {
    "duration": 0,
    "start_time": "2023-10-19T19:55:14.325Z"
   },
   {
    "duration": 0,
    "start_time": "2023-10-19T19:55:14.356Z"
   },
   {
    "duration": 0,
    "start_time": "2023-10-19T19:55:14.358Z"
   },
   {
    "duration": 0,
    "start_time": "2023-10-19T19:55:14.358Z"
   },
   {
    "duration": 0,
    "start_time": "2023-10-19T19:55:14.359Z"
   },
   {
    "duration": 0,
    "start_time": "2023-10-19T19:55:14.361Z"
   },
   {
    "duration": 0,
    "start_time": "2023-10-19T19:55:14.361Z"
   },
   {
    "duration": 0,
    "start_time": "2023-10-19T19:55:14.362Z"
   },
   {
    "duration": 0,
    "start_time": "2023-10-19T19:55:14.363Z"
   },
   {
    "duration": 0,
    "start_time": "2023-10-19T19:55:14.364Z"
   },
   {
    "duration": 0,
    "start_time": "2023-10-19T19:55:14.365Z"
   },
   {
    "duration": 0,
    "start_time": "2023-10-19T19:55:14.366Z"
   },
   {
    "duration": 0,
    "start_time": "2023-10-19T19:55:14.367Z"
   },
   {
    "duration": 0,
    "start_time": "2023-10-19T19:55:14.368Z"
   },
   {
    "duration": 0,
    "start_time": "2023-10-19T19:55:14.368Z"
   },
   {
    "duration": 0,
    "start_time": "2023-10-19T19:55:14.370Z"
   },
   {
    "duration": 0,
    "start_time": "2023-10-19T19:55:14.371Z"
   },
   {
    "duration": 0,
    "start_time": "2023-10-19T19:55:14.372Z"
   },
   {
    "duration": 10,
    "start_time": "2023-10-19T19:55:32.542Z"
   },
   {
    "duration": 10,
    "start_time": "2023-10-19T19:55:36.538Z"
   },
   {
    "duration": 10,
    "start_time": "2023-10-19T19:55:39.507Z"
   },
   {
    "duration": 11,
    "start_time": "2023-10-19T19:55:41.726Z"
   },
   {
    "duration": 11,
    "start_time": "2023-10-19T19:55:55.976Z"
   },
   {
    "duration": 10,
    "start_time": "2023-10-19T19:55:58.465Z"
   },
   {
    "duration": 1174,
    "start_time": "2023-10-19T19:56:05.066Z"
   },
   {
    "duration": 126,
    "start_time": "2023-10-19T19:56:06.242Z"
   },
   {
    "duration": 13,
    "start_time": "2023-10-19T19:56:06.370Z"
   },
   {
    "duration": 28,
    "start_time": "2023-10-19T19:56:06.386Z"
   },
   {
    "duration": 28,
    "start_time": "2023-10-19T19:56:06.416Z"
   },
   {
    "duration": 27,
    "start_time": "2023-10-19T19:56:06.446Z"
   },
   {
    "duration": 23,
    "start_time": "2023-10-19T19:56:06.474Z"
   },
   {
    "duration": 26,
    "start_time": "2023-10-19T19:56:06.499Z"
   },
   {
    "duration": 46,
    "start_time": "2023-10-19T19:56:06.527Z"
   },
   {
    "duration": 26,
    "start_time": "2023-10-19T19:56:06.576Z"
   },
   {
    "duration": 22,
    "start_time": "2023-10-19T19:56:06.604Z"
   },
   {
    "duration": 40,
    "start_time": "2023-10-19T19:56:06.628Z"
   },
   {
    "duration": 11,
    "start_time": "2023-10-19T19:56:06.670Z"
   },
   {
    "duration": 16,
    "start_time": "2023-10-19T19:56:06.683Z"
   },
   {
    "duration": 11,
    "start_time": "2023-10-19T19:56:06.701Z"
   },
   {
    "duration": 18,
    "start_time": "2023-10-19T19:56:06.713Z"
   },
   {
    "duration": 6,
    "start_time": "2023-10-19T19:56:06.733Z"
   },
   {
    "duration": 19,
    "start_time": "2023-10-19T19:56:06.740Z"
   },
   {
    "duration": 11,
    "start_time": "2023-10-19T19:56:06.761Z"
   },
   {
    "duration": 8,
    "start_time": "2023-10-19T19:56:06.774Z"
   },
   {
    "duration": 18,
    "start_time": "2023-10-19T19:56:06.783Z"
   },
   {
    "duration": 5,
    "start_time": "2023-10-19T19:56:06.803Z"
   },
   {
    "duration": 8,
    "start_time": "2023-10-19T19:56:06.810Z"
   },
   {
    "duration": 9,
    "start_time": "2023-10-19T19:56:06.820Z"
   },
   {
    "duration": 211,
    "start_time": "2023-10-19T19:56:06.831Z"
   },
   {
    "duration": 130,
    "start_time": "2023-10-19T19:56:07.044Z"
   },
   {
    "duration": 103,
    "start_time": "2023-10-19T19:56:07.176Z"
   },
   {
    "duration": 0,
    "start_time": "2023-10-19T19:56:07.282Z"
   },
   {
    "duration": 0,
    "start_time": "2023-10-19T19:56:07.283Z"
   },
   {
    "duration": 0,
    "start_time": "2023-10-19T19:56:07.284Z"
   },
   {
    "duration": 0,
    "start_time": "2023-10-19T19:56:07.285Z"
   },
   {
    "duration": 0,
    "start_time": "2023-10-19T19:56:07.286Z"
   },
   {
    "duration": 0,
    "start_time": "2023-10-19T19:56:07.287Z"
   },
   {
    "duration": 0,
    "start_time": "2023-10-19T19:56:07.289Z"
   },
   {
    "duration": 0,
    "start_time": "2023-10-19T19:56:07.289Z"
   },
   {
    "duration": 0,
    "start_time": "2023-10-19T19:56:07.290Z"
   },
   {
    "duration": 0,
    "start_time": "2023-10-19T19:56:07.291Z"
   },
   {
    "duration": 0,
    "start_time": "2023-10-19T19:56:07.292Z"
   },
   {
    "duration": 0,
    "start_time": "2023-10-19T19:56:07.293Z"
   },
   {
    "duration": 0,
    "start_time": "2023-10-19T19:56:07.295Z"
   },
   {
    "duration": 0,
    "start_time": "2023-10-19T19:56:07.295Z"
   },
   {
    "duration": 0,
    "start_time": "2023-10-19T19:56:07.296Z"
   },
   {
    "duration": 0,
    "start_time": "2023-10-19T19:56:07.297Z"
   },
   {
    "duration": 0,
    "start_time": "2023-10-19T19:56:07.298Z"
   },
   {
    "duration": 0,
    "start_time": "2023-10-19T19:56:07.299Z"
   },
   {
    "duration": 0,
    "start_time": "2023-10-19T19:56:07.300Z"
   },
   {
    "duration": 0,
    "start_time": "2023-10-19T19:56:07.301Z"
   },
   {
    "duration": 0,
    "start_time": "2023-10-19T19:56:07.302Z"
   },
   {
    "duration": 0,
    "start_time": "2023-10-19T19:56:07.303Z"
   },
   {
    "duration": 0,
    "start_time": "2023-10-19T19:56:07.304Z"
   },
   {
    "duration": 0,
    "start_time": "2023-10-19T19:56:07.305Z"
   },
   {
    "duration": 0,
    "start_time": "2023-10-19T19:56:07.306Z"
   },
   {
    "duration": 0,
    "start_time": "2023-10-19T19:56:07.307Z"
   },
   {
    "duration": 0,
    "start_time": "2023-10-19T19:56:07.308Z"
   },
   {
    "duration": 0,
    "start_time": "2023-10-19T19:56:07.357Z"
   },
   {
    "duration": 0,
    "start_time": "2023-10-19T19:56:07.358Z"
   },
   {
    "duration": 0,
    "start_time": "2023-10-19T19:56:07.359Z"
   },
   {
    "duration": 0,
    "start_time": "2023-10-19T19:56:07.360Z"
   },
   {
    "duration": 10,
    "start_time": "2023-10-19T19:56:16.449Z"
   },
   {
    "duration": 10,
    "start_time": "2023-10-19T19:56:30.612Z"
   },
   {
    "duration": 10,
    "start_time": "2023-10-19T19:57:54.505Z"
   },
   {
    "duration": 9,
    "start_time": "2023-10-19T19:57:57.437Z"
   },
   {
    "duration": 92,
    "start_time": "2023-10-19T19:58:51.593Z"
   },
   {
    "duration": 10,
    "start_time": "2023-10-19T19:58:57.553Z"
   },
   {
    "duration": 9,
    "start_time": "2023-10-19T20:00:29.730Z"
   },
   {
    "duration": 10,
    "start_time": "2023-10-19T20:00:32.509Z"
   },
   {
    "duration": 8,
    "start_time": "2023-10-19T20:00:40.702Z"
   },
   {
    "duration": 3,
    "start_time": "2023-10-19T20:00:45.569Z"
   },
   {
    "duration": 10,
    "start_time": "2023-10-19T20:00:49.351Z"
   },
   {
    "duration": 9,
    "start_time": "2023-10-19T20:02:15.317Z"
   },
   {
    "duration": 9,
    "start_time": "2023-10-19T20:02:20.355Z"
   },
   {
    "duration": 1766,
    "start_time": "2023-10-19T20:02:27.231Z"
   },
   {
    "duration": 1237,
    "start_time": "2023-10-19T20:02:37.702Z"
   },
   {
    "duration": 1282,
    "start_time": "2023-10-19T20:02:47.725Z"
   },
   {
    "duration": 1253,
    "start_time": "2023-10-19T20:02:51.683Z"
   },
   {
    "duration": 1515,
    "start_time": "2023-10-19T20:05:11.801Z"
   },
   {
    "duration": 1188,
    "start_time": "2023-10-19T20:05:29.901Z"
   },
   {
    "duration": 128,
    "start_time": "2023-10-19T20:05:31.091Z"
   },
   {
    "duration": 12,
    "start_time": "2023-10-19T20:05:31.221Z"
   },
   {
    "duration": 59,
    "start_time": "2023-10-19T20:05:31.236Z"
   },
   {
    "duration": 50,
    "start_time": "2023-10-19T20:05:31.297Z"
   },
   {
    "duration": 52,
    "start_time": "2023-10-19T20:05:31.349Z"
   },
   {
    "duration": 39,
    "start_time": "2023-10-19T20:05:31.403Z"
   },
   {
    "duration": 57,
    "start_time": "2023-10-19T20:05:31.444Z"
   },
   {
    "duration": 56,
    "start_time": "2023-10-19T20:05:31.503Z"
   },
   {
    "duration": 50,
    "start_time": "2023-10-19T20:05:31.562Z"
   },
   {
    "duration": 100,
    "start_time": "2023-10-19T20:05:31.614Z"
   },
   {
    "duration": 48,
    "start_time": "2023-10-19T20:05:31.716Z"
   },
   {
    "duration": 48,
    "start_time": "2023-10-19T20:05:31.765Z"
   },
   {
    "duration": 32,
    "start_time": "2023-10-19T20:05:31.815Z"
   },
   {
    "duration": 65,
    "start_time": "2023-10-19T20:05:31.849Z"
   },
   {
    "duration": 76,
    "start_time": "2023-10-19T20:05:31.916Z"
   },
   {
    "duration": 38,
    "start_time": "2023-10-19T20:05:31.994Z"
   },
   {
    "duration": 33,
    "start_time": "2023-10-19T20:05:32.035Z"
   },
   {
    "duration": 38,
    "start_time": "2023-10-19T20:05:32.070Z"
   },
   {
    "duration": 44,
    "start_time": "2023-10-19T20:05:32.110Z"
   },
   {
    "duration": 65,
    "start_time": "2023-10-19T20:05:32.156Z"
   },
   {
    "duration": 39,
    "start_time": "2023-10-19T20:05:32.223Z"
   },
   {
    "duration": 52,
    "start_time": "2023-10-19T20:05:32.264Z"
   },
   {
    "duration": 69,
    "start_time": "2023-10-19T20:05:32.318Z"
   },
   {
    "duration": 188,
    "start_time": "2023-10-19T20:05:32.389Z"
   },
   {
    "duration": 135,
    "start_time": "2023-10-19T20:05:32.579Z"
   },
   {
    "duration": 127,
    "start_time": "2023-10-19T20:05:32.716Z"
   },
   {
    "duration": 0,
    "start_time": "2023-10-19T20:05:32.846Z"
   },
   {
    "duration": 0,
    "start_time": "2023-10-19T20:05:32.848Z"
   },
   {
    "duration": 0,
    "start_time": "2023-10-19T20:05:32.860Z"
   },
   {
    "duration": 0,
    "start_time": "2023-10-19T20:05:32.861Z"
   },
   {
    "duration": 0,
    "start_time": "2023-10-19T20:05:32.863Z"
   },
   {
    "duration": 0,
    "start_time": "2023-10-19T20:05:32.863Z"
   },
   {
    "duration": 0,
    "start_time": "2023-10-19T20:05:32.866Z"
   },
   {
    "duration": 0,
    "start_time": "2023-10-19T20:05:32.867Z"
   },
   {
    "duration": 0,
    "start_time": "2023-10-19T20:05:32.869Z"
   },
   {
    "duration": 0,
    "start_time": "2023-10-19T20:05:32.871Z"
   },
   {
    "duration": 0,
    "start_time": "2023-10-19T20:05:32.873Z"
   },
   {
    "duration": 0,
    "start_time": "2023-10-19T20:05:32.875Z"
   },
   {
    "duration": 0,
    "start_time": "2023-10-19T20:05:32.877Z"
   },
   {
    "duration": 0,
    "start_time": "2023-10-19T20:05:32.878Z"
   },
   {
    "duration": 0,
    "start_time": "2023-10-19T20:05:32.879Z"
   },
   {
    "duration": 0,
    "start_time": "2023-10-19T20:05:32.881Z"
   },
   {
    "duration": 0,
    "start_time": "2023-10-19T20:05:32.883Z"
   },
   {
    "duration": 0,
    "start_time": "2023-10-19T20:05:32.884Z"
   },
   {
    "duration": 0,
    "start_time": "2023-10-19T20:05:32.886Z"
   },
   {
    "duration": 0,
    "start_time": "2023-10-19T20:05:32.888Z"
   },
   {
    "duration": 0,
    "start_time": "2023-10-19T20:05:32.889Z"
   },
   {
    "duration": 0,
    "start_time": "2023-10-19T20:05:32.890Z"
   },
   {
    "duration": 0,
    "start_time": "2023-10-19T20:05:32.892Z"
   },
   {
    "duration": 0,
    "start_time": "2023-10-19T20:05:32.893Z"
   },
   {
    "duration": 0,
    "start_time": "2023-10-19T20:05:32.894Z"
   },
   {
    "duration": 0,
    "start_time": "2023-10-19T20:05:32.895Z"
   },
   {
    "duration": 0,
    "start_time": "2023-10-19T20:05:32.897Z"
   },
   {
    "duration": 0,
    "start_time": "2023-10-19T20:05:32.956Z"
   },
   {
    "duration": 0,
    "start_time": "2023-10-19T20:05:32.958Z"
   },
   {
    "duration": 0,
    "start_time": "2023-10-19T20:05:32.959Z"
   },
   {
    "duration": 0,
    "start_time": "2023-10-19T20:05:32.961Z"
   },
   {
    "duration": 1306,
    "start_time": "2023-10-19T20:05:46.601Z"
   },
   {
    "duration": 1441,
    "start_time": "2023-10-19T20:06:23.217Z"
   },
   {
    "duration": 11,
    "start_time": "2023-10-19T20:07:26.984Z"
   },
   {
    "duration": 9,
    "start_time": "2023-10-19T20:07:35.160Z"
   },
   {
    "duration": 9,
    "start_time": "2023-10-19T20:07:49.083Z"
   },
   {
    "duration": 9,
    "start_time": "2023-10-19T20:09:15.383Z"
   },
   {
    "duration": 1393,
    "start_time": "2023-10-19T20:09:40.605Z"
   },
   {
    "duration": 1337,
    "start_time": "2023-10-19T20:09:58.536Z"
   },
   {
    "duration": 9,
    "start_time": "2023-10-19T20:10:20.898Z"
   },
   {
    "duration": 10,
    "start_time": "2023-10-19T20:10:31.027Z"
   },
   {
    "duration": 11,
    "start_time": "2023-10-19T20:10:57.087Z"
   },
   {
    "duration": 11,
    "start_time": "2023-10-19T20:11:08.675Z"
   },
   {
    "duration": 10,
    "start_time": "2023-10-19T20:11:37.800Z"
   },
   {
    "duration": 34,
    "start_time": "2023-10-19T20:11:51.394Z"
   },
   {
    "duration": 17,
    "start_time": "2023-10-19T20:12:45.186Z"
   },
   {
    "duration": 17,
    "start_time": "2023-10-19T20:12:47.501Z"
   },
   {
    "duration": 21,
    "start_time": "2023-10-19T20:12:55.980Z"
   },
   {
    "duration": 16,
    "start_time": "2023-10-19T20:13:01.136Z"
   },
   {
    "duration": 19,
    "start_time": "2023-10-19T20:13:05.048Z"
   },
   {
    "duration": 16,
    "start_time": "2023-10-19T20:13:07.518Z"
   },
   {
    "duration": 9,
    "start_time": "2023-10-19T20:13:09.090Z"
   },
   {
    "duration": 8,
    "start_time": "2023-10-19T20:13:09.722Z"
   },
   {
    "duration": 197,
    "start_time": "2023-10-19T20:13:10.829Z"
   },
   {
    "duration": 238,
    "start_time": "2023-10-19T20:13:11.806Z"
   },
   {
    "duration": 10,
    "start_time": "2023-10-19T20:13:14.074Z"
   },
   {
    "duration": 10,
    "start_time": "2023-10-19T20:13:14.452Z"
   },
   {
    "duration": 221,
    "start_time": "2023-10-19T20:13:15.437Z"
   },
   {
    "duration": 236,
    "start_time": "2023-10-19T20:13:15.970Z"
   },
   {
    "duration": 4,
    "start_time": "2023-10-19T20:13:25.874Z"
   },
   {
    "duration": 799,
    "start_time": "2023-10-19T20:13:29.612Z"
   },
   {
    "duration": 4,
    "start_time": "2023-10-19T20:13:33.740Z"
   },
   {
    "duration": 12,
    "start_time": "2023-10-19T20:13:37.545Z"
   },
   {
    "duration": 7,
    "start_time": "2023-10-19T20:13:42.479Z"
   },
   {
    "duration": 16,
    "start_time": "2023-10-19T20:13:44.174Z"
   },
   {
    "duration": 7,
    "start_time": "2023-10-19T20:15:48.273Z"
   },
   {
    "duration": 7,
    "start_time": "2023-10-19T20:16:45.418Z"
   },
   {
    "duration": 7,
    "start_time": "2023-10-19T20:17:18.589Z"
   },
   {
    "duration": 8,
    "start_time": "2023-10-19T20:17:50.891Z"
   },
   {
    "duration": 5,
    "start_time": "2023-10-19T20:20:55.380Z"
   },
   {
    "duration": 96,
    "start_time": "2023-10-19T20:26:54.236Z"
   },
   {
    "duration": 12,
    "start_time": "2023-10-19T20:28:34.081Z"
   },
   {
    "duration": 94,
    "start_time": "2023-10-19T20:31:55.359Z"
   },
   {
    "duration": 96,
    "start_time": "2023-10-19T20:53:49.526Z"
   },
   {
    "duration": 12,
    "start_time": "2023-10-19T20:53:52.461Z"
   },
   {
    "duration": 92,
    "start_time": "2023-10-19T20:54:15.832Z"
   },
   {
    "duration": 6,
    "start_time": "2023-10-19T20:56:59.972Z"
   },
   {
    "duration": 137,
    "start_time": "2023-10-19T21:10:55.717Z"
   },
   {
    "duration": 1160,
    "start_time": "2023-10-20T13:36:37.459Z"
   },
   {
    "duration": 124,
    "start_time": "2023-10-20T13:36:38.621Z"
   },
   {
    "duration": 14,
    "start_time": "2023-10-20T13:36:38.747Z"
   },
   {
    "duration": 25,
    "start_time": "2023-10-20T13:36:38.764Z"
   },
   {
    "duration": 38,
    "start_time": "2023-10-20T13:36:38.791Z"
   },
   {
    "duration": 37,
    "start_time": "2023-10-20T13:36:38.831Z"
   },
   {
    "duration": 21,
    "start_time": "2023-10-20T13:36:38.870Z"
   },
   {
    "duration": 86,
    "start_time": "2023-10-20T13:36:38.893Z"
   },
   {
    "duration": 44,
    "start_time": "2023-10-20T13:36:38.981Z"
   },
   {
    "duration": 69,
    "start_time": "2023-10-20T13:36:39.028Z"
   },
   {
    "duration": 62,
    "start_time": "2023-10-20T13:36:39.099Z"
   },
   {
    "duration": 39,
    "start_time": "2023-10-20T13:36:39.164Z"
   },
   {
    "duration": 33,
    "start_time": "2023-10-20T13:36:39.205Z"
   },
   {
    "duration": 41,
    "start_time": "2023-10-20T13:36:39.241Z"
   },
   {
    "duration": 74,
    "start_time": "2023-10-20T13:36:39.284Z"
   },
   {
    "duration": 51,
    "start_time": "2023-10-20T13:36:39.361Z"
   },
   {
    "duration": 20,
    "start_time": "2023-10-20T13:36:39.414Z"
   },
   {
    "duration": 38,
    "start_time": "2023-10-20T13:36:39.436Z"
   },
   {
    "duration": 57,
    "start_time": "2023-10-20T13:36:39.476Z"
   },
   {
    "duration": 42,
    "start_time": "2023-10-20T13:36:39.535Z"
   },
   {
    "duration": 52,
    "start_time": "2023-10-20T13:36:39.579Z"
   },
   {
    "duration": 30,
    "start_time": "2023-10-20T13:36:39.633Z"
   },
   {
    "duration": 66,
    "start_time": "2023-10-20T13:36:39.665Z"
   },
   {
    "duration": 42,
    "start_time": "2023-10-20T13:36:39.733Z"
   },
   {
    "duration": 215,
    "start_time": "2023-10-20T13:36:39.777Z"
   },
   {
    "duration": 126,
    "start_time": "2023-10-20T13:36:39.993Z"
   },
   {
    "duration": 100,
    "start_time": "2023-10-20T13:36:40.121Z"
   },
   {
    "duration": 162,
    "start_time": "2023-10-20T13:36:40.224Z"
   },
   {
    "duration": 14,
    "start_time": "2023-10-20T13:36:40.387Z"
   },
   {
    "duration": 23,
    "start_time": "2023-10-20T13:36:40.403Z"
   },
   {
    "duration": 244,
    "start_time": "2023-10-20T13:36:40.428Z"
   },
   {
    "duration": 4,
    "start_time": "2023-10-20T13:36:40.674Z"
   },
   {
    "duration": 247,
    "start_time": "2023-10-20T13:36:40.680Z"
   },
   {
    "duration": 136,
    "start_time": "2023-10-20T13:36:40.928Z"
   },
   {
    "duration": 0,
    "start_time": "2023-10-20T13:36:41.065Z"
   },
   {
    "duration": 0,
    "start_time": "2023-10-20T13:36:41.067Z"
   },
   {
    "duration": 0,
    "start_time": "2023-10-20T13:36:41.068Z"
   },
   {
    "duration": 0,
    "start_time": "2023-10-20T13:36:41.069Z"
   },
   {
    "duration": 0,
    "start_time": "2023-10-20T13:36:41.070Z"
   },
   {
    "duration": 0,
    "start_time": "2023-10-20T13:36:41.071Z"
   },
   {
    "duration": 0,
    "start_time": "2023-10-20T13:36:41.072Z"
   },
   {
    "duration": 0,
    "start_time": "2023-10-20T13:36:41.073Z"
   },
   {
    "duration": 0,
    "start_time": "2023-10-20T13:36:41.074Z"
   },
   {
    "duration": 1,
    "start_time": "2023-10-20T13:36:41.074Z"
   },
   {
    "duration": 0,
    "start_time": "2023-10-20T13:36:41.075Z"
   },
   {
    "duration": 0,
    "start_time": "2023-10-20T13:36:41.076Z"
   },
   {
    "duration": 0,
    "start_time": "2023-10-20T13:36:41.077Z"
   },
   {
    "duration": 0,
    "start_time": "2023-10-20T13:36:41.078Z"
   },
   {
    "duration": 0,
    "start_time": "2023-10-20T13:36:41.079Z"
   },
   {
    "duration": 0,
    "start_time": "2023-10-20T13:36:41.080Z"
   },
   {
    "duration": 0,
    "start_time": "2023-10-20T13:36:41.081Z"
   },
   {
    "duration": 0,
    "start_time": "2023-10-20T13:36:41.082Z"
   },
   {
    "duration": 0,
    "start_time": "2023-10-20T13:36:41.083Z"
   },
   {
    "duration": 0,
    "start_time": "2023-10-20T13:36:41.084Z"
   },
   {
    "duration": 0,
    "start_time": "2023-10-20T13:36:41.085Z"
   },
   {
    "duration": 0,
    "start_time": "2023-10-20T13:36:41.086Z"
   },
   {
    "duration": 0,
    "start_time": "2023-10-20T13:36:41.087Z"
   },
   {
    "duration": 0,
    "start_time": "2023-10-20T13:36:41.088Z"
   },
   {
    "duration": 131,
    "start_time": "2023-10-20T13:45:18.796Z"
   },
   {
    "duration": 1254,
    "start_time": "2023-10-20T13:45:47.387Z"
   },
   {
    "duration": 120,
    "start_time": "2023-10-20T13:45:48.643Z"
   },
   {
    "duration": 14,
    "start_time": "2023-10-20T13:45:48.765Z"
   },
   {
    "duration": 34,
    "start_time": "2023-10-20T13:45:48.782Z"
   },
   {
    "duration": 14,
    "start_time": "2023-10-20T13:45:48.818Z"
   },
   {
    "duration": 49,
    "start_time": "2023-10-20T13:45:48.834Z"
   },
   {
    "duration": 18,
    "start_time": "2023-10-20T13:45:48.885Z"
   },
   {
    "duration": 15,
    "start_time": "2023-10-20T13:45:48.905Z"
   },
   {
    "duration": 22,
    "start_time": "2023-10-20T13:45:48.923Z"
   },
   {
    "duration": 68,
    "start_time": "2023-10-20T13:45:48.949Z"
   },
   {
    "duration": 19,
    "start_time": "2023-10-20T13:45:49.019Z"
   },
   {
    "duration": 33,
    "start_time": "2023-10-20T13:45:49.040Z"
   },
   {
    "duration": 22,
    "start_time": "2023-10-20T13:45:49.075Z"
   },
   {
    "duration": 10,
    "start_time": "2023-10-20T13:45:49.101Z"
   },
   {
    "duration": 18,
    "start_time": "2023-10-20T13:45:49.112Z"
   },
   {
    "duration": 20,
    "start_time": "2023-10-20T13:45:49.133Z"
   },
   {
    "duration": 12,
    "start_time": "2023-10-20T13:45:49.155Z"
   },
   {
    "duration": 39,
    "start_time": "2023-10-20T13:45:49.169Z"
   },
   {
    "duration": 10,
    "start_time": "2023-10-20T13:45:49.210Z"
   },
   {
    "duration": 14,
    "start_time": "2023-10-20T13:45:49.222Z"
   },
   {
    "duration": 9,
    "start_time": "2023-10-20T13:45:49.238Z"
   },
   {
    "duration": 19,
    "start_time": "2023-10-20T13:45:49.249Z"
   },
   {
    "duration": 17,
    "start_time": "2023-10-20T13:45:49.270Z"
   },
   {
    "duration": 18,
    "start_time": "2023-10-20T13:45:49.289Z"
   },
   {
    "duration": 204,
    "start_time": "2023-10-20T13:45:49.309Z"
   },
   {
    "duration": 148,
    "start_time": "2023-10-20T13:45:49.515Z"
   },
   {
    "duration": 113,
    "start_time": "2023-10-20T13:45:49.665Z"
   },
   {
    "duration": 175,
    "start_time": "2023-10-20T13:45:49.782Z"
   },
   {
    "duration": 4,
    "start_time": "2023-10-20T13:45:49.959Z"
   },
   {
    "duration": 18,
    "start_time": "2023-10-20T13:45:49.965Z"
   },
   {
    "duration": 258,
    "start_time": "2023-10-20T13:45:50.001Z"
   },
   {
    "duration": 4,
    "start_time": "2023-10-20T13:45:50.261Z"
   },
   {
    "duration": 269,
    "start_time": "2023-10-20T13:45:50.267Z"
   },
   {
    "duration": 145,
    "start_time": "2023-10-20T13:45:50.538Z"
   },
   {
    "duration": 6,
    "start_time": "2023-10-20T13:45:50.686Z"
   },
   {
    "duration": 24,
    "start_time": "2023-10-20T13:45:50.702Z"
   },
   {
    "duration": 25,
    "start_time": "2023-10-20T13:45:50.728Z"
   },
   {
    "duration": 22,
    "start_time": "2023-10-20T13:45:50.755Z"
   },
   {
    "duration": 56,
    "start_time": "2023-10-20T13:45:50.779Z"
   },
   {
    "duration": 18,
    "start_time": "2023-10-20T13:45:50.837Z"
   },
   {
    "duration": 37,
    "start_time": "2023-10-20T13:45:50.857Z"
   },
   {
    "duration": 37,
    "start_time": "2023-10-20T13:45:50.896Z"
   },
   {
    "duration": 317,
    "start_time": "2023-10-20T13:45:50.935Z"
   },
   {
    "duration": 263,
    "start_time": "2023-10-20T13:45:51.253Z"
   },
   {
    "duration": 10,
    "start_time": "2023-10-20T13:45:51.518Z"
   },
   {
    "duration": 47,
    "start_time": "2023-10-20T13:45:51.529Z"
   },
   {
    "duration": 260,
    "start_time": "2023-10-20T13:45:51.577Z"
   },
   {
    "duration": 265,
    "start_time": "2023-10-20T13:45:51.839Z"
   },
   {
    "duration": 4,
    "start_time": "2023-10-20T13:45:52.106Z"
   },
   {
    "duration": 860,
    "start_time": "2023-10-20T13:45:52.111Z"
   },
   {
    "duration": 5,
    "start_time": "2023-10-20T13:45:52.972Z"
   },
   {
    "duration": 46,
    "start_time": "2023-10-20T13:45:52.978Z"
   },
   {
    "duration": 95,
    "start_time": "2023-10-20T13:45:53.025Z"
   },
   {
    "duration": 102,
    "start_time": "2023-10-20T13:45:53.122Z"
   },
   {
    "duration": 32,
    "start_time": "2023-10-20T13:45:53.226Z"
   },
   {
    "duration": 35,
    "start_time": "2023-10-20T13:45:53.261Z"
   },
   {
    "duration": 19,
    "start_time": "2023-10-20T13:45:53.299Z"
   },
   {
    "duration": 17,
    "start_time": "2023-10-20T13:45:53.320Z"
   },
   {
    "duration": 6,
    "start_time": "2023-10-20T13:49:52.833Z"
   },
   {
    "duration": 1030,
    "start_time": "2024-02-29T19:52:50.654Z"
   },
   {
    "duration": 3,
    "start_time": "2024-02-29T19:52:53.764Z"
   },
   {
    "duration": 331,
    "start_time": "2024-02-29T19:52:55.950Z"
   },
   {
    "duration": 10,
    "start_time": "2024-02-29T19:52:56.400Z"
   },
   {
    "duration": 14,
    "start_time": "2024-02-29T19:52:57.170Z"
   },
   {
    "duration": 9,
    "start_time": "2024-02-29T19:52:58.039Z"
   },
   {
    "duration": 11,
    "start_time": "2024-02-29T19:52:59.175Z"
   },
   {
    "duration": 6,
    "start_time": "2024-02-29T19:52:59.209Z"
   },
   {
    "duration": 10,
    "start_time": "2024-02-29T19:52:59.844Z"
   },
   {
    "duration": 14,
    "start_time": "2024-02-29T19:53:00.565Z"
   },
   {
    "duration": 20,
    "start_time": "2024-02-29T19:53:01.159Z"
   },
   {
    "duration": 16,
    "start_time": "2024-02-29T19:53:01.789Z"
   },
   {
    "duration": 13,
    "start_time": "2024-02-29T19:53:05.540Z"
   },
   {
    "duration": 11,
    "start_time": "2024-02-29T19:53:06.965Z"
   },
   {
    "duration": 12,
    "start_time": "2024-02-29T19:53:09.465Z"
   },
   {
    "duration": 6,
    "start_time": "2024-02-29T19:53:15.779Z"
   },
   {
    "duration": 6,
    "start_time": "2024-02-29T19:53:17.900Z"
   },
   {
    "duration": 5,
    "start_time": "2024-02-29T19:53:19.669Z"
   },
   {
    "duration": 8,
    "start_time": "2024-02-29T19:53:21.139Z"
   },
   {
    "duration": 5,
    "start_time": "2024-02-29T19:53:21.814Z"
   },
   {
    "duration": 7,
    "start_time": "2024-02-29T19:53:22.695Z"
   },
   {
    "duration": 9,
    "start_time": "2024-02-29T19:53:27.205Z"
   },
   {
    "duration": 4,
    "start_time": "2024-02-29T19:53:29.135Z"
   },
   {
    "duration": 5,
    "start_time": "2024-02-29T19:53:32.834Z"
   },
   {
    "duration": 5,
    "start_time": "2024-02-29T19:53:33.802Z"
   },
   {
    "duration": 148,
    "start_time": "2024-02-29T19:53:35.174Z"
   },
   {
    "duration": 106,
    "start_time": "2024-02-29T19:53:37.920Z"
   },
   {
    "duration": 85,
    "start_time": "2024-02-29T19:53:40.790Z"
   },
   {
    "duration": 122,
    "start_time": "2024-02-29T19:53:51.406Z"
   },
   {
    "duration": 3,
    "start_time": "2024-02-29T19:53:53.725Z"
   },
   {
    "duration": 7,
    "start_time": "2024-02-29T19:53:55.074Z"
   },
   {
    "duration": 181,
    "start_time": "2024-02-29T19:53:56.235Z"
   },
   {
    "duration": 5,
    "start_time": "2024-02-29T19:53:58.001Z"
   },
   {
    "duration": 189,
    "start_time": "2024-02-29T19:53:58.670Z"
   },
   {
    "duration": 98,
    "start_time": "2024-02-29T19:54:00.670Z"
   },
   {
    "duration": 4,
    "start_time": "2024-02-29T19:54:02.815Z"
   },
   {
    "duration": 15,
    "start_time": "2024-02-29T19:54:07.880Z"
   },
   {
    "duration": 18,
    "start_time": "2024-02-29T19:54:08.902Z"
   },
   {
    "duration": 12,
    "start_time": "2024-02-29T19:54:09.685Z"
   },
   {
    "duration": 16,
    "start_time": "2024-02-29T19:54:11.974Z"
   },
   {
    "duration": 20,
    "start_time": "2024-02-29T19:54:12.749Z"
   },
   {
    "duration": 7,
    "start_time": "2024-02-29T19:54:14.146Z"
   },
   {
    "duration": 8,
    "start_time": "2024-02-29T19:54:14.899Z"
   },
   {
    "duration": 235,
    "start_time": "2024-02-29T19:54:16.535Z"
   },
   {
    "duration": 248,
    "start_time": "2024-02-29T19:54:17.454Z"
   },
   {
    "duration": 15,
    "start_time": "2024-02-29T19:54:38.433Z"
   },
   {
    "duration": 7,
    "start_time": "2024-02-29T19:54:40.096Z"
   },
   {
    "duration": 7,
    "start_time": "2024-02-29T19:54:40.779Z"
   },
   {
    "duration": 171,
    "start_time": "2024-02-29T19:54:42.119Z"
   },
   {
    "duration": 210,
    "start_time": "2024-02-29T19:54:42.750Z"
   },
   {
    "duration": 8,
    "start_time": "2024-02-29T19:54:49.040Z"
   },
   {
    "duration": 9,
    "start_time": "2024-02-29T19:54:49.900Z"
   },
   {
    "duration": 200,
    "start_time": "2024-02-29T19:54:51.479Z"
   },
   {
    "duration": 212,
    "start_time": "2024-02-29T19:54:52.730Z"
   },
   {
    "duration": 4,
    "start_time": "2024-02-29T19:54:58.569Z"
   },
   {
    "duration": 854,
    "start_time": "2024-02-29T19:54:59.069Z"
   },
   {
    "duration": 2,
    "start_time": "2024-02-29T19:54:59.925Z"
   },
   {
    "duration": 11,
    "start_time": "2024-02-29T19:55:01.280Z"
   },
   {
    "duration": 6,
    "start_time": "2024-02-29T19:55:04.079Z"
   },
   {
    "duration": 14,
    "start_time": "2024-02-29T19:55:04.610Z"
   },
   {
    "duration": 2,
    "start_time": "2024-02-29T19:55:07.592Z"
   },
   {
    "duration": 6,
    "start_time": "2024-02-29T19:55:07.960Z"
   },
   {
    "duration": 5,
    "start_time": "2024-02-29T19:55:13.100Z"
   },
   {
    "duration": 10,
    "start_time": "2024-02-29T19:55:26.810Z"
   }
  ],
  "kernelspec": {
   "display_name": "Python 3 (ipykernel)",
   "language": "python",
   "name": "python3"
  },
  "language_info": {
   "codemirror_mode": {
    "name": "ipython",
    "version": 3
   },
   "file_extension": ".py",
   "mimetype": "text/x-python",
   "name": "python",
   "nbconvert_exporter": "python",
   "pygments_lexer": "ipython3",
   "version": "3.9.5"
  },
  "toc": {
   "base_numbering": 1,
   "nav_menu": {},
   "number_sections": true,
   "sideBar": true,
   "skip_h1_title": true,
   "title_cell": "Table of Contents",
   "title_sidebar": "Contents",
   "toc_cell": false,
   "toc_position": {},
   "toc_section_display": true,
   "toc_window_display": false
  }
 },
 "nbformat": 4,
 "nbformat_minor": 5
}
