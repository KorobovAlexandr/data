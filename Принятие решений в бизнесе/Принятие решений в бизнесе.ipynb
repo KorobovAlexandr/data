{
 "cells": [
  {
   "cell_type": "markdown",
   "metadata": {},
   "source": [
    "Проект принятие решений в бизнесе"
   ]
  },
  {
   "cell_type": "markdown",
   "metadata": {},
   "source": [
    "План проекта:Часть 1\n",
    "Применить фреймворк ICE для приоритизации гипотез. Отсортировать их по убыванию приоритета.\n",
    "Применить фреймворк RICE для приоритизации гипотез. Отсортировать их по убыванию приоритета.\n",
    "Указать, как изменилась приоритизация гипотез при применении RICE вместо ICE. Объяснить, почему так произошло.\n",
    "Во второй части проекта необходимо проанализировать А/В тест согласно задания, а именно:\n",
    "Построить график кумулятивной выручки по группам. Сделав выводы и предположения.\n",
    "Построить график кумулятивного среднего чека по группам. Сделав выводы и предположения.\n",
    "Построить график относительного изменения кумулятивного среднего чека группы B к группе A. Сделав выводы и предположения.\n",
    "Построить график кумулятивного среднего количества заказов на посетителя по группам. Сделав выводы и предположения.\n",
    "Построить график относительного изменения кумулятивного среднего количества заказов на посетителя группы B к группе A. Сделав выводы и предположения.\n",
    "Построить точечный график количества заказов по пользователям. Сделав выводы и предположения.\n",
    "Посчитать 95-й и 99-й перцентили количества заказов на пользователя. Выберав границу для определения аномальных пользователей.\n",
    "Построить точечный график стоимостей заказов. Сделав выводы и предположения.\n",
    "Посчитать 95-й и 99-й перцентили стоимости заказов. Выберав границу для определения аномальных заказов.\n",
    "Посчитать статистическую значимость различий в среднем количестве заказов на посетителя между группами по «сырым» данным. Сделав выводы и предположения.\n",
    "Посчитать статистическую значимость различий в среднем чеке заказа между группами по «сырым» данным. Сделав выводы и предположения.\n",
    "Посчитать статистическую значимость различий в среднем количестве заказов на посетителя между группами по «очищенным» данным. Сделав выводы и предположения.\n",
    "Посчитать статистическую значимость различий в среднем чеке заказа между группами по «очищенным» данным. Сделав выводы и предположения.\n",
    "Принять решение по результатам теста и объяснить его,выбрав один из перечисленных:\n",
    "1. Остановить тест, зафиксировать победу одной из групп.\n",
    "2. Остановить тест, зафиксировать отсутствие различий между группами.\n",
    "3. Продолжить тест."
   ]
  },
  {
   "cell_type": "markdown",
   "metadata": {},
   "source": [
    "Цель работы :\n",
    "Приоритизация заранее подготовленных гипотез, запуск A/B-теста,анализ результатов.\n",
    "Основными метриками нашего исследования являются средний чек и конверсия(отношение кол-ва пользователей к заказам)"
   ]
  },
  {
   "cell_type": "code",
   "execution_count": 1,
   "metadata": {},
   "outputs": [],
   "source": [
    "#Импортируем библиотеки для выполнения заданий \n",
    "import pandas as pd\n",
    "import numpy as np\n",
    "import scipy.stats as stats\n",
    "import datetime as dt\n",
    "import matplotlib.pyplot as plt\n",
    "import seaborn as sns"
   ]
  },
  {
   "cell_type": "code",
   "execution_count": 2,
   "metadata": {},
   "outputs": [],
   "source": [
    "#Читаем csv файл с данными, присваиваем переменную data\n",
    "data = pd.read_csv('/datasets/hypothesis.csv')"
   ]
  },
  {
   "cell_type": "code",
   "execution_count": 3,
   "metadata": {},
   "outputs": [],
   "source": [
    "#Используем дополнительную настройку для отображение всего столбца с наименованием гипотезы, кол-во символов-110.\n",
    "pd.options.display.max_colwidth = 110"
   ]
  },
  {
   "cell_type": "code",
   "execution_count": 4,
   "metadata": {
    "scrolled": true
   },
   "outputs": [
    {
     "data": {
      "text/html": [
       "<div>\n",
       "<style scoped>\n",
       "    .dataframe tbody tr th:only-of-type {\n",
       "        vertical-align: middle;\n",
       "    }\n",
       "\n",
       "    .dataframe tbody tr th {\n",
       "        vertical-align: top;\n",
       "    }\n",
       "\n",
       "    .dataframe thead th {\n",
       "        text-align: right;\n",
       "    }\n",
       "</style>\n",
       "<table border=\"1\" class=\"dataframe\">\n",
       "  <thead>\n",
       "    <tr style=\"text-align: right;\">\n",
       "      <th></th>\n",
       "      <th>hypothesis</th>\n",
       "      <th>reach</th>\n",
       "      <th>impact</th>\n",
       "      <th>confidence</th>\n",
       "      <th>efforts</th>\n",
       "    </tr>\n",
       "  </thead>\n",
       "  <tbody>\n",
       "    <tr>\n",
       "      <th>0</th>\n",
       "      <td>Добавить два новых канала привлечения трафика, что позволит привлекать на 30% больше пользователей</td>\n",
       "      <td>3</td>\n",
       "      <td>10</td>\n",
       "      <td>8</td>\n",
       "      <td>6</td>\n",
       "    </tr>\n",
       "    <tr>\n",
       "      <th>1</th>\n",
       "      <td>Запустить собственную службу доставки, что сократит срок доставки заказов</td>\n",
       "      <td>2</td>\n",
       "      <td>5</td>\n",
       "      <td>4</td>\n",
       "      <td>10</td>\n",
       "    </tr>\n",
       "    <tr>\n",
       "      <th>2</th>\n",
       "      <td>Добавить блоки рекомендаций товаров на сайт интернет магазина, чтобы повысить конверсию и средний чек заказа</td>\n",
       "      <td>8</td>\n",
       "      <td>3</td>\n",
       "      <td>7</td>\n",
       "      <td>3</td>\n",
       "    </tr>\n",
       "    <tr>\n",
       "      <th>3</th>\n",
       "      <td>Изменить структура категорий, что увеличит конверсию, т.к. пользователи быстрее найдут нужный товар</td>\n",
       "      <td>8</td>\n",
       "      <td>3</td>\n",
       "      <td>3</td>\n",
       "      <td>8</td>\n",
       "    </tr>\n",
       "    <tr>\n",
       "      <th>4</th>\n",
       "      <td>Изменить цвет фона главной страницы, чтобы увеличить вовлеченность пользователей</td>\n",
       "      <td>3</td>\n",
       "      <td>1</td>\n",
       "      <td>1</td>\n",
       "      <td>1</td>\n",
       "    </tr>\n",
       "    <tr>\n",
       "      <th>5</th>\n",
       "      <td>Добавить страницу отзывов клиентов о магазине, что позволит увеличить количество заказов</td>\n",
       "      <td>3</td>\n",
       "      <td>2</td>\n",
       "      <td>2</td>\n",
       "      <td>3</td>\n",
       "    </tr>\n",
       "    <tr>\n",
       "      <th>6</th>\n",
       "      <td>Показать на главной странице баннеры с актуальными акциями и распродажами, чтобы увеличить конверсию</td>\n",
       "      <td>5</td>\n",
       "      <td>3</td>\n",
       "      <td>8</td>\n",
       "      <td>3</td>\n",
       "    </tr>\n",
       "    <tr>\n",
       "      <th>7</th>\n",
       "      <td>Добавить форму подписки на все основные страницы, чтобы собрать базу клиентов для email-рассылок</td>\n",
       "      <td>10</td>\n",
       "      <td>7</td>\n",
       "      <td>8</td>\n",
       "      <td>5</td>\n",
       "    </tr>\n",
       "    <tr>\n",
       "      <th>8</th>\n",
       "      <td>Запустить акцию, дающую скидку на товар в день рождения</td>\n",
       "      <td>1</td>\n",
       "      <td>9</td>\n",
       "      <td>9</td>\n",
       "      <td>5</td>\n",
       "    </tr>\n",
       "  </tbody>\n",
       "</table>\n",
       "</div>"
      ],
      "text/plain": [
       "                                                                                                     hypothesis  \\\n",
       "0            Добавить два новых канала привлечения трафика, что позволит привлекать на 30% больше пользователей   \n",
       "1                                     Запустить собственную службу доставки, что сократит срок доставки заказов   \n",
       "2  Добавить блоки рекомендаций товаров на сайт интернет магазина, чтобы повысить конверсию и средний чек заказа   \n",
       "3           Изменить структура категорий, что увеличит конверсию, т.к. пользователи быстрее найдут нужный товар   \n",
       "4                              Изменить цвет фона главной страницы, чтобы увеличить вовлеченность пользователей   \n",
       "5                      Добавить страницу отзывов клиентов о магазине, что позволит увеличить количество заказов   \n",
       "6          Показать на главной странице баннеры с актуальными акциями и распродажами, чтобы увеличить конверсию   \n",
       "7              Добавить форму подписки на все основные страницы, чтобы собрать базу клиентов для email-рассылок   \n",
       "8                                                       Запустить акцию, дающую скидку на товар в день рождения   \n",
       "\n",
       "   reach  impact  confidence  efforts  \n",
       "0      3      10           8        6  \n",
       "1      2       5           4       10  \n",
       "2      8       3           7        3  \n",
       "3      8       3           3        8  \n",
       "4      3       1           1        1  \n",
       "5      3       2           2        3  \n",
       "6      5       3           8        3  \n",
       "7     10       7           8        5  \n",
       "8      1       9           9        5  "
      ]
     },
     "execution_count": 4,
     "metadata": {},
     "output_type": "execute_result"
    }
   ],
   "source": [
    "#В датасете 9 гипотез, поэтому ознакомимся со всей таблицей с помощью .head(),сразу приведём название столбцов к нижнему регистру для удобства\n",
    "data.columns = data.columns.str.lower()\n",
    "data.head(10)"
   ]
  },
  {
   "cell_type": "markdown",
   "metadata": {},
   "source": [
    "Добавим компоненты фреймворков для удобства:\n",
    "Reach — скольких пользователей затронет изменение, которое вы хотите внести;\n",
    "Impact — насколько сильно изменение повлияет на пользователей, их опыт и удовлетворение от продукта;\n",
    "Confidence — насколько вы уверены, что это изменение повлияет на пользователей именно так; \n",
    "Efforts — сколько стоит протестировать эту гипотезу. "
   ]
  },
  {
   "cell_type": "code",
   "execution_count": 5,
   "metadata": {},
   "outputs": [
    {
     "data": {
      "text/html": [
       "<div>\n",
       "<style scoped>\n",
       "    .dataframe tbody tr th:only-of-type {\n",
       "        vertical-align: middle;\n",
       "    }\n",
       "\n",
       "    .dataframe tbody tr th {\n",
       "        vertical-align: top;\n",
       "    }\n",
       "\n",
       "    .dataframe thead th {\n",
       "        text-align: right;\n",
       "    }\n",
       "</style>\n",
       "<table border=\"1\" class=\"dataframe\">\n",
       "  <thead>\n",
       "    <tr style=\"text-align: right;\">\n",
       "      <th></th>\n",
       "      <th>hypothesis</th>\n",
       "      <th>ice</th>\n",
       "    </tr>\n",
       "  </thead>\n",
       "  <tbody>\n",
       "    <tr>\n",
       "      <th>8</th>\n",
       "      <td>Запустить акцию, дающую скидку на товар в день рождения</td>\n",
       "      <td>16.20</td>\n",
       "    </tr>\n",
       "    <tr>\n",
       "      <th>0</th>\n",
       "      <td>Добавить два новых канала привлечения трафика, что позволит привлекать на 30% больше пользователей</td>\n",
       "      <td>13.33</td>\n",
       "    </tr>\n",
       "    <tr>\n",
       "      <th>7</th>\n",
       "      <td>Добавить форму подписки на все основные страницы, чтобы собрать базу клиентов для email-рассылок</td>\n",
       "      <td>11.20</td>\n",
       "    </tr>\n",
       "    <tr>\n",
       "      <th>6</th>\n",
       "      <td>Показать на главной странице баннеры с актуальными акциями и распродажами, чтобы увеличить конверсию</td>\n",
       "      <td>8.00</td>\n",
       "    </tr>\n",
       "    <tr>\n",
       "      <th>2</th>\n",
       "      <td>Добавить блоки рекомендаций товаров на сайт интернет магазина, чтобы повысить конверсию и средний чек заказа</td>\n",
       "      <td>7.00</td>\n",
       "    </tr>\n",
       "    <tr>\n",
       "      <th>1</th>\n",
       "      <td>Запустить собственную службу доставки, что сократит срок доставки заказов</td>\n",
       "      <td>2.00</td>\n",
       "    </tr>\n",
       "    <tr>\n",
       "      <th>5</th>\n",
       "      <td>Добавить страницу отзывов клиентов о магазине, что позволит увеличить количество заказов</td>\n",
       "      <td>1.33</td>\n",
       "    </tr>\n",
       "    <tr>\n",
       "      <th>3</th>\n",
       "      <td>Изменить структура категорий, что увеличит конверсию, т.к. пользователи быстрее найдут нужный товар</td>\n",
       "      <td>1.12</td>\n",
       "    </tr>\n",
       "    <tr>\n",
       "      <th>4</th>\n",
       "      <td>Изменить цвет фона главной страницы, чтобы увеличить вовлеченность пользователей</td>\n",
       "      <td>1.00</td>\n",
       "    </tr>\n",
       "  </tbody>\n",
       "</table>\n",
       "</div>"
      ],
      "text/plain": [
       "                                                                                                     hypothesis  \\\n",
       "8                                                       Запустить акцию, дающую скидку на товар в день рождения   \n",
       "0            Добавить два новых канала привлечения трафика, что позволит привлекать на 30% больше пользователей   \n",
       "7              Добавить форму подписки на все основные страницы, чтобы собрать базу клиентов для email-рассылок   \n",
       "6          Показать на главной странице баннеры с актуальными акциями и распродажами, чтобы увеличить конверсию   \n",
       "2  Добавить блоки рекомендаций товаров на сайт интернет магазина, чтобы повысить конверсию и средний чек заказа   \n",
       "1                                     Запустить собственную службу доставки, что сократит срок доставки заказов   \n",
       "5                      Добавить страницу отзывов клиентов о магазине, что позволит увеличить количество заказов   \n",
       "3           Изменить структура категорий, что увеличит конверсию, т.к. пользователи быстрее найдут нужный товар   \n",
       "4                              Изменить цвет фона главной страницы, чтобы увеличить вовлеченность пользователей   \n",
       "\n",
       "     ice  \n",
       "8  16.20  \n",
       "0  13.33  \n",
       "7  11.20  \n",
       "6   8.00  \n",
       "2   7.00  \n",
       "1   2.00  \n",
       "5   1.33  \n",
       "3   1.12  \n",
       "4   1.00  "
      ]
     },
     "execution_count": 5,
     "metadata": {},
     "output_type": "execute_result"
    }
   ],
   "source": [
    "#Основываясь на формулу из теории применим фреймворк ICE для приоритизации гипотез,округлив до 2 знаков после запятой, и отсортируем их по убыванию приоритета.\n",
    "data['ice'] = round(data['impact']*data['confidence']/data['efforts'],2)\n",
    "data[['hypothesis','ice']].sort_values(by ='ice',ascending=False)"
   ]
  },
  {
   "cell_type": "markdown",
   "metadata": {},
   "source": [
    "Гипотезы под номерами 8,0,7 являются наиболее приоритетными по фреймворку ice"
   ]
  },
  {
   "cell_type": "markdown",
   "metadata": {},
   "source": [
    "Тройка гипотез-лидеров :\n",
    "-Запустить акцию,дающую скидку на товар в день рождения\n",
    "-Добавить два новых канала привлечения трафика, что позволит привлекать на 30% больше пользователей\n",
    "-Добавить форму подписки на все основные страницы, чтобы собрать базу клиентов для email-рассылок"
   ]
  },
  {
   "cell_type": "markdown",
   "metadata": {},
   "source": [
    "Рассмотрим приоритизацию гипотез с помощью фреймворка rice:"
   ]
  },
  {
   "cell_type": "code",
   "execution_count": 6,
   "metadata": {},
   "outputs": [
    {
     "data": {
      "text/html": [
       "<div>\n",
       "<style scoped>\n",
       "    .dataframe tbody tr th:only-of-type {\n",
       "        vertical-align: middle;\n",
       "    }\n",
       "\n",
       "    .dataframe tbody tr th {\n",
       "        vertical-align: top;\n",
       "    }\n",
       "\n",
       "    .dataframe thead th {\n",
       "        text-align: right;\n",
       "    }\n",
       "</style>\n",
       "<table border=\"1\" class=\"dataframe\">\n",
       "  <thead>\n",
       "    <tr style=\"text-align: right;\">\n",
       "      <th></th>\n",
       "      <th>hypothesis</th>\n",
       "      <th>rice</th>\n",
       "    </tr>\n",
       "  </thead>\n",
       "  <tbody>\n",
       "    <tr>\n",
       "      <th>7</th>\n",
       "      <td>Добавить форму подписки на все основные страницы, чтобы собрать базу клиентов для email-рассылок</td>\n",
       "      <td>112.0</td>\n",
       "    </tr>\n",
       "    <tr>\n",
       "      <th>2</th>\n",
       "      <td>Добавить блоки рекомендаций товаров на сайт интернет магазина, чтобы повысить конверсию и средний чек заказа</td>\n",
       "      <td>56.0</td>\n",
       "    </tr>\n",
       "    <tr>\n",
       "      <th>0</th>\n",
       "      <td>Добавить два новых канала привлечения трафика, что позволит привлекать на 30% больше пользователей</td>\n",
       "      <td>40.0</td>\n",
       "    </tr>\n",
       "    <tr>\n",
       "      <th>6</th>\n",
       "      <td>Показать на главной странице баннеры с актуальными акциями и распродажами, чтобы увеличить конверсию</td>\n",
       "      <td>40.0</td>\n",
       "    </tr>\n",
       "    <tr>\n",
       "      <th>8</th>\n",
       "      <td>Запустить акцию, дающую скидку на товар в день рождения</td>\n",
       "      <td>16.2</td>\n",
       "    </tr>\n",
       "    <tr>\n",
       "      <th>3</th>\n",
       "      <td>Изменить структура категорий, что увеличит конверсию, т.к. пользователи быстрее найдут нужный товар</td>\n",
       "      <td>9.0</td>\n",
       "    </tr>\n",
       "    <tr>\n",
       "      <th>1</th>\n",
       "      <td>Запустить собственную службу доставки, что сократит срок доставки заказов</td>\n",
       "      <td>4.0</td>\n",
       "    </tr>\n",
       "    <tr>\n",
       "      <th>5</th>\n",
       "      <td>Добавить страницу отзывов клиентов о магазине, что позволит увеличить количество заказов</td>\n",
       "      <td>4.0</td>\n",
       "    </tr>\n",
       "    <tr>\n",
       "      <th>4</th>\n",
       "      <td>Изменить цвет фона главной страницы, чтобы увеличить вовлеченность пользователей</td>\n",
       "      <td>3.0</td>\n",
       "    </tr>\n",
       "  </tbody>\n",
       "</table>\n",
       "</div>"
      ],
      "text/plain": [
       "                                                                                                     hypothesis  \\\n",
       "7              Добавить форму подписки на все основные страницы, чтобы собрать базу клиентов для email-рассылок   \n",
       "2  Добавить блоки рекомендаций товаров на сайт интернет магазина, чтобы повысить конверсию и средний чек заказа   \n",
       "0            Добавить два новых канала привлечения трафика, что позволит привлекать на 30% больше пользователей   \n",
       "6          Показать на главной странице баннеры с актуальными акциями и распродажами, чтобы увеличить конверсию   \n",
       "8                                                       Запустить акцию, дающую скидку на товар в день рождения   \n",
       "3           Изменить структура категорий, что увеличит конверсию, т.к. пользователи быстрее найдут нужный товар   \n",
       "1                                     Запустить собственную службу доставки, что сократит срок доставки заказов   \n",
       "5                      Добавить страницу отзывов клиентов о магазине, что позволит увеличить количество заказов   \n",
       "4                              Изменить цвет фона главной страницы, чтобы увеличить вовлеченность пользователей   \n",
       "\n",
       "    rice  \n",
       "7  112.0  \n",
       "2   56.0  \n",
       "0   40.0  \n",
       "6   40.0  \n",
       "8   16.2  \n",
       "3    9.0  \n",
       "1    4.0  \n",
       "5    4.0  \n",
       "4    3.0  "
      ]
     },
     "execution_count": 6,
     "metadata": {},
     "output_type": "execute_result"
    }
   ],
   "source": [
    "data['rice'] = round(data['reach']*data['impact']*data['confidence']/data['efforts'],2)\n",
    "data[['hypothesis','rice']].sort_values(by ='rice',ascending=False)"
   ]
  },
  {
   "cell_type": "markdown",
   "metadata": {},
   "source": [
    "Применив фреймворк rice приоритизация гипотез изменилась, гипотезы под номерами 7,2,0 являются наиболее приоритетными по фреймворку rice."
   ]
  },
  {
   "cell_type": "markdown",
   "metadata": {},
   "source": [
    "Тройка лидеров гипотез по фреймворку rice :\n",
    "-Добавить форму подписки на все основные страницы, чтобы собрать базу клинетов для email-рассылок\n",
    "-Добавить блоки рекомендаций товаров на сайт интернет магазина, чтобы повысить конверсию и средний чек\n",
    "-Показать на главной странице баннеры с актуальными акциями и распродажами, чтобы увеличить конверсию."
   ]
  },
  {
   "cell_type": "markdown",
   "metadata": {},
   "source": [
    "Объяснить разницу приоритизации гипотез между фреймворками можно тем, что фреймворк rice учитывает, на скольких пользователей повлияет изменение которое мы хотим внести, в отличии от фреймворка ice."
   ]
  },
  {
   "cell_type": "markdown",
   "metadata": {},
   "source": [
    "Переходим ко второй части нашего исследования, анализ А/В теста."
   ]
  },
  {
   "cell_type": "code",
   "execution_count": 7,
   "metadata": {},
   "outputs": [],
   "source": [
    "#Присваиваем переменные , читаем csv файлы\n",
    "orders = pd.read_csv('/datasets/orders.csv')\n",
    "visitors = pd.read_csv('/datasets/visitors.csv')"
   ]
  },
  {
   "cell_type": "code",
   "execution_count": 8,
   "metadata": {},
   "outputs": [
    {
     "data": {
      "text/html": [
       "<div>\n",
       "<style scoped>\n",
       "    .dataframe tbody tr th:only-of-type {\n",
       "        vertical-align: middle;\n",
       "    }\n",
       "\n",
       "    .dataframe tbody tr th {\n",
       "        vertical-align: top;\n",
       "    }\n",
       "\n",
       "    .dataframe thead th {\n",
       "        text-align: right;\n",
       "    }\n",
       "</style>\n",
       "<table border=\"1\" class=\"dataframe\">\n",
       "  <thead>\n",
       "    <tr style=\"text-align: right;\">\n",
       "      <th></th>\n",
       "      <th>transactionId</th>\n",
       "      <th>visitorId</th>\n",
       "      <th>date</th>\n",
       "      <th>revenue</th>\n",
       "      <th>group</th>\n",
       "    </tr>\n",
       "  </thead>\n",
       "  <tbody>\n",
       "    <tr>\n",
       "      <th>0</th>\n",
       "      <td>3667963787</td>\n",
       "      <td>3312258926</td>\n",
       "      <td>2019-08-15</td>\n",
       "      <td>1650</td>\n",
       "      <td>B</td>\n",
       "    </tr>\n",
       "    <tr>\n",
       "      <th>1</th>\n",
       "      <td>2804400009</td>\n",
       "      <td>3642806036</td>\n",
       "      <td>2019-08-15</td>\n",
       "      <td>730</td>\n",
       "      <td>B</td>\n",
       "    </tr>\n",
       "    <tr>\n",
       "      <th>2</th>\n",
       "      <td>2961555356</td>\n",
       "      <td>4069496402</td>\n",
       "      <td>2019-08-15</td>\n",
       "      <td>400</td>\n",
       "      <td>A</td>\n",
       "    </tr>\n",
       "    <tr>\n",
       "      <th>3</th>\n",
       "      <td>3797467345</td>\n",
       "      <td>1196621759</td>\n",
       "      <td>2019-08-15</td>\n",
       "      <td>9759</td>\n",
       "      <td>B</td>\n",
       "    </tr>\n",
       "    <tr>\n",
       "      <th>4</th>\n",
       "      <td>2282983706</td>\n",
       "      <td>2322279887</td>\n",
       "      <td>2019-08-15</td>\n",
       "      <td>2308</td>\n",
       "      <td>B</td>\n",
       "    </tr>\n",
       "  </tbody>\n",
       "</table>\n",
       "</div>"
      ],
      "text/plain": [
       "   transactionId   visitorId        date  revenue group\n",
       "0     3667963787  3312258926  2019-08-15     1650     B\n",
       "1     2804400009  3642806036  2019-08-15      730     B\n",
       "2     2961555356  4069496402  2019-08-15      400     A\n",
       "3     3797467345  1196621759  2019-08-15     9759     B\n",
       "4     2282983706  2322279887  2019-08-15     2308     B"
      ]
     },
     "execution_count": 8,
     "metadata": {},
     "output_type": "execute_result"
    }
   ],
   "source": [
    "#Ознакомимся с датасетами,выведем основную информацию по ним , проверим на наличие дубликатов.\n",
    "orders.head()"
   ]
  },
  {
   "cell_type": "code",
   "execution_count": 9,
   "metadata": {},
   "outputs": [
    {
     "data": {
      "text/html": [
       "<div>\n",
       "<style scoped>\n",
       "    .dataframe tbody tr th:only-of-type {\n",
       "        vertical-align: middle;\n",
       "    }\n",
       "\n",
       "    .dataframe tbody tr th {\n",
       "        vertical-align: top;\n",
       "    }\n",
       "\n",
       "    .dataframe thead th {\n",
       "        text-align: right;\n",
       "    }\n",
       "</style>\n",
       "<table border=\"1\" class=\"dataframe\">\n",
       "  <thead>\n",
       "    <tr style=\"text-align: right;\">\n",
       "      <th></th>\n",
       "      <th>date</th>\n",
       "      <th>group</th>\n",
       "      <th>visitors</th>\n",
       "    </tr>\n",
       "  </thead>\n",
       "  <tbody>\n",
       "    <tr>\n",
       "      <th>0</th>\n",
       "      <td>2019-08-01</td>\n",
       "      <td>A</td>\n",
       "      <td>719</td>\n",
       "    </tr>\n",
       "    <tr>\n",
       "      <th>1</th>\n",
       "      <td>2019-08-02</td>\n",
       "      <td>A</td>\n",
       "      <td>619</td>\n",
       "    </tr>\n",
       "    <tr>\n",
       "      <th>2</th>\n",
       "      <td>2019-08-03</td>\n",
       "      <td>A</td>\n",
       "      <td>507</td>\n",
       "    </tr>\n",
       "    <tr>\n",
       "      <th>3</th>\n",
       "      <td>2019-08-04</td>\n",
       "      <td>A</td>\n",
       "      <td>717</td>\n",
       "    </tr>\n",
       "    <tr>\n",
       "      <th>4</th>\n",
       "      <td>2019-08-05</td>\n",
       "      <td>A</td>\n",
       "      <td>756</td>\n",
       "    </tr>\n",
       "  </tbody>\n",
       "</table>\n",
       "</div>"
      ],
      "text/plain": [
       "         date group  visitors\n",
       "0  2019-08-01     A       719\n",
       "1  2019-08-02     A       619\n",
       "2  2019-08-03     A       507\n",
       "3  2019-08-04     A       717\n",
       "4  2019-08-05     A       756"
      ]
     },
     "execution_count": 9,
     "metadata": {},
     "output_type": "execute_result"
    }
   ],
   "source": [
    "visitors.head()"
   ]
  },
  {
   "cell_type": "code",
   "execution_count": 10,
   "metadata": {},
   "outputs": [
    {
     "name": "stdout",
     "output_type": "stream",
     "text": [
      "<class 'pandas.core.frame.DataFrame'>\n",
      "RangeIndex: 1197 entries, 0 to 1196\n",
      "Data columns (total 5 columns):\n",
      " #   Column         Non-Null Count  Dtype \n",
      "---  ------         --------------  ----- \n",
      " 0   transactionId  1197 non-null   int64 \n",
      " 1   visitorId      1197 non-null   int64 \n",
      " 2   date           1197 non-null   object\n",
      " 3   revenue        1197 non-null   int64 \n",
      " 4   group          1197 non-null   object\n",
      "dtypes: int64(3), object(2)\n",
      "memory usage: 46.9+ KB\n"
     ]
    }
   ],
   "source": [
    "orders.info()"
   ]
  },
  {
   "cell_type": "code",
   "execution_count": 11,
   "metadata": {},
   "outputs": [
    {
     "name": "stdout",
     "output_type": "stream",
     "text": [
      "<class 'pandas.core.frame.DataFrame'>\n",
      "RangeIndex: 62 entries, 0 to 61\n",
      "Data columns (total 3 columns):\n",
      " #   Column    Non-Null Count  Dtype \n",
      "---  ------    --------------  ----- \n",
      " 0   date      62 non-null     object\n",
      " 1   group     62 non-null     object\n",
      " 2   visitors  62 non-null     int64 \n",
      "dtypes: int64(1), object(2)\n",
      "memory usage: 1.6+ KB\n"
     ]
    }
   ],
   "source": [
    "visitors.info()"
   ]
  },
  {
   "cell_type": "code",
   "execution_count": 12,
   "metadata": {},
   "outputs": [],
   "source": [
    "#Приведём столбцы с датой к dtype datetime\n",
    "orders['date'] = orders['date'].map(\n",
    "    lambda x: dt.datetime.strptime(x, '%Y-%m-%d')\n",
    ")\n",
    "visitors['date'] = visitors['date'].map(\n",
    "    lambda x: dt.datetime.strptime(x, '%Y-%m-%d')\n",
    ")"
   ]
  },
  {
   "cell_type": "code",
   "execution_count": 13,
   "metadata": {},
   "outputs": [
    {
     "data": {
      "text/plain": [
       "0"
      ]
     },
     "execution_count": 13,
     "metadata": {},
     "output_type": "execute_result"
    }
   ],
   "source": [
    "orders.duplicated().sum()"
   ]
  },
  {
   "cell_type": "code",
   "execution_count": 14,
   "metadata": {},
   "outputs": [
    {
     "data": {
      "text/plain": [
       "0"
      ]
     },
     "execution_count": 14,
     "metadata": {},
     "output_type": "execute_result"
    }
   ],
   "source": [
    "visitors.duplicated().sum()"
   ]
  },
  {
   "cell_type": "code",
   "execution_count": 15,
   "metadata": {},
   "outputs": [
    {
     "data": {
      "text/html": [
       "<div>\n",
       "<style scoped>\n",
       "    .dataframe tbody tr th:only-of-type {\n",
       "        vertical-align: middle;\n",
       "    }\n",
       "\n",
       "    .dataframe tbody tr th {\n",
       "        vertical-align: top;\n",
       "    }\n",
       "\n",
       "    .dataframe thead th {\n",
       "        text-align: right;\n",
       "    }\n",
       "</style>\n",
       "<table border=\"1\" class=\"dataframe\">\n",
       "  <thead>\n",
       "    <tr style=\"text-align: right;\">\n",
       "      <th></th>\n",
       "      <th>transactionId</th>\n",
       "      <th>visitorId</th>\n",
       "      <th>revenue</th>\n",
       "    </tr>\n",
       "  </thead>\n",
       "  <tbody>\n",
       "    <tr>\n",
       "      <th>count</th>\n",
       "      <td>1.197000e+03</td>\n",
       "      <td>1.197000e+03</td>\n",
       "      <td>1.197000e+03</td>\n",
       "    </tr>\n",
       "    <tr>\n",
       "      <th>mean</th>\n",
       "      <td>2.155621e+09</td>\n",
       "      <td>2.165960e+09</td>\n",
       "      <td>8.348006e+03</td>\n",
       "    </tr>\n",
       "    <tr>\n",
       "      <th>std</th>\n",
       "      <td>1.229085e+09</td>\n",
       "      <td>1.236014e+09</td>\n",
       "      <td>3.919113e+04</td>\n",
       "    </tr>\n",
       "    <tr>\n",
       "      <th>min</th>\n",
       "      <td>1.062393e+06</td>\n",
       "      <td>5.114589e+06</td>\n",
       "      <td>5.000000e+01</td>\n",
       "    </tr>\n",
       "    <tr>\n",
       "      <th>25%</th>\n",
       "      <td>1.166776e+09</td>\n",
       "      <td>1.111826e+09</td>\n",
       "      <td>1.220000e+03</td>\n",
       "    </tr>\n",
       "    <tr>\n",
       "      <th>50%</th>\n",
       "      <td>2.145194e+09</td>\n",
       "      <td>2.217985e+09</td>\n",
       "      <td>2.978000e+03</td>\n",
       "    </tr>\n",
       "    <tr>\n",
       "      <th>75%</th>\n",
       "      <td>3.237740e+09</td>\n",
       "      <td>3.177606e+09</td>\n",
       "      <td>8.290000e+03</td>\n",
       "    </tr>\n",
       "    <tr>\n",
       "      <th>max</th>\n",
       "      <td>4.293856e+09</td>\n",
       "      <td>4.283872e+09</td>\n",
       "      <td>1.294500e+06</td>\n",
       "    </tr>\n",
       "  </tbody>\n",
       "</table>\n",
       "</div>"
      ],
      "text/plain": [
       "       transactionId     visitorId       revenue\n",
       "count   1.197000e+03  1.197000e+03  1.197000e+03\n",
       "mean    2.155621e+09  2.165960e+09  8.348006e+03\n",
       "std     1.229085e+09  1.236014e+09  3.919113e+04\n",
       "min     1.062393e+06  5.114589e+06  5.000000e+01\n",
       "25%     1.166776e+09  1.111826e+09  1.220000e+03\n",
       "50%     2.145194e+09  2.217985e+09  2.978000e+03\n",
       "75%     3.237740e+09  3.177606e+09  8.290000e+03\n",
       "max     4.293856e+09  4.283872e+09  1.294500e+06"
      ]
     },
     "execution_count": 15,
     "metadata": {},
     "output_type": "execute_result"
    }
   ],
   "source": [
    "orders.describe()"
   ]
  },
  {
   "cell_type": "code",
   "execution_count": 16,
   "metadata": {},
   "outputs": [
    {
     "data": {
      "text/html": [
       "<div>\n",
       "<style scoped>\n",
       "    .dataframe tbody tr th:only-of-type {\n",
       "        vertical-align: middle;\n",
       "    }\n",
       "\n",
       "    .dataframe tbody tr th {\n",
       "        vertical-align: top;\n",
       "    }\n",
       "\n",
       "    .dataframe thead th {\n",
       "        text-align: right;\n",
       "    }\n",
       "</style>\n",
       "<table border=\"1\" class=\"dataframe\">\n",
       "  <thead>\n",
       "    <tr style=\"text-align: right;\">\n",
       "      <th></th>\n",
       "      <th>visitors</th>\n",
       "    </tr>\n",
       "  </thead>\n",
       "  <tbody>\n",
       "    <tr>\n",
       "      <th>count</th>\n",
       "      <td>62.000000</td>\n",
       "    </tr>\n",
       "    <tr>\n",
       "      <th>mean</th>\n",
       "      <td>607.290323</td>\n",
       "    </tr>\n",
       "    <tr>\n",
       "      <th>std</th>\n",
       "      <td>114.400560</td>\n",
       "    </tr>\n",
       "    <tr>\n",
       "      <th>min</th>\n",
       "      <td>361.000000</td>\n",
       "    </tr>\n",
       "    <tr>\n",
       "      <th>25%</th>\n",
       "      <td>534.000000</td>\n",
       "    </tr>\n",
       "    <tr>\n",
       "      <th>50%</th>\n",
       "      <td>624.500000</td>\n",
       "    </tr>\n",
       "    <tr>\n",
       "      <th>75%</th>\n",
       "      <td>710.500000</td>\n",
       "    </tr>\n",
       "    <tr>\n",
       "      <th>max</th>\n",
       "      <td>770.000000</td>\n",
       "    </tr>\n",
       "  </tbody>\n",
       "</table>\n",
       "</div>"
      ],
      "text/plain": [
       "         visitors\n",
       "count   62.000000\n",
       "mean   607.290323\n",
       "std    114.400560\n",
       "min    361.000000\n",
       "25%    534.000000\n",
       "50%    624.500000\n",
       "75%    710.500000\n",
       "max    770.000000"
      ]
     },
     "execution_count": 16,
     "metadata": {},
     "output_type": "execute_result"
    }
   ],
   "source": [
    "visitors.describe()"
   ]
  },
  {
   "cell_type": "markdown",
   "metadata": {},
   "source": [
    "Исследуем датасет orders, проверим сколько пользователей попали в группу А и группу В с помощью встроенной функции библиотеки numpy"
   ]
  },
  {
   "cell_type": "code",
   "execution_count": 17,
   "metadata": {},
   "outputs": [
    {
     "data": {
      "text/plain": [
       "array([   8300375,  199603092,  232979603,  237748145,  276558944,\n",
       "        351125977,  393266494,  457167155,  471551937,  477780734,\n",
       "        818047933,  963407295, 1230306981, 1294878855, 1316129916,\n",
       "       1333886533, 1404934699, 1602967004, 1614305549, 1648269707,\n",
       "       1668030113, 1738359350, 1801183820, 1959144690, 2038680547,\n",
       "       2044997962, 2378935119, 2458001652, 2579882178, 2587333274,\n",
       "       2600415354, 2654030115, 2686716486, 2712142231, 2716752286,\n",
       "       2780786433, 2927087541, 2949041841, 2954449915, 3062433592,\n",
       "       3202540741, 3234906277, 3656415546, 3717692402, 3766097110,\n",
       "       3803269165, 3891541246, 3941795274, 3951559397, 3957174400,\n",
       "       3963646447, 3972127743, 3984495233, 4069496402, 4120364173,\n",
       "       4186807279, 4256040402, 4266935830])"
      ]
     },
     "execution_count": 17,
     "metadata": {},
     "output_type": "execute_result"
    }
   ],
   "source": [
    "duplicated_orders_group = np.intersect1d(orders.query('group == \"A\"')['visitorId'].unique(),orders.query('group == \"B\"')['visitorId'].unique())\n",
    "duplicated_orders_group"
   ]
  },
  {
   "cell_type": "markdown",
   "metadata": {},
   "source": [
    "Айди пользователей попавших в обе группы удаляем"
   ]
  },
  {
   "cell_type": "code",
   "execution_count": 18,
   "metadata": {},
   "outputs": [],
   "source": [
    "orders = orders[~orders['visitorId'].isin(duplicated_orders_group)]\n",
    "\n"
   ]
  },
  {
   "cell_type": "code",
   "execution_count": 19,
   "metadata": {},
   "outputs": [
    {
     "data": {
      "text/plain": [
       "array([], dtype=int64)"
      ]
     },
     "execution_count": 19,
     "metadata": {},
     "output_type": "execute_result"
    }
   ],
   "source": [
    "#Проверим\n",
    "np.intersect1d(orders.query('group == \"A\"')['visitorId'].unique(),orders.query('group == \"B\"')['visitorId'].unique())"
   ]
  },
  {
   "cell_type": "markdown",
   "metadata": {},
   "source": []
  },
  {
   "cell_type": "markdown",
   "metadata": {},
   "source": [
    "Удалили пользователей попавших в обе группы, т.к они могут искажать результаты, предположу что оставив так как было, то по сути поменяться ничего не должно."
   ]
  },
  {
   "cell_type": "markdown",
   "metadata": {},
   "source": [
    "Объеденим обе таблицы"
   ]
  },
  {
   "cell_type": "code",
   "execution_count": 20,
   "metadata": {},
   "outputs": [
    {
     "data": {
      "text/html": [
       "<div>\n",
       "<style scoped>\n",
       "    .dataframe tbody tr th:only-of-type {\n",
       "        vertical-align: middle;\n",
       "    }\n",
       "\n",
       "    .dataframe tbody tr th {\n",
       "        vertical-align: top;\n",
       "    }\n",
       "\n",
       "    .dataframe thead th {\n",
       "        text-align: right;\n",
       "    }\n",
       "</style>\n",
       "<table border=\"1\" class=\"dataframe\">\n",
       "  <thead>\n",
       "    <tr style=\"text-align: right;\">\n",
       "      <th></th>\n",
       "      <th>date</th>\n",
       "      <th>group</th>\n",
       "      <th>orders</th>\n",
       "      <th>buyers</th>\n",
       "      <th>revenue</th>\n",
       "      <th>visitors</th>\n",
       "    </tr>\n",
       "  </thead>\n",
       "  <tbody>\n",
       "    <tr>\n",
       "      <th>0</th>\n",
       "      <td>2019-08-01</td>\n",
       "      <td>A</td>\n",
       "      <td>23</td>\n",
       "      <td>19</td>\n",
       "      <td>142779</td>\n",
       "      <td>719</td>\n",
       "    </tr>\n",
       "    <tr>\n",
       "      <th>1</th>\n",
       "      <td>2019-08-01</td>\n",
       "      <td>B</td>\n",
       "      <td>17</td>\n",
       "      <td>17</td>\n",
       "      <td>59758</td>\n",
       "      <td>713</td>\n",
       "    </tr>\n",
       "    <tr>\n",
       "      <th>2</th>\n",
       "      <td>2019-08-02</td>\n",
       "      <td>A</td>\n",
       "      <td>42</td>\n",
       "      <td>36</td>\n",
       "      <td>234381</td>\n",
       "      <td>1338</td>\n",
       "    </tr>\n",
       "    <tr>\n",
       "      <th>3</th>\n",
       "      <td>2019-08-02</td>\n",
       "      <td>B</td>\n",
       "      <td>40</td>\n",
       "      <td>39</td>\n",
       "      <td>221801</td>\n",
       "      <td>1294</td>\n",
       "    </tr>\n",
       "    <tr>\n",
       "      <th>4</th>\n",
       "      <td>2019-08-03</td>\n",
       "      <td>A</td>\n",
       "      <td>66</td>\n",
       "      <td>60</td>\n",
       "      <td>346854</td>\n",
       "      <td>1845</td>\n",
       "    </tr>\n",
       "  </tbody>\n",
       "</table>\n",
       "</div>"
      ],
      "text/plain": [
       "        date group  orders  buyers  revenue  visitors\n",
       "0 2019-08-01     A      23      19   142779       719\n",
       "1 2019-08-01     B      17      17    59758       713\n",
       "2 2019-08-02     A      42      36   234381      1338\n",
       "3 2019-08-02     B      40      39   221801      1294\n",
       "4 2019-08-03     A      66      60   346854      1845"
      ]
     },
     "execution_count": 20,
     "metadata": {},
     "output_type": "execute_result"
    }
   ],
   "source": [
    "#Создадим массив уникальных пар значений дат и групп теста\n",
    "datesGroups = orders[['date','group']].drop_duplicates()\n",
    "\n",
    "#Получаем агрегированные кумулятивные по дням данные о заказах \n",
    "ordersAggregated = datesGroups.apply(lambda x: orders[np.logical_and(orders['date'] <= x['date'], orders['group'] == x['group'])]. \\\n",
    "                                     agg({'date' : 'max', \n",
    "                                          'group' : 'max', \n",
    "                                          'transactionId' : pd.Series.nunique, \n",
    "                                          'visitorId' : pd.Series.nunique, \n",
    "                                          'revenue' : 'sum'}), axis=1).sort_values(by=['date','group'])\n",
    "\n",
    "#Получаем агрегированные кумулятивные по дням данные о посетителях интернет-магазина \n",
    "visitorsAggregated = datesGroups.apply(lambda x: visitors[np.logical_and(visitors['date'] <= x['date'], visitors['group'] == x['group'])]. \\\n",
    "                                       agg({'date' : 'max', \n",
    "                                            'group' : 'max', \n",
    "                                            'visitors' : 'sum'}), axis=1).sort_values(by=['date','group'])\n",
    "\n",
    "#Объединяем кумулятивные данные в одной таблице \n",
    "cumulativeData = ordersAggregated.merge(visitorsAggregated, left_on=['date', 'group'], right_on=['date', 'group'])\n",
    "\n",
    "#Переименовываем столбцы понятными названиями\n",
    "cumulativeData.columns = ['date', 'group', 'orders', 'buyers', 'revenue', 'visitors']\n",
    "\n",
    "cumulativeData.head(5)"
   ]
  },
  {
   "cell_type": "code",
   "execution_count": 23,
   "metadata": {},
   "outputs": [
    {
     "name": "stdout",
     "output_type": "stream",
     "text": [
      "2019-08-01 00:00:00\n",
      "2019-08-01 00:00:00\n",
      "2019-08-31 00:00:00\n",
      "2019-08-31 00:00:00\n"
     ]
    }
   ],
   "source": [
    "#Пример проверки создания датафрейма\n",
    "print(orders['date'].min())\n",
    "print(cumulativeData['date'].min())\n",
    "print(orders['date'].max())\n",
    "print(cumulativeData['date'].max())"
   ]
  },
  {
   "cell_type": "markdown",
   "metadata": {},
   "source": [
    "Построим график кумулятивной выручки по группам. С помощью функций библиотеки matplotlib "
   ]
  },
  {
   "cell_type": "code",
   "execution_count": 24,
   "metadata": {},
   "outputs": [
    {
     "data": {
      "image/png": "[encoded data removed]",
      "text/plain": [
       "<Figure size 1080x720 with 1 Axes>"
      ]
     },
     "metadata": {
      "needs_background": "light"
     },
     "output_type": "display_data"
    }
   ],
   "source": [
    "# датафрейм с кумулятивным количеством заказов и кумулятивной выручкой по дням в группе А\n",
    "cumulativeRevenueA = cumulativeData[cumulativeData['group']=='A'][['date','revenue', 'orders']]\n",
    "\n",
    "# датафрейм с кумулятивным количеством заказов и кумулятивной выручкой по дням в группе B\n",
    "cumulativeRevenueB = cumulativeData[cumulativeData['group']=='B'][['date','revenue', 'orders']]\n",
    "plt.figure(figsize=(15, 10))\n",
    "# Строим график выручки группы А\n",
    "plt.plot(cumulativeRevenueA['date'], cumulativeRevenueA['revenue'], label='A')\n",
    "\n",
    "# Строим график выручки группы B\n",
    "plt.plot(cumulativeRevenueB['date'], cumulativeRevenueB['revenue'], label='B')\n",
    "\n",
    "plt.title('График кумулятивной выручки по группам')\n",
    "plt.xlabel('Дата')\n",
    "plt.ylabel('Выручка')\n",
    "plt.grid()\n",
    "plt.legend()\n",
    "plt.show()\n"
   ]
  },
  {
   "cell_type": "markdown",
   "metadata": {},
   "source": [
    "Выручка примерно одинаково увеличивается, но в какой-то момент группа B резко растёт, это может свидетельствовать о всплеске количества продаж или повышения стоимости покупок."
   ]
  },
  {
   "cell_type": "markdown",
   "metadata": {},
   "source": [
    " Построим график кумулятивного среднего чека по группам."
   ]
  },
  {
   "cell_type": "code",
   "execution_count": 25,
   "metadata": {},
   "outputs": [
    {
     "data": {
      "image/png": "[encoded data removed]",
      "text/plain": [
       "<Figure size 1080x720 with 1 Axes>"
      ]
     },
     "metadata": {
      "needs_background": "light"
     },
     "output_type": "display_data"
    }
   ],
   "source": [
    "#делим кумулятивную выручку на кумулятивное число заказов:\n",
    "plt.figure(figsize=(15, 10))\n",
    "plt.plot(cumulativeRevenueA['date'], cumulativeRevenueA['revenue']/cumulativeRevenueA['orders'], label='A')\n",
    "plt.plot(cumulativeRevenueB['date'], cumulativeRevenueB['revenue']/cumulativeRevenueB['orders'], label='B')\n",
    "plt.title('График кумулятивного числа заказов')\n",
    "plt.xlabel('Дата')\n",
    "plt.ylabel('Средний чек')\n",
    "plt.grid()\n",
    "plt.legend()\n",
    "plt.show()\n"
   ]
  },
  {
   "cell_type": "markdown",
   "metadata": {},
   "source": [
    "Видны резкие скачки в обоих группах , особенно на графике выделяются скачки в группе В, объяснить это можно тем , что в данный момент времени в группы попадали очень крупные заказы.\n",
    "Также можно обратить внимание что скачок среднего чека совпадает с качком выручки по дате, примерно 18.08.2019года..."
   ]
  },
  {
   "cell_type": "markdown",
   "metadata": {},
   "source": [
    "Построим график относительного различия для среднего чека. Добавим горизонтальную ось методом axhline() \n",
    "горизонтальная линия поперек оси"
   ]
  },
  {
   "cell_type": "code",
   "execution_count": 26,
   "metadata": {},
   "outputs": [
    {
     "data": {
      "text/plain": [
       "<matplotlib.lines.Line2D at 0x7f3c311f8cd0>"
      ]
     },
     "execution_count": 26,
     "metadata": {},
     "output_type": "execute_result"
    },
    {
     "data": {
      "image/png": "[encoded data removed]",
      "text/plain": [
       "<Figure size 1080x360 with 1 Axes>"
      ]
     },
     "metadata": {
      "needs_background": "light"
     },
     "output_type": "display_data"
    }
   ],
   "source": [
    "# собираем данные в одном датафрейме\n",
    "mergedCumulativeRevenue = cumulativeRevenueA.merge(cumulativeRevenueB, left_on='date', right_on='date', how='left', suffixes=['A', 'B'])\n",
    "\n",
    "# cтроим отношение средних чеков\n",
    "plt.figure(figsize=(15,5))\n",
    "plt.plot(mergedCumulativeRevenue['date'], (mergedCumulativeRevenue['revenueB']/mergedCumulativeRevenue['ordersB'])/(mergedCumulativeRevenue['revenueA']/mergedCumulativeRevenue['ordersA'])-1)\n",
    "plt.title('График относительного различия для среднего чека ')\n",
    "plt.xlabel('Дата')\n",
    "plt.ylabel('Изменение среденего чека ')\n",
    "# добавляем ось X\n",
    "plt.axhline(y=0, color='red', linestyle='--') "
   ]
  },
  {
   "cell_type": "markdown",
   "metadata": {},
   "source": [
    "Резкие скачки на графике могут быть вызваны выбросами и \"дорогими\" заказами."
   ]
  },
  {
   "cell_type": "markdown",
   "metadata": {},
   "source": [
    "Построим график кумулятивного среднего количества заказов на посетителя по группам"
   ]
  },
  {
   "cell_type": "code",
   "execution_count": 27,
   "metadata": {},
   "outputs": [
    {
     "data": {
      "text/plain": [
       "(18109.0, 18140.0, 0.0, 0.1)"
      ]
     },
     "execution_count": 27,
     "metadata": {},
     "output_type": "execute_result"
    },
    {
     "data": {
      "image/png": "[encoded data removed]",
      "text/plain": [
       "<Figure size 1080x360 with 1 Axes>"
      ]
     },
     "metadata": {
      "needs_background": "light"
     },
     "output_type": "display_data"
    }
   ],
   "source": [
    "# считаем кумулятивную конверсию\n",
    "cumulativeData['conversion'] = cumulativeData['orders']/cumulativeData['visitors']\n",
    "\n",
    "# отделяем данные по группе A\n",
    "cumulativeDataA = cumulativeData[cumulativeData['group']=='A']\n",
    "\n",
    "# отделяем данные по группе B\n",
    "cumulativeDataB = cumulativeData[cumulativeData['group']=='B']\n",
    "\n",
    "# строим графики\n",
    "plt.figure(figsize=(15,5))\n",
    "plt.grid()\n",
    "plt.plot(cumulativeDataA['date'], cumulativeDataA['conversion'], label='A')\n",
    "plt.plot(cumulativeDataB['date'], cumulativeDataB['conversion'], label='B')\n",
    "plt.legend()\n",
    "plt.title('График кумулятивного среднего количества заказов на посетителя по группам')\n",
    "plt.xlabel('Дата')\n",
    "plt.ylabel('Среднее количество заказов на посетителя по группам')\n",
    "# задаем масштаб осей\n",
    "plt.axis([dt.datetime(2019, 8, 1), dt.datetime(2019, 9, 1), 0, 0.1])"
   ]
  },
  {
   "cell_type": "markdown",
   "metadata": {},
   "source": [
    "По графику видно, что в начале месяца группа А было впереди по среднему количеству заказов на посетителя, затем группа В вышла вперёд и до конца месяца двигались семмитрично,стабильно,без резких изменений."
   ]
  },
  {
   "cell_type": "markdown",
   "metadata": {},
   "source": [
    "Построим график изменения кумулятивного среднего количества заказов на посетителя группы B к группе A"
   ]
  },
  {
   "cell_type": "code",
   "execution_count": 28,
   "metadata": {},
   "outputs": [
    {
     "data": {
      "text/plain": [
       "Text(0, 0.5, 'Среднее количество заказов на посетителя группы В к группе А')"
      ]
     },
     "execution_count": 28,
     "metadata": {},
     "output_type": "execute_result"
    },
    {
     "data": {
      "image/png": "[encoded data removed]",
      "text/plain": [
       "<Figure size 1080x360 with 1 Axes>"
      ]
     },
     "metadata": {
      "needs_background": "light"
     },
     "output_type": "display_data"
    }
   ],
   "source": [
    "mergedCumulativeConversions = cumulativeDataA[['date','conversion']].merge(cumulativeDataB[['date','conversion']], left_on='date', right_on='date', how='left', suffixes=['A', 'B'])\n",
    "plt.figure(figsize=(15,5))\n",
    "plt.grid()\n",
    "plt.plot(mergedCumulativeConversions['date'], mergedCumulativeConversions['conversionB']/mergedCumulativeConversions['conversionA']-1, label=\"График изменения кумулятивного среднего количества заказов на посетителя группы B к группе A\")\n",
    "plt.legend()\n",
    "\n",
    "plt.axhline(y=0, color='black', linestyle='--')\n",
    "plt.axhline(y=0.2, color='grey', linestyle='--')\n",
    "plt.axis([dt.datetime(2019, 8, 1), dt.datetime(2019, 9, 1), -0.5, 0.5])\n",
    "plt.title('График изменения кумулятивного среднего количества заказов на посетителя группы B к группе A')\n",
    "plt.xlabel('Дата')\n",
    "plt.ylabel('Среднее количество заказов на посетителя группы В к группе А')"
   ]
  },
  {
   "cell_type": "markdown",
   "metadata": {},
   "source": [
    "Cреднее количество заказов на посетителя группы В проигрывала группе А в начале месяца, с 6 августа группа В вырвалось вперёд и стабильно лидирует."
   ]
  },
  {
   "cell_type": "markdown",
   "metadata": {},
   "source": [
    "Построим точечный график количества заказов по пользователям"
   ]
  },
  {
   "cell_type": "code",
   "execution_count": 29,
   "metadata": {},
   "outputs": [
    {
     "data": {
      "image/png": "[encoded data removed]",
      "text/plain": [
       "<Figure size 432x288 with 1 Axes>"
      ]
     },
     "metadata": {
      "needs_background": "light"
     },
     "output_type": "display_data"
    }
   ],
   "source": [
    "orders_by_users = (\n",
    "    orders.groupby('visitorId', as_index=False)\n",
    "    .agg({'transactionId': 'nunique'})\n",
    ")\n",
    "orders_by_users.columns =  ['user_id', 'orders']\n",
    "x_values = pd.Series(range(0,len(orders_by_users)))\n",
    "# Строим диаграмму для наглядности\n",
    "\n",
    "plt.scatter(x_values, orders_by_users['orders'], color='yellow', alpha=0.5)\n",
    "plt.title('Количество заказов по пользователям')\n",
    "plt.xlabel('Кол-во пользователей')\n",
    "plt.ylabel('Кол-во заказов')\n",
    "plt.grid()\n",
    "plt.show()"
   ]
  },
  {
   "cell_type": "markdown",
   "metadata": {},
   "source": [
    "Подавляющее число пользователей совершили лишь 1 заказ, значительно меньше пользователей соверишили 2 заказа, 3 раза пользователь совершает заказ весьма редко , что впринцепе ожидаемо и предсказуемо."
   ]
  },
  {
   "cell_type": "markdown",
   "metadata": {},
   "source": [
    "Посчитаем 95-й и 99-й перцентили количества заказов на пользователя. Выбрав границу для определения аномальных пользователей."
   ]
  },
  {
   "cell_type": "code",
   "execution_count": 30,
   "metadata": {},
   "outputs": [
    {
     "data": {
      "text/plain": [
       "array([1., 2.])"
      ]
     },
     "execution_count": 30,
     "metadata": {},
     "output_type": "execute_result"
    }
   ],
   "source": [
    "np.percentile(orders_by_users['orders'], [95, 99])"
   ]
  },
  {
   "cell_type": "markdown",
   "metadata": {},
   "source": [
    "Основываясь на данный метод мы можем предположить , что заказы пользователей совершивших 3 заказа являются аномальными."
   ]
  },
  {
   "cell_type": "markdown",
   "metadata": {},
   "source": [
    " Построим точечный график стоимостей заказов"
   ]
  },
  {
   "cell_type": "code",
   "execution_count": 31,
   "metadata": {},
   "outputs": [
    {
     "data": {
      "text/plain": [
       "<matplotlib.collections.PathCollection at 0x7f3c28b75970>"
      ]
     },
     "execution_count": 31,
     "metadata": {},
     "output_type": "execute_result"
    },
    {
     "data": {
      "image/png": "[encoded data removed]",
      "text/plain": [
       "<Figure size 1080x360 with 1 Axes>"
      ]
     },
     "metadata": {
      "needs_background": "light"
     },
     "output_type": "display_data"
    }
   ],
   "source": [
    "x_values = pd.Series(range(0,len(orders['revenue'])))\n",
    "plt.figure(figsize=(15,5))\n",
    "plt.grid()\n",
    "plt.title('График стоимостей заказов')\n",
    "plt.xlabel('Кол-во пользователей')\n",
    "plt.ylabel('Стоимость заказа')\n",
    "plt.scatter(x_values, orders['revenue'], alpha=0.5)"
   ]
  },
  {
   "cell_type": "markdown",
   "metadata": {},
   "source": [
    "На графике мы видим аномальную стоимость заказа более 1.2млн.На графике видна граница аномалий, выше 200т.р.так как остальные заказы находятся примерно в одном поле. Добавим условие меньше 0.2 ,удалив аномалии."
   ]
  },
  {
   "cell_type": "code",
   "execution_count": 32,
   "metadata": {},
   "outputs": [
    {
     "data": {
      "image/png": "[encoded data removed]",
      "text/plain": [
       "<Figure size 1080x360 with 1 Axes>"
      ]
     },
     "metadata": {
      "needs_background": "light"
     },
     "output_type": "display_data"
    }
   ],
   "source": [
    "not_anomal_orders = orders[orders['revenue']<200000]['revenue']\n",
    "xn_values = pd.Series(range(0,len(not_anomal_orders)))\n",
    "plt.figure(figsize=(15,5))\n",
    "plt.grid()\n",
    "plt.title('График стоимостей заказов')\n",
    "plt.xlabel('Кол-во пользователей')\n",
    "plt.ylabel('Стоимость заказа')\n",
    "plt.scatter(xn_values, not_anomal_orders, alpha=0.5);"
   ]
  },
  {
   "cell_type": "markdown",
   "metadata": {},
   "source": [
    "Мы удалили аномальные заказы, для того чтобы дальше в исследовании сравнить \"сырые данные\" с данными без аномалий."
   ]
  },
  {
   "cell_type": "markdown",
   "metadata": {},
   "source": [
    " Посчитаем 95-й и 99-й перцентили стоимости заказов"
   ]
  },
  {
   "cell_type": "code",
   "execution_count": 33,
   "metadata": {},
   "outputs": [
    {
     "data": {
      "text/plain": [
       "array([26785., 53904.])"
      ]
     },
     "execution_count": 33,
     "metadata": {},
     "output_type": "execute_result"
    }
   ],
   "source": [
    "np.percentile(orders['revenue'], [95, 99])"
   ]
  },
  {
   "cell_type": "markdown",
   "metadata": {},
   "source": [
    "Теперь мы видим, что всё что дороже 53904 можно считать аномальным, т.к эти значения являются одним процентом от ста."
   ]
  },
  {
   "cell_type": "markdown",
   "metadata": {},
   "source": [
    "Посчитаем статистическую значимость различий в среднем количестве заказов на посетителя между группами по «сырым» данным. "
   ]
  },
  {
   "cell_type": "markdown",
   "metadata": {},
   "source": [
    "Создадим общую таблицу с данными по заказам и визитами с кумулятивными показателями"
   ]
  },
  {
   "cell_type": "code",
   "execution_count": 34,
   "metadata": {},
   "outputs": [
    {
     "name": "stdout",
     "output_type": "stream",
     "text": [
      "        date  ordersPerDateA  revenuePerDateA  ordersPerDateB  \\\n",
      "0 2019-08-01              23           142779              17   \n",
      "1 2019-08-02              19            91602              23   \n",
      "2 2019-08-03              24           112473              14   \n",
      "3 2019-08-04              11            41176              14   \n",
      "4 2019-08-05              22            86383              21   \n",
      "\n",
      "   revenuePerDateB  ordersCummulativeA  revenueCummulativeA  \\\n",
      "0            59758                  23               142779   \n",
      "1           162043                  42               234381   \n",
      "2            67049                  66               346854   \n",
      "3            96890                  77               388030   \n",
      "4            89908                  99               474413   \n",
      "\n",
      "   ordersCummulativeB  revenueCummulativeB  visitorsPerDateA  \\\n",
      "0                  17                59758               719   \n",
      "1                  40               221801               619   \n",
      "2                  54               288850               507   \n",
      "3                  68               385740               717   \n",
      "4                  89               475648               756   \n",
      "\n",
      "   visitorsPerDateB  visitorsCummulativeA  visitorsCummulativeB  \n",
      "0               713                   719                   713  \n",
      "1               581                  1338                  1294  \n",
      "2               509                  1845                  1803  \n",
      "3               770                  2562                  2573  \n",
      "4               707                  3318                  3280  \n"
     ]
    }
   ],
   "source": [
    "#Подготовка\n",
    "visitorsADaily = visitors[visitors['group']=='A'][['date', 'visitors']]\n",
    "visitorsADaily.columns = ['date', 'visitorsPerDateA']\n",
    "\n",
    "visitorsACummulative = visitorsADaily.apply(lambda x: visitorsADaily[visitorsADaily['date'] <= x['date']]. \\\n",
    "                                            agg({'date' : 'max', 'visitorsPerDateA' : 'sum'}), axis=1)\n",
    "visitorsACummulative.columns = ['date', 'visitorsCummulativeA']\n",
    "\n",
    "visitorsBDaily = visitors[visitors['group']=='B'][['date', 'visitors']]\n",
    "visitorsBDaily.columns = ['date', 'visitorsPerDateB']\n",
    "\n",
    "visitorsBCummulative = visitorsBDaily.apply(lambda x: visitorsBDaily[visitorsBDaily['date'] <= x['date']]. \\\n",
    "                                            agg({'date' : 'max', 'visitorsPerDateB' : 'sum'}), axis=1)\n",
    "visitorsBCummulative.columns = ['date', 'visitorsCummulativeB']\n",
    "ordersADaily = orders[orders['group']=='A'][['date', 'transactionId', 'visitorId', 'revenue']]\\\n",
    "    .groupby('date', as_index=False)\\\n",
    "    .agg({'transactionId' : pd.Series.nunique, 'revenue' : 'sum'})\n",
    "ordersADaily.columns = ['date', 'ordersPerDateA', 'revenuePerDateA']\n",
    "\n",
    "ordersACummulative = ordersADaily.apply(\n",
    "    lambda x: \\\n",
    "        ordersADaily[ordersADaily['date'] <= x['date']]\\\n",
    "            .agg({\n",
    "                'date' : 'max',\n",
    "                'ordersPerDateA' : 'sum',\n",
    "                'revenuePerDateA' : 'sum'}), axis=1).sort_values(by=['date'])\n",
    "ordersACummulative.columns = ['date', 'ordersCummulativeA', 'revenueCummulativeA']\n",
    "\n",
    "ordersBDaily = orders[orders['group']=='B'][['date', 'transactionId', 'visitorId', 'revenue']]\\\n",
    "    .groupby('date', as_index=False)\\\n",
    "    .agg({'transactionId' : pd.Series.nunique, 'revenue' : 'sum'})\n",
    "ordersBDaily.columns = ['date', 'ordersPerDateB', 'revenuePerDateB']\n",
    "\n",
    "ordersBCummulative = ordersBDaily.apply(\n",
    "    lambda x: \\\n",
    "        ordersBDaily[ordersBDaily['date'] <= x['date']]\\\n",
    "            .agg({\n",
    "                'date' : 'max',\n",
    "                'ordersPerDateB' : 'sum',\n",
    "                'revenuePerDateB' : 'sum'}), axis=1).sort_values(by=['date'])\n",
    "ordersBCummulative.columns = ['date', 'ordersCummulativeB', 'revenueCummulativeB']\n",
    "data = (\n",
    "    ordersADaily.merge(\n",
    "        ordersBDaily, left_on='date', right_on='date', how='left'\n",
    "    )\n",
    "    .merge(ordersACummulative, left_on='date', right_on='date', how='left')\n",
    "    .merge(ordersBCummulative, left_on='date', right_on='date', how='left')\n",
    "    .merge(visitorsADaily, left_on='date', right_on='date', how='left')\n",
    "    .merge(visitorsBDaily, left_on='date', right_on='date', how='left')\n",
    "    .merge(visitorsACummulative, left_on='date', right_on='date', how='left')\n",
    "    .merge(visitorsBCummulative, left_on='date', right_on='date', how='left')\n",
    ")\n",
    "\n",
    "print(data.head(5)) "
   ]
  },
  {
   "cell_type": "markdown",
   "metadata": {},
   "source": [
    "названия столбцов данных:\n",
    "date — дата;\n",
    "ordersPerDateA — количество заказов в выбранную дату в группе A;\n",
    "revenuePerDateA — суммарная выручка в выбранную дату в группе A;\n",
    "ordersPerDateB — количество заказов в выбранную дату в группе B;\n",
    "revenuePerDateB — суммарная выручка в выбранную дату в группе B;\n",
    "ordersCummulativeA — суммарное число заказов до выбранной даты включительно в группе A;\n",
    "revenueCummulativeA — суммарная выручка до выбранной даты включительно в группе A;\n",
    "ordersCummulativeB — суммарное количество заказов до выбранной даты включительно в группе B;\n",
    "revenueCummulativeB — суммарная выручка до выбранной даты включительно в группе B;\n",
    "visitorsPerDateA — количество пользователей в выбранную дату в группе A;\n",
    "visitorsPerDateB — количество пользователей в выбранную дату в группе B;\n",
    "visitorsCummulativeA — количество пользователей до выбранной даты включительно в группе A;\n",
    "visitorsCummulativeB — количество пользователей до выбранной даты включительно в группе B."
   ]
  },
  {
   "cell_type": "markdown",
   "metadata": {},
   "source": [
    "В результате мы имеем общую таблицу с данными по заказам и визитами с кумулятивными показателями."
   ]
  },
  {
   "cell_type": "markdown",
   "metadata": {},
   "source": [
    "Создадим переменные ordersByUsersA и ordersByUsersB со столбцами ['userId', 'orders']. В них для пользователей, которые заказывали хотя бы 1 раз, укажем число совершённых заказов. "
   ]
  },
  {
   "cell_type": "code",
   "execution_count": 35,
   "metadata": {},
   "outputs": [],
   "source": [
    "ordersByUsersA = orders[orders['group']=='A'].groupby('visitorId', as_index=False).agg({'transactionId' : pd.Series.nunique})\n",
    "ordersByUsersA.columns = ['userId', 'orders']\n",
    "\n",
    "ordersByUsersB = orders[orders['group']=='B'].groupby('visitorId', as_index=False).agg({'transactionId' : pd.Series.nunique})\n",
    "ordersByUsersB.columns = ['userId', 'orders']"
   ]
  },
  {
   "cell_type": "markdown",
   "metadata": {},
   "source": [
    "Объявим переменные sampleA и sampleB, в которых пользователям из разных групп будет соответствовать количество заказов. "
   ]
  },
  {
   "cell_type": "code",
   "execution_count": 36,
   "metadata": {},
   "outputs": [],
   "source": [
    "sampleA = pd.concat([ordersByUsersA['orders'],pd.Series(0, index=np.arange(data['visitorsPerDateA'].sum() - len(ordersByUsersA['orders'])), name='orders')],axis=0)\n",
    "\n",
    "sampleB = pd.concat([ordersByUsersB['orders'],pd.Series(0, index=np.arange(data['visitorsPerDateB'].sum() - len(ordersByUsersB['orders'])), name='orders')],axis=0)"
   ]
  },
  {
   "cell_type": "markdown",
   "metadata": {},
   "source": [
    "Выведем относительный прирост среднего числа заказов группы B: среднее число заказов группы B / среднее число заказов группы A - 1.  Округлив до трёх знаков после запятой."
   ]
  },
  {
   "cell_type": "markdown",
   "metadata": {},
   "source": [
    "Нулевой гипотезой будет отсутствие значимых различий\n",
    "альтернативная гипотеза - присутствие значимых различий"
   ]
  },
  {
   "cell_type": "code",
   "execution_count": 37,
   "metadata": {},
   "outputs": [
    {
     "name": "stdout",
     "output_type": "stream",
     "text": [
      "p-value = 0.011\n",
      "различие в среднем количестве заказов на посетителя между группами (В к А ) = 0.160\n"
     ]
    }
   ],
   "source": [
    "print('p-value = '\"{0:.3f}\".format(stats.mannwhitneyu(sampleA, sampleB)[1]))\n",
    "\n",
    "print('различие в среднем количестве заказов на посетителя между группами (В к А ) = '\"{0:.3f}\".format(sampleB.mean() / sampleA.mean() - 1))"
   ]
  },
  {
   "cell_type": "markdown",
   "metadata": {},
   "source": [
    "Первое число — p-value = 0.011, что меньше 0,05 ,поэтому нулевую гипотезу , отсутствия значимых различий - отвергаем.\n",
    "Второе число - различие в среднем количестве заказов на посетителя между группами (В к А 16%)"
   ]
  },
  {
   "cell_type": "markdown",
   "metadata": {},
   "source": [
    "Посчитаем статистическую значимость различий в среднем чеке заказа между группами по «сырым» данным"
   ]
  },
  {
   "cell_type": "markdown",
   "metadata": {},
   "source": [
    "Нулевой гипотезой будет отсутствие различий в среднем чеке между группами\n",
    "альтернативная гипотеза - присутствие значимых различий в среднем чеке между группами"
   ]
  },
  {
   "cell_type": "code",
   "execution_count": 38,
   "metadata": {},
   "outputs": [
    {
     "name": "stdout",
     "output_type": "stream",
     "text": [
      "p-value = 0.829\n",
      "разница в процентах среднего чека группы В к А = 0.287\n"
     ]
    }
   ],
   "source": [
    "print(\"p-value = \"'{0:.3f}'.format(stats.mannwhitneyu(orders[orders['group']=='A']['revenue'], orders[orders['group']=='B']['revenue'])[1]))\n",
    "print(\"разница в процентах среднего чека группы В к А = \"'{0:.3f}'.format(orders[orders['group']=='B']['revenue'].mean()/orders[orders['group']=='A']['revenue'].mean()-1)) "
   ]
  },
  {
   "cell_type": "markdown",
   "metadata": {},
   "source": [
    "Первое число - p-value = 0.829 , что больше 0,05, поэтому нулевую гипотезу отсутствия различий мы отвергнуть не можем, значимых разлчий нет.\n",
    "0.287 это разница в процентах среднего чека группы В к А (28.7%)"
   ]
  },
  {
   "cell_type": "markdown",
   "metadata": {},
   "source": [
    "Посчитаем статистическую значимость различий в среднем количестве заказов на посетителя между группами по «очищенным» данным."
   ]
  },
  {
   "cell_type": "markdown",
   "metadata": {},
   "source": [
    " Сделаем срезы пользователей с числом заказов больше 2 — usersWithManyOrders и пользователей, совершивших заказы дороже 20000 — usersWithExpensiveOrders. Объединим их в таблице abnormalUsers. "
   ]
  },
  {
   "cell_type": "code",
   "execution_count": 39,
   "metadata": {},
   "outputs": [
    {
     "data": {
      "text/plain": [
       "1099    148427295\n",
       "33      249864742\n",
       "58      611059232\n",
       "949     887908475\n",
       "744     888512513\n",
       "dtype: int64"
      ]
     },
     "metadata": {},
     "output_type": "display_data"
    },
    {
     "name": "stdout",
     "output_type": "stream",
     "text": [
      "Количество  аномальных пользователей : 16\n"
     ]
    }
   ],
   "source": [
    "usersWithManyOrders = pd.concat([ordersByUsersA[ordersByUsersA['orders'] > 2]['userId'], ordersByUsersB[ordersByUsersB['orders'] > 2]['userId']], axis = 0)\n",
    "usersWithExpensiveOrders = orders[orders['revenue'] > 53904]['visitorId']\n",
    "abnormalUsers = pd.concat([usersWithManyOrders, usersWithExpensiveOrders], axis = 0).drop_duplicates().sort_values()\n",
    "display(abnormalUsers.head(5))\n",
    "print(\"Количество  аномальных пользователей :\" ,len(abnormalUsers)) "
   ]
  },
  {
   "cell_type": "markdown",
   "metadata": {},
   "source": [
    "Всего 16 аномальных пользователей. \n",
    "Узнаем, как их действия повлияли на результаты теста"
   ]
  },
  {
   "cell_type": "code",
   "execution_count": 38,
   "metadata": {},
   "outputs": [],
   "source": [
    "sampleAFiltered = pd.concat([ordersByUsersA[np.logical_not(ordersByUsersA['userId'].isin(abnormalUsers))]['orders'], \\\n",
    "                             pd.Series(0, index=np.arange(data['visitorsPerDateA'].sum() - len(ordersByUsersA['orders'])), \\\n",
    "                                       name='orders')],axis=0)\n",
    "\n",
    "sampleBFiltered = pd.concat([ordersByUsersB[np.logical_not(ordersByUsersB['userId'].isin(abnormalUsers))]['orders'], \\\n",
    "                            pd.Series(0, index=np.arange(data['visitorsPerDateB'].sum() - len(ordersByUsersB['orders'])), \\\n",
    "                                       name='orders')],axis=0) "
   ]
  },
  {
   "cell_type": "markdown",
   "metadata": {},
   "source": [
    "Далее применим статистический критерий Манна-Уитни к полученным выборкам:"
   ]
  },
  {
   "cell_type": "code",
   "execution_count": 39,
   "metadata": {},
   "outputs": [
    {
     "name": "stdout",
     "output_type": "stream",
     "text": [
      "p-value = 0.007\n",
      "разница в процентах среднего чека группы В к А = 0.189\n"
     ]
    }
   ],
   "source": [
    "print(\"p-value = \"'{0:.3f}'.format(stats.mannwhitneyu(sampleAFiltered, sampleBFiltered)[1]))\n",
    "print(\"разница в процентах среднего чека группы В к А = \"'{0:.3f}'.format(sampleBFiltered.mean()/sampleAFiltered.mean()-1)) "
   ]
  },
  {
   "cell_type": "markdown",
   "metadata": {},
   "source": [
    "Гипотезы уже заданы, сравним результаты (очищенных данных от сырых)\n",
    "Первое число — p-value = 0.007, что меньше 0,05 ,поэтому нулевую гипотезу , отсутствия значимых различий - отвергаем.\n",
    "Второе число - различие в среднем количестве заказов на посетителя между группами (В к А 18,9%)\n",
    "Соответственно очищенные и сырые данные имеют значимые различия в среднем количестве заказов\n"
   ]
  },
  {
   "cell_type": "markdown",
   "metadata": {},
   "source": [
    "Теперь проверим и сравним очищенные данные по среднему чеку между группами"
   ]
  },
  {
   "cell_type": "code",
   "execution_count": 40,
   "metadata": {},
   "outputs": [
    {
     "name": "stdout",
     "output_type": "stream",
     "text": [
      "p-value = 0.788\n",
      "Отношение В к А = -0.032\n"
     ]
    }
   ],
   "source": [
    "\n",
    "print(\"p-value = {0:.3f}\".format(stats.mannwhitneyu(\n",
    "    orders[np.logical_and(\n",
    "        orders['group']=='A',\n",
    "        np.logical_not(orders['visitorId'].isin(abnormalUsers)))]['revenue'],\n",
    "    orders[np.logical_and(\n",
    "        orders['group']=='B',\n",
    "        np.logical_not(orders['visitorId'].isin(abnormalUsers)))]['revenue'], alternative = 'two-sided')[1]))\n",
    "\n",
    "print(\"Отношение В к А = {0:.3f}\".format(\n",
    "    orders[np.logical_and(orders['group']=='B',np.logical_not(orders['visitorId'].isin(abnormalUsers)))]['revenue'].mean()/\n",
    "    orders[np.logical_and(\n",
    "        orders['group']=='A',\n",
    "        np.logical_not(orders['visitorId'].isin(abnormalUsers)))]['revenue'].mean() - 1)) "
   ]
  },
  {
   "cell_type": "markdown",
   "metadata": {},
   "source": [
    "Гипотезы уже заданы, сравним результаты (очищенных данных от сырых) Первое число — p-value =  0.788 , что больше 0.05 , значимых различий нет, как и в случае с \"сырыми данными\".\\\n",
    "Разница в процентах среднего чека группы В к А (28.7%) у сырых данных и -3% у очищенных данных, можно сказать что аномальные значения среднего чека сильно сыграло на результаты.\n"
   ]
  },
  {
   "cell_type": "markdown",
   "metadata": {},
   "source": [
    " Принять решение по результатам теста и объяснить его,выбрав один из перечисленных:\n",
    "\n",
    "Остановить тест, зафиксировать победу одной из групп.\n",
    "Остановить тест, зафиксировать отсутствие различий между группами.\n",
    "Продолжить тест."
   ]
  },
  {
   "cell_type": "markdown",
   "metadata": {},
   "source": [
    "По результатам исследования предлагаю остановиться на первом варианте, зафиксировать победу группы В т.к. показатели кумулятивной выручки и показатели кумулятивн"
   ]
  }
 ],
 "metadata": {
  "ExecuteTimeLog": [
   {
    "duration": 51,
    "start_time": "2024-02-05T14:35:35.581Z"
   },
   {
    "duration": 444,
    "start_time": "2024-02-05T14:35:41.377Z"
   },
   {
    "duration": 69,
    "start_time": "2024-02-05T14:35:41.823Z"
   },
   {
    "duration": 17,
    "start_time": "2024-02-05T14:36:22.011Z"
   },
   {
    "duration": 6,
    "start_time": "2024-02-05T14:36:53.431Z"
   },
   {
    "duration": 28,
    "start_time": "2024-02-05T14:36:53.439Z"
   },
   {
    "duration": 8,
    "start_time": "2024-02-05T14:37:18.651Z"
   },
   {
    "duration": 425,
    "start_time": "2024-02-05T14:37:28.410Z"
   },
   {
    "duration": 27,
    "start_time": "2024-02-05T14:37:28.837Z"
   },
   {
    "duration": 16,
    "start_time": "2024-02-05T14:37:28.866Z"
   },
   {
    "duration": 8,
    "start_time": "2024-02-05T14:37:48.110Z"
   },
   {
    "duration": 8,
    "start_time": "2024-02-05T14:38:00.333Z"
   },
   {
    "duration": 8,
    "start_time": "2024-02-05T14:38:07.521Z"
   },
   {
    "duration": 9,
    "start_time": "2024-02-05T14:40:45.425Z"
   },
   {
    "duration": 7,
    "start_time": "2024-02-05T15:09:21.370Z"
   },
   {
    "duration": 80,
    "start_time": "2024-02-05T15:12:16.181Z"
   },
   {
    "duration": 81,
    "start_time": "2024-02-05T15:13:01.425Z"
   },
   {
    "duration": 12,
    "start_time": "2024-02-05T15:13:21.761Z"
   },
   {
    "duration": 12,
    "start_time": "2024-02-05T15:17:36.183Z"
   },
   {
    "duration": 12,
    "start_time": "2024-02-05T15:18:01.545Z"
   },
   {
    "duration": 134,
    "start_time": "2024-02-05T15:39:55.533Z"
   },
   {
    "duration": 66,
    "start_time": "2024-02-05T16:08:39.601Z"
   },
   {
    "duration": 8,
    "start_time": "2024-02-05T16:08:49.382Z"
   },
   {
    "duration": 8,
    "start_time": "2024-02-05T16:08:58.532Z"
   },
   {
    "duration": 8,
    "start_time": "2024-02-05T16:09:11.009Z"
   },
   {
    "duration": 8,
    "start_time": "2024-02-05T16:13:18.084Z"
   },
   {
    "duration": 7,
    "start_time": "2024-02-05T16:13:19.132Z"
   },
   {
    "duration": 14,
    "start_time": "2024-02-05T16:13:40.713Z"
   },
   {
    "duration": 11,
    "start_time": "2024-02-05T16:14:28.724Z"
   },
   {
    "duration": 7,
    "start_time": "2024-02-05T16:15:07.983Z"
   },
   {
    "duration": 8,
    "start_time": "2024-02-05T16:15:15.273Z"
   },
   {
    "duration": 5,
    "start_time": "2024-02-05T16:15:36.063Z"
   },
   {
    "duration": 20,
    "start_time": "2024-02-05T17:39:22.856Z"
   },
   {
    "duration": 11,
    "start_time": "2024-02-05T17:39:42.511Z"
   },
   {
    "duration": 10,
    "start_time": "2024-02-05T18:11:37.125Z"
   },
   {
    "duration": 1382,
    "start_time": "2024-02-05T18:11:47.598Z"
   },
   {
    "duration": 28,
    "start_time": "2024-02-05T18:11:48.982Z"
   },
   {
    "duration": 13,
    "start_time": "2024-02-05T18:11:49.012Z"
   },
   {
    "duration": 18,
    "start_time": "2024-02-05T18:11:49.027Z"
   },
   {
    "duration": 12,
    "start_time": "2024-02-05T18:11:49.047Z"
   },
   {
    "duration": 52,
    "start_time": "2024-02-05T18:11:49.061Z"
   },
   {
    "duration": 8,
    "start_time": "2024-02-05T18:11:49.115Z"
   },
   {
    "duration": 11,
    "start_time": "2024-02-05T18:11:49.124Z"
   },
   {
    "duration": 11,
    "start_time": "2024-02-05T18:11:49.137Z"
   },
   {
    "duration": 15,
    "start_time": "2024-02-05T18:11:49.151Z"
   },
   {
    "duration": 8,
    "start_time": "2024-02-05T18:11:49.168Z"
   },
   {
    "duration": 4,
    "start_time": "2024-02-05T18:11:49.178Z"
   },
   {
    "duration": 17,
    "start_time": "2024-02-05T18:11:49.184Z"
   },
   {
    "duration": 10,
    "start_time": "2024-02-05T18:11:49.203Z"
   },
   {
    "duration": 1531,
    "start_time": "2024-02-05T18:11:49.214Z"
   },
   {
    "duration": 1410,
    "start_time": "2024-02-05T18:14:00.031Z"
   },
   {
    "duration": 9,
    "start_time": "2024-02-05T18:14:20.951Z"
   },
   {
    "duration": 9,
    "start_time": "2024-02-05T18:14:38.943Z"
   },
   {
    "duration": 9,
    "start_time": "2024-02-05T18:14:47.233Z"
   },
   {
    "duration": 14,
    "start_time": "2024-02-05T18:14:56.474Z"
   },
   {
    "duration": 9,
    "start_time": "2024-02-05T18:15:04.772Z"
   },
   {
    "duration": 1361,
    "start_time": "2024-02-05T20:23:04.609Z"
   },
   {
    "duration": 61,
    "start_time": "2024-02-05T20:23:05.972Z"
   },
   {
    "duration": 14,
    "start_time": "2024-02-05T20:23:06.034Z"
   },
   {
    "duration": 13,
    "start_time": "2024-02-05T20:23:06.050Z"
   },
   {
    "duration": 13,
    "start_time": "2024-02-05T20:23:06.513Z"
   },
   {
    "duration": 140,
    "start_time": "2024-02-05T20:23:07.444Z"
   },
   {
    "duration": 9,
    "start_time": "2024-02-05T20:23:07.651Z"
   },
   {
    "duration": 8,
    "start_time": "2024-02-05T20:23:08.117Z"
   },
   {
    "duration": 12,
    "start_time": "2024-02-05T20:23:08.137Z"
   },
   {
    "duration": 10,
    "start_time": "2024-02-05T20:23:08.369Z"
   },
   {
    "duration": 6,
    "start_time": "2024-02-05T20:23:08.633Z"
   },
   {
    "duration": 6,
    "start_time": "2024-02-05T20:23:08.893Z"
   },
   {
    "duration": 20,
    "start_time": "2024-02-05T20:23:09.093Z"
   },
   {
    "duration": 11,
    "start_time": "2024-02-05T20:23:09.334Z"
   },
   {
    "duration": 10,
    "start_time": "2024-02-05T20:23:10.460Z"
   },
   {
    "duration": 103,
    "start_time": "2024-02-05T20:23:51.972Z"
   },
   {
    "duration": 4,
    "start_time": "2024-02-05T20:24:13.082Z"
   },
   {
    "duration": 5,
    "start_time": "2024-02-05T20:24:34.572Z"
   },
   {
    "duration": 6,
    "start_time": "2024-02-05T20:24:45.064Z"
   },
   {
    "duration": 11,
    "start_time": "2024-02-05T20:25:51.775Z"
   },
   {
    "duration": 9,
    "start_time": "2024-02-05T20:26:23.924Z"
   },
   {
    "duration": 10,
    "start_time": "2024-02-05T20:26:25.305Z"
   },
   {
    "duration": 4,
    "start_time": "2024-02-05T20:27:47.591Z"
   },
   {
    "duration": 84,
    "start_time": "2024-02-05T20:27:51.630Z"
   },
   {
    "duration": 9,
    "start_time": "2024-02-05T20:27:57.760Z"
   },
   {
    "duration": 3,
    "start_time": "2024-02-05T20:28:32.966Z"
   },
   {
    "duration": 10,
    "start_time": "2024-02-05T20:28:34.976Z"
   },
   {
    "duration": 52,
    "start_time": "2024-02-06T16:56:01.255Z"
   },
   {
    "duration": 1349,
    "start_time": "2024-02-06T16:56:08.968Z"
   },
   {
    "duration": 63,
    "start_time": "2024-02-06T16:56:10.319Z"
   },
   {
    "duration": 14,
    "start_time": "2024-02-06T16:56:10.383Z"
   },
   {
    "duration": 30,
    "start_time": "2024-02-06T16:56:10.400Z"
   },
   {
    "duration": 11,
    "start_time": "2024-02-06T16:56:10.432Z"
   },
   {
    "duration": 144,
    "start_time": "2024-02-06T16:56:10.445Z"
   },
   {
    "duration": 9,
    "start_time": "2024-02-06T16:56:10.591Z"
   },
   {
    "duration": 23,
    "start_time": "2024-02-06T16:56:10.602Z"
   },
   {
    "duration": 60,
    "start_time": "2024-02-06T16:56:10.626Z"
   },
   {
    "duration": 25,
    "start_time": "2024-02-06T16:56:10.690Z"
   },
   {
    "duration": 15,
    "start_time": "2024-02-06T16:56:10.717Z"
   },
   {
    "duration": 5,
    "start_time": "2024-02-06T16:56:10.734Z"
   },
   {
    "duration": 53,
    "start_time": "2024-02-06T16:56:10.740Z"
   },
   {
    "duration": 10,
    "start_time": "2024-02-06T16:56:10.795Z"
   },
   {
    "duration": 19,
    "start_time": "2024-02-06T16:56:10.807Z"
   },
   {
    "duration": 8,
    "start_time": "2024-02-06T16:56:10.828Z"
   },
   {
    "duration": 12,
    "start_time": "2024-02-06T16:56:10.838Z"
   },
   {
    "duration": 428,
    "start_time": "2024-02-06T17:07:25.748Z"
   },
   {
    "duration": 11,
    "start_time": "2024-02-06T17:08:32.182Z"
   },
   {
    "duration": 6,
    "start_time": "2024-02-06T17:08:37.436Z"
   },
   {
    "duration": 10,
    "start_time": "2024-02-06T17:09:31.162Z"
   },
   {
    "duration": 86,
    "start_time": "2024-02-06T17:48:32.519Z"
   },
   {
    "duration": 98,
    "start_time": "2024-02-06T17:49:43.008Z"
   },
   {
    "duration": 1204,
    "start_time": "2024-02-06T17:49:50.214Z"
   },
   {
    "duration": 28,
    "start_time": "2024-02-06T17:49:51.420Z"
   },
   {
    "duration": 13,
    "start_time": "2024-02-06T17:49:51.449Z"
   },
   {
    "duration": 19,
    "start_time": "2024-02-06T17:49:51.464Z"
   },
   {
    "duration": 13,
    "start_time": "2024-02-06T17:49:51.486Z"
   },
   {
    "duration": 65,
    "start_time": "2024-02-06T17:49:51.501Z"
   },
   {
    "duration": 8,
    "start_time": "2024-02-06T17:49:51.567Z"
   },
   {
    "duration": 9,
    "start_time": "2024-02-06T17:49:51.577Z"
   },
   {
    "duration": 25,
    "start_time": "2024-02-06T17:49:51.588Z"
   },
   {
    "duration": 25,
    "start_time": "2024-02-06T17:49:51.615Z"
   },
   {
    "duration": 17,
    "start_time": "2024-02-06T17:49:51.641Z"
   },
   {
    "duration": 11,
    "start_time": "2024-02-06T17:49:51.660Z"
   },
   {
    "duration": 10,
    "start_time": "2024-02-06T17:49:51.673Z"
   },
   {
    "duration": 23,
    "start_time": "2024-02-06T17:49:51.685Z"
   },
   {
    "duration": 12,
    "start_time": "2024-02-06T17:49:51.709Z"
   },
   {
    "duration": 36,
    "start_time": "2024-02-06T17:49:51.723Z"
   },
   {
    "duration": 5,
    "start_time": "2024-02-06T17:49:51.761Z"
   },
   {
    "duration": 10,
    "start_time": "2024-02-06T17:49:51.767Z"
   },
   {
    "duration": 76,
    "start_time": "2024-02-06T17:49:51.779Z"
   },
   {
    "duration": 79,
    "start_time": "2024-02-06T19:10:26.997Z"
   },
   {
    "duration": 87,
    "start_time": "2024-02-06T19:16:50.262Z"
   },
   {
    "duration": 73,
    "start_time": "2024-02-06T19:18:54.544Z"
   },
   {
    "duration": 52,
    "start_time": "2024-02-06T20:09:16.601Z"
   },
   {
    "duration": 1429,
    "start_time": "2024-02-06T20:09:57.288Z"
   },
   {
    "duration": 68,
    "start_time": "2024-02-06T20:09:58.720Z"
   },
   {
    "duration": 14,
    "start_time": "2024-02-06T20:09:58.790Z"
   },
   {
    "duration": 13,
    "start_time": "2024-02-06T20:09:58.807Z"
   },
   {
    "duration": 25,
    "start_time": "2024-02-06T20:09:58.821Z"
   },
   {
    "duration": 122,
    "start_time": "2024-02-06T20:09:58.848Z"
   },
   {
    "duration": 8,
    "start_time": "2024-02-06T20:09:58.971Z"
   },
   {
    "duration": 7,
    "start_time": "2024-02-06T20:09:58.981Z"
   },
   {
    "duration": 14,
    "start_time": "2024-02-06T20:09:58.990Z"
   },
   {
    "duration": 10,
    "start_time": "2024-02-06T20:09:59.008Z"
   },
   {
    "duration": 16,
    "start_time": "2024-02-06T20:09:59.020Z"
   },
   {
    "duration": 44,
    "start_time": "2024-02-06T20:09:59.038Z"
   },
   {
    "duration": 7,
    "start_time": "2024-02-06T20:09:59.083Z"
   },
   {
    "duration": 18,
    "start_time": "2024-02-06T20:09:59.092Z"
   },
   {
    "duration": 12,
    "start_time": "2024-02-06T20:09:59.111Z"
   },
   {
    "duration": 10,
    "start_time": "2024-02-06T20:09:59.124Z"
   },
   {
    "duration": 3,
    "start_time": "2024-02-06T20:09:59.137Z"
   },
   {
    "duration": 11,
    "start_time": "2024-02-06T20:09:59.181Z"
   },
   {
    "duration": 375,
    "start_time": "2024-02-06T20:09:59.193Z"
   },
   {
    "duration": 274,
    "start_time": "2024-02-06T20:14:11.437Z"
   },
   {
    "duration": 182,
    "start_time": "2024-02-06T20:52:36.955Z"
   },
   {
    "duration": 220,
    "start_time": "2024-02-06T20:54:26.412Z"
   },
   {
    "duration": 197,
    "start_time": "2024-02-06T20:54:56.948Z"
   },
   {
    "duration": 215,
    "start_time": "2024-02-06T20:55:56.877Z"
   },
   {
    "duration": 228,
    "start_time": "2024-02-06T20:56:38.531Z"
   },
   {
    "duration": 75,
    "start_time": "2024-02-06T20:56:53.512Z"
   },
   {
    "duration": 201,
    "start_time": "2024-02-06T20:56:59.630Z"
   },
   {
    "duration": 416,
    "start_time": "2024-02-06T20:57:23.942Z"
   },
   {
    "duration": 240,
    "start_time": "2024-02-06T20:57:39.984Z"
   },
   {
    "duration": 294,
    "start_time": "2024-02-06T20:58:14.737Z"
   },
   {
    "duration": 226,
    "start_time": "2024-02-06T20:58:21.315Z"
   },
   {
    "duration": 251,
    "start_time": "2024-02-06T20:59:05.748Z"
   },
   {
    "duration": 361,
    "start_time": "2024-02-06T20:59:22.180Z"
   },
   {
    "duration": 263,
    "start_time": "2024-02-06T20:59:50.932Z"
   },
   {
    "duration": 46,
    "start_time": "2024-02-07T17:43:04.851Z"
   },
   {
    "duration": 1238,
    "start_time": "2024-02-07T17:47:27.057Z"
   },
   {
    "duration": 58,
    "start_time": "2024-02-07T17:47:28.296Z"
   },
   {
    "duration": 12,
    "start_time": "2024-02-07T17:47:28.355Z"
   },
   {
    "duration": 11,
    "start_time": "2024-02-07T17:47:28.369Z"
   },
   {
    "duration": 9,
    "start_time": "2024-02-07T17:47:28.381Z"
   },
   {
    "duration": 126,
    "start_time": "2024-02-07T17:47:28.392Z"
   },
   {
    "duration": 7,
    "start_time": "2024-02-07T17:47:28.519Z"
   },
   {
    "duration": 9,
    "start_time": "2024-02-07T17:47:28.527Z"
   },
   {
    "duration": 12,
    "start_time": "2024-02-07T17:47:28.537Z"
   },
   {
    "duration": 10,
    "start_time": "2024-02-07T17:47:28.551Z"
   },
   {
    "duration": 14,
    "start_time": "2024-02-07T17:47:28.563Z"
   },
   {
    "duration": 10,
    "start_time": "2024-02-07T17:47:28.579Z"
   },
   {
    "duration": 29,
    "start_time": "2024-02-07T17:47:28.590Z"
   },
   {
    "duration": 17,
    "start_time": "2024-02-07T17:47:28.620Z"
   },
   {
    "duration": 9,
    "start_time": "2024-02-07T17:47:28.638Z"
   },
   {
    "duration": 10,
    "start_time": "2024-02-07T17:47:28.648Z"
   },
   {
    "duration": 4,
    "start_time": "2024-02-07T17:47:28.660Z"
   },
   {
    "duration": 7,
    "start_time": "2024-02-07T17:47:28.665Z"
   },
   {
    "duration": 306,
    "start_time": "2024-02-07T17:47:28.674Z"
   },
   {
    "duration": 327,
    "start_time": "2024-02-07T17:47:28.982Z"
   },
   {
    "duration": 215,
    "start_time": "2024-02-07T17:47:29.317Z"
   },
   {
    "duration": 288,
    "start_time": "2024-02-07T17:47:29.534Z"
   },
   {
    "duration": 277,
    "start_time": "2024-02-07T17:53:18.299Z"
   },
   {
    "duration": 311,
    "start_time": "2024-02-07T17:55:46.184Z"
   },
   {
    "duration": 266,
    "start_time": "2024-02-07T17:56:22.181Z"
   },
   {
    "duration": 303,
    "start_time": "2024-02-07T17:56:41.341Z"
   },
   {
    "duration": 97,
    "start_time": "2024-02-07T19:29:42.995Z"
   },
   {
    "duration": 1097,
    "start_time": "2024-02-07T19:29:52.748Z"
   },
   {
    "duration": 26,
    "start_time": "2024-02-07T19:29:53.847Z"
   },
   {
    "duration": 11,
    "start_time": "2024-02-07T19:29:53.875Z"
   },
   {
    "duration": 19,
    "start_time": "2024-02-07T19:29:53.888Z"
   },
   {
    "duration": 40,
    "start_time": "2024-02-07T19:29:53.908Z"
   },
   {
    "duration": 83,
    "start_time": "2024-02-07T19:29:53.949Z"
   },
   {
    "duration": 7,
    "start_time": "2024-02-07T19:29:54.034Z"
   },
   {
    "duration": 7,
    "start_time": "2024-02-07T19:29:54.043Z"
   },
   {
    "duration": 10,
    "start_time": "2024-02-07T19:29:54.052Z"
   },
   {
    "duration": 9,
    "start_time": "2024-02-07T19:29:54.065Z"
   },
   {
    "duration": 13,
    "start_time": "2024-02-07T19:29:54.075Z"
   },
   {
    "duration": 29,
    "start_time": "2024-02-07T19:29:54.089Z"
   },
   {
    "duration": 5,
    "start_time": "2024-02-07T19:29:54.119Z"
   },
   {
    "duration": 19,
    "start_time": "2024-02-07T19:29:54.125Z"
   },
   {
    "duration": 10,
    "start_time": "2024-02-07T19:29:54.145Z"
   },
   {
    "duration": 9,
    "start_time": "2024-02-07T19:29:54.156Z"
   },
   {
    "duration": 24,
    "start_time": "2024-02-07T19:29:54.167Z"
   },
   {
    "duration": 32,
    "start_time": "2024-02-07T19:29:54.192Z"
   },
   {
    "duration": 276,
    "start_time": "2024-02-07T19:29:54.226Z"
   },
   {
    "duration": 306,
    "start_time": "2024-02-07T19:29:54.504Z"
   },
   {
    "duration": 250,
    "start_time": "2024-02-07T19:29:54.812Z"
   },
   {
    "duration": 265,
    "start_time": "2024-02-07T19:29:55.064Z"
   },
   {
    "duration": 100,
    "start_time": "2024-02-07T19:29:55.331Z"
   },
   {
    "duration": 205,
    "start_time": "2024-02-07T19:33:51.533Z"
   },
   {
    "duration": 192,
    "start_time": "2024-02-07T19:35:35.657Z"
   },
   {
    "duration": 182,
    "start_time": "2024-02-07T19:47:33.088Z"
   },
   {
    "duration": 80,
    "start_time": "2024-02-07T19:47:48.616Z"
   },
   {
    "duration": 177,
    "start_time": "2024-02-07T19:48:15.379Z"
   },
   {
    "duration": 175,
    "start_time": "2024-02-07T19:48:30.894Z"
   },
   {
    "duration": 275,
    "start_time": "2024-02-07T19:50:21.366Z"
   },
   {
    "duration": 206,
    "start_time": "2024-02-07T19:51:31.946Z"
   },
   {
    "duration": 235,
    "start_time": "2024-02-07T19:53:38.636Z"
   },
   {
    "duration": 322,
    "start_time": "2024-02-07T20:08:09.532Z"
   },
   {
    "duration": 367,
    "start_time": "2024-02-07T20:10:31.413Z"
   },
   {
    "duration": 257,
    "start_time": "2024-02-07T20:11:27.765Z"
   },
   {
    "duration": 329,
    "start_time": "2024-02-07T20:12:56.440Z"
   },
   {
    "duration": 310,
    "start_time": "2024-02-07T20:13:18.142Z"
   },
   {
    "duration": 335,
    "start_time": "2024-02-07T20:13:31.390Z"
   },
   {
    "duration": 288,
    "start_time": "2024-02-07T20:14:04.759Z"
   },
   {
    "duration": 345,
    "start_time": "2024-02-07T20:15:27.497Z"
   },
   {
    "duration": 400,
    "start_time": "2024-02-07T20:16:08.828Z"
   },
   {
    "duration": 92,
    "start_time": "2024-02-07T20:16:29.204Z"
   },
   {
    "duration": 304,
    "start_time": "2024-02-07T20:16:35.571Z"
   },
   {
    "duration": 65,
    "start_time": "2024-02-08T18:40:33.443Z"
   },
   {
    "duration": 7,
    "start_time": "2024-02-08T18:44:47.359Z"
   },
   {
    "duration": 7,
    "start_time": "2024-02-08T18:45:12.918Z"
   },
   {
    "duration": 1386,
    "start_time": "2024-02-08T18:45:18.674Z"
   },
   {
    "duration": 95,
    "start_time": "2024-02-08T18:45:20.062Z"
   },
   {
    "duration": 12,
    "start_time": "2024-02-08T18:45:20.159Z"
   },
   {
    "duration": 12,
    "start_time": "2024-02-08T18:45:20.174Z"
   },
   {
    "duration": 24,
    "start_time": "2024-02-08T18:45:20.187Z"
   },
   {
    "duration": 131,
    "start_time": "2024-02-08T18:45:20.213Z"
   },
   {
    "duration": 8,
    "start_time": "2024-02-08T18:45:20.346Z"
   },
   {
    "duration": 8,
    "start_time": "2024-02-08T18:45:20.355Z"
   },
   {
    "duration": 12,
    "start_time": "2024-02-08T18:45:20.365Z"
   },
   {
    "duration": 29,
    "start_time": "2024-02-08T18:45:20.380Z"
   },
   {
    "duration": 44,
    "start_time": "2024-02-08T18:45:20.411Z"
   },
   {
    "duration": 21,
    "start_time": "2024-02-08T18:45:20.456Z"
   },
   {
    "duration": 30,
    "start_time": "2024-02-08T18:45:20.478Z"
   },
   {
    "duration": 21,
    "start_time": "2024-02-08T18:45:20.509Z"
   },
   {
    "duration": 11,
    "start_time": "2024-02-08T18:45:20.531Z"
   },
   {
    "duration": 22,
    "start_time": "2024-02-08T18:45:20.543Z"
   },
   {
    "duration": 4,
    "start_time": "2024-02-08T18:45:20.566Z"
   },
   {
    "duration": 18,
    "start_time": "2024-02-08T18:45:20.572Z"
   },
   {
    "duration": 320,
    "start_time": "2024-02-08T18:45:20.591Z"
   },
   {
    "duration": 346,
    "start_time": "2024-02-08T18:45:20.912Z"
   },
   {
    "duration": 267,
    "start_time": "2024-02-08T18:45:21.260Z"
   },
   {
    "duration": 395,
    "start_time": "2024-02-08T18:45:21.528Z"
   },
   {
    "duration": 250,
    "start_time": "2024-02-08T18:45:21.925Z"
   },
   {
    "duration": 366,
    "start_time": "2024-02-08T18:45:22.177Z"
   },
   {
    "duration": 121,
    "start_time": "2024-02-08T18:45:22.545Z"
   },
   {
    "duration": 13,
    "start_time": "2024-02-08T19:21:08.899Z"
   },
   {
    "duration": 13,
    "start_time": "2024-02-08T19:21:16.768Z"
   },
   {
    "duration": 335,
    "start_time": "2024-02-08T19:27:46.427Z"
   },
   {
    "duration": 21,
    "start_time": "2024-02-08T19:31:31.462Z"
   },
   {
    "duration": 11,
    "start_time": "2024-02-08T19:32:08.737Z"
   },
   {
    "duration": 158,
    "start_time": "2024-02-08T19:33:31.372Z"
   },
   {
    "duration": 139,
    "start_time": "2024-02-08T19:33:52.117Z"
   },
   {
    "duration": 217,
    "start_time": "2024-02-08T19:35:09.717Z"
   },
   {
    "duration": 135,
    "start_time": "2024-02-08T19:35:19.212Z"
   },
   {
    "duration": 138,
    "start_time": "2024-02-08T19:35:44.412Z"
   },
   {
    "duration": 141,
    "start_time": "2024-02-08T19:35:48.917Z"
   },
   {
    "duration": 5,
    "start_time": "2024-02-08T20:37:39.454Z"
   },
   {
    "duration": 121,
    "start_time": "2024-02-08T20:42:43.149Z"
   },
   {
    "duration": 131,
    "start_time": "2024-02-08T20:43:12.364Z"
   },
   {
    "duration": 127,
    "start_time": "2024-02-08T20:43:35.289Z"
   },
   {
    "duration": 80,
    "start_time": "2024-02-08T20:44:44.809Z"
   },
   {
    "duration": 95,
    "start_time": "2024-02-08T20:44:56.484Z"
   },
   {
    "duration": 176,
    "start_time": "2024-02-08T20:45:06.454Z"
   },
   {
    "duration": 162,
    "start_time": "2024-02-08T20:45:41.654Z"
   },
   {
    "duration": 167,
    "start_time": "2024-02-08T20:45:50.130Z"
   },
   {
    "duration": 158,
    "start_time": "2024-02-08T20:45:56.514Z"
   },
   {
    "duration": 178,
    "start_time": "2024-02-08T20:52:19.225Z"
   },
   {
    "duration": 167,
    "start_time": "2024-02-08T20:52:33.284Z"
   },
   {
    "duration": 228,
    "start_time": "2024-02-08T20:55:12.715Z"
   },
   {
    "duration": 178,
    "start_time": "2024-02-08T20:55:25.999Z"
   },
   {
    "duration": 5,
    "start_time": "2024-02-08T20:58:17.604Z"
   },
   {
    "duration": 58,
    "start_time": "2024-02-09T15:48:25.690Z"
   },
   {
    "duration": 9,
    "start_time": "2024-02-09T19:32:19.901Z"
   },
   {
    "duration": 1570,
    "start_time": "2024-02-09T19:32:29.816Z"
   },
   {
    "duration": 69,
    "start_time": "2024-02-09T19:32:31.388Z"
   },
   {
    "duration": 17,
    "start_time": "2024-02-09T19:32:31.458Z"
   },
   {
    "duration": 84,
    "start_time": "2024-02-09T19:32:31.477Z"
   },
   {
    "duration": 57,
    "start_time": "2024-02-09T19:32:31.563Z"
   },
   {
    "duration": 733,
    "start_time": "2024-02-09T19:32:31.622Z"
   },
   {
    "duration": 28,
    "start_time": "2024-02-09T19:32:32.357Z"
   },
   {
    "duration": 90,
    "start_time": "2024-02-09T19:32:32.387Z"
   },
   {
    "duration": 89,
    "start_time": "2024-02-09T19:32:32.479Z"
   },
   {
    "duration": 237,
    "start_time": "2024-02-09T19:32:32.570Z"
   },
   {
    "duration": 83,
    "start_time": "2024-02-09T19:32:32.809Z"
   },
   {
    "duration": 27,
    "start_time": "2024-02-09T19:32:32.894Z"
   },
   {
    "duration": 19,
    "start_time": "2024-02-09T19:32:32.923Z"
   },
   {
    "duration": 45,
    "start_time": "2024-02-09T19:32:32.944Z"
   },
   {
    "duration": 11,
    "start_time": "2024-02-09T19:32:32.991Z"
   },
   {
    "duration": 17,
    "start_time": "2024-02-09T19:32:33.003Z"
   },
   {
    "duration": 11,
    "start_time": "2024-02-09T19:32:33.022Z"
   },
   {
    "duration": 30,
    "start_time": "2024-02-09T19:32:33.034Z"
   },
   {
    "duration": 323,
    "start_time": "2024-02-09T19:32:33.066Z"
   },
   {
    "duration": 351,
    "start_time": "2024-02-09T19:32:33.392Z"
   },
   {
    "duration": 267,
    "start_time": "2024-02-09T19:32:33.745Z"
   },
   {
    "duration": 342,
    "start_time": "2024-02-09T19:32:34.013Z"
   },
   {
    "duration": 241,
    "start_time": "2024-02-09T19:32:34.357Z"
   },
   {
    "duration": 362,
    "start_time": "2024-02-09T19:32:34.599Z"
   },
   {
    "duration": 150,
    "start_time": "2024-02-09T19:32:34.963Z"
   },
   {
    "duration": 5,
    "start_time": "2024-02-09T19:32:35.114Z"
   },
   {
    "duration": 193,
    "start_time": "2024-02-09T19:32:35.121Z"
   },
   {
    "duration": 193,
    "start_time": "2024-02-09T19:32:35.317Z"
   },
   {
    "duration": 6,
    "start_time": "2024-02-09T19:32:35.512Z"
   },
   {
    "duration": 77,
    "start_time": "2024-02-09T19:32:35.520Z"
   },
   {
    "duration": 0,
    "start_time": "2024-02-09T19:32:35.599Z"
   },
   {
    "duration": 0,
    "start_time": "2024-02-09T19:32:35.600Z"
   },
   {
    "duration": 75,
    "start_time": "2024-02-09T19:32:43.332Z"
   },
   {
    "duration": 163,
    "start_time": "2024-02-09T19:32:43.652Z"
   },
   {
    "duration": 101,
    "start_time": "2024-02-09T19:32:51.532Z"
   },
   {
    "duration": 218,
    "start_time": "2024-02-09T19:36:43.283Z"
   },
   {
    "duration": 240,
    "start_time": "2024-02-09T19:37:23.673Z"
   },
   {
    "duration": 126,
    "start_time": "2024-02-09T19:42:33.699Z"
   },
   {
    "duration": 7,
    "start_time": "2024-02-09T19:44:17.148Z"
   },
   {
    "duration": 67,
    "start_time": "2024-02-09T19:55:13.220Z"
   },
   {
    "duration": 37,
    "start_time": "2024-02-09T19:55:57.585Z"
   },
   {
    "duration": 105,
    "start_time": "2024-02-09T20:38:01.727Z"
   },
   {
    "duration": 1444,
    "start_time": "2024-02-09T20:38:19.366Z"
   },
   {
    "duration": 75,
    "start_time": "2024-02-09T20:41:17.637Z"
   },
   {
    "duration": 68,
    "start_time": "2024-02-09T20:41:48.236Z"
   },
   {
    "duration": 10,
    "start_time": "2024-02-09T20:41:58.836Z"
   },
   {
    "duration": 12,
    "start_time": "2024-02-09T20:42:55.536Z"
   },
   {
    "duration": 1350,
    "start_time": "2024-02-09T20:48:23.527Z"
   },
   {
    "duration": 11,
    "start_time": "2024-02-09T20:48:54.798Z"
   },
   {
    "duration": 10,
    "start_time": "2024-02-09T20:49:14.703Z"
   },
   {
    "duration": 8,
    "start_time": "2024-02-09T20:50:39.708Z"
   },
   {
    "duration": 7,
    "start_time": "2024-02-09T20:51:04.979Z"
   },
   {
    "duration": 37,
    "start_time": "2024-02-09T20:51:33.038Z"
   },
   {
    "duration": 1311,
    "start_time": "2024-02-09T20:57:49.830Z"
   },
   {
    "duration": 10,
    "start_time": "2024-02-09T20:58:19.058Z"
   },
   {
    "duration": 65,
    "start_time": "2024-02-09T20:59:05.224Z"
   },
   {
    "duration": 76,
    "start_time": "2024-02-09T20:59:18.036Z"
   },
   {
    "duration": 72,
    "start_time": "2024-02-09T20:59:22.136Z"
   },
   {
    "duration": 12,
    "start_time": "2024-02-09T21:00:09.168Z"
   },
   {
    "duration": 14,
    "start_time": "2024-02-09T21:00:21.210Z"
   },
   {
    "duration": 1235,
    "start_time": "2024-02-09T21:00:28.238Z"
   },
   {
    "duration": 27,
    "start_time": "2024-02-09T21:00:29.475Z"
   },
   {
    "duration": 13,
    "start_time": "2024-02-09T21:00:29.503Z"
   },
   {
    "duration": 17,
    "start_time": "2024-02-09T21:00:29.518Z"
   },
   {
    "duration": 13,
    "start_time": "2024-02-09T21:00:29.537Z"
   },
   {
    "duration": 57,
    "start_time": "2024-02-09T21:00:29.552Z"
   },
   {
    "duration": 8,
    "start_time": "2024-02-09T21:00:29.610Z"
   },
   {
    "duration": 9,
    "start_time": "2024-02-09T21:00:29.620Z"
   },
   {
    "duration": 17,
    "start_time": "2024-02-09T21:00:29.631Z"
   },
   {
    "duration": 19,
    "start_time": "2024-02-09T21:00:29.650Z"
   },
   {
    "duration": 21,
    "start_time": "2024-02-09T21:00:29.672Z"
   },
   {
    "duration": 12,
    "start_time": "2024-02-09T21:00:29.695Z"
   },
   {
    "duration": 5,
    "start_time": "2024-02-09T21:00:29.708Z"
   },
   {
    "duration": 20,
    "start_time": "2024-02-09T21:00:29.715Z"
   },
   {
    "duration": 13,
    "start_time": "2024-02-09T21:00:29.737Z"
   },
   {
    "duration": 14,
    "start_time": "2024-02-09T21:00:29.752Z"
   },
   {
    "duration": 25,
    "start_time": "2024-02-09T21:00:29.768Z"
   },
   {
    "duration": 10,
    "start_time": "2024-02-09T21:00:29.795Z"
   },
   {
    "duration": 353,
    "start_time": "2024-02-09T21:00:29.807Z"
   },
   {
    "duration": 373,
    "start_time": "2024-02-09T21:00:30.162Z"
   },
   {
    "duration": 285,
    "start_time": "2024-02-09T21:00:30.537Z"
   },
   {
    "duration": 300,
    "start_time": "2024-02-09T21:00:30.823Z"
   },
   {
    "duration": 1104,
    "start_time": "2024-02-09T21:00:31.125Z"
   },
   {
    "duration": 637,
    "start_time": "2024-02-09T21:00:32.230Z"
   },
   {
    "duration": 167,
    "start_time": "2024-02-09T21:00:32.869Z"
   },
   {
    "duration": 37,
    "start_time": "2024-02-09T21:00:33.037Z"
   },
   {
    "duration": 290,
    "start_time": "2024-02-09T21:00:33.076Z"
   },
   {
    "duration": 178,
    "start_time": "2024-02-09T21:00:33.370Z"
   },
   {
    "duration": 67,
    "start_time": "2024-02-09T21:00:33.549Z"
   },
   {
    "duration": 180,
    "start_time": "2024-02-09T21:00:33.617Z"
   },
   {
    "duration": 0,
    "start_time": "2024-02-09T21:00:33.800Z"
   },
   {
    "duration": 0,
    "start_time": "2024-02-09T21:00:33.801Z"
   },
   {
    "duration": 0,
    "start_time": "2024-02-09T21:00:33.803Z"
   },
   {
    "duration": 0,
    "start_time": "2024-02-09T21:00:33.805Z"
   },
   {
    "duration": 0,
    "start_time": "2024-02-09T21:00:33.806Z"
   },
   {
    "duration": 0,
    "start_time": "2024-02-09T21:00:33.808Z"
   },
   {
    "duration": 0,
    "start_time": "2024-02-09T21:00:33.809Z"
   },
   {
    "duration": 0,
    "start_time": "2024-02-09T21:00:33.811Z"
   },
   {
    "duration": 0,
    "start_time": "2024-02-09T21:00:33.812Z"
   },
   {
    "duration": 0,
    "start_time": "2024-02-09T21:00:33.814Z"
   },
   {
    "duration": 1239,
    "start_time": "2024-02-09T21:00:58.486Z"
   },
   {
    "duration": 28,
    "start_time": "2024-02-09T21:00:59.727Z"
   },
   {
    "duration": 15,
    "start_time": "2024-02-09T21:00:59.757Z"
   },
   {
    "duration": 17,
    "start_time": "2024-02-09T21:00:59.774Z"
   },
   {
    "duration": 13,
    "start_time": "2024-02-09T21:00:59.793Z"
   },
   {
    "duration": 58,
    "start_time": "2024-02-09T21:00:59.808Z"
   },
   {
    "duration": 10,
    "start_time": "2024-02-09T21:00:59.869Z"
   },
   {
    "duration": 16,
    "start_time": "2024-02-09T21:00:59.881Z"
   },
   {
    "duration": 15,
    "start_time": "2024-02-09T21:00:59.899Z"
   },
   {
    "duration": 12,
    "start_time": "2024-02-09T21:00:59.918Z"
   },
   {
    "duration": 16,
    "start_time": "2024-02-09T21:00:59.932Z"
   },
   {
    "duration": 8,
    "start_time": "2024-02-09T21:00:59.950Z"
   },
   {
    "duration": 35,
    "start_time": "2024-02-09T21:00:59.960Z"
   },
   {
    "duration": 20,
    "start_time": "2024-02-09T21:00:59.996Z"
   },
   {
    "duration": 61,
    "start_time": "2024-02-09T21:01:00.018Z"
   },
   {
    "duration": 89,
    "start_time": "2024-02-09T21:01:00.081Z"
   },
   {
    "duration": 27,
    "start_time": "2024-02-09T21:01:00.172Z"
   },
   {
    "duration": 37,
    "start_time": "2024-02-09T21:01:00.201Z"
   },
   {
    "duration": 335,
    "start_time": "2024-02-09T21:01:00.241Z"
   },
   {
    "duration": 357,
    "start_time": "2024-02-09T21:01:00.578Z"
   },
   {
    "duration": 279,
    "start_time": "2024-02-09T21:01:00.937Z"
   },
   {
    "duration": 328,
    "start_time": "2024-02-09T21:01:01.219Z"
   },
   {
    "duration": 339,
    "start_time": "2024-02-09T21:01:01.549Z"
   },
   {
    "duration": 687,
    "start_time": "2024-02-09T21:01:01.889Z"
   },
   {
    "duration": 190,
    "start_time": "2024-02-09T21:01:02.578Z"
   },
   {
    "duration": 6,
    "start_time": "2024-02-09T21:01:02.770Z"
   },
   {
    "duration": 226,
    "start_time": "2024-02-09T21:01:02.778Z"
   },
   {
    "duration": 179,
    "start_time": "2024-02-09T21:01:03.007Z"
   },
   {
    "duration": 5,
    "start_time": "2024-02-09T21:01:03.191Z"
   },
   {
    "duration": 336,
    "start_time": "2024-02-09T21:01:03.198Z"
   },
   {
    "duration": 76,
    "start_time": "2024-02-09T21:01:03.536Z"
   },
   {
    "duration": 0,
    "start_time": "2024-02-09T21:01:03.614Z"
   },
   {
    "duration": 0,
    "start_time": "2024-02-09T21:01:03.615Z"
   },
   {
    "duration": 0,
    "start_time": "2024-02-09T21:01:03.616Z"
   },
   {
    "duration": 0,
    "start_time": "2024-02-09T21:01:03.617Z"
   },
   {
    "duration": 0,
    "start_time": "2024-02-09T21:01:03.619Z"
   },
   {
    "duration": 0,
    "start_time": "2024-02-09T21:01:03.619Z"
   },
   {
    "duration": 0,
    "start_time": "2024-02-09T21:01:03.621Z"
   },
   {
    "duration": 0,
    "start_time": "2024-02-09T21:01:03.622Z"
   },
   {
    "duration": 124,
    "start_time": "2024-02-09T21:01:28.746Z"
   },
   {
    "duration": 6,
    "start_time": "2024-02-09T21:01:29.885Z"
   },
   {
    "duration": 27,
    "start_time": "2024-02-09T21:01:31.023Z"
   },
   {
    "duration": 11,
    "start_time": "2024-02-09T21:01:32.316Z"
   },
   {
    "duration": 10,
    "start_time": "2024-02-09T21:01:33.424Z"
   },
   {
    "duration": 8,
    "start_time": "2024-02-09T21:01:33.866Z"
   },
   {
    "duration": 26,
    "start_time": "2024-02-09T21:01:34.367Z"
   },
   {
    "duration": 105,
    "start_time": "2024-02-09T21:01:35.187Z"
   },
   {
    "duration": 12,
    "start_time": "2024-02-09T21:02:09.566Z"
   },
   {
    "duration": 1335,
    "start_time": "2024-02-09T21:02:50.167Z"
   },
   {
    "duration": 13,
    "start_time": "2024-02-09T21:03:57.065Z"
   },
   {
    "duration": 12,
    "start_time": "2024-02-09T21:07:16.495Z"
   },
   {
    "duration": 11,
    "start_time": "2024-02-09T21:07:22.781Z"
   },
   {
    "duration": 14,
    "start_time": "2024-02-09T21:07:58.908Z"
   },
   {
    "duration": 14,
    "start_time": "2024-02-09T21:15:49.430Z"
   },
   {
    "duration": 95,
    "start_time": "2024-02-10T15:48:18.134Z"
   },
   {
    "duration": 40,
    "start_time": "2024-02-10T15:48:28.989Z"
   },
   {
    "duration": 6,
    "start_time": "2024-02-10T15:48:37.344Z"
   },
   {
    "duration": 61,
    "start_time": "2024-02-10T15:48:54.610Z"
   },
   {
    "duration": 9,
    "start_time": "2024-02-10T16:48:26.907Z"
   },
   {
    "duration": 1315,
    "start_time": "2024-02-10T16:48:35.940Z"
   },
   {
    "duration": 60,
    "start_time": "2024-02-10T16:48:37.257Z"
   },
   {
    "duration": 3,
    "start_time": "2024-02-10T16:48:37.318Z"
   },
   {
    "duration": 18,
    "start_time": "2024-02-10T16:48:37.323Z"
   },
   {
    "duration": 23,
    "start_time": "2024-02-10T16:48:37.342Z"
   },
   {
    "duration": 12,
    "start_time": "2024-02-10T16:48:37.366Z"
   },
   {
    "duration": 137,
    "start_time": "2024-02-10T16:48:37.379Z"
   },
   {
    "duration": 8,
    "start_time": "2024-02-10T16:48:37.517Z"
   },
   {
    "duration": 18,
    "start_time": "2024-02-10T16:48:37.527Z"
   },
   {
    "duration": 22,
    "start_time": "2024-02-10T16:48:37.548Z"
   },
   {
    "duration": 29,
    "start_time": "2024-02-10T16:48:37.571Z"
   },
   {
    "duration": 23,
    "start_time": "2024-02-10T16:48:37.601Z"
   },
   {
    "duration": 30,
    "start_time": "2024-02-10T16:48:37.626Z"
   },
   {
    "duration": 16,
    "start_time": "2024-02-10T16:48:37.657Z"
   },
   {
    "duration": 35,
    "start_time": "2024-02-10T16:48:37.675Z"
   },
   {
    "duration": 34,
    "start_time": "2024-02-10T16:48:37.712Z"
   },
   {
    "duration": 25,
    "start_time": "2024-02-10T16:48:37.747Z"
   },
   {
    "duration": 13,
    "start_time": "2024-02-10T16:48:37.773Z"
   },
   {
    "duration": 30,
    "start_time": "2024-02-10T16:48:37.788Z"
   },
   {
    "duration": 285,
    "start_time": "2024-02-10T16:48:37.820Z"
   },
   {
    "duration": 310,
    "start_time": "2024-02-10T16:48:38.107Z"
   },
   {
    "duration": 246,
    "start_time": "2024-02-10T16:48:38.418Z"
   },
   {
    "duration": 313,
    "start_time": "2024-02-10T16:48:38.665Z"
   },
   {
    "duration": 206,
    "start_time": "2024-02-10T16:48:38.979Z"
   },
   {
    "duration": 316,
    "start_time": "2024-02-10T16:48:39.187Z"
   },
   {
    "duration": 140,
    "start_time": "2024-02-10T16:48:39.504Z"
   },
   {
    "duration": 5,
    "start_time": "2024-02-10T16:48:39.646Z"
   },
   {
    "duration": 177,
    "start_time": "2024-02-10T16:48:39.654Z"
   },
   {
    "duration": 175,
    "start_time": "2024-02-10T16:48:39.833Z"
   },
   {
    "duration": 5,
    "start_time": "2024-02-10T16:48:40.010Z"
   },
   {
    "duration": 265,
    "start_time": "2024-02-10T16:48:40.033Z"
   },
   {
    "duration": 120,
    "start_time": "2024-02-10T16:48:40.299Z"
   },
   {
    "duration": 16,
    "start_time": "2024-02-10T16:48:40.420Z"
   },
   {
    "duration": 26,
    "start_time": "2024-02-10T16:48:40.438Z"
   },
   {
    "duration": 9,
    "start_time": "2024-02-10T16:48:40.466Z"
   },
   {
    "duration": 9,
    "start_time": "2024-02-10T16:48:40.477Z"
   },
   {
    "duration": 8,
    "start_time": "2024-02-10T16:48:40.488Z"
   },
   {
    "duration": 57,
    "start_time": "2024-02-10T16:48:40.497Z"
   },
   {
    "duration": 22,
    "start_time": "2024-02-10T16:48:40.556Z"
   },
   {
    "duration": 3,
    "start_time": "2024-02-10T16:49:20.965Z"
   },
   {
    "duration": 10,
    "start_time": "2024-02-10T16:49:22.950Z"
   },
   {
    "duration": 2,
    "start_time": "2024-02-10T16:49:56.701Z"
   },
   {
    "duration": 10,
    "start_time": "2024-02-10T16:49:57.376Z"
   },
   {
    "duration": 1331,
    "start_time": "2024-02-10T16:50:49.451Z"
   },
   {
    "duration": 2,
    "start_time": "2024-02-10T16:51:04.851Z"
   },
   {
    "duration": 26,
    "start_time": "2024-02-10T16:51:05.261Z"
   },
   {
    "duration": 2,
    "start_time": "2024-02-10T16:51:05.977Z"
   },
   {
    "duration": 8,
    "start_time": "2024-02-10T16:51:06.386Z"
   },
   {
    "duration": 10,
    "start_time": "2024-02-10T16:51:15.985Z"
   },
   {
    "duration": 3,
    "start_time": "2024-02-10T16:51:29.180Z"
   },
   {
    "duration": 10,
    "start_time": "2024-02-10T16:51:30.051Z"
   },
   {
    "duration": 10,
    "start_time": "2024-02-10T16:51:43.316Z"
   },
   {
    "duration": 3,
    "start_time": "2024-02-10T16:53:03.296Z"
   },
   {
    "duration": 18,
    "start_time": "2024-02-10T16:53:03.305Z"
   },
   {
    "duration": 10,
    "start_time": "2024-02-10T16:53:15.375Z"
   },
   {
    "duration": 106,
    "start_time": "2024-02-10T16:56:21.097Z"
   },
   {
    "duration": 60,
    "start_time": "2024-02-10T16:59:54.554Z"
   },
   {
    "duration": 8,
    "start_time": "2024-02-10T16:59:55.345Z"
   },
   {
    "duration": 7,
    "start_time": "2024-02-10T16:59:55.960Z"
   },
   {
    "duration": 10,
    "start_time": "2024-02-10T16:59:56.960Z"
   },
   {
    "duration": 10,
    "start_time": "2024-02-10T16:59:57.610Z"
   },
   {
    "duration": 12,
    "start_time": "2024-02-10T16:59:58.315Z"
   },
   {
    "duration": 5,
    "start_time": "2024-02-10T16:59:58.835Z"
   },
   {
    "duration": 5,
    "start_time": "2024-02-10T16:59:59.505Z"
   },
   {
    "duration": 17,
    "start_time": "2024-02-10T17:00:01.765Z"
   },
   {
    "duration": 10,
    "start_time": "2024-02-10T17:00:02.326Z"
   },
   {
    "duration": 10,
    "start_time": "2024-02-10T17:00:04.355Z"
   },
   {
    "duration": 4,
    "start_time": "2024-02-10T17:00:05.715Z"
   },
   {
    "duration": 8,
    "start_time": "2024-02-10T17:00:07.005Z"
   },
   {
    "duration": 290,
    "start_time": "2024-02-10T17:00:10.600Z"
   },
   {
    "duration": 4,
    "start_time": "2024-02-10T17:05:20.045Z"
   },
   {
    "duration": 4,
    "start_time": "2024-02-10T17:05:53.309Z"
   },
   {
    "duration": 4,
    "start_time": "2024-02-10T17:06:00.755Z"
   },
   {
    "duration": 5,
    "start_time": "2024-02-10T17:06:11.264Z"
   },
   {
    "duration": 4,
    "start_time": "2024-02-10T17:06:22.889Z"
   },
   {
    "duration": 5,
    "start_time": "2024-02-10T17:06:47.809Z"
   },
   {
    "duration": 5,
    "start_time": "2024-02-10T17:07:04.530Z"
   },
   {
    "duration": 81,
    "start_time": "2024-02-10T17:07:20.179Z"
   },
   {
    "duration": 103,
    "start_time": "2024-02-10T17:07:28.065Z"
   },
   {
    "duration": 5,
    "start_time": "2024-02-10T17:07:48.984Z"
   },
   {
    "duration": 4,
    "start_time": "2024-02-10T17:08:16.449Z"
   },
   {
    "duration": 135,
    "start_time": "2024-02-10T17:11:16.090Z"
   },
   {
    "duration": 137,
    "start_time": "2024-02-10T17:12:02.069Z"
   },
   {
    "duration": 147,
    "start_time": "2024-02-10T17:12:25.519Z"
   },
   {
    "duration": 136,
    "start_time": "2024-02-10T17:12:52.559Z"
   },
   {
    "duration": 132,
    "start_time": "2024-02-10T17:13:22.299Z"
   },
   {
    "duration": 78,
    "start_time": "2024-02-10T17:15:47.235Z"
   },
   {
    "duration": 26,
    "start_time": "2024-02-10T17:16:48.224Z"
   },
   {
    "duration": 24,
    "start_time": "2024-02-10T17:16:54.529Z"
   },
   {
    "duration": 23,
    "start_time": "2024-02-10T17:17:28.619Z"
   },
   {
    "duration": 23,
    "start_time": "2024-02-10T17:17:38.644Z"
   },
   {
    "duration": 22,
    "start_time": "2024-02-10T17:18:20.949Z"
   },
   {
    "duration": 23,
    "start_time": "2024-02-10T17:18:29.234Z"
   },
   {
    "duration": 11,
    "start_time": "2024-02-10T17:19:53.729Z"
   },
   {
    "duration": 10,
    "start_time": "2024-02-10T17:20:14.759Z"
   },
   {
    "duration": 22,
    "start_time": "2024-02-10T17:20:54.925Z"
   },
   {
    "duration": 1150,
    "start_time": "2024-02-10T17:31:55.614Z"
   },
   {
    "duration": 26,
    "start_time": "2024-02-10T17:31:56.765Z"
   },
   {
    "duration": 2,
    "start_time": "2024-02-10T17:31:56.793Z"
   },
   {
    "duration": 12,
    "start_time": "2024-02-10T17:31:56.797Z"
   },
   {
    "duration": 11,
    "start_time": "2024-02-10T17:31:56.810Z"
   },
   {
    "duration": 10,
    "start_time": "2024-02-10T17:31:56.822Z"
   },
   {
    "duration": 51,
    "start_time": "2024-02-10T17:31:56.834Z"
   },
   {
    "duration": 8,
    "start_time": "2024-02-10T17:31:56.887Z"
   },
   {
    "duration": 9,
    "start_time": "2024-02-10T17:31:56.896Z"
   },
   {
    "duration": 16,
    "start_time": "2024-02-10T17:31:56.907Z"
   },
   {
    "duration": 9,
    "start_time": "2024-02-10T17:31:56.925Z"
   },
   {
    "duration": 34,
    "start_time": "2024-02-10T17:31:56.936Z"
   },
   {
    "duration": 42,
    "start_time": "2024-02-10T17:31:56.972Z"
   },
   {
    "duration": 42,
    "start_time": "2024-02-10T17:31:57.015Z"
   },
   {
    "duration": 54,
    "start_time": "2024-02-10T17:31:57.059Z"
   },
   {
    "duration": 35,
    "start_time": "2024-02-10T17:31:57.115Z"
   },
   {
    "duration": 40,
    "start_time": "2024-02-10T17:31:57.151Z"
   },
   {
    "duration": 44,
    "start_time": "2024-02-10T17:31:57.192Z"
   },
   {
    "duration": 34,
    "start_time": "2024-02-10T17:31:57.238Z"
   },
   {
    "duration": 315,
    "start_time": "2024-02-10T17:31:57.274Z"
   },
   {
    "duration": 4,
    "start_time": "2024-02-10T17:31:57.591Z"
   },
   {
    "duration": 344,
    "start_time": "2024-02-10T17:31:57.596Z"
   },
   {
    "duration": 246,
    "start_time": "2024-02-10T17:31:57.942Z"
   },
   {
    "duration": 285,
    "start_time": "2024-02-10T17:31:58.189Z"
   },
   {
    "duration": 215,
    "start_time": "2024-02-10T17:31:58.475Z"
   },
   {
    "duration": 318,
    "start_time": "2024-02-10T17:31:58.691Z"
   },
   {
    "duration": 141,
    "start_time": "2024-02-10T17:31:59.010Z"
   },
   {
    "duration": 4,
    "start_time": "2024-02-10T17:31:59.154Z"
   },
   {
    "duration": 169,
    "start_time": "2024-02-10T17:31:59.159Z"
   },
   {
    "duration": 165,
    "start_time": "2024-02-10T17:31:59.329Z"
   },
   {
    "duration": 4,
    "start_time": "2024-02-10T17:31:59.496Z"
   },
   {
    "duration": 294,
    "start_time": "2024-02-10T17:31:59.501Z"
   },
   {
    "duration": 116,
    "start_time": "2024-02-10T17:31:59.796Z"
   },
   {
    "duration": 6,
    "start_time": "2024-02-10T17:31:59.913Z"
   },
   {
    "duration": 45,
    "start_time": "2024-02-10T17:31:59.932Z"
   },
   {
    "duration": 57,
    "start_time": "2024-02-10T17:31:59.979Z"
   },
   {
    "duration": 29,
    "start_time": "2024-02-10T17:32:00.037Z"
   },
   {
    "duration": 44,
    "start_time": "2024-02-10T17:32:00.068Z"
   },
   {
    "duration": 77,
    "start_time": "2024-02-10T17:32:00.113Z"
   },
   {
    "duration": 49,
    "start_time": "2024-02-10T17:32:00.191Z"
   },
   {
    "duration": 1108,
    "start_time": "2024-02-29T19:21:54.400Z"
   },
   {
    "duration": 66,
    "start_time": "2024-02-29T19:21:55.510Z"
   },
   {
    "duration": 2,
    "start_time": "2024-02-29T19:21:55.578Z"
   },
   {
    "duration": 12,
    "start_time": "2024-02-29T19:21:55.838Z"
   },
   {
    "duration": 12,
    "start_time": "2024-02-29T19:21:56.850Z"
   },
   {
    "duration": 10,
    "start_time": "2024-02-29T19:21:58.900Z"
   },
   {
    "duration": 131,
    "start_time": "2024-02-29T19:22:01.128Z"
   },
   {
    "duration": 8,
    "start_time": "2024-02-29T19:22:02.003Z"
   },
   {
    "duration": 9,
    "start_time": "2024-02-29T19:22:02.729Z"
   },
   {
    "duration": 10,
    "start_time": "2024-02-29T19:22:03.437Z"
   },
   {
    "duration": 9,
    "start_time": "2024-02-29T19:22:04.032Z"
   },
   {
    "duration": 17,
    "start_time": "2024-02-29T19:22:04.651Z"
   },
   {
    "duration": 6,
    "start_time": "2024-02-29T19:22:05.235Z"
   },
   {
    "duration": 7,
    "start_time": "2024-02-29T19:22:05.888Z"
   },
   {
    "duration": 17,
    "start_time": "2024-02-29T19:22:06.464Z"
   },
   {
    "duration": 15,
    "start_time": "2024-02-29T19:22:07.043Z"
   },
   {
    "duration": 10,
    "start_time": "2024-02-29T19:22:08.801Z"
   },
   {
    "duration": 4,
    "start_time": "2024-02-29T19:22:10.098Z"
   },
   {
    "duration": 9,
    "start_time": "2024-02-29T19:22:10.809Z"
   },
   {
    "duration": 271,
    "start_time": "2024-02-29T19:22:13.575Z"
   },
   {
    "duration": 5,
    "start_time": "2024-02-29T19:22:14.370Z"
   },
   {
    "duration": 296,
    "start_time": "2024-02-29T19:22:16.432Z"
   },
   {
    "duration": 6,
    "start_time": "2024-02-29T19:22:29.269Z"
   },
   {
    "duration": 239,
    "start_time": "2024-02-29T19:22:30.964Z"
   },
   {
    "duration": 230,
    "start_time": "2024-02-29T19:22:32.831Z"
   },
   {
    "duration": 265,
    "start_time": "2024-02-29T19:22:34.711Z"
   },
   {
    "duration": 197,
    "start_time": "2024-02-29T19:22:36.740Z"
   },
   {
    "duration": 338,
    "start_time": "2024-02-29T19:22:38.736Z"
   },
   {
    "duration": 138,
    "start_time": "2024-02-29T19:22:40.673Z"
   },
   {
    "duration": 5,
    "start_time": "2024-02-29T19:22:42.629Z"
   },
   {
    "duration": 154,
    "start_time": "2024-02-29T19:22:45.780Z"
   },
   {
    "duration": 224,
    "start_time": "2024-02-29T19:22:47.039Z"
   },
   {
    "duration": 5,
    "start_time": "2024-02-29T19:22:48.899Z"
   },
   {
    "duration": 224,
    "start_time": "2024-02-29T19:22:51.327Z"
   },
   {
    "duration": 122,
    "start_time": "2024-02-29T19:22:53.461Z"
   },
   {
    "duration": 6,
    "start_time": "2024-02-29T19:22:53.924Z"
   },
   {
    "duration": 23,
    "start_time": "2024-02-29T19:22:54.709Z"
   },
   {
    "duration": 10,
    "start_time": "2024-02-29T19:22:55.730Z"
   },
   {
    "duration": 10,
    "start_time": "2024-02-29T19:22:56.810Z"
   },
   {
    "duration": 8,
    "start_time": "2024-02-29T19:22:57.322Z"
   }
  ],
  "kernelspec": {
   "display_name": "Python 3 (ipykernel)",
   "language": "python",
   "name": "python3"
  },
  "language_info": {
   "codemirror_mode": {
    "name": "ipython",
    "version": 3
   },
   "file_extension": ".py",
   "mimetype": "text/x-python",
   "name": "python",
   "nbconvert_exporter": "python",
   "pygments_lexer": "ipython3",
   "version": "3.9.5"
  },
  "toc": {
   "base_numbering": 1,
   "nav_menu": {},
   "number_sections": true,
   "sideBar": true,
   "skip_h1_title": true,
   "title_cell": "Table of Contents",
   "title_sidebar": "Contents",
   "toc_cell": false,
   "toc_position": {},
   "toc_section_display": true,
   "toc_window_display": false
  }
 },
 "nbformat": 4,
 "nbformat_minor": 2
}
