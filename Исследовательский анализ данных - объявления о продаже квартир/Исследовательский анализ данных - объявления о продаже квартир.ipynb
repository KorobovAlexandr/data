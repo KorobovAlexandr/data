{
 "cells": [
  {
   "cell_type": "markdown",
   "metadata": {},
   "source": [
    "# Исследование объявлений о продаже квартир\n",
    "\n",
    "В вашем распоряжении данные сервиса Яндекс.Недвижимость — архив объявлений о продаже квартир в Санкт-Петербурге и соседних населённых пунктов за несколько лет. Нужно научиться определять рыночную стоимость объектов недвижимости. Ваша задача — установить параметры. Это позволит построить автоматизированную систему: она отследит аномалии и мошенническую деятельность. \n",
    "\n",
    "По каждой квартире на продажу доступны два вида данных. Первые вписаны пользователем, вторые — получены автоматически на основе картографических данных. Например, расстояние до центра, аэропорта, ближайшего парка и водоёма. "
   ]
  },
  {
   "cell_type": "markdown",
   "metadata": {},
   "source": [
    "План работ:\n",
    "1 этап.\n",
    "Изучим датасет ,используем для этого .info(), вывод первых и посследних столбцов таблицы.\n",
    "Добавим описание данных в нашу тетрадку.\n",
    "Выведем сводную статистику по таблице.\n",
    "Построим гистограммы по каждому столбцу.\n",
    "Определим пропуски в столбцах, посчитаем их сумму и определим количество явных дубликатов.\n",
    "Вывод\n",
    "2 этап.\n",
    "Проанализируем количество пропусков, оценим на сколько оно влияет на наши дальшнейшие исследования. Обработаем их , методом удаления либо замены на определённое значение в случае необходимости.\n",
    "Изменим тип данных в столбцах где это необходимо.\n",
    "Вывод\n",
    "3этап.\n",
    "Добавляем новые столбцы и проводим расчёты , согалсно задания.\n",
    "Вывод\n",
    "4 этап\n",
    "Строим гистограммы методом plot по интересующим нас столбцам с интересующими нас параметрами.\n",
    "Сравниваем на графиках стоимость недвижимости с интересующими нас параметрами( по заданию)\n",
    "Определяем как быстро продаются квартиры, что больше всего влияет на стоимость недвижимости.\n",
    "Вывод\n",
    "5 Общий вывод\n",
    "</div>\n",
    "\n",
    "\n"
   ]
  },
  {
   "cell_type": "markdown",
   "metadata": {},
   "source": [
    "### Откройте файл с данными и изучите общую информацию. "
   ]
  },
  {
   "cell_type": "code",
   "execution_count": 1,
   "metadata": {},
   "outputs": [],
   "source": [
    "import pandas as pd #Импортируем библиотеку пандас\n",
    "\n"
   ]
  },
  {
   "cell_type": "code",
   "execution_count": 2,
   "metadata": {},
   "outputs": [],
   "source": [
    "#Присваиваем переменной data чтение интересующего нас файла\n",
    "data = pd.read_csv('/datasets/real_estate_data.csv',sep = '\\t')"
   ]
  },
  {
   "cell_type": "code",
   "execution_count": 3,
   "metadata": {},
   "outputs": [
    {
     "name": "stdout",
     "output_type": "stream",
     "text": [
      "<class 'pandas.core.frame.DataFrame'>\n",
      "RangeIndex: 23699 entries, 0 to 23698\n",
      "Data columns (total 22 columns):\n",
      " #   Column                Non-Null Count  Dtype  \n",
      "---  ------                --------------  -----  \n",
      " 0   total_images          23699 non-null  int64  \n",
      " 1   last_price            23699 non-null  float64\n",
      " 2   total_area            23699 non-null  float64\n",
      " 3   first_day_exposition  23699 non-null  object \n",
      " 4   rooms                 23699 non-null  int64  \n",
      " 5   ceiling_height        14504 non-null  float64\n",
      " 6   floors_total          23613 non-null  float64\n",
      " 7   living_area           21796 non-null  float64\n",
      " 8   floor                 23699 non-null  int64  \n",
      " 9   is_apartment          2775 non-null   object \n",
      " 10  studio                23699 non-null  bool   \n",
      " 11  open_plan             23699 non-null  bool   \n",
      " 12  kitchen_area          21421 non-null  float64\n",
      " 13  balcony               12180 non-null  float64\n",
      " 14  locality_name         23650 non-null  object \n",
      " 15  airports_nearest      18157 non-null  float64\n",
      " 16  cityCenters_nearest   18180 non-null  float64\n",
      " 17  parks_around3000      18181 non-null  float64\n",
      " 18  parks_nearest         8079 non-null   float64\n",
      " 19  ponds_around3000      18181 non-null  float64\n",
      " 20  ponds_nearest         9110 non-null   float64\n",
      " 21  days_exposition       20518 non-null  float64\n",
      "dtypes: bool(2), float64(14), int64(3), object(3)\n",
      "memory usage: 3.7+ MB\n"
     ]
    }
   ],
   "source": [
    "data.info() # Используем метод info"
   ]
  },
  {
   "cell_type": "code",
   "execution_count": 4,
   "metadata": {},
   "outputs": [
    {
     "data": {
      "text/html": [
       "<div>\n",
       "<style scoped>\n",
       "    .dataframe tbody tr th:only-of-type {\n",
       "        vertical-align: middle;\n",
       "    }\n",
       "\n",
       "    .dataframe tbody tr th {\n",
       "        vertical-align: top;\n",
       "    }\n",
       "\n",
       "    .dataframe thead th {\n",
       "        text-align: right;\n",
       "    }\n",
       "</style>\n",
       "<table border=\"1\" class=\"dataframe\">\n",
       "  <thead>\n",
       "    <tr style=\"text-align: right;\">\n",
       "      <th></th>\n",
       "      <th>total_images</th>\n",
       "      <th>last_price</th>\n",
       "      <th>total_area</th>\n",
       "      <th>first_day_exposition</th>\n",
       "      <th>rooms</th>\n",
       "      <th>ceiling_height</th>\n",
       "      <th>floors_total</th>\n",
       "      <th>living_area</th>\n",
       "      <th>floor</th>\n",
       "      <th>is_apartment</th>\n",
       "      <th>...</th>\n",
       "      <th>kitchen_area</th>\n",
       "      <th>balcony</th>\n",
       "      <th>locality_name</th>\n",
       "      <th>airports_nearest</th>\n",
       "      <th>cityCenters_nearest</th>\n",
       "      <th>parks_around3000</th>\n",
       "      <th>parks_nearest</th>\n",
       "      <th>ponds_around3000</th>\n",
       "      <th>ponds_nearest</th>\n",
       "      <th>days_exposition</th>\n",
       "    </tr>\n",
       "  </thead>\n",
       "  <tbody>\n",
       "    <tr>\n",
       "      <th>0</th>\n",
       "      <td>20</td>\n",
       "      <td>13000000.0</td>\n",
       "      <td>108.0</td>\n",
       "      <td>2019-03-07T00:00:00</td>\n",
       "      <td>3</td>\n",
       "      <td>2.70</td>\n",
       "      <td>16.0</td>\n",
       "      <td>51.0</td>\n",
       "      <td>8</td>\n",
       "      <td>NaN</td>\n",
       "      <td>...</td>\n",
       "      <td>25.0</td>\n",
       "      <td>NaN</td>\n",
       "      <td>Санкт-Петербург</td>\n",
       "      <td>18863.0</td>\n",
       "      <td>16028.0</td>\n",
       "      <td>1.0</td>\n",
       "      <td>482.0</td>\n",
       "      <td>2.0</td>\n",
       "      <td>755.0</td>\n",
       "      <td>NaN</td>\n",
       "    </tr>\n",
       "    <tr>\n",
       "      <th>1</th>\n",
       "      <td>7</td>\n",
       "      <td>3350000.0</td>\n",
       "      <td>40.4</td>\n",
       "      <td>2018-12-04T00:00:00</td>\n",
       "      <td>1</td>\n",
       "      <td>NaN</td>\n",
       "      <td>11.0</td>\n",
       "      <td>18.6</td>\n",
       "      <td>1</td>\n",
       "      <td>NaN</td>\n",
       "      <td>...</td>\n",
       "      <td>11.0</td>\n",
       "      <td>2.0</td>\n",
       "      <td>посёлок Шушары</td>\n",
       "      <td>12817.0</td>\n",
       "      <td>18603.0</td>\n",
       "      <td>0.0</td>\n",
       "      <td>NaN</td>\n",
       "      <td>0.0</td>\n",
       "      <td>NaN</td>\n",
       "      <td>81.0</td>\n",
       "    </tr>\n",
       "    <tr>\n",
       "      <th>2</th>\n",
       "      <td>10</td>\n",
       "      <td>5196000.0</td>\n",
       "      <td>56.0</td>\n",
       "      <td>2015-08-20T00:00:00</td>\n",
       "      <td>2</td>\n",
       "      <td>NaN</td>\n",
       "      <td>5.0</td>\n",
       "      <td>34.3</td>\n",
       "      <td>4</td>\n",
       "      <td>NaN</td>\n",
       "      <td>...</td>\n",
       "      <td>8.3</td>\n",
       "      <td>0.0</td>\n",
       "      <td>Санкт-Петербург</td>\n",
       "      <td>21741.0</td>\n",
       "      <td>13933.0</td>\n",
       "      <td>1.0</td>\n",
       "      <td>90.0</td>\n",
       "      <td>2.0</td>\n",
       "      <td>574.0</td>\n",
       "      <td>558.0</td>\n",
       "    </tr>\n",
       "    <tr>\n",
       "      <th>3</th>\n",
       "      <td>0</td>\n",
       "      <td>64900000.0</td>\n",
       "      <td>159.0</td>\n",
       "      <td>2015-07-24T00:00:00</td>\n",
       "      <td>3</td>\n",
       "      <td>NaN</td>\n",
       "      <td>14.0</td>\n",
       "      <td>NaN</td>\n",
       "      <td>9</td>\n",
       "      <td>NaN</td>\n",
       "      <td>...</td>\n",
       "      <td>NaN</td>\n",
       "      <td>0.0</td>\n",
       "      <td>Санкт-Петербург</td>\n",
       "      <td>28098.0</td>\n",
       "      <td>6800.0</td>\n",
       "      <td>2.0</td>\n",
       "      <td>84.0</td>\n",
       "      <td>3.0</td>\n",
       "      <td>234.0</td>\n",
       "      <td>424.0</td>\n",
       "    </tr>\n",
       "    <tr>\n",
       "      <th>4</th>\n",
       "      <td>2</td>\n",
       "      <td>10000000.0</td>\n",
       "      <td>100.0</td>\n",
       "      <td>2018-06-19T00:00:00</td>\n",
       "      <td>2</td>\n",
       "      <td>3.03</td>\n",
       "      <td>14.0</td>\n",
       "      <td>32.0</td>\n",
       "      <td>13</td>\n",
       "      <td>NaN</td>\n",
       "      <td>...</td>\n",
       "      <td>41.0</td>\n",
       "      <td>NaN</td>\n",
       "      <td>Санкт-Петербург</td>\n",
       "      <td>31856.0</td>\n",
       "      <td>8098.0</td>\n",
       "      <td>2.0</td>\n",
       "      <td>112.0</td>\n",
       "      <td>1.0</td>\n",
       "      <td>48.0</td>\n",
       "      <td>121.0</td>\n",
       "    </tr>\n",
       "  </tbody>\n",
       "</table>\n",
       "<p>5 rows × 22 columns</p>\n",
       "</div>"
      ],
      "text/plain": [
       "   total_images  last_price  total_area first_day_exposition  rooms  \\\n",
       "0            20  13000000.0       108.0  2019-03-07T00:00:00      3   \n",
       "1             7   3350000.0        40.4  2018-12-04T00:00:00      1   \n",
       "2            10   5196000.0        56.0  2015-08-20T00:00:00      2   \n",
       "3             0  64900000.0       159.0  2015-07-24T00:00:00      3   \n",
       "4             2  10000000.0       100.0  2018-06-19T00:00:00      2   \n",
       "\n",
       "   ceiling_height  floors_total  living_area  floor is_apartment  ...  \\\n",
       "0            2.70          16.0         51.0      8          NaN  ...   \n",
       "1             NaN          11.0         18.6      1          NaN  ...   \n",
       "2             NaN           5.0         34.3      4          NaN  ...   \n",
       "3             NaN          14.0          NaN      9          NaN  ...   \n",
       "4            3.03          14.0         32.0     13          NaN  ...   \n",
       "\n",
       "   kitchen_area  balcony    locality_name  airports_nearest  \\\n",
       "0          25.0      NaN  Санкт-Петербург           18863.0   \n",
       "1          11.0      2.0   посёлок Шушары           12817.0   \n",
       "2           8.3      0.0  Санкт-Петербург           21741.0   \n",
       "3           NaN      0.0  Санкт-Петербург           28098.0   \n",
       "4          41.0      NaN  Санкт-Петербург           31856.0   \n",
       "\n",
       "  cityCenters_nearest  parks_around3000  parks_nearest  ponds_around3000  \\\n",
       "0             16028.0               1.0          482.0               2.0   \n",
       "1             18603.0               0.0            NaN               0.0   \n",
       "2             13933.0               1.0           90.0               2.0   \n",
       "3              6800.0               2.0           84.0               3.0   \n",
       "4              8098.0               2.0          112.0               1.0   \n",
       "\n",
       "   ponds_nearest  days_exposition  \n",
       "0          755.0              NaN  \n",
       "1            NaN             81.0  \n",
       "2          574.0            558.0  \n",
       "3          234.0            424.0  \n",
       "4           48.0            121.0  \n",
       "\n",
       "[5 rows x 22 columns]"
      ]
     },
     "execution_count": 4,
     "metadata": {},
     "output_type": "execute_result"
    }
   ],
   "source": [
    "# Выведем 5 первых строк \n",
    "data.head()"
   ]
  },
  {
   "cell_type": "code",
   "execution_count": 5,
   "metadata": {},
   "outputs": [
    {
     "data": {
      "text/html": [
       "<div>\n",
       "<style scoped>\n",
       "    .dataframe tbody tr th:only-of-type {\n",
       "        vertical-align: middle;\n",
       "    }\n",
       "\n",
       "    .dataframe tbody tr th {\n",
       "        vertical-align: top;\n",
       "    }\n",
       "\n",
       "    .dataframe thead th {\n",
       "        text-align: right;\n",
       "    }\n",
       "</style>\n",
       "<table border=\"1\" class=\"dataframe\">\n",
       "  <thead>\n",
       "    <tr style=\"text-align: right;\">\n",
       "      <th></th>\n",
       "      <th>total_images</th>\n",
       "      <th>last_price</th>\n",
       "      <th>total_area</th>\n",
       "      <th>first_day_exposition</th>\n",
       "      <th>rooms</th>\n",
       "      <th>ceiling_height</th>\n",
       "      <th>floors_total</th>\n",
       "      <th>living_area</th>\n",
       "      <th>floor</th>\n",
       "      <th>is_apartment</th>\n",
       "      <th>...</th>\n",
       "      <th>kitchen_area</th>\n",
       "      <th>balcony</th>\n",
       "      <th>locality_name</th>\n",
       "      <th>airports_nearest</th>\n",
       "      <th>cityCenters_nearest</th>\n",
       "      <th>parks_around3000</th>\n",
       "      <th>parks_nearest</th>\n",
       "      <th>ponds_around3000</th>\n",
       "      <th>ponds_nearest</th>\n",
       "      <th>days_exposition</th>\n",
       "    </tr>\n",
       "  </thead>\n",
       "  <tbody>\n",
       "    <tr>\n",
       "      <th>23694</th>\n",
       "      <td>9</td>\n",
       "      <td>9700000.0</td>\n",
       "      <td>133.81</td>\n",
       "      <td>2017-03-21T00:00:00</td>\n",
       "      <td>3</td>\n",
       "      <td>3.7</td>\n",
       "      <td>5.0</td>\n",
       "      <td>73.3</td>\n",
       "      <td>3</td>\n",
       "      <td>NaN</td>\n",
       "      <td>...</td>\n",
       "      <td>13.83</td>\n",
       "      <td>NaN</td>\n",
       "      <td>Санкт-Петербург</td>\n",
       "      <td>24665.0</td>\n",
       "      <td>4232.0</td>\n",
       "      <td>1.0</td>\n",
       "      <td>796.0</td>\n",
       "      <td>3.0</td>\n",
       "      <td>381.0</td>\n",
       "      <td>NaN</td>\n",
       "    </tr>\n",
       "    <tr>\n",
       "      <th>23695</th>\n",
       "      <td>14</td>\n",
       "      <td>3100000.0</td>\n",
       "      <td>59.00</td>\n",
       "      <td>2018-01-15T00:00:00</td>\n",
       "      <td>3</td>\n",
       "      <td>NaN</td>\n",
       "      <td>5.0</td>\n",
       "      <td>38.0</td>\n",
       "      <td>4</td>\n",
       "      <td>NaN</td>\n",
       "      <td>...</td>\n",
       "      <td>8.50</td>\n",
       "      <td>NaN</td>\n",
       "      <td>Тосно</td>\n",
       "      <td>NaN</td>\n",
       "      <td>NaN</td>\n",
       "      <td>NaN</td>\n",
       "      <td>NaN</td>\n",
       "      <td>NaN</td>\n",
       "      <td>NaN</td>\n",
       "      <td>45.0</td>\n",
       "    </tr>\n",
       "    <tr>\n",
       "      <th>23696</th>\n",
       "      <td>18</td>\n",
       "      <td>2500000.0</td>\n",
       "      <td>56.70</td>\n",
       "      <td>2018-02-11T00:00:00</td>\n",
       "      <td>2</td>\n",
       "      <td>NaN</td>\n",
       "      <td>3.0</td>\n",
       "      <td>29.7</td>\n",
       "      <td>1</td>\n",
       "      <td>NaN</td>\n",
       "      <td>...</td>\n",
       "      <td>NaN</td>\n",
       "      <td>NaN</td>\n",
       "      <td>село Рождествено</td>\n",
       "      <td>NaN</td>\n",
       "      <td>NaN</td>\n",
       "      <td>NaN</td>\n",
       "      <td>NaN</td>\n",
       "      <td>NaN</td>\n",
       "      <td>NaN</td>\n",
       "      <td>NaN</td>\n",
       "    </tr>\n",
       "    <tr>\n",
       "      <th>23697</th>\n",
       "      <td>13</td>\n",
       "      <td>11475000.0</td>\n",
       "      <td>76.75</td>\n",
       "      <td>2017-03-28T00:00:00</td>\n",
       "      <td>2</td>\n",
       "      <td>3.0</td>\n",
       "      <td>17.0</td>\n",
       "      <td>NaN</td>\n",
       "      <td>12</td>\n",
       "      <td>NaN</td>\n",
       "      <td>...</td>\n",
       "      <td>23.30</td>\n",
       "      <td>2.0</td>\n",
       "      <td>Санкт-Петербург</td>\n",
       "      <td>39140.0</td>\n",
       "      <td>10364.0</td>\n",
       "      <td>2.0</td>\n",
       "      <td>173.0</td>\n",
       "      <td>3.0</td>\n",
       "      <td>196.0</td>\n",
       "      <td>602.0</td>\n",
       "    </tr>\n",
       "    <tr>\n",
       "      <th>23698</th>\n",
       "      <td>4</td>\n",
       "      <td>1350000.0</td>\n",
       "      <td>32.30</td>\n",
       "      <td>2017-07-21T00:00:00</td>\n",
       "      <td>1</td>\n",
       "      <td>2.5</td>\n",
       "      <td>5.0</td>\n",
       "      <td>12.3</td>\n",
       "      <td>1</td>\n",
       "      <td>NaN</td>\n",
       "      <td>...</td>\n",
       "      <td>9.00</td>\n",
       "      <td>NaN</td>\n",
       "      <td>поселок Новый Учхоз</td>\n",
       "      <td>NaN</td>\n",
       "      <td>NaN</td>\n",
       "      <td>NaN</td>\n",
       "      <td>NaN</td>\n",
       "      <td>NaN</td>\n",
       "      <td>NaN</td>\n",
       "      <td>NaN</td>\n",
       "    </tr>\n",
       "  </tbody>\n",
       "</table>\n",
       "<p>5 rows × 22 columns</p>\n",
       "</div>"
      ],
      "text/plain": [
       "       total_images  last_price  total_area first_day_exposition  rooms  \\\n",
       "23694             9   9700000.0      133.81  2017-03-21T00:00:00      3   \n",
       "23695            14   3100000.0       59.00  2018-01-15T00:00:00      3   \n",
       "23696            18   2500000.0       56.70  2018-02-11T00:00:00      2   \n",
       "23697            13  11475000.0       76.75  2017-03-28T00:00:00      2   \n",
       "23698             4   1350000.0       32.30  2017-07-21T00:00:00      1   \n",
       "\n",
       "       ceiling_height  floors_total  living_area  floor is_apartment  ...  \\\n",
       "23694             3.7           5.0         73.3      3          NaN  ...   \n",
       "23695             NaN           5.0         38.0      4          NaN  ...   \n",
       "23696             NaN           3.0         29.7      1          NaN  ...   \n",
       "23697             3.0          17.0          NaN     12          NaN  ...   \n",
       "23698             2.5           5.0         12.3      1          NaN  ...   \n",
       "\n",
       "       kitchen_area  balcony        locality_name  airports_nearest  \\\n",
       "23694         13.83      NaN      Санкт-Петербург           24665.0   \n",
       "23695          8.50      NaN                Тосно               NaN   \n",
       "23696           NaN      NaN     село Рождествено               NaN   \n",
       "23697         23.30      2.0      Санкт-Петербург           39140.0   \n",
       "23698          9.00      NaN  поселок Новый Учхоз               NaN   \n",
       "\n",
       "      cityCenters_nearest  parks_around3000  parks_nearest  ponds_around3000  \\\n",
       "23694              4232.0               1.0          796.0               3.0   \n",
       "23695                 NaN               NaN            NaN               NaN   \n",
       "23696                 NaN               NaN            NaN               NaN   \n",
       "23697             10364.0               2.0          173.0               3.0   \n",
       "23698                 NaN               NaN            NaN               NaN   \n",
       "\n",
       "       ponds_nearest  days_exposition  \n",
       "23694          381.0              NaN  \n",
       "23695            NaN             45.0  \n",
       "23696            NaN              NaN  \n",
       "23697          196.0            602.0  \n",
       "23698            NaN              NaN  \n",
       "\n",
       "[5 rows x 22 columns]"
      ]
     },
     "execution_count": 5,
     "metadata": {},
     "output_type": "execute_result"
    }
   ],
   "source": [
    "#Выведем 5 последних строк \n",
    "data.tail()"
   ]
  },
  {
   "cell_type": "code",
   "execution_count": 6,
   "metadata": {},
   "outputs": [],
   "source": [
    "#Добавим сюда описание данных для удобства :\n",
    "#airports_nearest — расстояние до ближайшего аэропорта в метрах (м)\n",
    "#balcony — число балконов\n",
    "#ceiling_height — высота потолков (м)\n",
    "#cityCenters_nearest — расстояние до центра города (м)\n",
    "#days_exposition — сколько дней было размещено объявление (от публикации до снятия)\n",
    "#first_day_exposition — дата публикации\n",
    "#floor — этаж\n",
    "#floors_total — всего этажей в доме\n",
    "#is_apartment — апартаменты (булев тип)\n",
    "#kitchen_area — площадь кухни в квадратных метрах (м²)\n",
    "#last_price — цена на момент снятия с публикации\n",
    "#living_area — жилая площадь в квадратных метрах (м²)\n",
    "#locality_name — название населённого пункта\n",
    "#open_plan — свободная планировка (булев тип)\n",
    "#parks_around3000 — число парков в радиусе 3 км\n",
    "#parks_nearest — расстояние до ближайшего парка (м)\n",
    "#ponds_around3000 — число водоёмов в радиусе 3 км\n",
    "#ponds_nearest — расстояние до ближайшего водоёма (м)\n",
    "#rooms — число комнат\n",
    "#studio — квартира-студия (булев тип)\n",
    "#total_area — общая площадь квартиры в квадратных метрах (м²)\n",
    "#total_images — число фотографий квартиры в объявлении\n",
    "# Последняя строчка 23698 , значит строк в таблице ; (первая 0)"
   ]
  },
  {
   "cell_type": "code",
   "execution_count": 7,
   "metadata": {},
   "outputs": [
    {
     "data": {
      "text/html": [
       "<div>\n",
       "<style scoped>\n",
       "    .dataframe tbody tr th:only-of-type {\n",
       "        vertical-align: middle;\n",
       "    }\n",
       "\n",
       "    .dataframe tbody tr th {\n",
       "        vertical-align: top;\n",
       "    }\n",
       "\n",
       "    .dataframe thead th {\n",
       "        text-align: right;\n",
       "    }\n",
       "</style>\n",
       "<table border=\"1\" class=\"dataframe\">\n",
       "  <thead>\n",
       "    <tr style=\"text-align: right;\">\n",
       "      <th></th>\n",
       "      <th>total_images</th>\n",
       "      <th>last_price</th>\n",
       "      <th>total_area</th>\n",
       "      <th>rooms</th>\n",
       "      <th>ceiling_height</th>\n",
       "      <th>floors_total</th>\n",
       "      <th>living_area</th>\n",
       "      <th>floor</th>\n",
       "      <th>kitchen_area</th>\n",
       "      <th>balcony</th>\n",
       "      <th>airports_nearest</th>\n",
       "      <th>cityCenters_nearest</th>\n",
       "      <th>parks_around3000</th>\n",
       "      <th>parks_nearest</th>\n",
       "      <th>ponds_around3000</th>\n",
       "      <th>ponds_nearest</th>\n",
       "      <th>days_exposition</th>\n",
       "    </tr>\n",
       "  </thead>\n",
       "  <tbody>\n",
       "    <tr>\n",
       "      <th>count</th>\n",
       "      <td>23699.000000</td>\n",
       "      <td>2.369900e+04</td>\n",
       "      <td>23699.000000</td>\n",
       "      <td>23699.000000</td>\n",
       "      <td>14504.000000</td>\n",
       "      <td>23613.000000</td>\n",
       "      <td>21796.000000</td>\n",
       "      <td>23699.000000</td>\n",
       "      <td>21421.000000</td>\n",
       "      <td>12180.000000</td>\n",
       "      <td>18157.000000</td>\n",
       "      <td>18180.000000</td>\n",
       "      <td>18181.000000</td>\n",
       "      <td>8079.000000</td>\n",
       "      <td>18181.000000</td>\n",
       "      <td>9110.000000</td>\n",
       "      <td>20518.000000</td>\n",
       "    </tr>\n",
       "    <tr>\n",
       "      <th>mean</th>\n",
       "      <td>9.858475</td>\n",
       "      <td>6.541549e+06</td>\n",
       "      <td>60.348651</td>\n",
       "      <td>2.070636</td>\n",
       "      <td>2.771499</td>\n",
       "      <td>10.673824</td>\n",
       "      <td>34.457852</td>\n",
       "      <td>5.892358</td>\n",
       "      <td>10.569807</td>\n",
       "      <td>1.150082</td>\n",
       "      <td>28793.672193</td>\n",
       "      <td>14191.277833</td>\n",
       "      <td>0.611408</td>\n",
       "      <td>490.804555</td>\n",
       "      <td>0.770255</td>\n",
       "      <td>517.980900</td>\n",
       "      <td>180.888634</td>\n",
       "    </tr>\n",
       "    <tr>\n",
       "      <th>std</th>\n",
       "      <td>5.682529</td>\n",
       "      <td>1.088701e+07</td>\n",
       "      <td>35.654083</td>\n",
       "      <td>1.078405</td>\n",
       "      <td>1.261056</td>\n",
       "      <td>6.597173</td>\n",
       "      <td>22.030445</td>\n",
       "      <td>4.885249</td>\n",
       "      <td>5.905438</td>\n",
       "      <td>1.071300</td>\n",
       "      <td>12630.880622</td>\n",
       "      <td>8608.386210</td>\n",
       "      <td>0.802074</td>\n",
       "      <td>342.317995</td>\n",
       "      <td>0.938346</td>\n",
       "      <td>277.720643</td>\n",
       "      <td>219.727988</td>\n",
       "    </tr>\n",
       "    <tr>\n",
       "      <th>min</th>\n",
       "      <td>0.000000</td>\n",
       "      <td>1.219000e+04</td>\n",
       "      <td>12.000000</td>\n",
       "      <td>0.000000</td>\n",
       "      <td>1.000000</td>\n",
       "      <td>1.000000</td>\n",
       "      <td>2.000000</td>\n",
       "      <td>1.000000</td>\n",
       "      <td>1.300000</td>\n",
       "      <td>0.000000</td>\n",
       "      <td>0.000000</td>\n",
       "      <td>181.000000</td>\n",
       "      <td>0.000000</td>\n",
       "      <td>1.000000</td>\n",
       "      <td>0.000000</td>\n",
       "      <td>13.000000</td>\n",
       "      <td>1.000000</td>\n",
       "    </tr>\n",
       "    <tr>\n",
       "      <th>25%</th>\n",
       "      <td>6.000000</td>\n",
       "      <td>3.400000e+06</td>\n",
       "      <td>40.000000</td>\n",
       "      <td>1.000000</td>\n",
       "      <td>2.520000</td>\n",
       "      <td>5.000000</td>\n",
       "      <td>18.600000</td>\n",
       "      <td>2.000000</td>\n",
       "      <td>7.000000</td>\n",
       "      <td>0.000000</td>\n",
       "      <td>18585.000000</td>\n",
       "      <td>9238.000000</td>\n",
       "      <td>0.000000</td>\n",
       "      <td>288.000000</td>\n",
       "      <td>0.000000</td>\n",
       "      <td>294.000000</td>\n",
       "      <td>45.000000</td>\n",
       "    </tr>\n",
       "    <tr>\n",
       "      <th>50%</th>\n",
       "      <td>9.000000</td>\n",
       "      <td>4.650000e+06</td>\n",
       "      <td>52.000000</td>\n",
       "      <td>2.000000</td>\n",
       "      <td>2.650000</td>\n",
       "      <td>9.000000</td>\n",
       "      <td>30.000000</td>\n",
       "      <td>4.000000</td>\n",
       "      <td>9.100000</td>\n",
       "      <td>1.000000</td>\n",
       "      <td>26726.000000</td>\n",
       "      <td>13098.500000</td>\n",
       "      <td>0.000000</td>\n",
       "      <td>455.000000</td>\n",
       "      <td>1.000000</td>\n",
       "      <td>502.000000</td>\n",
       "      <td>95.000000</td>\n",
       "    </tr>\n",
       "    <tr>\n",
       "      <th>75%</th>\n",
       "      <td>14.000000</td>\n",
       "      <td>6.800000e+06</td>\n",
       "      <td>69.900000</td>\n",
       "      <td>3.000000</td>\n",
       "      <td>2.800000</td>\n",
       "      <td>16.000000</td>\n",
       "      <td>42.300000</td>\n",
       "      <td>8.000000</td>\n",
       "      <td>12.000000</td>\n",
       "      <td>2.000000</td>\n",
       "      <td>37273.000000</td>\n",
       "      <td>16293.000000</td>\n",
       "      <td>1.000000</td>\n",
       "      <td>612.000000</td>\n",
       "      <td>1.000000</td>\n",
       "      <td>729.000000</td>\n",
       "      <td>232.000000</td>\n",
       "    </tr>\n",
       "    <tr>\n",
       "      <th>max</th>\n",
       "      <td>50.000000</td>\n",
       "      <td>7.630000e+08</td>\n",
       "      <td>900.000000</td>\n",
       "      <td>19.000000</td>\n",
       "      <td>100.000000</td>\n",
       "      <td>60.000000</td>\n",
       "      <td>409.700000</td>\n",
       "      <td>33.000000</td>\n",
       "      <td>112.000000</td>\n",
       "      <td>5.000000</td>\n",
       "      <td>84869.000000</td>\n",
       "      <td>65968.000000</td>\n",
       "      <td>3.000000</td>\n",
       "      <td>3190.000000</td>\n",
       "      <td>3.000000</td>\n",
       "      <td>1344.000000</td>\n",
       "      <td>1580.000000</td>\n",
       "    </tr>\n",
       "  </tbody>\n",
       "</table>\n",
       "</div>"
      ],
      "text/plain": [
       "       total_images    last_price    total_area         rooms  ceiling_height  \\\n",
       "count  23699.000000  2.369900e+04  23699.000000  23699.000000    14504.000000   \n",
       "mean       9.858475  6.541549e+06     60.348651      2.070636        2.771499   \n",
       "std        5.682529  1.088701e+07     35.654083      1.078405        1.261056   \n",
       "min        0.000000  1.219000e+04     12.000000      0.000000        1.000000   \n",
       "25%        6.000000  3.400000e+06     40.000000      1.000000        2.520000   \n",
       "50%        9.000000  4.650000e+06     52.000000      2.000000        2.650000   \n",
       "75%       14.000000  6.800000e+06     69.900000      3.000000        2.800000   \n",
       "max       50.000000  7.630000e+08    900.000000     19.000000      100.000000   \n",
       "\n",
       "       floors_total   living_area         floor  kitchen_area       balcony  \\\n",
       "count  23613.000000  21796.000000  23699.000000  21421.000000  12180.000000   \n",
       "mean      10.673824     34.457852      5.892358     10.569807      1.150082   \n",
       "std        6.597173     22.030445      4.885249      5.905438      1.071300   \n",
       "min        1.000000      2.000000      1.000000      1.300000      0.000000   \n",
       "25%        5.000000     18.600000      2.000000      7.000000      0.000000   \n",
       "50%        9.000000     30.000000      4.000000      9.100000      1.000000   \n",
       "75%       16.000000     42.300000      8.000000     12.000000      2.000000   \n",
       "max       60.000000    409.700000     33.000000    112.000000      5.000000   \n",
       "\n",
       "       airports_nearest  cityCenters_nearest  parks_around3000  parks_nearest  \\\n",
       "count      18157.000000         18180.000000      18181.000000    8079.000000   \n",
       "mean       28793.672193         14191.277833          0.611408     490.804555   \n",
       "std        12630.880622          8608.386210          0.802074     342.317995   \n",
       "min            0.000000           181.000000          0.000000       1.000000   \n",
       "25%        18585.000000          9238.000000          0.000000     288.000000   \n",
       "50%        26726.000000         13098.500000          0.000000     455.000000   \n",
       "75%        37273.000000         16293.000000          1.000000     612.000000   \n",
       "max        84869.000000         65968.000000          3.000000    3190.000000   \n",
       "\n",
       "       ponds_around3000  ponds_nearest  days_exposition  \n",
       "count      18181.000000    9110.000000     20518.000000  \n",
       "mean           0.770255     517.980900       180.888634  \n",
       "std            0.938346     277.720643       219.727988  \n",
       "min            0.000000      13.000000         1.000000  \n",
       "25%            0.000000     294.000000        45.000000  \n",
       "50%            1.000000     502.000000        95.000000  \n",
       "75%            1.000000     729.000000       232.000000  \n",
       "max            3.000000    1344.000000      1580.000000  "
      ]
     },
     "execution_count": 7,
     "metadata": {},
     "output_type": "execute_result"
    }
   ],
   "source": [
    "#Вычислим и отобразим сводную статистику по таблице с помощью метода describe()\n",
    "data.describe()"
   ]
  },
  {
   "cell_type": "code",
   "execution_count": 8,
   "metadata": {},
   "outputs": [
    {
     "data": {
      "text/plain": [
       "array([[<AxesSubplot:title={'center':'total_images'}>,\n",
       "        <AxesSubplot:title={'center':'last_price'}>,\n",
       "        <AxesSubplot:title={'center':'total_area'}>,\n",
       "        <AxesSubplot:title={'center':'rooms'}>],\n",
       "       [<AxesSubplot:title={'center':'ceiling_height'}>,\n",
       "        <AxesSubplot:title={'center':'floors_total'}>,\n",
       "        <AxesSubplot:title={'center':'living_area'}>,\n",
       "        <AxesSubplot:title={'center':'floor'}>],\n",
       "       [<AxesSubplot:title={'center':'kitchen_area'}>,\n",
       "        <AxesSubplot:title={'center':'balcony'}>,\n",
       "        <AxesSubplot:title={'center':'airports_nearest'}>,\n",
       "        <AxesSubplot:title={'center':'cityCenters_nearest'}>],\n",
       "       [<AxesSubplot:title={'center':'parks_around3000'}>,\n",
       "        <AxesSubplot:title={'center':'parks_nearest'}>,\n",
       "        <AxesSubplot:title={'center':'ponds_around3000'}>,\n",
       "        <AxesSubplot:title={'center':'ponds_nearest'}>],\n",
       "       [<AxesSubplot:title={'center':'days_exposition'}>, <AxesSubplot:>,\n",
       "        <AxesSubplot:>, <AxesSubplot:>]], dtype=object)"
      ]
     },
     "execution_count": 8,
     "metadata": {},
     "output_type": "execute_result"
    },
    {
     "data": {
      "image/png": "[encoded data removed]",
      "text/plain": [
       "<Figure size 1080x1440 with 20 Axes>"
      ]
     },
     "metadata": {
      "needs_background": "light"
     },
     "output_type": "display_data"
    }
   ],
   "source": [
    "# Построим гистограммы для всех столбцов с помощью метода hist()\n",
    "data.hist (figsize= (15,20))"
   ]
  },
  {
   "cell_type": "code",
   "execution_count": 9,
   "metadata": {},
   "outputs": [
    {
     "data": {
      "text/plain": [
       "total_images                0\n",
       "last_price                  0\n",
       "total_area                  0\n",
       "first_day_exposition        0\n",
       "rooms                       0\n",
       "ceiling_height           9195\n",
       "floors_total               86\n",
       "living_area              1903\n",
       "floor                       0\n",
       "is_apartment            20924\n",
       "studio                      0\n",
       "open_plan                   0\n",
       "kitchen_area             2278\n",
       "balcony                 11519\n",
       "locality_name              49\n",
       "airports_nearest         5542\n",
       "cityCenters_nearest      5519\n",
       "parks_around3000         5518\n",
       "parks_nearest           15620\n",
       "ponds_around3000         5518\n",
       "ponds_nearest           14589\n",
       "days_exposition          3181\n",
       "dtype: int64"
      ]
     },
     "execution_count": 9,
     "metadata": {},
     "output_type": "execute_result"
    }
   ],
   "source": [
    "#Определим пропуски и посчитаем сумму пропусков в таблице\n",
    "data.isna().sum()"
   ]
  },
  {
   "cell_type": "code",
   "execution_count": 10,
   "metadata": {},
   "outputs": [
    {
     "data": {
      "text/plain": [
       "0"
      ]
     },
     "execution_count": 10,
     "metadata": {},
     "output_type": "execute_result"
    }
   ],
   "source": [
    "#Определим явные дубликаты и посчитаем их сумму:\n",
    "data.duplicated().sum()"
   ]
  },
  {
   "cell_type": "code",
   "execution_count": 11,
   "metadata": {},
   "outputs": [],
   "source": [
    "# Вывод:\n",
    "# Не все столбцы имеют правильный вид данных, например столбец под №9 Is apparment имеет неверный тип данных , должен быть булев тип ( Аппартаменты -1 , не аппартаменты - 0),\n",
    "# Выделил столбец  № 9т.к в нём подавляющее число пропусков\n",
    "# Большое количество пропусков по таблице в целом.\n",
    "#Из того ,что бросается в глаза отмечу, что стоимость недвижимости в г.Санкт-Петербург заметно отличается от цен в населённых пунктах вокруг.\n",
    "#Минимальное значение  количества комнат - 0 (можно предположить ,что это комерческая недвижимость )\n",
    "#Максимальное значение высоты потолков - 100 (очепятка?)\n",
    "#Название столбца cityCenters_nearest (змеинный язык)\n",
    "#Явные дубликаты в таблице отсутствуют\n",
    "#Столбец  cityCenters_nearest ,змеиный язык."
   ]
  },
  {
   "cell_type": "markdown",
   "metadata": {},
   "source": [
    "### Предобработка данных"
   ]
  },
  {
   "cell_type": "code",
   "execution_count": 12,
   "metadata": {},
   "outputs": [
    {
     "data": {
      "text/plain": [
       "total_images                0\n",
       "last_price                  0\n",
       "total_area                  0\n",
       "first_day_exposition        0\n",
       "rooms                       0\n",
       "ceiling_height           9195\n",
       "floors_total               86\n",
       "living_area              1903\n",
       "floor                       0\n",
       "is_apartment            20924\n",
       "studio                      0\n",
       "open_plan                   0\n",
       "kitchen_area             2278\n",
       "balcony                 11519\n",
       "locality_name              49\n",
       "airports_nearest         5542\n",
       "cityCenters_nearest      5519\n",
       "parks_around3000         5518\n",
       "parks_nearest           15620\n",
       "ponds_around3000         5518\n",
       "ponds_nearest           14589\n",
       "days_exposition          3181\n",
       "dtype: int64"
      ]
     },
     "execution_count": 12,
     "metadata": {},
     "output_type": "execute_result"
    }
   ],
   "source": [
    "#Выведем ещё раз пропуски в таблице\n",
    "data.isna().sum()"
   ]
  },
  {
   "cell_type": "markdown",
   "metadata": {},
   "source": [
    "Разберём каждый столбец с пропусками и определим какие пропуски можно заменить на 0, а какие не стоит.\n",
    "celling_height - высота потолков в метрах :9125 пропусков, возможно тот, кто размещает объявление не знает точной высоты потолка, поэтому оставляет это знчение пропущенным. Логичной замены нет.\n",
    "floors_total - общее количество этажей : 86 пропусков, количество незначительно, на результат исследований не повлияет. Удалим пропуски для перевода в тайп инт.\n",
    "living_area - жилая площадь в квадратных метрах : 1903 пропуска,для того чтобы знать сколько метров составляет жилая из общей требуются документы, отсюда и пропуски в данных.Логичной замены нет.\n",
    "is_apartment - аппартаменты (булев тип) : 20924 пропуска, самое большое количество пропусков, возможно показатель True (1) встречается очень редко , поэтому заменим все пропуски на 0(False).\n",
    "kitchen_area - площадь кухни в квадратных метрах : 2278 пропусков,для указания точной площади кухни , тоже нужны документы, возможно объявление выставляется риелтором , когда у него ещё нет всех данных на руках- логичной замены нет.\n",
    "balcony - балконы : 11519 пропусков , можем предположить , что пропуск обозначает отсутствие балкна , следовательно можем заменить на 0.\n",
    "locality_name - название населённого пункта : 49 пропусков, количество не значительно , логичной замены нет,пропуски удалим т.к логичнее будет удалить , чем поставить поставить например 0 , локация важный фактор.\n",
    "airports_nearest -расстояние до ближайшего аэропорта в метрах :5542 пропуска,картографические данные пропусков логичной замены нет.\n",
    "cityCenters_nearest - расстояние до центра города в метрах : 5519 пропусков, картографические данные пропусковлогичной замены нет.\n",
    "parks_around3000 -число парков в радиусе 3км -5518 пропусков ,картографические данные пропусков -логичной замены нет\n",
    "parks_nearset - расстояние до ближайшего водоёма в метрах 15620 пропусков,картографические данные пропусков - логичной замены нет\n",
    "ponds_around3000 - число водоёмов в радиусе 3км 5518 пропусков,картографические данные пропусков -логичной замены нет \n",
    "ponds_nearset - расстояние до ближайшего водоёма в метрах :14589 ,картографические данные пропусков -логичной замены нет\n",
    "days_exposition- дней было размещено объявлением : 3181 пропуск ,картографические данные - логичной замены нет \n",
    "Итог: пропуски в столбце is_appartment меняем на 0(False) , пропуски в столбце balcony меняем на 0 , остальные пропуски оставляем т.к нет логичной замены , либо число пропусков не повлияет критично на проведение исследования."
   ]
  },
  {
   "cell_type": "code",
   "execution_count": 13,
   "metadata": {},
   "outputs": [
    {
     "data": {
      "text/plain": [
       "0"
      ]
     },
     "execution_count": 13,
     "metadata": {},
     "output_type": "execute_result"
    }
   ],
   "source": [
    "#Заменяем пропуски в столбце is appartment на False:\n",
    "data['is_apartment'].fillna(False, inplace=True)\n",
    "#Проверяем:\n",
    "data['is_apartment'].isna().sum()"
   ]
  },
  {
   "cell_type": "code",
   "execution_count": 14,
   "metadata": {},
   "outputs": [
    {
     "data": {
      "text/plain": [
       "0"
      ]
     },
     "execution_count": 14,
     "metadata": {},
     "output_type": "execute_result"
    }
   ],
   "source": [
    "#Заменяем пропуски в столбце balcony на 0:\n",
    "data['balcony'].fillna(0,inplace=True)\n",
    "#Проверяем:\n",
    "data['balcony'].isna().sum()"
   ]
  },
  {
   "cell_type": "code",
   "execution_count": 15,
   "metadata": {},
   "outputs": [
    {
     "name": "stdout",
     "output_type": "stream",
     "text": [
      "<class 'pandas.core.frame.DataFrame'>\n",
      "RangeIndex: 23699 entries, 0 to 23698\n",
      "Data columns (total 22 columns):\n",
      " #   Column                Non-Null Count  Dtype  \n",
      "---  ------                --------------  -----  \n",
      " 0   total_images          23699 non-null  int64  \n",
      " 1   last_price            23699 non-null  float64\n",
      " 2   total_area            23699 non-null  float64\n",
      " 3   first_day_exposition  23699 non-null  object \n",
      " 4   rooms                 23699 non-null  int64  \n",
      " 5   ceiling_height        14504 non-null  float64\n",
      " 6   floors_total          23613 non-null  float64\n",
      " 7   living_area           21796 non-null  float64\n",
      " 8   floor                 23699 non-null  int64  \n",
      " 9   is_apartment          23699 non-null  bool   \n",
      " 10  studio                23699 non-null  bool   \n",
      " 11  open_plan             23699 non-null  bool   \n",
      " 12  kitchen_area          21421 non-null  float64\n",
      " 13  balcony               23699 non-null  float64\n",
      " 14  locality_name         23650 non-null  object \n",
      " 15  airports_nearest      18157 non-null  float64\n",
      " 16  cityCenters_nearest   18180 non-null  float64\n",
      " 17  parks_around3000      18181 non-null  float64\n",
      " 18  parks_nearest         8079 non-null   float64\n",
      " 19  ponds_around3000      18181 non-null  float64\n",
      " 20  ponds_nearest         9110 non-null   float64\n",
      " 21  days_exposition       20518 non-null  float64\n",
      "dtypes: bool(3), float64(14), int64(3), object(2)\n",
      "memory usage: 3.5+ MB\n"
     ]
    }
   ],
   "source": [
    "#Изменение типа данных ,снова рассмотрим типы данных в каждом столбце:\n",
    "data.info()"
   ]
  },
  {
   "cell_type": "markdown",
   "metadata": {},
   "source": [
    "#Столбцы last_price , balcony, days_exposition dtype меняем на int\n",
    "#Столбец is_apartment меняем на bool.\n"
   ]
  },
  {
   "cell_type": "code",
   "execution_count": 16,
   "metadata": {},
   "outputs": [
    {
     "data": {
      "text/plain": [
       "last_price    0\n",
       "balcony       0\n",
       "dtype: int64"
      ]
     },
     "execution_count": 16,
     "metadata": {},
     "output_type": "execute_result"
    }
   ],
   "source": [
    "#Для изменения float на int потребовалось санчала удалить пропуски.\n",
    "data[['last_price','balcony']].dropna()\n",
    "data[['last_price','balcony']].isna().sum()"
   ]
  },
  {
   "cell_type": "code",
   "execution_count": 17,
   "metadata": {},
   "outputs": [
    {
     "data": {
      "text/plain": [
       "last_price    0\n",
       "balcony       0\n",
       "dtype: int64"
      ]
     },
     "execution_count": 17,
     "metadata": {},
     "output_type": "execute_result"
    }
   ],
   "source": [
    "#Изменяем тип данных last_price,balcony с float на int\n",
    "data[['last_price','balcony']] = data[['last_price','balcony']].astype(int)\n",
    "#Проверяем:\n",
    "data[['last_price','balcony']].isna().sum()"
   ]
  },
  {
   "cell_type": "code",
   "execution_count": 18,
   "metadata": {},
   "outputs": [
    {
     "name": "stdout",
     "output_type": "stream",
     "text": [
      "<class 'pandas.core.frame.DataFrame'>\n",
      "RangeIndex: 23699 entries, 0 to 23698\n",
      "Data columns (total 22 columns):\n",
      " #   Column                Non-Null Count  Dtype  \n",
      "---  ------                --------------  -----  \n",
      " 0   total_images          23699 non-null  int64  \n",
      " 1   last_price            23699 non-null  int64  \n",
      " 2   total_area            23699 non-null  float64\n",
      " 3   first_day_exposition  23699 non-null  object \n",
      " 4   rooms                 23699 non-null  int64  \n",
      " 5   ceiling_height        14504 non-null  float64\n",
      " 6   floors_total          23613 non-null  float64\n",
      " 7   living_area           21796 non-null  float64\n",
      " 8   floor                 23699 non-null  int64  \n",
      " 9   is_apartment          23699 non-null  bool   \n",
      " 10  studio                23699 non-null  bool   \n",
      " 11  open_plan             23699 non-null  bool   \n",
      " 12  kitchen_area          21421 non-null  float64\n",
      " 13  balcony               23699 non-null  int64  \n",
      " 14  locality_name         23650 non-null  object \n",
      " 15  airports_nearest      18157 non-null  float64\n",
      " 16  cityCenters_nearest   18180 non-null  float64\n",
      " 17  parks_around3000      18181 non-null  float64\n",
      " 18  parks_nearest         8079 non-null   float64\n",
      " 19  ponds_around3000      18181 non-null  float64\n",
      " 20  ponds_nearest         9110 non-null   float64\n",
      " 21  days_exposition       20518 non-null  float64\n",
      "dtypes: bool(3), float64(12), int64(5), object(2)\n",
      "memory usage: 3.5+ MB\n"
     ]
    }
   ],
   "source": [
    "#Изменяем тип данных is_apartment на bool\n",
    "data['is_apartment'] = data['is_apartment'].astype(bool)\n",
    "#Проверяем:\n",
    "data.info()"
   ]
  },
  {
   "cell_type": "code",
   "execution_count": 19,
   "metadata": {},
   "outputs": [
    {
     "data": {
      "text/plain": [
       "0"
      ]
     },
     "execution_count": 19,
     "metadata": {},
     "output_type": "execute_result"
    }
   ],
   "source": [
    "# Также стобец floors_total удаляем пропуски и меняем dtype с float на int\n",
    "data=data.dropna(subset=['floors_total'])\n",
    "data['floors_total'].isna().sum()"
   ]
  },
  {
   "cell_type": "code",
   "execution_count": 20,
   "metadata": {},
   "outputs": [
    {
     "name": "stdout",
     "output_type": "stream",
     "text": [
      "<class 'pandas.core.frame.DataFrame'>\n",
      "Int64Index: 23613 entries, 0 to 23698\n",
      "Data columns (total 22 columns):\n",
      " #   Column                Non-Null Count  Dtype  \n",
      "---  ------                --------------  -----  \n",
      " 0   total_images          23613 non-null  int64  \n",
      " 1   last_price            23613 non-null  int64  \n",
      " 2   total_area            23613 non-null  float64\n",
      " 3   first_day_exposition  23613 non-null  object \n",
      " 4   rooms                 23613 non-null  int64  \n",
      " 5   ceiling_height        14495 non-null  float64\n",
      " 6   floors_total          23613 non-null  int64  \n",
      " 7   living_area           21743 non-null  float64\n",
      " 8   floor                 23613 non-null  int64  \n",
      " 9   is_apartment          23613 non-null  bool   \n",
      " 10  studio                23613 non-null  bool   \n",
      " 11  open_plan             23613 non-null  bool   \n",
      " 12  kitchen_area          21382 non-null  float64\n",
      " 13  balcony               23613 non-null  int64  \n",
      " 14  locality_name         23565 non-null  object \n",
      " 15  airports_nearest      18081 non-null  float64\n",
      " 16  cityCenters_nearest   18104 non-null  float64\n",
      " 17  parks_around3000      18105 non-null  float64\n",
      " 18  parks_nearest         8045 non-null   float64\n",
      " 19  ponds_around3000      18105 non-null  float64\n",
      " 20  ponds_nearest         9061 non-null   float64\n",
      " 21  days_exposition       20441 non-null  float64\n",
      "dtypes: bool(3), float64(11), int64(6), object(2)\n",
      "memory usage: 3.7+ MB\n"
     ]
    }
   ],
   "source": [
    "# Меняем тип данных\n",
    "data[['floors_total']]=data[['floors_total']].astype(int)\n",
    "#Проверяем \n",
    "data.info()"
   ]
  },
  {
   "cell_type": "code",
   "execution_count": 21,
   "metadata": {},
   "outputs": [
    {
     "data": {
      "text/plain": [
       "array(['Бокситогорск', 'Волосово', 'Волхов', 'Всеволожск', 'Выборг',\n",
       "       'Высоцк', 'Гатчина', 'Зеленогорск', 'Ивангород', 'Каменногорск',\n",
       "       'Кингисепп', 'Кириши', 'Кировск', 'Колпино', 'Коммунар',\n",
       "       'Красное Село', 'Кронштадт', 'Кудрово', 'Лодейное Поле',\n",
       "       'Ломоносов', 'Луга', 'Любань', 'Мурино', 'Никольское',\n",
       "       'Новая Ладога', 'Отрадное', 'Павловск', 'Петергоф', 'Пикалёво',\n",
       "       'Подпорожье', 'Приморск', 'Приозерск', 'Пушкин', 'Санкт-Петербург',\n",
       "       'Светогорск', 'Сертолово', 'Сестрорецк', 'Сланцы', 'Сосновый Бор',\n",
       "       'Сясьстрой', 'Тихвин', 'Тосно', 'Шлиссельбург',\n",
       "       'городской поселок Большая Ижора', 'городской поселок Янино-1',\n",
       "       'городской посёлок Будогощь', 'городской посёлок Виллози',\n",
       "       'городской посёлок Лесогорский', 'городской посёлок Мга',\n",
       "       'городской посёлок Назия', 'городской посёлок Новоселье',\n",
       "       'городской посёлок Павлово', 'городской посёлок Рощино',\n",
       "       'городской посёлок Свирьстрой', 'городской посёлок Советский',\n",
       "       'городской посёлок Фёдоровское', 'городской посёлок Янино-1',\n",
       "       'деревня Агалатово', 'деревня Аро', 'деревня Батово',\n",
       "       'деревня Бегуницы', 'деревня Белогорка', 'деревня Большая Вруда',\n",
       "       'деревня Большая Пустомержа', 'деревня Большие Колпаны',\n",
       "       'деревня Большое Рейзино', 'деревня Большой Сабск', 'деревня Бор',\n",
       "       'деревня Борисова Грива', 'деревня Ваганово', 'деревня Вартемяги',\n",
       "       'деревня Вахнова Кара', 'деревня Выскатка', 'деревня Гарболово',\n",
       "       'деревня Глинка', 'деревня Горбунки', 'деревня Гостилицы',\n",
       "       'деревня Заклинье', 'деревня Заневка', 'деревня Зимитицы',\n",
       "       'деревня Извара', 'деревня Иссад', 'деревня Калитино',\n",
       "       'деревня Кальтино', 'деревня Камышовка', 'деревня Каськово',\n",
       "       'деревня Келози', 'деревня Кипень', 'деревня Кисельня',\n",
       "       'деревня Колтуши', 'деревня Коркино', 'деревня Котлы',\n",
       "       'деревня Кривко', 'деревня Кудрово', 'деревня Кузьмолово',\n",
       "       'деревня Курковицы', 'деревня Куровицы', 'деревня Куттузи',\n",
       "       'деревня Лаврики', 'деревня Лаголово', 'деревня Лампово',\n",
       "       'деревня Лесколово', 'деревня Лопухинка', 'деревня Лупполово',\n",
       "       'деревня Малая Романовка', 'деревня Малое Верево',\n",
       "       'деревня Малое Карлино', 'деревня Малые Колпаны',\n",
       "       'деревня Мануйлово', 'деревня Меньково', 'деревня Мины',\n",
       "       'деревня Мистолово', 'деревня Ненимяки', 'деревня Нижние Осельки',\n",
       "       'деревня Нижняя', 'деревня Низино', 'деревня Новое Девяткино',\n",
       "       'деревня Новолисино', 'деревня Нурма', 'деревня Оржицы',\n",
       "       'деревня Парицы', 'деревня Пельгора', 'деревня Пеники',\n",
       "       'деревня Пижма', 'деревня Пикколово', 'деревня Пудомяги',\n",
       "       'деревня Пустынка', 'деревня Пчева', 'деревня Рабитицы',\n",
       "       'деревня Разбегаево', 'деревня Раздолье', 'деревня Разметелево',\n",
       "       'деревня Рапполово', 'деревня Реброво', 'деревня Русско',\n",
       "       'деревня Сижно', 'деревня Снегирёвка', 'деревня Старая',\n",
       "       'деревня Старая Пустошь', 'деревня Старое Хинколово',\n",
       "       'деревня Старополье', 'деревня Старосиверская',\n",
       "       'деревня Старые Бегуницы', 'деревня Суоранда',\n",
       "       'деревня Сяськелево', 'деревня Тарасово', 'деревня Терпилицы',\n",
       "       'деревня Тихковицы', 'деревня Тойворово', 'деревня Торосово',\n",
       "       'деревня Торошковичи', 'деревня Трубников Бор',\n",
       "       'деревня Фалилеево', 'деревня Фёдоровское', 'деревня Хапо-Ое',\n",
       "       'деревня Хязельки', 'деревня Чудской Бор', 'деревня Шпаньково',\n",
       "       'деревня Щеглово', 'деревня Юкки', 'деревня Ялгино',\n",
       "       'деревня Яльгелево', 'деревня Ям-Тесово',\n",
       "       'коттеджный поселок Кивеннапа Север', 'коттеджный поселок Счастье',\n",
       "       'коттеджный посёлок Лесное', 'поселок Аннино', 'поселок Барышево',\n",
       "       'поселок Бугры', 'поселок Возрождение', 'поселок Войсковицы',\n",
       "       'поселок Володарское', 'поселок Гаврилово', 'поселок Гарболово',\n",
       "       'поселок Гладкое', 'поселок Глажево', 'поселок Глебычево',\n",
       "       'поселок Гончарово', 'поселок Громово', 'поселок Дружноселье',\n",
       "       'поселок Елизаветино', 'поселок Жилгородок', 'поселок Жилпосёлок',\n",
       "       'поселок Житково', 'поселок Заводской', 'поселок Запорожское',\n",
       "       'поселок Зимитицы', 'поселок Ильичёво', 'поселок Калитино',\n",
       "       'поселок Каложицы', 'поселок Кингисеппский', 'поселок Кирпичное',\n",
       "       'поселок Кобралово', 'поселок Кобринское', 'поселок Коммунары',\n",
       "       'поселок Коробицыно', 'поселок Котельский',\n",
       "       'поселок Красная Долина', 'поселок Красносельское',\n",
       "       'поселок Лесное', 'поселок Лисий Нос', 'поселок Лукаши',\n",
       "       'поселок Любань', 'поселок Мельниково', 'поселок Мичуринское',\n",
       "       'поселок Молодцово', 'поселок Мурино', 'поселок Новый Свет',\n",
       "       'поселок Новый Учхоз', 'поселок Оредеж',\n",
       "       'поселок Пансионат Зелёный Бор', 'поселок Первомайское',\n",
       "       'поселок Перово', 'поселок Петровское', 'поселок Победа',\n",
       "       'поселок Поляны', 'поселок Почап', 'поселок Починок',\n",
       "       'поселок Пушное', 'поселок Пчевжа', 'поселок Рабитицы',\n",
       "       'поселок Романовка', 'поселок Ромашки', 'поселок Рябово',\n",
       "       'поселок Севастьяново', 'поселок Селезнёво', 'поселок Сельцо',\n",
       "       'поселок Семиозерье', 'поселок Семрино', 'поселок Серебрянский',\n",
       "       'поселок Совхозный', 'поселок Старая Малукса',\n",
       "       'поселок Стеклянный', 'поселок Сумино', 'поселок Суходолье',\n",
       "       'поселок Тельмана', 'поселок Терволово', 'поселок Торковичи',\n",
       "       'поселок Тёсово-4', 'поселок Углово', 'поселок Усть-Луга',\n",
       "       'поселок Ушаки', 'поселок Цвелодубово', 'поселок Цвылёво',\n",
       "       'поселок городского типа Большая Ижора',\n",
       "       'поселок городского типа Вырица',\n",
       "       'поселок городского типа Дружная Горка',\n",
       "       'поселок городского типа Дубровка',\n",
       "       'поселок городского типа Ефимовский',\n",
       "       'поселок городского типа Кондратьево',\n",
       "       'поселок городского типа Красный Бор',\n",
       "       'поселок городского типа Кузьмоловский',\n",
       "       'поселок городского типа Лебяжье',\n",
       "       'поселок городского типа Лесогорский',\n",
       "       'поселок городского типа Назия',\n",
       "       'поселок городского типа Никольский',\n",
       "       'поселок городского типа Приладожский',\n",
       "       'поселок городского типа Рахья', 'поселок городского типа Рощино',\n",
       "       'поселок городского типа Рябово',\n",
       "       'поселок городского типа Синявино',\n",
       "       'поселок городского типа Советский',\n",
       "       'поселок городского типа Токсово',\n",
       "       'поселок городского типа Форносово',\n",
       "       'поселок городского типа имени Свердлова',\n",
       "       'поселок станции Вещево', 'поселок станции Корнево',\n",
       "       'поселок станции Лужайка', 'поселок станции Приветнинское',\n",
       "       'посёлок Александровская', 'посёлок Алексеевка', 'посёлок Аннино',\n",
       "       'посёлок Белоостров', 'посёлок Бугры', 'посёлок Возрождение',\n",
       "       'посёлок Войскорово', 'посёлок Высокоключевой',\n",
       "       'посёлок Гаврилово', 'посёлок Дзержинского', 'посёлок Жилгородок',\n",
       "       'посёлок Ильичёво', 'посёлок Кикерино', 'посёлок Кобралово',\n",
       "       'посёлок Коробицыно', 'посёлок Левашово', 'посёлок Ленинское',\n",
       "       'посёлок Лисий Нос', 'посёлок Мельниково', 'посёлок Металлострой',\n",
       "       'посёлок Мичуринское', 'посёлок Молодёжное', 'посёлок Мурино',\n",
       "       'посёлок Мыза-Ивановка', 'посёлок Новогорелово',\n",
       "       'посёлок Новый Свет', 'посёлок Пансионат Зелёный Бор',\n",
       "       'посёлок Парголово', 'посёлок Перово', 'посёлок Песочный',\n",
       "       'посёлок Петро-Славянка', 'посёлок Петровское',\n",
       "       'посёлок Платформа 69-й километр', 'посёлок Плодовое',\n",
       "       'посёлок Плоское', 'посёлок Победа', 'посёлок Поляны',\n",
       "       'посёлок Понтонный', 'посёлок Пригородный', 'посёлок Пудость',\n",
       "       'посёлок Репино', 'посёлок Ропша', 'посёлок Сапёрное',\n",
       "       'посёлок Сапёрный', 'посёлок Сосново', 'посёлок Старая Малукса',\n",
       "       'посёлок Стеклянный', 'посёлок Стрельна', 'посёлок Суйда',\n",
       "       'посёлок Сумино', 'посёлок Тельмана', 'посёлок Терволово',\n",
       "       'посёлок Торфяное', 'посёлок Усть-Ижора', 'посёлок Усть-Луга',\n",
       "       'посёлок Форт Красная Горка', 'посёлок Шугозеро', 'посёлок Шушары',\n",
       "       'посёлок Щеглово', 'посёлок городского типа Важины',\n",
       "       'посёлок городского типа Вознесенье',\n",
       "       'посёлок городского типа Вырица',\n",
       "       'посёлок городского типа Красный Бор',\n",
       "       'посёлок городского типа Кузнечное',\n",
       "       'посёлок городского типа Кузьмоловский',\n",
       "       'посёлок городского типа Лебяжье', 'посёлок городского типа Мга',\n",
       "       'посёлок городского типа Павлово',\n",
       "       'посёлок городского типа Рощино', 'посёлок городского типа Рябово',\n",
       "       'посёлок городского типа Сиверский',\n",
       "       'посёлок городского типа Тайцы', 'посёлок городского типа Токсово',\n",
       "       'посёлок городского типа Ульяновка',\n",
       "       'посёлок городского типа Форносово',\n",
       "       'посёлок городского типа имени Морозова',\n",
       "       'посёлок городского типа имени Свердлова',\n",
       "       'посёлок при железнодорожной станции Вещево',\n",
       "       'посёлок при железнодорожной станции Приветнинское',\n",
       "       'посёлок станции Громово', 'посёлок станции Свирь',\n",
       "       'садоводческое некоммерческое товарищество Лесная Поляна',\n",
       "       'садовое товарищество Новая Ропша',\n",
       "       'садовое товарищество Приладожский', 'садовое товарищество Рахья',\n",
       "       'садовое товарищество Садко', 'село Копорье', 'село Никольское',\n",
       "       'село Павлово', 'село Паша', 'село Путилово', 'село Рождествено',\n",
       "       'село Русско-Высоцкое', 'село Старая Ладога', 'село Шум', nan],\n",
       "      dtype=object)"
      ]
     },
     "execution_count": 21,
     "metadata": {},
     "output_type": "execute_result"
    }
   ],
   "source": [
    "#Следующим шагом изучим уникальные значения в столбцах с названиями населённых пунктов, locality_name:\n",
    "data['locality_name'].sort_values().unique()\n"
   ]
  },
  {
   "cell_type": "markdown",
   "metadata": {},
   "source": [
    "Видим что \"посёлок\",\"поселок городского типа\",\"посёлок городского типа\",\"городской посёлок\"дублируют друг друга - это неявные дубликаты.\n"
   ]
  },
  {
   "cell_type": "code",
   "execution_count": 22,
   "metadata": {},
   "outputs": [
    {
     "data": {
      "text/plain": [
       "array(['Бокситогорск', 'Волосово', 'Волхов', 'Всеволожск', 'Выборг',\n",
       "       'Высоцк', 'Гатчина', 'Зеленогорск', 'Ивангород', 'Каменногорск',\n",
       "       'Кингисепп', 'Кириши', 'Кировск', 'Колпино', 'Коммунар',\n",
       "       'Красное Село', 'Кронштадт', 'Кудрово', 'Лодейное Поле',\n",
       "       'Ломоносов', 'Луга', 'Любань', 'Мурино', 'Никольское',\n",
       "       'Новая Ладога', 'Отрадное', 'Павловск', 'Петергоф', 'Пикалёво',\n",
       "       'Подпорожье', 'Приморск', 'Приозерск', 'Пушкин', 'Санкт-Петербург',\n",
       "       'Светогорск', 'Сертолово', 'Сестрорецк', 'Сланцы', 'Сосновый Бор',\n",
       "       'Сясьстрой', 'Тихвин', 'Тосно', 'Шлиссельбург',\n",
       "       'городской посёлок Большая Ижора', 'городской посёлок Янино-1',\n",
       "       'деревня Агалатово', 'деревня Аро', 'деревня Батово',\n",
       "       'деревня Бегуницы', 'деревня Белогорка', 'деревня Большая Вруда',\n",
       "       'деревня Большая Пустомержа', 'деревня Большие Колпаны',\n",
       "       'деревня Большое Рейзино', 'деревня Большой Сабск', 'деревня Бор',\n",
       "       'деревня Борисова Грива', 'деревня Ваганово', 'деревня Вартемяги',\n",
       "       'деревня Вахнова Кара', 'деревня Выскатка', 'деревня Гарболово',\n",
       "       'деревня Глинка', 'деревня Горбунки', 'деревня Гостилицы',\n",
       "       'деревня Заклинье', 'деревня Заневка', 'деревня Зимитицы',\n",
       "       'деревня Извара', 'деревня Иссад', 'деревня Калитино',\n",
       "       'деревня Кальтино', 'деревня Камышовка', 'деревня Каськово',\n",
       "       'деревня Келози', 'деревня Кипень', 'деревня Кисельня',\n",
       "       'деревня Колтуши', 'деревня Коркино', 'деревня Котлы',\n",
       "       'деревня Кривко', 'деревня Кудрово', 'деревня Кузьмолово',\n",
       "       'деревня Курковицы', 'деревня Куровицы', 'деревня Куттузи',\n",
       "       'деревня Лаврики', 'деревня Лаголово', 'деревня Лампово',\n",
       "       'деревня Лесколово', 'деревня Лопухинка', 'деревня Лупполово',\n",
       "       'деревня Малая Романовка', 'деревня Малое Верево',\n",
       "       'деревня Малое Карлино', 'деревня Малые Колпаны',\n",
       "       'деревня Мануйлово', 'деревня Меньково', 'деревня Мины',\n",
       "       'деревня Мистолово', 'деревня Ненимяки', 'деревня Нижние Осельки',\n",
       "       'деревня Нижняя', 'деревня Низино', 'деревня Новое Девяткино',\n",
       "       'деревня Новолисино', 'деревня Нурма', 'деревня Оржицы',\n",
       "       'деревня Парицы', 'деревня Пельгора', 'деревня Пеники',\n",
       "       'деревня Пижма', 'деревня Пикколово', 'деревня Пудомяги',\n",
       "       'деревня Пустынка', 'деревня Пчева', 'деревня Рабитицы',\n",
       "       'деревня Разбегаево', 'деревня Раздолье', 'деревня Разметелево',\n",
       "       'деревня Рапполово', 'деревня Реброво', 'деревня Русско',\n",
       "       'деревня Сижно', 'деревня Снегирёвка', 'деревня Старая',\n",
       "       'деревня Старая Пустошь', 'деревня Старое Хинколово',\n",
       "       'деревня Старополье', 'деревня Старосиверская',\n",
       "       'деревня Старые Бегуницы', 'деревня Суоранда',\n",
       "       'деревня Сяськелево', 'деревня Тарасово', 'деревня Терпилицы',\n",
       "       'деревня Тихковицы', 'деревня Тойворово', 'деревня Торосово',\n",
       "       'деревня Торошковичи', 'деревня Трубников Бор',\n",
       "       'деревня Фалилеево', 'деревня Фёдоровское', 'деревня Хапо-Ое',\n",
       "       'деревня Хязельки', 'деревня Чудской Бор', 'деревня Шпаньково',\n",
       "       'деревня Щеглово', 'деревня Юкки', 'деревня Ялгино',\n",
       "       'деревня Яльгелево', 'деревня Ям-Тесово',\n",
       "       'коттеджный посёлок Кивеннапа Север', 'коттеджный посёлок Лесное',\n",
       "       'коттеджный посёлок Счастье', 'посёлок Александровская',\n",
       "       'посёлок Алексеевка', 'посёлок Аннино', 'посёлок Барышево',\n",
       "       'посёлок Белоостров', 'посёлок Бугры', 'посёлок Будогощь',\n",
       "       'посёлок Важины', 'посёлок Виллози', 'посёлок Вознесенье',\n",
       "       'посёлок Возрождение', 'посёлок Войсковицы', 'посёлок Войскорово',\n",
       "       'посёлок Володарское', 'посёлок Вырица', 'посёлок Высокоключевой',\n",
       "       'посёлок Гаврилово', 'посёлок Гарболово', 'посёлок Гладкое',\n",
       "       'посёлок Глажево', 'посёлок Глебычево', 'посёлок Гончарово',\n",
       "       'посёлок Громово', 'посёлок Дзержинского', 'посёлок Дружноселье',\n",
       "       'посёлок Елизаветино', 'посёлок Жилгородок', 'посёлок Жилпосёлок',\n",
       "       'посёлок Житково', 'посёлок Заводской', 'посёлок Запорожское',\n",
       "       'посёлок Зимитицы', 'посёлок Ильичёво', 'посёлок Калитино',\n",
       "       'посёлок Каложицы', 'посёлок Кикерино', 'посёлок Кингисеппский',\n",
       "       'посёлок Кирпичное', 'посёлок Кобралово', 'посёлок Кобринское',\n",
       "       'посёлок Коммунары', 'посёлок Коробицыно', 'посёлок Котельский',\n",
       "       'посёлок Красная Долина', 'посёлок Красносельское',\n",
       "       'посёлок Красный Бор', 'посёлок Кузнечное',\n",
       "       'посёлок Кузьмоловский', 'посёлок Лебяжье', 'посёлок Левашово',\n",
       "       'посёлок Ленинское', 'посёлок Лесное', 'посёлок Лесогорский',\n",
       "       'посёлок Лисий Нос', 'посёлок Лукаши', 'посёлок Любань',\n",
       "       'посёлок Мга', 'посёлок Мельниково', 'посёлок Металлострой',\n",
       "       'посёлок Мичуринское', 'посёлок Молодцово', 'посёлок Молодёжное',\n",
       "       'посёлок Мурино', 'посёлок Мыза-Ивановка', 'посёлок Назия',\n",
       "       'посёлок Новогорелово', 'посёлок Новоселье', 'посёлок Новый Свет',\n",
       "       'посёлок Новый Учхоз', 'посёлок Оредеж', 'посёлок Павлово',\n",
       "       'посёлок Пансионат Зелёный Бор', 'посёлок Парголово',\n",
       "       'посёлок Первомайское', 'посёлок Перово', 'посёлок Песочный',\n",
       "       'посёлок Петро-Славянка', 'посёлок Петровское',\n",
       "       'посёлок Платформа 69-й километр', 'посёлок Плодовое',\n",
       "       'посёлок Плоское', 'посёлок Победа', 'посёлок Поляны',\n",
       "       'посёлок Понтонный', 'посёлок Почап', 'посёлок Починок',\n",
       "       'посёлок Пригородный', 'посёлок Пудость', 'посёлок Пушное',\n",
       "       'посёлок Пчевжа', 'посёлок Рабитицы', 'посёлок Репино',\n",
       "       'посёлок Романовка', 'посёлок Ромашки', 'посёлок Ропша',\n",
       "       'посёлок Рощино', 'посёлок Рябово', 'посёлок Сапёрное',\n",
       "       'посёлок Сапёрный', 'посёлок Свирьстрой', 'посёлок Севастьяново',\n",
       "       'посёлок Селезнёво', 'посёлок Сельцо', 'посёлок Семиозерье',\n",
       "       'посёлок Семрино', 'посёлок Серебрянский', 'посёлок Сиверский',\n",
       "       'посёлок Советский', 'посёлок Совхозный', 'посёлок Сосново',\n",
       "       'посёлок Старая Малукса', 'посёлок Стеклянный', 'посёлок Стрельна',\n",
       "       'посёлок Суйда', 'посёлок Сумино', 'посёлок Суходолье',\n",
       "       'посёлок Тайцы', 'посёлок Тельмана', 'посёлок Терволово',\n",
       "       'посёлок Токсово', 'посёлок Торковичи', 'посёлок Торфяное',\n",
       "       'посёлок Тёсово-4', 'посёлок Углово', 'посёлок Ульяновка',\n",
       "       'посёлок Усть-Ижора', 'посёлок Усть-Луга', 'посёлок Ушаки',\n",
       "       'посёлок Форносово', 'посёлок Форт Красная Горка',\n",
       "       'посёлок Фёдоровское', 'посёлок Цвелодубово', 'посёлок Цвылёво',\n",
       "       'посёлок Шугозеро', 'посёлок Шушары', 'посёлок Щеглово',\n",
       "       'посёлок Янино-1', 'посёлок городского типа Большая Ижора',\n",
       "       'посёлок городского типа Вырица',\n",
       "       'посёлок городского типа Дружная Горка',\n",
       "       'посёлок городского типа Дубровка',\n",
       "       'посёлок городского типа Ефимовский',\n",
       "       'посёлок городского типа Кондратьево',\n",
       "       'посёлок городского типа Красный Бор',\n",
       "       'посёлок городского типа Кузьмоловский',\n",
       "       'посёлок городского типа Лебяжье',\n",
       "       'посёлок городского типа Лесогорский',\n",
       "       'посёлок городского типа Назия',\n",
       "       'посёлок городского типа Никольский',\n",
       "       'посёлок городского типа Приладожский',\n",
       "       'посёлок городского типа Рахья', 'посёлок городского типа Рощино',\n",
       "       'посёлок городского типа Рябово',\n",
       "       'посёлок городского типа Синявино',\n",
       "       'посёлок городского типа Советский',\n",
       "       'посёлок городского типа Токсово',\n",
       "       'посёлок городского типа Форносово',\n",
       "       'посёлок городского типа имени Свердлова',\n",
       "       'посёлок имени Морозова', 'посёлок имени Свердлова',\n",
       "       'посёлок при железнодорожной станции Вещево',\n",
       "       'посёлок при железнодорожной станции Приветнинское',\n",
       "       'посёлок станции Вещево', 'посёлок станции Громово',\n",
       "       'посёлок станции Корнево', 'посёлок станции Лужайка',\n",
       "       'посёлок станции Приветнинское', 'посёлок станции Свирь',\n",
       "       'садоводческое некоммерческое товарищество Лесная Поляна',\n",
       "       'садовое товарищество Новая Ропша',\n",
       "       'садовое товарищество Приладожский', 'садовое товарищество Рахья',\n",
       "       'садовое товарищество Садко', 'село Копорье', 'село Никольское',\n",
       "       'село Павлово', 'село Паша', 'село Путилово', 'село Рождествено',\n",
       "       'село Русско-Высоцкое', 'село Старая Ладога', 'село Шум', nan],\n",
       "      dtype=object)"
      ]
     },
     "execution_count": 22,
     "metadata": {},
     "output_type": "execute_result"
    }
   ],
   "source": [
    "#Заменим названия в уже существующем столбце:\n",
    "data['locality_name'] = (\n",
    "    data['locality_name']\n",
    "    .replace(['поселок', 'поселок городского типа','посёлок городского типа','городской посёлок'], 'посёлок', regex=True)\n",
    ") \n",
    "#Проверяем:\n",
    "data['locality_name'].sort_values().unique()"
   ]
  },
  {
   "cell_type": "code",
   "execution_count": 23,
   "metadata": {},
   "outputs": [
    {
     "data": {
      "text/plain": [
       "0"
      ]
     },
     "execution_count": 23,
     "metadata": {},
     "output_type": "execute_result"
    }
   ],
   "source": [
    "#Удалим пропуски в столбце locality_name\n",
    "data = data.dropna(subset = ['locality_name'])\n",
    "#Проверяем\n",
    "data['locality_name'].isna().sum()"
   ]
  },
  {
   "cell_type": "code",
   "execution_count": 24,
   "metadata": {},
   "outputs": [
    {
     "name": "stdout",
     "output_type": "stream",
     "text": [
      "<class 'pandas.core.frame.DataFrame'>\n",
      "Int64Index: 23565 entries, 0 to 23698\n",
      "Data columns (total 22 columns):\n",
      " #   Column                Non-Null Count  Dtype         \n",
      "---  ------                --------------  -----         \n",
      " 0   total_images          23565 non-null  int64         \n",
      " 1   last_price            23565 non-null  int64         \n",
      " 2   total_area            23565 non-null  float64       \n",
      " 3   first_day_exposition  23565 non-null  datetime64[ns]\n",
      " 4   rooms                 23565 non-null  int64         \n",
      " 5   ceiling_height        14481 non-null  float64       \n",
      " 6   floors_total          23565 non-null  int64         \n",
      " 7   living_area           21700 non-null  float64       \n",
      " 8   floor                 23565 non-null  int64         \n",
      " 9   is_apartment          23565 non-null  bool          \n",
      " 10  studio                23565 non-null  bool          \n",
      " 11  open_plan             23565 non-null  bool          \n",
      " 12  kitchen_area          21343 non-null  float64       \n",
      " 13  balcony               23565 non-null  int64         \n",
      " 14  locality_name         23565 non-null  object        \n",
      " 15  airports_nearest      18041 non-null  float64       \n",
      " 16  cityCenters_nearest   18064 non-null  float64       \n",
      " 17  parks_around3000      18065 non-null  float64       \n",
      " 18  parks_nearest         8030 non-null   float64       \n",
      " 19  ponds_around3000      18065 non-null  float64       \n",
      " 20  ponds_nearest         9036 non-null   float64       \n",
      " 21  days_exposition       20394 non-null  float64       \n",
      "dtypes: bool(3), datetime64[ns](1), float64(11), int64(6), object(1)\n",
      "memory usage: 3.7+ MB\n"
     ]
    }
   ],
   "source": [
    "#update#\n",
    "#При создании новых столбцов с помощью столбца first_day_exposition , мы выяснили что тип данных в этом столбце нужно перевести в тип datetime, Ошибка: Can only use .dt accessor with datetimelike values\n",
    "#Переводим столбец first_day_exposition в datetime c помощью pd.to_datetime\n",
    "data['first_day_exposition']=pd.to_datetime(data['first_day_exposition'] ,format='%Y-%m-%dT%H:%M:%S')\n",
    "#Проверяем :\n",
    "data.info()"
   ]
  },
  {
   "cell_type": "markdown",
   "metadata": {},
   "source": [
    "Вывод:\n",
    "На данном этапе мы заполнили пропуски (либо удалили их) и изменили dtype интересующих нас столбцов."
   ]
  },
  {
   "cell_type": "markdown",
   "metadata": {},
   "source": [
    "3 Посчитайте и добавьте в таблицу новые столбцы"
   ]
  },
  {
   "cell_type": "code",
   "execution_count": 25,
   "metadata": {},
   "outputs": [],
   "source": [
    "#Добавим в таблицу новые столбцы:\n",
    "#цена одного квадратного метра (нужно поделить стоимость объекта на его общую площадь, а затем округлить до двух знаков после запятой);\n",
    "#день недели публикации объявления (0 — понедельник, 1 — вторник и так далее);\n",
    "#месяц публикации объявления;\n",
    "#год публикации объявления;\n",
    "#тип этажа квартиры (значения — «‎первый», «последний», «другой»);\n",
    "#расстояние до центра города в километрах (переведите из м в км и округлите до ближайших целых значений)."
   ]
  },
  {
   "cell_type": "code",
   "execution_count": 26,
   "metadata": {},
   "outputs": [
    {
     "data": {
      "text/html": [
       "<div>\n",
       "<style scoped>\n",
       "    .dataframe tbody tr th:only-of-type {\n",
       "        vertical-align: middle;\n",
       "    }\n",
       "\n",
       "    .dataframe tbody tr th {\n",
       "        vertical-align: top;\n",
       "    }\n",
       "\n",
       "    .dataframe thead th {\n",
       "        text-align: right;\n",
       "    }\n",
       "</style>\n",
       "<table border=\"1\" class=\"dataframe\">\n",
       "  <thead>\n",
       "    <tr style=\"text-align: right;\">\n",
       "      <th></th>\n",
       "      <th>total_images</th>\n",
       "      <th>last_price</th>\n",
       "      <th>total_area</th>\n",
       "      <th>first_day_exposition</th>\n",
       "      <th>rooms</th>\n",
       "      <th>ceiling_height</th>\n",
       "      <th>floors_total</th>\n",
       "      <th>living_area</th>\n",
       "      <th>floor</th>\n",
       "      <th>is_apartment</th>\n",
       "      <th>...</th>\n",
       "      <th>balcony</th>\n",
       "      <th>locality_name</th>\n",
       "      <th>airports_nearest</th>\n",
       "      <th>cityCenters_nearest</th>\n",
       "      <th>parks_around3000</th>\n",
       "      <th>parks_nearest</th>\n",
       "      <th>ponds_around3000</th>\n",
       "      <th>ponds_nearest</th>\n",
       "      <th>days_exposition</th>\n",
       "      <th>price_quare_meter</th>\n",
       "    </tr>\n",
       "  </thead>\n",
       "  <tbody>\n",
       "    <tr>\n",
       "      <th>0</th>\n",
       "      <td>20</td>\n",
       "      <td>13000000</td>\n",
       "      <td>108.0</td>\n",
       "      <td>2019-03-07</td>\n",
       "      <td>3</td>\n",
       "      <td>2.70</td>\n",
       "      <td>16</td>\n",
       "      <td>51.0</td>\n",
       "      <td>8</td>\n",
       "      <td>False</td>\n",
       "      <td>...</td>\n",
       "      <td>0</td>\n",
       "      <td>Санкт-Петербург</td>\n",
       "      <td>18863.0</td>\n",
       "      <td>16028.0</td>\n",
       "      <td>1.0</td>\n",
       "      <td>482.0</td>\n",
       "      <td>2.0</td>\n",
       "      <td>755.0</td>\n",
       "      <td>NaN</td>\n",
       "      <td>120370.37</td>\n",
       "    </tr>\n",
       "    <tr>\n",
       "      <th>1</th>\n",
       "      <td>7</td>\n",
       "      <td>3350000</td>\n",
       "      <td>40.4</td>\n",
       "      <td>2018-12-04</td>\n",
       "      <td>1</td>\n",
       "      <td>NaN</td>\n",
       "      <td>11</td>\n",
       "      <td>18.6</td>\n",
       "      <td>1</td>\n",
       "      <td>False</td>\n",
       "      <td>...</td>\n",
       "      <td>2</td>\n",
       "      <td>посёлок Шушары</td>\n",
       "      <td>12817.0</td>\n",
       "      <td>18603.0</td>\n",
       "      <td>0.0</td>\n",
       "      <td>NaN</td>\n",
       "      <td>0.0</td>\n",
       "      <td>NaN</td>\n",
       "      <td>81.0</td>\n",
       "      <td>82920.79</td>\n",
       "    </tr>\n",
       "    <tr>\n",
       "      <th>2</th>\n",
       "      <td>10</td>\n",
       "      <td>5196000</td>\n",
       "      <td>56.0</td>\n",
       "      <td>2015-08-20</td>\n",
       "      <td>2</td>\n",
       "      <td>NaN</td>\n",
       "      <td>5</td>\n",
       "      <td>34.3</td>\n",
       "      <td>4</td>\n",
       "      <td>False</td>\n",
       "      <td>...</td>\n",
       "      <td>0</td>\n",
       "      <td>Санкт-Петербург</td>\n",
       "      <td>21741.0</td>\n",
       "      <td>13933.0</td>\n",
       "      <td>1.0</td>\n",
       "      <td>90.0</td>\n",
       "      <td>2.0</td>\n",
       "      <td>574.0</td>\n",
       "      <td>558.0</td>\n",
       "      <td>92785.71</td>\n",
       "    </tr>\n",
       "    <tr>\n",
       "      <th>3</th>\n",
       "      <td>0</td>\n",
       "      <td>64900000</td>\n",
       "      <td>159.0</td>\n",
       "      <td>2015-07-24</td>\n",
       "      <td>3</td>\n",
       "      <td>NaN</td>\n",
       "      <td>14</td>\n",
       "      <td>NaN</td>\n",
       "      <td>9</td>\n",
       "      <td>False</td>\n",
       "      <td>...</td>\n",
       "      <td>0</td>\n",
       "      <td>Санкт-Петербург</td>\n",
       "      <td>28098.0</td>\n",
       "      <td>6800.0</td>\n",
       "      <td>2.0</td>\n",
       "      <td>84.0</td>\n",
       "      <td>3.0</td>\n",
       "      <td>234.0</td>\n",
       "      <td>424.0</td>\n",
       "      <td>408176.10</td>\n",
       "    </tr>\n",
       "    <tr>\n",
       "      <th>4</th>\n",
       "      <td>2</td>\n",
       "      <td>10000000</td>\n",
       "      <td>100.0</td>\n",
       "      <td>2018-06-19</td>\n",
       "      <td>2</td>\n",
       "      <td>3.03</td>\n",
       "      <td>14</td>\n",
       "      <td>32.0</td>\n",
       "      <td>13</td>\n",
       "      <td>False</td>\n",
       "      <td>...</td>\n",
       "      <td>0</td>\n",
       "      <td>Санкт-Петербург</td>\n",
       "      <td>31856.0</td>\n",
       "      <td>8098.0</td>\n",
       "      <td>2.0</td>\n",
       "      <td>112.0</td>\n",
       "      <td>1.0</td>\n",
       "      <td>48.0</td>\n",
       "      <td>121.0</td>\n",
       "      <td>100000.00</td>\n",
       "    </tr>\n",
       "  </tbody>\n",
       "</table>\n",
       "<p>5 rows × 23 columns</p>\n",
       "</div>"
      ],
      "text/plain": [
       "   total_images  last_price  total_area first_day_exposition  rooms  \\\n",
       "0            20    13000000       108.0           2019-03-07      3   \n",
       "1             7     3350000        40.4           2018-12-04      1   \n",
       "2            10     5196000        56.0           2015-08-20      2   \n",
       "3             0    64900000       159.0           2015-07-24      3   \n",
       "4             2    10000000       100.0           2018-06-19      2   \n",
       "\n",
       "   ceiling_height  floors_total  living_area  floor  is_apartment  ...  \\\n",
       "0            2.70            16         51.0      8         False  ...   \n",
       "1             NaN            11         18.6      1         False  ...   \n",
       "2             NaN             5         34.3      4         False  ...   \n",
       "3             NaN            14          NaN      9         False  ...   \n",
       "4            3.03            14         32.0     13         False  ...   \n",
       "\n",
       "   balcony    locality_name  airports_nearest  cityCenters_nearest  \\\n",
       "0        0  Санкт-Петербург           18863.0              16028.0   \n",
       "1        2   посёлок Шушары           12817.0              18603.0   \n",
       "2        0  Санкт-Петербург           21741.0              13933.0   \n",
       "3        0  Санкт-Петербург           28098.0               6800.0   \n",
       "4        0  Санкт-Петербург           31856.0               8098.0   \n",
       "\n",
       "  parks_around3000  parks_nearest  ponds_around3000  ponds_nearest  \\\n",
       "0              1.0          482.0               2.0          755.0   \n",
       "1              0.0            NaN               0.0            NaN   \n",
       "2              1.0           90.0               2.0          574.0   \n",
       "3              2.0           84.0               3.0          234.0   \n",
       "4              2.0          112.0               1.0           48.0   \n",
       "\n",
       "   days_exposition  price_quare_meter  \n",
       "0              NaN          120370.37  \n",
       "1             81.0           82920.79  \n",
       "2            558.0           92785.71  \n",
       "3            424.0          408176.10  \n",
       "4            121.0          100000.00  \n",
       "\n",
       "[5 rows x 23 columns]"
      ]
     },
     "execution_count": 26,
     "metadata": {},
     "output_type": "execute_result"
    }
   ],
   "source": [
    "#Цена одного квадратного метра :\n",
    "data['price_quare_meter'] = data['last_price'] / data['total_area']\n",
    "#Округляем до двух знаков после запятой,с помощью метода round (Аргумент 2 - 2 знака после запятой)\n",
    "data['price_quare_meter'] = data['price_quare_meter'].round(2)\n",
    "#Проверяем:\n",
    "data.head()"
   ]
  },
  {
   "cell_type": "code",
   "execution_count": 27,
   "metadata": {},
   "outputs": [
    {
     "data": {
      "text/html": [
       "<div>\n",
       "<style scoped>\n",
       "    .dataframe tbody tr th:only-of-type {\n",
       "        vertical-align: middle;\n",
       "    }\n",
       "\n",
       "    .dataframe tbody tr th {\n",
       "        vertical-align: top;\n",
       "    }\n",
       "\n",
       "    .dataframe thead th {\n",
       "        text-align: right;\n",
       "    }\n",
       "</style>\n",
       "<table border=\"1\" class=\"dataframe\">\n",
       "  <thead>\n",
       "    <tr style=\"text-align: right;\">\n",
       "      <th></th>\n",
       "      <th>total_images</th>\n",
       "      <th>last_price</th>\n",
       "      <th>total_area</th>\n",
       "      <th>first_day_exposition</th>\n",
       "      <th>rooms</th>\n",
       "      <th>ceiling_height</th>\n",
       "      <th>floors_total</th>\n",
       "      <th>living_area</th>\n",
       "      <th>floor</th>\n",
       "      <th>is_apartment</th>\n",
       "      <th>...</th>\n",
       "      <th>locality_name</th>\n",
       "      <th>airports_nearest</th>\n",
       "      <th>cityCenters_nearest</th>\n",
       "      <th>parks_around3000</th>\n",
       "      <th>parks_nearest</th>\n",
       "      <th>ponds_around3000</th>\n",
       "      <th>ponds_nearest</th>\n",
       "      <th>days_exposition</th>\n",
       "      <th>price_quare_meter</th>\n",
       "      <th>day_week</th>\n",
       "    </tr>\n",
       "  </thead>\n",
       "  <tbody>\n",
       "    <tr>\n",
       "      <th>0</th>\n",
       "      <td>20</td>\n",
       "      <td>13000000</td>\n",
       "      <td>108.0</td>\n",
       "      <td>2019-03-07</td>\n",
       "      <td>3</td>\n",
       "      <td>2.70</td>\n",
       "      <td>16</td>\n",
       "      <td>51.0</td>\n",
       "      <td>8</td>\n",
       "      <td>False</td>\n",
       "      <td>...</td>\n",
       "      <td>Санкт-Петербург</td>\n",
       "      <td>18863.0</td>\n",
       "      <td>16028.0</td>\n",
       "      <td>1.0</td>\n",
       "      <td>482.0</td>\n",
       "      <td>2.0</td>\n",
       "      <td>755.0</td>\n",
       "      <td>NaN</td>\n",
       "      <td>120370.37</td>\n",
       "      <td>3</td>\n",
       "    </tr>\n",
       "    <tr>\n",
       "      <th>1</th>\n",
       "      <td>7</td>\n",
       "      <td>3350000</td>\n",
       "      <td>40.4</td>\n",
       "      <td>2018-12-04</td>\n",
       "      <td>1</td>\n",
       "      <td>NaN</td>\n",
       "      <td>11</td>\n",
       "      <td>18.6</td>\n",
       "      <td>1</td>\n",
       "      <td>False</td>\n",
       "      <td>...</td>\n",
       "      <td>посёлок Шушары</td>\n",
       "      <td>12817.0</td>\n",
       "      <td>18603.0</td>\n",
       "      <td>0.0</td>\n",
       "      <td>NaN</td>\n",
       "      <td>0.0</td>\n",
       "      <td>NaN</td>\n",
       "      <td>81.0</td>\n",
       "      <td>82920.79</td>\n",
       "      <td>1</td>\n",
       "    </tr>\n",
       "    <tr>\n",
       "      <th>2</th>\n",
       "      <td>10</td>\n",
       "      <td>5196000</td>\n",
       "      <td>56.0</td>\n",
       "      <td>2015-08-20</td>\n",
       "      <td>2</td>\n",
       "      <td>NaN</td>\n",
       "      <td>5</td>\n",
       "      <td>34.3</td>\n",
       "      <td>4</td>\n",
       "      <td>False</td>\n",
       "      <td>...</td>\n",
       "      <td>Санкт-Петербург</td>\n",
       "      <td>21741.0</td>\n",
       "      <td>13933.0</td>\n",
       "      <td>1.0</td>\n",
       "      <td>90.0</td>\n",
       "      <td>2.0</td>\n",
       "      <td>574.0</td>\n",
       "      <td>558.0</td>\n",
       "      <td>92785.71</td>\n",
       "      <td>3</td>\n",
       "    </tr>\n",
       "    <tr>\n",
       "      <th>3</th>\n",
       "      <td>0</td>\n",
       "      <td>64900000</td>\n",
       "      <td>159.0</td>\n",
       "      <td>2015-07-24</td>\n",
       "      <td>3</td>\n",
       "      <td>NaN</td>\n",
       "      <td>14</td>\n",
       "      <td>NaN</td>\n",
       "      <td>9</td>\n",
       "      <td>False</td>\n",
       "      <td>...</td>\n",
       "      <td>Санкт-Петербург</td>\n",
       "      <td>28098.0</td>\n",
       "      <td>6800.0</td>\n",
       "      <td>2.0</td>\n",
       "      <td>84.0</td>\n",
       "      <td>3.0</td>\n",
       "      <td>234.0</td>\n",
       "      <td>424.0</td>\n",
       "      <td>408176.10</td>\n",
       "      <td>4</td>\n",
       "    </tr>\n",
       "    <tr>\n",
       "      <th>4</th>\n",
       "      <td>2</td>\n",
       "      <td>10000000</td>\n",
       "      <td>100.0</td>\n",
       "      <td>2018-06-19</td>\n",
       "      <td>2</td>\n",
       "      <td>3.03</td>\n",
       "      <td>14</td>\n",
       "      <td>32.0</td>\n",
       "      <td>13</td>\n",
       "      <td>False</td>\n",
       "      <td>...</td>\n",
       "      <td>Санкт-Петербург</td>\n",
       "      <td>31856.0</td>\n",
       "      <td>8098.0</td>\n",
       "      <td>2.0</td>\n",
       "      <td>112.0</td>\n",
       "      <td>1.0</td>\n",
       "      <td>48.0</td>\n",
       "      <td>121.0</td>\n",
       "      <td>100000.00</td>\n",
       "      <td>1</td>\n",
       "    </tr>\n",
       "  </tbody>\n",
       "</table>\n",
       "<p>5 rows × 24 columns</p>\n",
       "</div>"
      ],
      "text/plain": [
       "   total_images  last_price  total_area first_day_exposition  rooms  \\\n",
       "0            20    13000000       108.0           2019-03-07      3   \n",
       "1             7     3350000        40.4           2018-12-04      1   \n",
       "2            10     5196000        56.0           2015-08-20      2   \n",
       "3             0    64900000       159.0           2015-07-24      3   \n",
       "4             2    10000000       100.0           2018-06-19      2   \n",
       "\n",
       "   ceiling_height  floors_total  living_area  floor  is_apartment  ...  \\\n",
       "0            2.70            16         51.0      8         False  ...   \n",
       "1             NaN            11         18.6      1         False  ...   \n",
       "2             NaN             5         34.3      4         False  ...   \n",
       "3             NaN            14          NaN      9         False  ...   \n",
       "4            3.03            14         32.0     13         False  ...   \n",
       "\n",
       "     locality_name  airports_nearest  cityCenters_nearest  parks_around3000  \\\n",
       "0  Санкт-Петербург           18863.0              16028.0               1.0   \n",
       "1   посёлок Шушары           12817.0              18603.0               0.0   \n",
       "2  Санкт-Петербург           21741.0              13933.0               1.0   \n",
       "3  Санкт-Петербург           28098.0               6800.0               2.0   \n",
       "4  Санкт-Петербург           31856.0               8098.0               2.0   \n",
       "\n",
       "  parks_nearest  ponds_around3000  ponds_nearest  days_exposition  \\\n",
       "0         482.0               2.0          755.0              NaN   \n",
       "1           NaN               0.0            NaN             81.0   \n",
       "2          90.0               2.0          574.0            558.0   \n",
       "3          84.0               3.0          234.0            424.0   \n",
       "4         112.0               1.0           48.0            121.0   \n",
       "\n",
       "   price_quare_meter  day_week  \n",
       "0          120370.37         3  \n",
       "1           82920.79         1  \n",
       "2           92785.71         3  \n",
       "3          408176.10         4  \n",
       "4          100000.00         1  \n",
       "\n",
       "[5 rows x 24 columns]"
      ]
     },
     "execution_count": 27,
     "metadata": {},
     "output_type": "execute_result"
    }
   ],
   "source": [
    "#Добавляем столбец day_week день недели публикации объявления (0 — понедельник, 1 — вторник и так далее):\n",
    "data['day_week'] = data['first_day_exposition'].dt.weekday\n",
    "#Проверяем:\n",
    "data.head()"
   ]
  },
  {
   "cell_type": "code",
   "execution_count": 28,
   "metadata": {},
   "outputs": [
    {
     "data": {
      "text/html": [
       "<div>\n",
       "<style scoped>\n",
       "    .dataframe tbody tr th:only-of-type {\n",
       "        vertical-align: middle;\n",
       "    }\n",
       "\n",
       "    .dataframe tbody tr th {\n",
       "        vertical-align: top;\n",
       "    }\n",
       "\n",
       "    .dataframe thead th {\n",
       "        text-align: right;\n",
       "    }\n",
       "</style>\n",
       "<table border=\"1\" class=\"dataframe\">\n",
       "  <thead>\n",
       "    <tr style=\"text-align: right;\">\n",
       "      <th></th>\n",
       "      <th>total_images</th>\n",
       "      <th>last_price</th>\n",
       "      <th>total_area</th>\n",
       "      <th>first_day_exposition</th>\n",
       "      <th>rooms</th>\n",
       "      <th>ceiling_height</th>\n",
       "      <th>floors_total</th>\n",
       "      <th>living_area</th>\n",
       "      <th>floor</th>\n",
       "      <th>is_apartment</th>\n",
       "      <th>...</th>\n",
       "      <th>airports_nearest</th>\n",
       "      <th>cityCenters_nearest</th>\n",
       "      <th>parks_around3000</th>\n",
       "      <th>parks_nearest</th>\n",
       "      <th>ponds_around3000</th>\n",
       "      <th>ponds_nearest</th>\n",
       "      <th>days_exposition</th>\n",
       "      <th>price_quare_meter</th>\n",
       "      <th>day_week</th>\n",
       "      <th>month</th>\n",
       "    </tr>\n",
       "  </thead>\n",
       "  <tbody>\n",
       "    <tr>\n",
       "      <th>0</th>\n",
       "      <td>20</td>\n",
       "      <td>13000000</td>\n",
       "      <td>108.0</td>\n",
       "      <td>2019-03-07</td>\n",
       "      <td>3</td>\n",
       "      <td>2.70</td>\n",
       "      <td>16</td>\n",
       "      <td>51.0</td>\n",
       "      <td>8</td>\n",
       "      <td>False</td>\n",
       "      <td>...</td>\n",
       "      <td>18863.0</td>\n",
       "      <td>16028.0</td>\n",
       "      <td>1.0</td>\n",
       "      <td>482.0</td>\n",
       "      <td>2.0</td>\n",
       "      <td>755.0</td>\n",
       "      <td>NaN</td>\n",
       "      <td>120370.37</td>\n",
       "      <td>3</td>\n",
       "      <td>3</td>\n",
       "    </tr>\n",
       "    <tr>\n",
       "      <th>1</th>\n",
       "      <td>7</td>\n",
       "      <td>3350000</td>\n",
       "      <td>40.4</td>\n",
       "      <td>2018-12-04</td>\n",
       "      <td>1</td>\n",
       "      <td>NaN</td>\n",
       "      <td>11</td>\n",
       "      <td>18.6</td>\n",
       "      <td>1</td>\n",
       "      <td>False</td>\n",
       "      <td>...</td>\n",
       "      <td>12817.0</td>\n",
       "      <td>18603.0</td>\n",
       "      <td>0.0</td>\n",
       "      <td>NaN</td>\n",
       "      <td>0.0</td>\n",
       "      <td>NaN</td>\n",
       "      <td>81.0</td>\n",
       "      <td>82920.79</td>\n",
       "      <td>1</td>\n",
       "      <td>12</td>\n",
       "    </tr>\n",
       "    <tr>\n",
       "      <th>2</th>\n",
       "      <td>10</td>\n",
       "      <td>5196000</td>\n",
       "      <td>56.0</td>\n",
       "      <td>2015-08-20</td>\n",
       "      <td>2</td>\n",
       "      <td>NaN</td>\n",
       "      <td>5</td>\n",
       "      <td>34.3</td>\n",
       "      <td>4</td>\n",
       "      <td>False</td>\n",
       "      <td>...</td>\n",
       "      <td>21741.0</td>\n",
       "      <td>13933.0</td>\n",
       "      <td>1.0</td>\n",
       "      <td>90.0</td>\n",
       "      <td>2.0</td>\n",
       "      <td>574.0</td>\n",
       "      <td>558.0</td>\n",
       "      <td>92785.71</td>\n",
       "      <td>3</td>\n",
       "      <td>8</td>\n",
       "    </tr>\n",
       "    <tr>\n",
       "      <th>3</th>\n",
       "      <td>0</td>\n",
       "      <td>64900000</td>\n",
       "      <td>159.0</td>\n",
       "      <td>2015-07-24</td>\n",
       "      <td>3</td>\n",
       "      <td>NaN</td>\n",
       "      <td>14</td>\n",
       "      <td>NaN</td>\n",
       "      <td>9</td>\n",
       "      <td>False</td>\n",
       "      <td>...</td>\n",
       "      <td>28098.0</td>\n",
       "      <td>6800.0</td>\n",
       "      <td>2.0</td>\n",
       "      <td>84.0</td>\n",
       "      <td>3.0</td>\n",
       "      <td>234.0</td>\n",
       "      <td>424.0</td>\n",
       "      <td>408176.10</td>\n",
       "      <td>4</td>\n",
       "      <td>7</td>\n",
       "    </tr>\n",
       "    <tr>\n",
       "      <th>4</th>\n",
       "      <td>2</td>\n",
       "      <td>10000000</td>\n",
       "      <td>100.0</td>\n",
       "      <td>2018-06-19</td>\n",
       "      <td>2</td>\n",
       "      <td>3.03</td>\n",
       "      <td>14</td>\n",
       "      <td>32.0</td>\n",
       "      <td>13</td>\n",
       "      <td>False</td>\n",
       "      <td>...</td>\n",
       "      <td>31856.0</td>\n",
       "      <td>8098.0</td>\n",
       "      <td>2.0</td>\n",
       "      <td>112.0</td>\n",
       "      <td>1.0</td>\n",
       "      <td>48.0</td>\n",
       "      <td>121.0</td>\n",
       "      <td>100000.00</td>\n",
       "      <td>1</td>\n",
       "      <td>6</td>\n",
       "    </tr>\n",
       "  </tbody>\n",
       "</table>\n",
       "<p>5 rows × 25 columns</p>\n",
       "</div>"
      ],
      "text/plain": [
       "   total_images  last_price  total_area first_day_exposition  rooms  \\\n",
       "0            20    13000000       108.0           2019-03-07      3   \n",
       "1             7     3350000        40.4           2018-12-04      1   \n",
       "2            10     5196000        56.0           2015-08-20      2   \n",
       "3             0    64900000       159.0           2015-07-24      3   \n",
       "4             2    10000000       100.0           2018-06-19      2   \n",
       "\n",
       "   ceiling_height  floors_total  living_area  floor  is_apartment  ...  \\\n",
       "0            2.70            16         51.0      8         False  ...   \n",
       "1             NaN            11         18.6      1         False  ...   \n",
       "2             NaN             5         34.3      4         False  ...   \n",
       "3             NaN            14          NaN      9         False  ...   \n",
       "4            3.03            14         32.0     13         False  ...   \n",
       "\n",
       "   airports_nearest  cityCenters_nearest  parks_around3000  parks_nearest  \\\n",
       "0           18863.0              16028.0               1.0          482.0   \n",
       "1           12817.0              18603.0               0.0            NaN   \n",
       "2           21741.0              13933.0               1.0           90.0   \n",
       "3           28098.0               6800.0               2.0           84.0   \n",
       "4           31856.0               8098.0               2.0          112.0   \n",
       "\n",
       "  ponds_around3000  ponds_nearest  days_exposition  price_quare_meter  \\\n",
       "0              2.0          755.0              NaN          120370.37   \n",
       "1              0.0            NaN             81.0           82920.79   \n",
       "2              2.0          574.0            558.0           92785.71   \n",
       "3              3.0          234.0            424.0          408176.10   \n",
       "4              1.0           48.0            121.0          100000.00   \n",
       "\n",
       "   day_week  month  \n",
       "0         3      3  \n",
       "1         1     12  \n",
       "2         3      8  \n",
       "3         4      7  \n",
       "4         1      6  \n",
       "\n",
       "[5 rows x 25 columns]"
      ]
     },
     "execution_count": 28,
     "metadata": {},
     "output_type": "execute_result"
    }
   ],
   "source": [
    "#Добавляем столбец с месяцем публикации (month)\n",
    "data['month']= data['first_day_exposition'].dt.month\n",
    "#Проверяем:\n",
    "data.head()"
   ]
  },
  {
   "cell_type": "code",
   "execution_count": 29,
   "metadata": {},
   "outputs": [
    {
     "data": {
      "text/html": [
       "<div>\n",
       "<style scoped>\n",
       "    .dataframe tbody tr th:only-of-type {\n",
       "        vertical-align: middle;\n",
       "    }\n",
       "\n",
       "    .dataframe tbody tr th {\n",
       "        vertical-align: top;\n",
       "    }\n",
       "\n",
       "    .dataframe thead th {\n",
       "        text-align: right;\n",
       "    }\n",
       "</style>\n",
       "<table border=\"1\" class=\"dataframe\">\n",
       "  <thead>\n",
       "    <tr style=\"text-align: right;\">\n",
       "      <th></th>\n",
       "      <th>total_images</th>\n",
       "      <th>last_price</th>\n",
       "      <th>total_area</th>\n",
       "      <th>first_day_exposition</th>\n",
       "      <th>rooms</th>\n",
       "      <th>ceiling_height</th>\n",
       "      <th>floors_total</th>\n",
       "      <th>living_area</th>\n",
       "      <th>floor</th>\n",
       "      <th>is_apartment</th>\n",
       "      <th>...</th>\n",
       "      <th>cityCenters_nearest</th>\n",
       "      <th>parks_around3000</th>\n",
       "      <th>parks_nearest</th>\n",
       "      <th>ponds_around3000</th>\n",
       "      <th>ponds_nearest</th>\n",
       "      <th>days_exposition</th>\n",
       "      <th>price_quare_meter</th>\n",
       "      <th>day_week</th>\n",
       "      <th>month</th>\n",
       "      <th>year</th>\n",
       "    </tr>\n",
       "  </thead>\n",
       "  <tbody>\n",
       "    <tr>\n",
       "      <th>0</th>\n",
       "      <td>20</td>\n",
       "      <td>13000000</td>\n",
       "      <td>108.0</td>\n",
       "      <td>2019-03-07</td>\n",
       "      <td>3</td>\n",
       "      <td>2.70</td>\n",
       "      <td>16</td>\n",
       "      <td>51.0</td>\n",
       "      <td>8</td>\n",
       "      <td>False</td>\n",
       "      <td>...</td>\n",
       "      <td>16028.0</td>\n",
       "      <td>1.0</td>\n",
       "      <td>482.0</td>\n",
       "      <td>2.0</td>\n",
       "      <td>755.0</td>\n",
       "      <td>NaN</td>\n",
       "      <td>120370.37</td>\n",
       "      <td>3</td>\n",
       "      <td>3</td>\n",
       "      <td>2019</td>\n",
       "    </tr>\n",
       "    <tr>\n",
       "      <th>1</th>\n",
       "      <td>7</td>\n",
       "      <td>3350000</td>\n",
       "      <td>40.4</td>\n",
       "      <td>2018-12-04</td>\n",
       "      <td>1</td>\n",
       "      <td>NaN</td>\n",
       "      <td>11</td>\n",
       "      <td>18.6</td>\n",
       "      <td>1</td>\n",
       "      <td>False</td>\n",
       "      <td>...</td>\n",
       "      <td>18603.0</td>\n",
       "      <td>0.0</td>\n",
       "      <td>NaN</td>\n",
       "      <td>0.0</td>\n",
       "      <td>NaN</td>\n",
       "      <td>81.0</td>\n",
       "      <td>82920.79</td>\n",
       "      <td>1</td>\n",
       "      <td>12</td>\n",
       "      <td>2018</td>\n",
       "    </tr>\n",
       "    <tr>\n",
       "      <th>2</th>\n",
       "      <td>10</td>\n",
       "      <td>5196000</td>\n",
       "      <td>56.0</td>\n",
       "      <td>2015-08-20</td>\n",
       "      <td>2</td>\n",
       "      <td>NaN</td>\n",
       "      <td>5</td>\n",
       "      <td>34.3</td>\n",
       "      <td>4</td>\n",
       "      <td>False</td>\n",
       "      <td>...</td>\n",
       "      <td>13933.0</td>\n",
       "      <td>1.0</td>\n",
       "      <td>90.0</td>\n",
       "      <td>2.0</td>\n",
       "      <td>574.0</td>\n",
       "      <td>558.0</td>\n",
       "      <td>92785.71</td>\n",
       "      <td>3</td>\n",
       "      <td>8</td>\n",
       "      <td>2015</td>\n",
       "    </tr>\n",
       "    <tr>\n",
       "      <th>3</th>\n",
       "      <td>0</td>\n",
       "      <td>64900000</td>\n",
       "      <td>159.0</td>\n",
       "      <td>2015-07-24</td>\n",
       "      <td>3</td>\n",
       "      <td>NaN</td>\n",
       "      <td>14</td>\n",
       "      <td>NaN</td>\n",
       "      <td>9</td>\n",
       "      <td>False</td>\n",
       "      <td>...</td>\n",
       "      <td>6800.0</td>\n",
       "      <td>2.0</td>\n",
       "      <td>84.0</td>\n",
       "      <td>3.0</td>\n",
       "      <td>234.0</td>\n",
       "      <td>424.0</td>\n",
       "      <td>408176.10</td>\n",
       "      <td>4</td>\n",
       "      <td>7</td>\n",
       "      <td>2015</td>\n",
       "    </tr>\n",
       "    <tr>\n",
       "      <th>4</th>\n",
       "      <td>2</td>\n",
       "      <td>10000000</td>\n",
       "      <td>100.0</td>\n",
       "      <td>2018-06-19</td>\n",
       "      <td>2</td>\n",
       "      <td>3.03</td>\n",
       "      <td>14</td>\n",
       "      <td>32.0</td>\n",
       "      <td>13</td>\n",
       "      <td>False</td>\n",
       "      <td>...</td>\n",
       "      <td>8098.0</td>\n",
       "      <td>2.0</td>\n",
       "      <td>112.0</td>\n",
       "      <td>1.0</td>\n",
       "      <td>48.0</td>\n",
       "      <td>121.0</td>\n",
       "      <td>100000.00</td>\n",
       "      <td>1</td>\n",
       "      <td>6</td>\n",
       "      <td>2018</td>\n",
       "    </tr>\n",
       "  </tbody>\n",
       "</table>\n",
       "<p>5 rows × 26 columns</p>\n",
       "</div>"
      ],
      "text/plain": [
       "   total_images  last_price  total_area first_day_exposition  rooms  \\\n",
       "0            20    13000000       108.0           2019-03-07      3   \n",
       "1             7     3350000        40.4           2018-12-04      1   \n",
       "2            10     5196000        56.0           2015-08-20      2   \n",
       "3             0    64900000       159.0           2015-07-24      3   \n",
       "4             2    10000000       100.0           2018-06-19      2   \n",
       "\n",
       "   ceiling_height  floors_total  living_area  floor  is_apartment  ...  \\\n",
       "0            2.70            16         51.0      8         False  ...   \n",
       "1             NaN            11         18.6      1         False  ...   \n",
       "2             NaN             5         34.3      4         False  ...   \n",
       "3             NaN            14          NaN      9         False  ...   \n",
       "4            3.03            14         32.0     13         False  ...   \n",
       "\n",
       "   cityCenters_nearest  parks_around3000  parks_nearest  ponds_around3000  \\\n",
       "0              16028.0               1.0          482.0               2.0   \n",
       "1              18603.0               0.0            NaN               0.0   \n",
       "2              13933.0               1.0           90.0               2.0   \n",
       "3               6800.0               2.0           84.0               3.0   \n",
       "4               8098.0               2.0          112.0               1.0   \n",
       "\n",
       "  ponds_nearest  days_exposition  price_quare_meter  day_week  month  year  \n",
       "0         755.0              NaN          120370.37         3      3  2019  \n",
       "1           NaN             81.0           82920.79         1     12  2018  \n",
       "2         574.0            558.0           92785.71         3      8  2015  \n",
       "3         234.0            424.0          408176.10         4      7  2015  \n",
       "4          48.0            121.0          100000.00         1      6  2018  \n",
       "\n",
       "[5 rows x 26 columns]"
      ]
     },
     "execution_count": 29,
     "metadata": {},
     "output_type": "execute_result"
    }
   ],
   "source": [
    "#Добавляем столбец с годом публикации (year)\n",
    "data['year'] = data['first_day_exposition'].dt.year\n",
    "#Проверяем:\n",
    "data.head()"
   ]
  },
  {
   "cell_type": "code",
   "execution_count": 30,
   "metadata": {},
   "outputs": [],
   "source": [
    "#Добавляем столбец floor_category с этажом квартиры (значения — «первый», «последний», «другой»)\n",
    "#Создаём функцию для определения категории этажа:search_floor_category\n",
    "def search_floor_category(row):\n",
    "    floor = row['floor']\n",
    "    floors_total = row['floors_total']\n",
    "    if floor == 1:\n",
    "        return 'первый'\n",
    "    elif floor == floors_total:\n",
    "        return 'последний'\n",
    "    else:\n",
    "        return 'другой'\n",
    "    \n"
   ]
  },
  {
   "cell_type": "code",
   "execution_count": 31,
   "metadata": {},
   "outputs": [
    {
     "data": {
      "text/html": [
       "<div>\n",
       "<style scoped>\n",
       "    .dataframe tbody tr th:only-of-type {\n",
       "        vertical-align: middle;\n",
       "    }\n",
       "\n",
       "    .dataframe tbody tr th {\n",
       "        vertical-align: top;\n",
       "    }\n",
       "\n",
       "    .dataframe thead th {\n",
       "        text-align: right;\n",
       "    }\n",
       "</style>\n",
       "<table border=\"1\" class=\"dataframe\">\n",
       "  <thead>\n",
       "    <tr style=\"text-align: right;\">\n",
       "      <th></th>\n",
       "      <th>total_images</th>\n",
       "      <th>last_price</th>\n",
       "      <th>total_area</th>\n",
       "      <th>first_day_exposition</th>\n",
       "      <th>rooms</th>\n",
       "      <th>ceiling_height</th>\n",
       "      <th>floors_total</th>\n",
       "      <th>living_area</th>\n",
       "      <th>floor</th>\n",
       "      <th>is_apartment</th>\n",
       "      <th>...</th>\n",
       "      <th>parks_around3000</th>\n",
       "      <th>parks_nearest</th>\n",
       "      <th>ponds_around3000</th>\n",
       "      <th>ponds_nearest</th>\n",
       "      <th>days_exposition</th>\n",
       "      <th>price_quare_meter</th>\n",
       "      <th>day_week</th>\n",
       "      <th>month</th>\n",
       "      <th>year</th>\n",
       "      <th>floor_category</th>\n",
       "    </tr>\n",
       "  </thead>\n",
       "  <tbody>\n",
       "    <tr>\n",
       "      <th>23694</th>\n",
       "      <td>9</td>\n",
       "      <td>9700000</td>\n",
       "      <td>133.81</td>\n",
       "      <td>2017-03-21</td>\n",
       "      <td>3</td>\n",
       "      <td>3.7</td>\n",
       "      <td>5</td>\n",
       "      <td>73.3</td>\n",
       "      <td>3</td>\n",
       "      <td>False</td>\n",
       "      <td>...</td>\n",
       "      <td>1.0</td>\n",
       "      <td>796.0</td>\n",
       "      <td>3.0</td>\n",
       "      <td>381.0</td>\n",
       "      <td>NaN</td>\n",
       "      <td>72490.85</td>\n",
       "      <td>1</td>\n",
       "      <td>3</td>\n",
       "      <td>2017</td>\n",
       "      <td>другой</td>\n",
       "    </tr>\n",
       "    <tr>\n",
       "      <th>23695</th>\n",
       "      <td>14</td>\n",
       "      <td>3100000</td>\n",
       "      <td>59.00</td>\n",
       "      <td>2018-01-15</td>\n",
       "      <td>3</td>\n",
       "      <td>NaN</td>\n",
       "      <td>5</td>\n",
       "      <td>38.0</td>\n",
       "      <td>4</td>\n",
       "      <td>False</td>\n",
       "      <td>...</td>\n",
       "      <td>NaN</td>\n",
       "      <td>NaN</td>\n",
       "      <td>NaN</td>\n",
       "      <td>NaN</td>\n",
       "      <td>45.0</td>\n",
       "      <td>52542.37</td>\n",
       "      <td>0</td>\n",
       "      <td>1</td>\n",
       "      <td>2018</td>\n",
       "      <td>другой</td>\n",
       "    </tr>\n",
       "    <tr>\n",
       "      <th>23696</th>\n",
       "      <td>18</td>\n",
       "      <td>2500000</td>\n",
       "      <td>56.70</td>\n",
       "      <td>2018-02-11</td>\n",
       "      <td>2</td>\n",
       "      <td>NaN</td>\n",
       "      <td>3</td>\n",
       "      <td>29.7</td>\n",
       "      <td>1</td>\n",
       "      <td>False</td>\n",
       "      <td>...</td>\n",
       "      <td>NaN</td>\n",
       "      <td>NaN</td>\n",
       "      <td>NaN</td>\n",
       "      <td>NaN</td>\n",
       "      <td>NaN</td>\n",
       "      <td>44091.71</td>\n",
       "      <td>6</td>\n",
       "      <td>2</td>\n",
       "      <td>2018</td>\n",
       "      <td>первый</td>\n",
       "    </tr>\n",
       "    <tr>\n",
       "      <th>23697</th>\n",
       "      <td>13</td>\n",
       "      <td>11475000</td>\n",
       "      <td>76.75</td>\n",
       "      <td>2017-03-28</td>\n",
       "      <td>2</td>\n",
       "      <td>3.0</td>\n",
       "      <td>17</td>\n",
       "      <td>NaN</td>\n",
       "      <td>12</td>\n",
       "      <td>False</td>\n",
       "      <td>...</td>\n",
       "      <td>2.0</td>\n",
       "      <td>173.0</td>\n",
       "      <td>3.0</td>\n",
       "      <td>196.0</td>\n",
       "      <td>602.0</td>\n",
       "      <td>149511.40</td>\n",
       "      <td>1</td>\n",
       "      <td>3</td>\n",
       "      <td>2017</td>\n",
       "      <td>другой</td>\n",
       "    </tr>\n",
       "    <tr>\n",
       "      <th>23698</th>\n",
       "      <td>4</td>\n",
       "      <td>1350000</td>\n",
       "      <td>32.30</td>\n",
       "      <td>2017-07-21</td>\n",
       "      <td>1</td>\n",
       "      <td>2.5</td>\n",
       "      <td>5</td>\n",
       "      <td>12.3</td>\n",
       "      <td>1</td>\n",
       "      <td>False</td>\n",
       "      <td>...</td>\n",
       "      <td>NaN</td>\n",
       "      <td>NaN</td>\n",
       "      <td>NaN</td>\n",
       "      <td>NaN</td>\n",
       "      <td>NaN</td>\n",
       "      <td>41795.67</td>\n",
       "      <td>4</td>\n",
       "      <td>7</td>\n",
       "      <td>2017</td>\n",
       "      <td>первый</td>\n",
       "    </tr>\n",
       "  </tbody>\n",
       "</table>\n",
       "<p>5 rows × 27 columns</p>\n",
       "</div>"
      ],
      "text/plain": [
       "       total_images  last_price  total_area first_day_exposition  rooms  \\\n",
       "23694             9     9700000      133.81           2017-03-21      3   \n",
       "23695            14     3100000       59.00           2018-01-15      3   \n",
       "23696            18     2500000       56.70           2018-02-11      2   \n",
       "23697            13    11475000       76.75           2017-03-28      2   \n",
       "23698             4     1350000       32.30           2017-07-21      1   \n",
       "\n",
       "       ceiling_height  floors_total  living_area  floor  is_apartment  ...  \\\n",
       "23694             3.7             5         73.3      3         False  ...   \n",
       "23695             NaN             5         38.0      4         False  ...   \n",
       "23696             NaN             3         29.7      1         False  ...   \n",
       "23697             3.0            17          NaN     12         False  ...   \n",
       "23698             2.5             5         12.3      1         False  ...   \n",
       "\n",
       "       parks_around3000  parks_nearest  ponds_around3000  ponds_nearest  \\\n",
       "23694               1.0          796.0               3.0          381.0   \n",
       "23695               NaN            NaN               NaN            NaN   \n",
       "23696               NaN            NaN               NaN            NaN   \n",
       "23697               2.0          173.0               3.0          196.0   \n",
       "23698               NaN            NaN               NaN            NaN   \n",
       "\n",
       "      days_exposition  price_quare_meter  day_week  month  year  \\\n",
       "23694             NaN           72490.85         1      3  2017   \n",
       "23695            45.0           52542.37         0      1  2018   \n",
       "23696             NaN           44091.71         6      2  2018   \n",
       "23697           602.0          149511.40         1      3  2017   \n",
       "23698             NaN           41795.67         4      7  2017   \n",
       "\n",
       "       floor_category  \n",
       "23694          другой  \n",
       "23695          другой  \n",
       "23696          первый  \n",
       "23697          другой  \n",
       "23698          первый  \n",
       "\n",
       "[5 rows x 27 columns]"
      ]
     },
     "execution_count": 31,
     "metadata": {},
     "output_type": "execute_result"
    }
   ],
   "source": [
    "#Теперь добавляем столбец floor_category с  функцией search_floor_category\n",
    "data['floor_category'] = data.apply(search_floor_category,axis=1) #Выполнить построчно\n",
    "#Проверяем:\n",
    "data.tail()"
   ]
  },
  {
   "cell_type": "code",
   "execution_count": 32,
   "metadata": {},
   "outputs": [
    {
     "data": {
      "text/html": [
       "<div>\n",
       "<style scoped>\n",
       "    .dataframe tbody tr th:only-of-type {\n",
       "        vertical-align: middle;\n",
       "    }\n",
       "\n",
       "    .dataframe tbody tr th {\n",
       "        vertical-align: top;\n",
       "    }\n",
       "\n",
       "    .dataframe thead th {\n",
       "        text-align: right;\n",
       "    }\n",
       "</style>\n",
       "<table border=\"1\" class=\"dataframe\">\n",
       "  <thead>\n",
       "    <tr style=\"text-align: right;\">\n",
       "      <th></th>\n",
       "      <th>total_images</th>\n",
       "      <th>last_price</th>\n",
       "      <th>total_area</th>\n",
       "      <th>first_day_exposition</th>\n",
       "      <th>rooms</th>\n",
       "      <th>ceiling_height</th>\n",
       "      <th>floors_total</th>\n",
       "      <th>living_area</th>\n",
       "      <th>floor</th>\n",
       "      <th>is_apartment</th>\n",
       "      <th>...</th>\n",
       "      <th>parks_nearest</th>\n",
       "      <th>ponds_around3000</th>\n",
       "      <th>ponds_nearest</th>\n",
       "      <th>days_exposition</th>\n",
       "      <th>price_quare_meter</th>\n",
       "      <th>day_week</th>\n",
       "      <th>month</th>\n",
       "      <th>year</th>\n",
       "      <th>floor_category</th>\n",
       "      <th>distance_centre_km</th>\n",
       "    </tr>\n",
       "  </thead>\n",
       "  <tbody>\n",
       "    <tr>\n",
       "      <th>0</th>\n",
       "      <td>20</td>\n",
       "      <td>13000000</td>\n",
       "      <td>108.0</td>\n",
       "      <td>2019-03-07</td>\n",
       "      <td>3</td>\n",
       "      <td>2.70</td>\n",
       "      <td>16</td>\n",
       "      <td>51.0</td>\n",
       "      <td>8</td>\n",
       "      <td>False</td>\n",
       "      <td>...</td>\n",
       "      <td>482.0</td>\n",
       "      <td>2.0</td>\n",
       "      <td>755.0</td>\n",
       "      <td>NaN</td>\n",
       "      <td>120370.37</td>\n",
       "      <td>3</td>\n",
       "      <td>3</td>\n",
       "      <td>2019</td>\n",
       "      <td>другой</td>\n",
       "      <td>16.0</td>\n",
       "    </tr>\n",
       "    <tr>\n",
       "      <th>1</th>\n",
       "      <td>7</td>\n",
       "      <td>3350000</td>\n",
       "      <td>40.4</td>\n",
       "      <td>2018-12-04</td>\n",
       "      <td>1</td>\n",
       "      <td>NaN</td>\n",
       "      <td>11</td>\n",
       "      <td>18.6</td>\n",
       "      <td>1</td>\n",
       "      <td>False</td>\n",
       "      <td>...</td>\n",
       "      <td>NaN</td>\n",
       "      <td>0.0</td>\n",
       "      <td>NaN</td>\n",
       "      <td>81.0</td>\n",
       "      <td>82920.79</td>\n",
       "      <td>1</td>\n",
       "      <td>12</td>\n",
       "      <td>2018</td>\n",
       "      <td>первый</td>\n",
       "      <td>19.0</td>\n",
       "    </tr>\n",
       "    <tr>\n",
       "      <th>2</th>\n",
       "      <td>10</td>\n",
       "      <td>5196000</td>\n",
       "      <td>56.0</td>\n",
       "      <td>2015-08-20</td>\n",
       "      <td>2</td>\n",
       "      <td>NaN</td>\n",
       "      <td>5</td>\n",
       "      <td>34.3</td>\n",
       "      <td>4</td>\n",
       "      <td>False</td>\n",
       "      <td>...</td>\n",
       "      <td>90.0</td>\n",
       "      <td>2.0</td>\n",
       "      <td>574.0</td>\n",
       "      <td>558.0</td>\n",
       "      <td>92785.71</td>\n",
       "      <td>3</td>\n",
       "      <td>8</td>\n",
       "      <td>2015</td>\n",
       "      <td>другой</td>\n",
       "      <td>14.0</td>\n",
       "    </tr>\n",
       "    <tr>\n",
       "      <th>3</th>\n",
       "      <td>0</td>\n",
       "      <td>64900000</td>\n",
       "      <td>159.0</td>\n",
       "      <td>2015-07-24</td>\n",
       "      <td>3</td>\n",
       "      <td>NaN</td>\n",
       "      <td>14</td>\n",
       "      <td>NaN</td>\n",
       "      <td>9</td>\n",
       "      <td>False</td>\n",
       "      <td>...</td>\n",
       "      <td>84.0</td>\n",
       "      <td>3.0</td>\n",
       "      <td>234.0</td>\n",
       "      <td>424.0</td>\n",
       "      <td>408176.10</td>\n",
       "      <td>4</td>\n",
       "      <td>7</td>\n",
       "      <td>2015</td>\n",
       "      <td>другой</td>\n",
       "      <td>7.0</td>\n",
       "    </tr>\n",
       "    <tr>\n",
       "      <th>4</th>\n",
       "      <td>2</td>\n",
       "      <td>10000000</td>\n",
       "      <td>100.0</td>\n",
       "      <td>2018-06-19</td>\n",
       "      <td>2</td>\n",
       "      <td>3.03</td>\n",
       "      <td>14</td>\n",
       "      <td>32.0</td>\n",
       "      <td>13</td>\n",
       "      <td>False</td>\n",
       "      <td>...</td>\n",
       "      <td>112.0</td>\n",
       "      <td>1.0</td>\n",
       "      <td>48.0</td>\n",
       "      <td>121.0</td>\n",
       "      <td>100000.00</td>\n",
       "      <td>1</td>\n",
       "      <td>6</td>\n",
       "      <td>2018</td>\n",
       "      <td>другой</td>\n",
       "      <td>8.0</td>\n",
       "    </tr>\n",
       "  </tbody>\n",
       "</table>\n",
       "<p>5 rows × 28 columns</p>\n",
       "</div>"
      ],
      "text/plain": [
       "   total_images  last_price  total_area first_day_exposition  rooms  \\\n",
       "0            20    13000000       108.0           2019-03-07      3   \n",
       "1             7     3350000        40.4           2018-12-04      1   \n",
       "2            10     5196000        56.0           2015-08-20      2   \n",
       "3             0    64900000       159.0           2015-07-24      3   \n",
       "4             2    10000000       100.0           2018-06-19      2   \n",
       "\n",
       "   ceiling_height  floors_total  living_area  floor  is_apartment  ...  \\\n",
       "0            2.70            16         51.0      8         False  ...   \n",
       "1             NaN            11         18.6      1         False  ...   \n",
       "2             NaN             5         34.3      4         False  ...   \n",
       "3             NaN            14          NaN      9         False  ...   \n",
       "4            3.03            14         32.0     13         False  ...   \n",
       "\n",
       "   parks_nearest  ponds_around3000  ponds_nearest  days_exposition  \\\n",
       "0          482.0               2.0          755.0              NaN   \n",
       "1            NaN               0.0            NaN             81.0   \n",
       "2           90.0               2.0          574.0            558.0   \n",
       "3           84.0               3.0          234.0            424.0   \n",
       "4          112.0               1.0           48.0            121.0   \n",
       "\n",
       "  price_quare_meter  day_week  month  year  floor_category  distance_centre_km  \n",
       "0         120370.37         3      3  2019          другой                16.0  \n",
       "1          82920.79         1     12  2018          первый                19.0  \n",
       "2          92785.71         3      8  2015          другой                14.0  \n",
       "3         408176.10         4      7  2015          другой                 7.0  \n",
       "4         100000.00         1      6  2018          другой                 8.0  \n",
       "\n",
       "[5 rows x 28 columns]"
      ]
     },
     "execution_count": 32,
     "metadata": {},
     "output_type": "execute_result"
    }
   ],
   "source": [
    "#Создаём столбец distance_centre_km #расстояние до центра города в километрах (переведите из м в км и округлите до ближайших целых значений).\n",
    "data['distance_centre_km']=round(data['cityCenters_nearest']/1000) #Расстояние до центра в метрах делим на 1000 = расстояние в км, округляем.\n",
    "#Проверяем:\n",
    "data.head()"
   ]
  },
  {
   "cell_type": "markdown",
   "metadata": {},
   "source": [
    "Вывод:Добавили в таблицу новые столбцы с интересующими нас параметров в интересующем нас виде."
   ]
  },
  {
   "cell_type": "markdown",
   "metadata": {},
   "source": [
    "4 Проведите исследовательский анализ данных"
   ]
  },
  {
   "cell_type": "code",
   "execution_count": 33,
   "metadata": {},
   "outputs": [
    {
     "data": {
      "text/plain": [
       "<AxesSubplot:ylabel='Frequency'>"
      ]
     },
     "execution_count": 33,
     "metadata": {},
     "output_type": "execute_result"
    },
    {
     "data": {
      "image/png": "[encoded data removed]",
      "text/plain": [
       "<Figure size 720x360 with 1 Axes>"
      ]
     },
     "metadata": {
      "needs_background": "light"
     },
     "output_type": "display_data"
    }
   ],
   "source": [
    "#Построим гистограммы по каждому интересующему нас столбцу таблицы:\n",
    "# Общая площадь , total_area:\n",
    "import matplotlib.pyplot as plt # Импортируем библиотеку для построения гистограм методом plot.\n",
    "data.plot(y='total_area',kind='hist',bins=70,grid=True,range=(0,250),figsize=(10,5))"
   ]
  },
  {
   "cell_type": "code",
   "execution_count": 34,
   "metadata": {},
   "outputs": [
    {
     "data": {
      "text/plain": [
       "count    23565.000000\n",
       "mean        60.322824\n",
       "std         35.657060\n",
       "min         12.000000\n",
       "25%         40.000000\n",
       "50%         52.000000\n",
       "75%         69.700000\n",
       "max        900.000000\n",
       "Name: total_area, dtype: float64"
      ]
     },
     "execution_count": 34,
     "metadata": {},
     "output_type": "execute_result"
    }
   ],
   "source": [
    "data['total_area'].describe() #выведем также описательную статистику столбца total_area\n"
   ]
  },
  {
   "cell_type": "markdown",
   "metadata": {},
   "source": [
    "По данной гистограмме можно сделать вывод что большинство квартир имеют суммарную площадь 30-45 квадратных метров.\n",
    "Интересна просадка на графике около 50 кв.м."
   ]
  },
  {
   "cell_type": "code",
   "execution_count": 35,
   "metadata": {},
   "outputs": [
    {
     "data": {
      "text/plain": [
       "<AxesSubplot:ylabel='Frequency'>"
      ]
     },
     "execution_count": 35,
     "metadata": {},
     "output_type": "execute_result"
    },
    {
     "data": {
      "image/png": "[encoded data removed]",
      "text/plain": [
       "<Figure size 504x360 with 1 Axes>"
      ]
     },
     "metadata": {
      "needs_background": "light"
     },
     "output_type": "display_data"
    }
   ],
   "source": [
    "# Жилая площадь living_area\n",
    "data.plot(y='living_area',kind='hist',bins=10,grid=True,range=(0,100),figsize=(7,5))"
   ]
  },
  {
   "cell_type": "code",
   "execution_count": 36,
   "metadata": {},
   "outputs": [
    {
     "data": {
      "text/plain": [
       "count    21700.000000\n",
       "mean        34.454822\n",
       "std         22.045359\n",
       "min          2.000000\n",
       "25%         18.600000\n",
       "50%         30.000000\n",
       "75%         42.300000\n",
       "max        409.700000\n",
       "Name: living_area, dtype: float64"
      ]
     },
     "execution_count": 36,
     "metadata": {},
     "output_type": "execute_result"
    }
   ],
   "source": [
    "#выведем сводную описательную статистику столбца living_area\n",
    "data['living_area'].describe()"
   ]
  },
  {
   "cell_type": "markdown",
   "metadata": {},
   "source": [
    "По гистограмме мы видим что большинство объектов имеют жилую площадь, 15-20 кв.м, это можно объяснить тем, что большинство квартир могут быть небольшие квартиры студии например."
   ]
  },
  {
   "cell_type": "code",
   "execution_count": 37,
   "metadata": {},
   "outputs": [
    {
     "data": {
      "text/plain": [
       "<AxesSubplot:ylabel='Frequency'>"
      ]
     },
     "execution_count": 37,
     "metadata": {},
     "output_type": "execute_result"
    },
    {
     "data": {
      "image/png": "[encoded data removed]",
      "text/plain": [
       "<Figure size 504x360 with 1 Axes>"
      ]
     },
     "metadata": {
      "needs_background": "light"
     },
     "output_type": "display_data"
    }
   ],
   "source": [
    "#Площадь кухни , kitchen_area\n",
    "data.plot(y='kitchen_area',kind='hist',bins=20,grid=True,range=(0,60),figsize=(7,5))"
   ]
  },
  {
   "cell_type": "code",
   "execution_count": 38,
   "metadata": {},
   "outputs": [
    {
     "data": {
      "text/plain": [
       "count    21343.000000\n",
       "mean        10.560994\n",
       "std          5.900630\n",
       "min          1.300000\n",
       "25%          7.000000\n",
       "50%          9.100000\n",
       "75%         12.000000\n",
       "max        112.000000\n",
       "Name: kitchen_area, dtype: float64"
      ]
     },
     "execution_count": 38,
     "metadata": {},
     "output_type": "execute_result"
    }
   ],
   "source": [
    "#Сводная описательная сатистика столбца kitchen_area\n",
    "data['kitchen_area'].describe()"
   ]
  },
  {
   "cell_type": "markdown",
   "metadata": {},
   "source": [
    "Кухни в основном составляют 6-8 кв.м., медиана 9, среднее 10 ."
   ]
  },
  {
   "cell_type": "code",
   "execution_count": 39,
   "metadata": {},
   "outputs": [
    {
     "data": {
      "text/plain": [
       "<AxesSubplot:ylabel='Frequency'>"
      ]
     },
     "execution_count": 39,
     "metadata": {},
     "output_type": "execute_result"
    },
    {
     "data": {
      "image/png": "[encoded data removed]",
      "text/plain": [
       "<Figure size 504x360 with 1 Axes>"
      ]
     },
     "metadata": {
      "needs_background": "light"
     },
     "output_type": "display_data"
    }
   ],
   "source": [
    "#Цена объекта , last_price.\n",
    "data.plot(y='last_price',kind='hist',grid=True,bins=15,range=(1000000,10000000),figsize=(7,5))"
   ]
  },
  {
   "cell_type": "code",
   "execution_count": 40,
   "metadata": {},
   "outputs": [
    {
     "data": {
      "text/plain": [
       "count    2.356500e+04\n",
       "mean     6.540058e+06\n",
       "std      1.091093e+07\n",
       "min      1.219000e+04\n",
       "25%      3.400000e+06\n",
       "50%      4.646000e+06\n",
       "75%      6.790000e+06\n",
       "max      7.630000e+08\n",
       "Name: last_price, dtype: float64"
      ]
     },
     "execution_count": 40,
     "metadata": {},
     "output_type": "execute_result"
    }
   ],
   "source": [
    "#Сводная описательная статистика last_price\n",
    "data['last_price'].describe()"
   ]
  },
  {
   "cell_type": "markdown",
   "metadata": {},
   "source": [
    "Установили рэндж от 1кк до 10кк, цена на большинство квартир составляет 3,5-4 миллиона рублей."
   ]
  },
  {
   "cell_type": "code",
   "execution_count": 41,
   "metadata": {},
   "outputs": [
    {
     "data": {
      "text/plain": [
       "<AxesSubplot:ylabel='Frequency'>"
      ]
     },
     "execution_count": 41,
     "metadata": {},
     "output_type": "execute_result"
    },
    {
     "data": {
      "image/png": "[encoded data removed]",
      "text/plain": [
       "<Figure size 504x360 with 1 Axes>"
      ]
     },
     "metadata": {
      "needs_background": "light"
     },
     "output_type": "display_data"
    }
   ],
   "source": [
    "#Количество комнат ,rooms\n",
    "data.plot(y='rooms',kind='hist',grid=True,bins=10,range=(0,10),figsize=(7,5))"
   ]
  },
  {
   "cell_type": "markdown",
   "metadata": {},
   "source": [
    "На данном графике мы видим, что однокомнатных квартир - большинство, двухкомнатных квартир немного меньше, трёхкомнатных квартир ещё меньше и т.д"
   ]
  },
  {
   "cell_type": "code",
   "execution_count": 42,
   "metadata": {},
   "outputs": [
    {
     "data": {
      "text/plain": [
       "count    23565.000000\n",
       "mean         2.070656\n",
       "std          1.078591\n",
       "min          0.000000\n",
       "25%          1.000000\n",
       "50%          2.000000\n",
       "75%          3.000000\n",
       "max         19.000000\n",
       "Name: rooms, dtype: float64"
      ]
     },
     "execution_count": 42,
     "metadata": {},
     "output_type": "execute_result"
    }
   ],
   "source": [
    "#Сводная статистика по столбцу rooms\n",
    "data['rooms'].describe()"
   ]
  },
  {
   "cell_type": "code",
   "execution_count": 43,
   "metadata": {},
   "outputs": [
    {
     "data": {
      "text/plain": [
       "<AxesSubplot:ylabel='Frequency'>"
      ]
     },
     "execution_count": 43,
     "metadata": {},
     "output_type": "execute_result"
    },
    {
     "data": {
      "image/png": "[encoded data removed]",
      "text/plain": [
       "<Figure size 504x360 with 1 Axes>"
      ]
     },
     "metadata": {
      "needs_background": "light"
     },
     "output_type": "display_data"
    }
   ],
   "source": [
    "#Высота потолков, ceiling_height\n",
    "data.plot(y='ceiling_height',kind='hist',grid=True,bins=10,range=(0,6),figsize=(7,5))"
   ]
  },
  {
   "cell_type": "code",
   "execution_count": 44,
   "metadata": {},
   "outputs": [
    {
     "data": {
      "text/plain": [
       "count    14481.000000\n",
       "mean         2.771283\n",
       "std          1.261983\n",
       "min          1.000000\n",
       "25%          2.510000\n",
       "50%          2.650000\n",
       "75%          2.800000\n",
       "max        100.000000\n",
       "Name: ceiling_height, dtype: float64"
      ]
     },
     "execution_count": 44,
     "metadata": {},
     "output_type": "execute_result"
    }
   ],
   "source": [
    "#Сводная статистика по столбцу ceiling_height:\n",
    "data['ceiling_height'].describe()"
   ]
  },
  {
   "cell_type": "markdown",
   "metadata": {},
   "source": [
    "Большинство потолков в квартирах имеют высоту 2,5-3 метра."
   ]
  },
  {
   "cell_type": "code",
   "execution_count": 45,
   "metadata": {},
   "outputs": [
    {
     "data": {
      "text/plain": [
       "<AxesSubplot:>"
      ]
     },
     "execution_count": 45,
     "metadata": {},
     "output_type": "execute_result"
    },
    {
     "data": {
      "image/png": "[encoded data removed]",
      "text/plain": [
       "<Figure size 432x288 with 1 Axes>"
      ]
     },
     "metadata": {
      "needs_background": "light"
     },
     "output_type": "display_data"
    }
   ],
   "source": [
    "#тип этажа квартиры, floor_category\n",
    "data['floor_category'].hist()"
   ]
  },
  {
   "cell_type": "code",
   "execution_count": 46,
   "metadata": {},
   "outputs": [
    {
     "data": {
      "text/plain": [
       "count      23565\n",
       "unique         3\n",
       "top       другой\n",
       "freq       17326\n",
       "Name: floor_category, dtype: object"
      ]
     },
     "execution_count": 46,
     "metadata": {},
     "output_type": "execute_result"
    }
   ],
   "source": [
    "#Сводная статистика по столбцу floor_category:\n",
    "data['floor_category'].describe()"
   ]
  },
  {
   "cell_type": "markdown",
   "metadata": {},
   "source": [
    "Квартиры на первом и последнем этажах в нашей таблице всречаются довольно редко и примерно с одинаковой частотой, большинство квартир находятся в промежутке между первым и последним."
   ]
  },
  {
   "cell_type": "code",
   "execution_count": 47,
   "metadata": {},
   "outputs": [
    {
     "data": {
      "text/plain": [
       "<AxesSubplot:ylabel='Frequency'>"
      ]
     },
     "execution_count": 47,
     "metadata": {},
     "output_type": "execute_result"
    },
    {
     "data": {
      "image/png": "[encoded data removed]",
      "text/plain": [
       "<Figure size 504x360 with 1 Axes>"
      ]
     },
     "metadata": {
      "needs_background": "light"
     },
     "output_type": "display_data"
    }
   ],
   "source": [
    "#Расстояние до центра города в метрах , cityCenters_nearest\n",
    "data.plot(y='cityCenters_nearest',kind='hist',grid=True,bins=10,range=(0,60000),figsize=(7,5))"
   ]
  },
  {
   "cell_type": "code",
   "execution_count": 48,
   "metadata": {},
   "outputs": [
    {
     "data": {
      "text/plain": [
       "count    18064.000000\n",
       "mean     14192.656056\n",
       "std       8613.348153\n",
       "min        181.000000\n",
       "25%       9238.000000\n",
       "50%      13096.500000\n",
       "75%      16285.000000\n",
       "max      65968.000000\n",
       "Name: cityCenters_nearest, dtype: float64"
      ]
     },
     "execution_count": 48,
     "metadata": {},
     "output_type": "execute_result"
    }
   ],
   "source": [
    "#Сводная статистика по столбцу cityCenters_nearest\n",
    "data['cityCenters_nearest'].describe()"
   ]
  },
  {
   "cell_type": "markdown",
   "metadata": {},
   "source": [
    "Большинство объектов недвижимости находятся на расстоянии ~ 15 км от центра города , что подтверждает среднее значение по столбцу."
   ]
  },
  {
   "cell_type": "code",
   "execution_count": 49,
   "metadata": {},
   "outputs": [
    {
     "data": {
      "text/plain": [
       "<AxesSubplot:ylabel='Frequency'>"
      ]
     },
     "execution_count": 49,
     "metadata": {},
     "output_type": "execute_result"
    },
    {
     "data": {
      "image/png": "[encoded data removed]",
      "text/plain": [
       "<Figure size 504x360 with 1 Axes>"
      ]
     },
     "metadata": {
      "needs_background": "light"
     },
     "output_type": "display_data"
    }
   ],
   "source": [
    "#Расстояние до ближайшего парка, parks_nearest (в метрах!)\n",
    "data.plot(y='parks_nearest',kind='hist',grid=True,bins=10,range=(0,3500),figsize=(7,5))"
   ]
  },
  {
   "cell_type": "code",
   "execution_count": 50,
   "metadata": {},
   "outputs": [
    {
     "data": {
      "text/plain": [
       "count    8030.000000\n",
       "mean      490.580448\n",
       "std       341.572956\n",
       "min         1.000000\n",
       "25%       288.000000\n",
       "50%       455.000000\n",
       "75%       612.000000\n",
       "max      3190.000000\n",
       "Name: parks_nearest, dtype: float64"
      ]
     },
     "execution_count": 50,
     "metadata": {},
     "output_type": "execute_result"
    }
   ],
   "source": [
    "#Сводная статистика по столбцу parks_nearest\n",
    "data['parks_nearest'].describe()"
   ]
  },
  {
   "cell_type": "markdown",
   "metadata": {},
   "source": [
    "Большинство объектов расположены на расстоянии 300-700 метров от ближайшего парка"
   ]
  },
  {
   "cell_type": "code",
   "execution_count": 51,
   "metadata": {},
   "outputs": [],
   "source": [
    "#Посмотрим сколько данных осталось после обработки\n",
    "df=pd.DataFrame(data)"
   ]
  },
  {
   "cell_type": "code",
   "execution_count": 52,
   "metadata": {},
   "outputs": [
    {
     "data": {
      "text/plain": [
       "23565"
      ]
     },
     "execution_count": 52,
     "metadata": {},
     "output_type": "execute_result"
    }
   ],
   "source": [
    "len(data) # *это для проверки()"
   ]
  },
  {
   "cell_type": "code",
   "execution_count": 53,
   "metadata": {},
   "outputs": [
    {
     "data": {
      "text/plain": [
       "23565"
      ]
     },
     "execution_count": 53,
     "metadata": {},
     "output_type": "execute_result"
    }
   ],
   "source": [
    "shape=df.shape \n",
    "shape[0] #Количество строк после обработки"
   ]
  },
  {
   "cell_type": "code",
   "execution_count": 54,
   "metadata": {},
   "outputs": [
    {
     "data": {
      "text/plain": [
       "28"
      ]
     },
     "execution_count": 54,
     "metadata": {},
     "output_type": "execute_result"
    }
   ],
   "source": [
    "shape[1] #количество столбцов после обработки"
   ]
  },
  {
   "cell_type": "code",
   "execution_count": 55,
   "metadata": {},
   "outputs": [],
   "source": [
    "#Изначально мы имели 22 столбца и 23699 строчки , сейчас мы имеем 28 столбцов и 23565 строчек :\n",
    "# Если я всё правильно посчитал, то мы удалили 0,6% данных(строки)"
   ]
  },
  {
   "cell_type": "code",
   "execution_count": 56,
   "metadata": {},
   "outputs": [
    {
     "data": {
      "text/plain": [
       "count    20394.000000\n",
       "mean       180.741395\n",
       "std        219.732782\n",
       "min          1.000000\n",
       "25%         45.000000\n",
       "50%         95.000000\n",
       "75%        231.000000\n",
       "max       1580.000000\n",
       "Name: days_exposition, dtype: float64"
      ]
     },
     "execution_count": 56,
     "metadata": {},
     "output_type": "execute_result"
    }
   ],
   "source": [
    "# Теперь рассмотрим как быстро продавались квартиры, рассмотрим столбец days_exposition , этот столбец показывает сколько дней было размещено объявление.\n",
    "#Описательная статистика days_exposition\n",
    "data['days_exposition'].describe()"
   ]
  },
  {
   "cell_type": "code",
   "execution_count": 57,
   "metadata": {},
   "outputs": [
    {
     "data": {
      "text/plain": [
       "<AxesSubplot:ylabel='Frequency'>"
      ]
     },
     "execution_count": 57,
     "metadata": {},
     "output_type": "execute_result"
    },
    {
     "data": {
      "image/png": "[encoded data removed]",
      "text/plain": [
       "<Figure size 504x360 with 1 Axes>"
      ]
     },
     "metadata": {
      "needs_background": "light"
     },
     "output_type": "display_data"
    }
   ],
   "source": [
    "#Построим гистограмму по столбцу days_exposition\n",
    "data.plot(y='days_exposition',kind='hist',grid=True,bins=50,range=(0,365),figsize=(7,5))"
   ]
  },
  {
   "cell_type": "markdown",
   "metadata": {},
   "source": [
    "Среднее значение по столбцу составляет 180 дней, медианное значение 95, но мы не можем утверждать, что если объявление сняли, то квартира продана, возможно поменялись планы на квартиру.\n",
    "Можем сделать вывод что чаще всего, квартира продаётся в первые 100 дней."
   ]
  },
  {
   "cell_type": "code",
   "execution_count": 58,
   "metadata": {},
   "outputs": [
    {
     "data": {
      "text/plain": [
       "<AxesSubplot:>"
      ]
     },
     "execution_count": 58,
     "metadata": {},
     "output_type": "execute_result"
    },
    {
     "data": {
      "image/png": "[encoded data removed]",
      "text/plain": [
       "<Figure size 432x432 with 1 Axes>"
      ]
     },
     "metadata": {
      "needs_background": "light"
     },
     "output_type": "display_data"
    }
   ],
   "source": [
    "#Построим диаграмму размаха по столбцу days_exposition c помощью команды boxplot:\n",
    "data.boxplot(column='days_exposition',figsize=(6,6))"
   ]
  },
  {
   "cell_type": "code",
   "execution_count": 59,
   "metadata": {},
   "outputs": [],
   "source": [
    "#Ящик ~ 20-220 , Усы до 500дней), следовательно можем предположить что выше 500 , это выбросы."
   ]
  },
  {
   "cell_type": "code",
   "execution_count": 60,
   "metadata": {},
   "outputs": [],
   "source": [
    "# Рассмотрим , зависит ли цена объекта(last_price) от :\n",
    "#общей площади;total_area\n",
    "#жилой площади;living_area\n",
    "#площади кухни;kitchen_area\n",
    "#количества комнат;rooms\n",
    "#этажа, на котором расположена квартира (первый, последний, другой); floor_category\n",
    "#даты размещения (день недели, месяц, год). day_week,month,year"
   ]
  },
  {
   "cell_type": "code",
   "execution_count": 61,
   "metadata": {},
   "outputs": [
    {
     "data": {
      "text/plain": [
       "<AxesSubplot:xlabel='total_area', ylabel='last_price'>"
      ]
     },
     "execution_count": 61,
     "metadata": {},
     "output_type": "execute_result"
    },
    {
     "data": {
      "image/png": "[encoded data removed]",
      "text/plain": [
       "<Figure size 504x360 with 1 Axes>"
      ]
     },
     "metadata": {
      "needs_background": "light"
     },
     "output_type": "display_data"
    }
   ],
   "source": [
    "# Зависимость цены от общей площади:\n",
    "data.plot(x='total_area', y ='last_price', kind ='scatter',legend=True,figsize=(7, 5),alpha = 0.05,ylim=(0,100000000),xlim=(0,150))"
   ]
  },
  {
   "cell_type": "markdown",
   "metadata": {},
   "source": [
    "Можем сказать, что цена зависит от общей площади, чем больше площадь, тем выше цена , и наоборот. **до 100кв.м."
   ]
  },
  {
   "cell_type": "code",
   "execution_count": 62,
   "metadata": {},
   "outputs": [
    {
     "data": {
      "text/plain": [
       "<AxesSubplot:xlabel='living_area', ylabel='last_price'>"
      ]
     },
     "execution_count": 62,
     "metadata": {},
     "output_type": "execute_result"
    },
    {
     "data": {
      "image/png": "[encoded data removed]",
      "text/plain": [
       "<Figure size 504x360 with 1 Axes>"
      ]
     },
     "metadata": {
      "needs_background": "light"
     },
     "output_type": "display_data"
    }
   ],
   "source": [
    "#Зависимость цены от жилой площади\n",
    "data.plot(x='living_area',y='last_price', kind ='scatter',legend=True,figsize=(7, 5),alpha = 0.05,ylim=(0,100000000),xlim=(0,100))"
   ]
  },
  {
   "cell_type": "markdown",
   "metadata": {},
   "source": [
    "Видим что с увелечением жилой площади растёт и цена. **до 60 кв.м."
   ]
  },
  {
   "cell_type": "code",
   "execution_count": 63,
   "metadata": {},
   "outputs": [
    {
     "data": {
      "text/plain": [
       "<AxesSubplot:xlabel='kitchen_area', ylabel='last_price'>"
      ]
     },
     "execution_count": 63,
     "metadata": {},
     "output_type": "execute_result"
    },
    {
     "data": {
      "image/png": "[encoded data removed]",
      "text/plain": [
       "<Figure size 504x360 with 1 Axes>"
      ]
     },
     "metadata": {
      "needs_background": "light"
     },
     "output_type": "display_data"
    }
   ],
   "source": [
    "#площадь кухни\n",
    "data.plot(x='kitchen_area',y='last_price', kind ='scatter',legend=True,figsize=(7, 5),alpha = 0.05,ylim=(0,100000000),xlim=(0,100))"
   ]
  },
  {
   "cell_type": "markdown",
   "metadata": {},
   "source": [
    "Вместе с площадью кухни растёт и цена , теперь уже до 20кв.м."
   ]
  },
  {
   "cell_type": "code",
   "execution_count": 64,
   "metadata": {},
   "outputs": [
    {
     "data": {
      "text/plain": [
       "<AxesSubplot:xlabel='rooms', ylabel='last_price'>"
      ]
     },
     "execution_count": 64,
     "metadata": {},
     "output_type": "execute_result"
    },
    {
     "data": {
      "image/png": "[encoded data removed]",
      "text/plain": [
       "<Figure size 504x360 with 1 Axes>"
      ]
     },
     "metadata": {
      "needs_background": "light"
     },
     "output_type": "display_data"
    }
   ],
   "source": [
    "#Зависимость цены от количества комнат :\n",
    "data.plot(x='rooms',y='last_price', kind ='scatter',legend=True,figsize=(7, 5),alpha = 0.05,ylim=(0,100000000),xlim=(0,10))"
   ]
  },
  {
   "cell_type": "markdown",
   "metadata": {},
   "source": [
    "По данному графику можно сказать что самыми дорогими являются 3х комнатные квартиры .4х комнатные немного отстают,непонятно почему пятикомнатные дешевле, возможно это очень старые комунальные квартиры."
   ]
  },
  {
   "cell_type": "code",
   "execution_count": 65,
   "metadata": {},
   "outputs": [
    {
     "data": {
      "text/plain": [
       "<AxesSubplot:xlabel='floor_category'>"
      ]
     },
     "execution_count": 65,
     "metadata": {},
     "output_type": "execute_result"
    },
    {
     "data": {
      "image/png": "[encoded data removed]",
      "text/plain": [
       "<Figure size 432x288 with 1 Axes>"
      ]
     },
     "metadata": {
      "needs_background": "light"
     },
     "output_type": "display_data"
    }
   ],
   "source": [
    "# Зависимость цены от категории этажа не получается, т.к выдаёт ошибку, создаём сводную таблицу\n",
    "last_price_floor_category=data.pivot_table(index='floor_category',values='last_price',aggfunc=['mean','count','median'])\n",
    "last_price_floor_category.columns =['mean','count','median']\n",
    "last_price_floor_category.plot()\n",
    "\n",
    "\n",
    "\n"
   ]
  },
  {
   "cell_type": "markdown",
   "metadata": {},
   "source": [
    "Из графика видно что среднее для квартир на первом этаже минимальна, максимальна для последних этажей. Медиана также минимальна для квартир на первом этаже, но максимальна в сторону между первым и последним."
   ]
  },
  {
   "cell_type": "code",
   "execution_count": 66,
   "metadata": {},
   "outputs": [
    {
     "data": {
      "text/plain": [
       "<AxesSubplot:xlabel='year', ylabel='last_price'>"
      ]
     },
     "execution_count": 66,
     "metadata": {},
     "output_type": "execute_result"
    },
    {
     "data": {
      "image/png": "[encoded data removed]",
      "text/plain": [
       "<Figure size 504x360 with 1 Axes>"
      ]
     },
     "metadata": {
      "needs_background": "light"
     },
     "output_type": "display_data"
    },
    {
     "data": {
      "image/png": "[encoded data removed]",
      "text/plain": [
       "<Figure size 504x360 with 1 Axes>"
      ]
     },
     "metadata": {
      "needs_background": "light"
     },
     "output_type": "display_data"
    },
    {
     "data": {
      "image/png": "[encoded data removed]",
      "text/plain": [
       "<Figure size 504x360 with 1 Axes>"
      ]
     },
     "metadata": {
      "needs_background": "light"
     },
     "output_type": "display_data"
    }
   ],
   "source": [
    "# Зависимость от дня размещения : day_week\n",
    "data.plot(x='day_week',y='last_price', kind ='scatter',legend=True,figsize=(7, 5),alpha = 0.05,ylim=(0,10000000),xlim=(0,7))\n",
    "#Зависимость от месяца размещения: month:\n",
    "data.plot(x='month',y='last_price', kind ='scatter',legend=True,figsize=(7, 5),alpha = 0.05,ylim=(0,10000000),xlim=(0,12))\n",
    "#Зависимость от года размещения:year:\n",
    "data.plot(x='year',y='last_price', kind ='scatter',legend=True,figsize=(7, 5),alpha = 0.05,ylim=(0,10000000),xlim=(2010,2020))"
   ]
  },
  {
   "cell_type": "markdown",
   "metadata": {},
   "source": [
    "Можем сказать что день и месяц размещения на цену не влияет, а вот год, 2014 выделяется, возможно в 2014 году был рост цены на недвижимость в связи с кризисом"
   ]
  },
  {
   "cell_type": "code",
   "execution_count": 67,
   "metadata": {},
   "outputs": [
    {
     "data": {
      "text/plain": [
       "Санкт-Петербург      15651\n",
       "посёлок Мурино         552\n",
       "посёлок Шушары         439\n",
       "Всеволожск             398\n",
       "Пушкин                 369\n",
       "Колпино                338\n",
       "посёлок Парголово      327\n",
       "Гатчина                307\n",
       "деревня Кудрово        299\n",
       "Выборг                 237\n",
       "Name: locality_name, dtype: int64"
      ]
     },
     "execution_count": 67,
     "metadata": {},
     "output_type": "execute_result"
    }
   ],
   "source": [
    "#Найдём среднюю цену одного квадратного метра в 10 населённых пунктах с наибольшим числом объявлений\n",
    "more_ads = data['locality_name'].value_counts().head(10) #создадим переменную more_ads заполним её 10 насёлёнными пунктами с наибольшим числом объявлений\n",
    "more_ads.head(10) #выведем на экран\n"
   ]
  },
  {
   "cell_type": "code",
   "execution_count": 68,
   "metadata": {},
   "outputs": [
    {
     "data": {
      "text/html": [
       "<div>\n",
       "<style scoped>\n",
       "    .dataframe tbody tr th:only-of-type {\n",
       "        vertical-align: middle;\n",
       "    }\n",
       "\n",
       "    .dataframe tbody tr th {\n",
       "        vertical-align: top;\n",
       "    }\n",
       "\n",
       "    .dataframe thead th {\n",
       "        text-align: right;\n",
       "    }\n",
       "</style>\n",
       "<table border=\"1\" class=\"dataframe\">\n",
       "  <thead>\n",
       "    <tr style=\"text-align: right;\">\n",
       "      <th></th>\n",
       "      <th>price_quare_meter</th>\n",
       "    </tr>\n",
       "    <tr>\n",
       "      <th>locality_name</th>\n",
       "      <th></th>\n",
       "    </tr>\n",
       "  </thead>\n",
       "  <tbody>\n",
       "    <tr>\n",
       "      <th>Санкт-Петербург</th>\n",
       "      <td>114868.877339</td>\n",
       "    </tr>\n",
       "    <tr>\n",
       "      <th>Пушкин</th>\n",
       "      <td>103125.819377</td>\n",
       "    </tr>\n",
       "    <tr>\n",
       "      <th>деревня Кудрово</th>\n",
       "      <td>92473.547559</td>\n",
       "    </tr>\n",
       "    <tr>\n",
       "      <th>посёлок Парголово</th>\n",
       "      <td>90175.913089</td>\n",
       "    </tr>\n",
       "    <tr>\n",
       "      <th>посёлок Мурино</th>\n",
       "      <td>85629.568641</td>\n",
       "    </tr>\n",
       "    <tr>\n",
       "      <th>посёлок Шушары</th>\n",
       "      <td>78551.344647</td>\n",
       "    </tr>\n",
       "    <tr>\n",
       "      <th>Колпино</th>\n",
       "      <td>75424.579112</td>\n",
       "    </tr>\n",
       "    <tr>\n",
       "      <th>Гатчина</th>\n",
       "      <td>68746.146515</td>\n",
       "    </tr>\n",
       "    <tr>\n",
       "      <th>Всеволожск</th>\n",
       "      <td>68654.473970</td>\n",
       "    </tr>\n",
       "    <tr>\n",
       "      <th>Выборг</th>\n",
       "      <td>58141.909325</td>\n",
       "    </tr>\n",
       "  </tbody>\n",
       "</table>\n",
       "</div>"
      ],
      "text/plain": [
       "                   price_quare_meter\n",
       "locality_name                       \n",
       "Санкт-Петербург        114868.877339\n",
       "Пушкин                 103125.819377\n",
       "деревня Кудрово         92473.547559\n",
       "посёлок Парголово       90175.913089\n",
       "посёлок Мурино          85629.568641\n",
       "посёлок Шушары          78551.344647\n",
       "Колпино                 75424.579112\n",
       "Гатчина                 68746.146515\n",
       "Всеволожск              68654.473970\n",
       "Выборг                  58141.909325"
      ]
     },
     "execution_count": 68,
     "metadata": {},
     "output_type": "execute_result"
    }
   ],
   "source": [
    "more_ads_pivot_table = data.query('locality_name in @more_ads.index').pivot_table(index='locality_name',values='price_quare_meter')\n",
    "more_ads_pivot_table.sort_values(by='price_quare_meter', ascending=False) #извелекли название населённых пунктов из переменной по индексу, составили сводную таблицу,отсортировали по уменьшению."
   ]
  },
  {
   "cell_type": "markdown",
   "metadata": {},
   "source": [
    "Самая высокая стоимость квадратного метра в Санкт-Петербурге и составляет 114868р., самая низкая в г.Выборг и составляет 58141р."
   ]
  },
  {
   "cell_type": "code",
   "execution_count": 69,
   "metadata": {},
   "outputs": [
    {
     "data": {
      "text/plain": [
       "15651"
      ]
     },
     "execution_count": 69,
     "metadata": {},
     "output_type": "execute_result"
    }
   ],
   "source": [
    "#Выделим квартиры в Санкт-Петербурге с помощью столбца locality_name и вычислим среднюю цену каждого километра. \n",
    "#Создадим переменную СПБ и извлекём из по столбцу Locality_name Санкт-Петербург\n",
    "spb=data.query('locality_name== \"Санкт-Петербург\"')\n",
    "spb.head()\n",
    "len(spb)\n"
   ]
  },
  {
   "cell_type": "markdown",
   "metadata": {},
   "source": [
    "15651 объявление о продаже недвижимости в Санкт-Петербурге"
   ]
  },
  {
   "cell_type": "code",
   "execution_count": 70,
   "metadata": {},
   "outputs": [
    {
     "data": {
      "text/plain": [
       "<AxesSubplot:xlabel='distance_centre_km'>"
      ]
     },
     "execution_count": 70,
     "metadata": {},
     "output_type": "execute_result"
    },
    {
     "data": {
      "image/png": "[encoded data removed]",
      "text/plain": [
       "<Figure size 432x288 with 1 Axes>"
      ]
     },
     "metadata": {
      "needs_background": "light"
     },
     "output_type": "display_data"
    }
   ],
   "source": [
    "#Создадим сводную таблицу в которой будет средняя цена за квадратный метр и расстояние в км.\n",
    "spb.pivot_table(index='distance_centre_km',values='price_quare_meter').plot() # построим график по сводной таблице"
   ]
  },
  {
   "cell_type": "markdown",
   "metadata": {},
   "source": [
    "Стоимость жилья в самом центре почти достигает 250 т.р за квадратный метр. Первые 3 километра, при отдалении от центра цена за квадратный метр падает почти на 40т.р за км,дальше идёт рост с 3до 7 километров , возможно это какой-то элитный район, и далее плавно снижается."
   ]
  },
  {
   "cell_type": "markdown",
   "metadata": {},
   "source": [
    "На данном этапе был проведён исследовательский анализ данных:изучили как быстро продавались квартиры, что больше всего влияет на стоимость объекта."
   ]
  },
  {
   "cell_type": "markdown",
   "metadata": {},
   "source": [
    "5 Общий вывод\n",
    "Мы провели Исследование данных о продаже квартир в Санкт-Петербурге и соседних населенных пунктах.\n",
    "Мы изучили общую информацию о проекте.\n",
    "Предобработали данные, обработали дубликаты, изменили типы данных столбцов которые необходимы для анализа.\n",
    "Добавили в таблицу новые столбцы, которые извлекли из вводных данных.\n",
    "Изучили параметры, влияющие на цену объектов.\n",
    "Провели исследовательский анализ данных.\n",
    "По результатам проведённых исследований можно сказать, что стоимость недвижимости зависит от множества факторов.\n",
    "Основными параметрами влияющими на стоимость квартиры можно назвать её отдалённость к центру (рай.центру), т.к мы выяснили что разница между стоимостью квадратного метра в Санкт-Петербурге и Выборге разнятся почти в два раза , 114868р.в Питере и  58141р\n",
    "в Выборге.\n",
    "Также очень важным фактором является площадь объекта недвижимости, чем больше площадь , тем больше цена за неё.\n",
    "Выполняя проектную работу мы выяснили , что :\n",
    "-однокомнатных квартир - большинство, двухкомнатных квартир немного меньше, трёхкомнатных квартир ещё меньше и т.д\n",
    "-чаще всего, квартира продаётся в первые 100 дней.\n",
    "-Большинство объектов недвижимости находятся на расстоянии ~ 15 км от центра города\n",
    "-Большинство квартир имеют суммарную площадь 30-45 квадратных метров.\n",
    "-Большинство объектов расположены на расстоянии 300-700 метров от ближайшего парка\n",
    "-Большинство двухкомнтаных квартир имеют общую площадь от 50 до 100 кв.м. "
   ]
  },
  {
   "cell_type": "markdown",
   "metadata": {},
   "source": [
    "**Чек-лист готовности проекта**\n",
    "\n",
    "Поставьте 'x' в выполненных пунктах. Далее нажмите Shift+Enter."
   ]
  },
  {
   "cell_type": "markdown",
   "metadata": {},
   "source": [
    "- [x]  открыт файл\n",
    "- [х]  файлы изучены (выведены первые строки, метод `info()`, гистограммы и т.д.)\n",
    "- [х]  определены пропущенные значения\n",
    "- [х]  заполнены пропущенные значения там, где это возможно\n",
    "- [х]  есть пояснение, какие пропущенные значения обнаружены\n",
    "- [х]  изменены типы данных\n",
    "- [х]  есть пояснение, в каких столбцах изменены типы и почему\n",
    "- [х]  устранены неявные дубликаты в названиях населённых пунктов\n",
    "- [х]  устранены редкие и выбивающиеся значения (аномалии) во всех столбцах\n",
    "- [х]  посчитано и добавлено в таблицу: цена одного квадратного метра\n",
    "- [х]  посчитано и добавлено в таблицу: день публикации объявления (0 - понедельник, 1 - вторник и т.д.)\n",
    "- [х]  посчитано и добавлено в таблицу: месяц публикации объявления\n",
    "- [х]  посчитано и добавлено в таблицу: год публикации объявления\n",
    "- [х]  посчитано и добавлено в таблицу: тип этажа квартиры (значения — «первый», «последний», «другой»)\n",
    "- [х]  посчитано и добавлено в таблицу: расстояние в км до центра города\n",
    "- [х]  изучены и описаны следующие параметры:\n",
    "        - общая площадь;\n",
    "        - жилая площадь;\n",
    "        - площадь кухни;\n",
    "        - цена объекта;\n",
    "        - количество комнат;\n",
    "        - высота потолков;\n",
    "        - этаж квартиры;\n",
    "        - тип этажа квартиры («первый», «последний», «другой»);\n",
    "        - общее количество этажей в доме;\n",
    "        - расстояние до центра города в метрах;\n",
    "        - расстояние до ближайшего аэропорта;\n",
    "        - расстояние до ближайшего парка;\n",
    "        - день и месяц публикации объявления\n",
    "- [х]  построены гистограммы для каждого параметра\n",
    "- [х]  выполнено задание: \"Изучите, как быстро продавались квартиры (столбец days_exposition). Этот параметр показывает, сколько дней «висело» каждое объявление.\n",
    "    - Постройте гистограмму.\n",
    "    - Посчитайте среднее и медиану.\n",
    "    - В ячейке типа markdown опишите, сколько обычно занимает продажа. Какие продажи можно считать быстрыми, а какие — необычно долгими?\"\n",
    "- [х]  выполнено задание: \"Какие факторы больше всего влияют на общую (полную) стоимость объекта? Постройте графики, которые покажут зависимость цены от указанных ниже параметров. Для подготовки данных перед визуализацией вы можете использовать сводные таблицы.\"\n",
    "        - общей площади;\n",
    "        - жилой площади;\n",
    "        - площади кухни;\n",
    "        - количество комнат;\n",
    "        - типа этажа, на котором расположена квартира (первый, последний, другой);\n",
    "        - даты размещения (день недели, месяц, год);\n",
    "- [х]  выполнено задание: \"Посчитайте среднюю цену одного квадратного метра в 10 населённых пунктах с наибольшим числом объявлений. Выделите населённые пункты с самой высокой и низкой стоимостью квадратного метра. Эти данные можно найти по имени в столбце `locality_name`.\"\n",
    "- [х]  выполнено задание: \"Ранее вы посчитали расстояние до центра в километрах. Теперь выделите квартиры в Санкт-Петербурге с помощью столбца `locality_name` и вычислите среднюю цену каждого километра. Опишите, как стоимость объектов зависит от расстояния до центра города.\"\n",
    "- [х]  в каждом этапе есть промежуточные выводы\n",
    "- [х]  есть общий вывод"
   ]
  }
 ],
 "metadata": {
  "ExecuteTimeLog": [
   {
    "duration": 728,
    "start_time": "2023-10-05T16:32:47.878Z"
   },
   {
    "duration": 103,
    "start_time": "2023-10-05T16:33:58.061Z"
   },
   {
    "duration": 497,
    "start_time": "2023-10-05T16:34:13.809Z"
   },
   {
    "duration": 103,
    "start_time": "2023-10-05T16:34:43.837Z"
   },
   {
    "duration": 725,
    "start_time": "2023-10-05T16:34:54.853Z"
   },
   {
    "duration": 102,
    "start_time": "2023-10-05T16:39:49.001Z"
   },
   {
    "duration": 8,
    "start_time": "2023-10-05T16:40:08.870Z"
   },
   {
    "duration": 8,
    "start_time": "2023-10-05T16:40:13.555Z"
   },
   {
    "duration": 90,
    "start_time": "2023-10-05T16:41:24.061Z"
   },
   {
    "duration": 96,
    "start_time": "2023-10-05T16:52:13.461Z"
   },
   {
    "duration": 2,
    "start_time": "2023-10-05T16:54:25.976Z"
   },
   {
    "duration": 86,
    "start_time": "2023-10-05T16:54:56.325Z"
   },
   {
    "duration": 87,
    "start_time": "2023-10-05T16:55:00.478Z"
   },
   {
    "duration": 5,
    "start_time": "2023-10-05T16:56:11.926Z"
   },
   {
    "duration": 85,
    "start_time": "2023-10-05T16:56:55.492Z"
   },
   {
    "duration": 5,
    "start_time": "2023-10-05T16:56:59.916Z"
   },
   {
    "duration": 97,
    "start_time": "2023-10-05T16:57:06.365Z"
   },
   {
    "duration": 94,
    "start_time": "2023-10-05T16:57:16.051Z"
   },
   {
    "duration": 94,
    "start_time": "2023-10-05T16:57:59.748Z"
   },
   {
    "duration": 81,
    "start_time": "2023-10-05T16:59:29.492Z"
   },
   {
    "duration": 5,
    "start_time": "2023-10-05T16:59:31.242Z"
   },
   {
    "duration": 96,
    "start_time": "2023-10-05T16:59:41.970Z"
   },
   {
    "duration": 17,
    "start_time": "2023-10-05T17:00:12.130Z"
   },
   {
    "duration": 86,
    "start_time": "2023-10-05T17:01:36.661Z"
   },
   {
    "duration": 3651,
    "start_time": "2023-10-05T17:01:50.540Z"
   },
   {
    "duration": 87,
    "start_time": "2023-10-05T17:02:08.275Z"
   },
   {
    "duration": 86,
    "start_time": "2023-10-05T17:04:29.818Z"
   },
   {
    "duration": 87,
    "start_time": "2023-10-05T17:05:03.675Z"
   },
   {
    "duration": 83,
    "start_time": "2023-10-05T17:05:11.016Z"
   },
   {
    "duration": 5,
    "start_time": "2023-10-05T17:05:19.314Z"
   },
   {
    "duration": 101,
    "start_time": "2023-10-05T17:05:37.801Z"
   },
   {
    "duration": 93,
    "start_time": "2023-10-05T17:05:50.530Z"
   },
   {
    "duration": 383,
    "start_time": "2023-10-05T17:20:58.750Z"
   },
   {
    "duration": 87,
    "start_time": "2023-10-05T17:20:59.135Z"
   },
   {
    "duration": 7,
    "start_time": "2023-10-05T17:20:59.224Z"
   },
   {
    "duration": 129,
    "start_time": "2023-10-05T17:21:28.451Z"
   },
   {
    "duration": 14,
    "start_time": "2023-10-05T17:21:31.145Z"
   },
   {
    "duration": 85,
    "start_time": "2023-10-05T17:22:37.241Z"
   },
   {
    "duration": 97,
    "start_time": "2023-10-05T17:23:06.373Z"
   },
   {
    "duration": 13,
    "start_time": "2023-10-05T17:23:10.496Z"
   },
   {
    "duration": 90,
    "start_time": "2023-10-05T17:24:02.816Z"
   },
   {
    "duration": 14,
    "start_time": "2023-10-05T17:27:18.058Z"
   },
   {
    "duration": 3,
    "start_time": "2023-10-05T17:27:44.856Z"
   },
   {
    "duration": 12,
    "start_time": "2023-10-05T17:27:49.374Z"
   },
   {
    "duration": 13,
    "start_time": "2023-10-05T17:28:36.013Z"
   },
   {
    "duration": 70,
    "start_time": "2023-10-05T17:30:23.190Z"
   },
   {
    "duration": 7,
    "start_time": "2023-10-05T17:30:33.053Z"
   },
   {
    "duration": 6,
    "start_time": "2023-10-05T17:30:52.532Z"
   },
   {
    "duration": 139,
    "start_time": "2023-10-05T17:31:00.965Z"
   },
   {
    "duration": 417,
    "start_time": "2023-10-05T17:31:14.812Z"
   },
   {
    "duration": 145,
    "start_time": "2023-10-05T17:31:15.231Z"
   },
   {
    "duration": 12,
    "start_time": "2023-10-05T17:31:15.378Z"
   },
   {
    "duration": 28,
    "start_time": "2023-10-05T17:31:15.392Z"
   },
   {
    "duration": 89,
    "start_time": "2023-10-05T17:31:26.867Z"
   },
   {
    "duration": 8,
    "start_time": "2023-10-05T17:32:20.939Z"
   },
   {
    "duration": 7,
    "start_time": "2023-10-05T17:34:30.403Z"
   },
   {
    "duration": 86,
    "start_time": "2023-10-05T17:34:37.168Z"
   },
   {
    "duration": 13,
    "start_time": "2023-10-05T17:34:38.279Z"
   },
   {
    "duration": 6,
    "start_time": "2023-10-05T17:34:41.823Z"
   },
   {
    "duration": 99,
    "start_time": "2023-10-05T17:35:15.483Z"
   },
   {
    "duration": 15,
    "start_time": "2023-10-05T17:35:16.859Z"
   },
   {
    "duration": 7,
    "start_time": "2023-10-05T17:35:17.800Z"
   },
   {
    "duration": 732,
    "start_time": "2023-10-05T17:40:08.886Z"
   },
   {
    "duration": 87,
    "start_time": "2023-10-05T17:40:11.108Z"
   },
   {
    "duration": 12,
    "start_time": "2023-10-05T17:40:11.573Z"
   },
   {
    "duration": 7,
    "start_time": "2023-10-05T17:40:14.129Z"
   },
   {
    "duration": 101,
    "start_time": "2023-10-05T17:43:19.483Z"
   },
   {
    "duration": 97,
    "start_time": "2023-10-05T17:43:35.016Z"
   },
   {
    "duration": 15,
    "start_time": "2023-10-05T17:43:38.265Z"
   },
   {
    "duration": 26,
    "start_time": "2023-10-05T17:43:42.899Z"
   },
   {
    "duration": 4,
    "start_time": "2023-10-05T17:53:40.599Z"
   },
   {
    "duration": 27,
    "start_time": "2023-10-05T17:53:45.598Z"
   },
   {
    "duration": 25,
    "start_time": "2023-10-05T17:54:09.374Z"
   },
   {
    "duration": 3,
    "start_time": "2023-10-05T17:54:38.057Z"
   },
   {
    "duration": 26,
    "start_time": "2023-10-05T17:54:43.473Z"
   },
   {
    "duration": 25,
    "start_time": "2023-10-05T17:54:48.277Z"
   },
   {
    "duration": 9,
    "start_time": "2023-10-05T17:55:50.447Z"
   },
   {
    "duration": 69,
    "start_time": "2023-10-05T18:00:44.680Z"
   },
   {
    "duration": 3,
    "start_time": "2023-10-05T18:03:30.419Z"
   },
   {
    "duration": 1265,
    "start_time": "2023-10-05T18:04:52.901Z"
   },
   {
    "duration": 1376,
    "start_time": "2023-10-05T18:05:04.516Z"
   },
   {
    "duration": 2110,
    "start_time": "2023-10-05T18:05:36.456Z"
   },
   {
    "duration": 1801,
    "start_time": "2023-10-05T18:05:44.847Z"
   },
   {
    "duration": 403,
    "start_time": "2023-10-05T18:10:23.341Z"
   },
   {
    "duration": 98,
    "start_time": "2023-10-05T18:10:23.746Z"
   },
   {
    "duration": 15,
    "start_time": "2023-10-05T18:10:23.846Z"
   },
   {
    "duration": 40,
    "start_time": "2023-10-05T18:10:23.863Z"
   },
   {
    "duration": 27,
    "start_time": "2023-10-05T18:10:23.905Z"
   },
   {
    "duration": 14,
    "start_time": "2023-10-05T18:10:23.934Z"
   },
   {
    "duration": 119,
    "start_time": "2023-10-05T18:10:23.950Z"
   },
   {
    "duration": 2204,
    "start_time": "2023-10-05T18:10:24.070Z"
   },
   {
    "duration": 24,
    "start_time": "2023-10-05T18:23:10.576Z"
   },
   {
    "duration": 10,
    "start_time": "2023-10-05T18:23:59.040Z"
   },
   {
    "duration": 69,
    "start_time": "2023-10-05T18:26:07.407Z"
   },
   {
    "duration": 25,
    "start_time": "2023-10-05T18:26:25.092Z"
   },
   {
    "duration": 21,
    "start_time": "2023-10-05T18:26:30.543Z"
   },
   {
    "duration": 20,
    "start_time": "2023-10-05T18:26:37.025Z"
   },
   {
    "duration": 2,
    "start_time": "2023-10-05T18:30:48.231Z"
   },
   {
    "duration": 2,
    "start_time": "2023-10-05T18:33:05.987Z"
   },
   {
    "duration": 3,
    "start_time": "2023-10-05T18:33:09.705Z"
   },
   {
    "duration": 3,
    "start_time": "2023-10-05T18:57:22.833Z"
   },
   {
    "duration": 20,
    "start_time": "2023-10-05T19:40:40.972Z"
   },
   {
    "duration": 14,
    "start_time": "2023-10-05T19:41:16.874Z"
   },
   {
    "duration": 1269,
    "start_time": "2023-10-05T20:58:14.142Z"
   },
   {
    "duration": 8,
    "start_time": "2023-10-05T20:59:36.057Z"
   },
   {
    "duration": 12,
    "start_time": "2023-10-05T21:02:21.561Z"
   },
   {
    "duration": 8,
    "start_time": "2023-10-05T21:03:51.819Z"
   },
   {
    "duration": 99,
    "start_time": "2023-10-05T21:05:03.982Z"
   },
   {
    "duration": 10,
    "start_time": "2023-10-05T21:05:11.260Z"
   },
   {
    "duration": 6,
    "start_time": "2023-10-05T21:05:18.341Z"
   },
   {
    "duration": 6,
    "start_time": "2023-10-05T21:05:47.635Z"
   },
   {
    "duration": 15,
    "start_time": "2023-10-05T21:11:32.388Z"
   },
   {
    "duration": 88,
    "start_time": "2023-10-05T21:26:58.845Z"
   },
   {
    "duration": 82,
    "start_time": "2023-10-05T21:28:25.185Z"
   },
   {
    "duration": 78,
    "start_time": "2023-10-05T21:28:36.979Z"
   },
   {
    "duration": 82,
    "start_time": "2023-10-05T21:28:42.093Z"
   },
   {
    "duration": 8,
    "start_time": "2023-10-05T21:29:07.596Z"
   },
   {
    "duration": 7,
    "start_time": "2023-10-05T21:30:06.357Z"
   },
   {
    "duration": 78,
    "start_time": "2023-10-05T21:30:32.459Z"
   },
   {
    "duration": 16,
    "start_time": "2023-10-05T21:33:24.004Z"
   },
   {
    "duration": 58,
    "start_time": "2023-10-05T21:37:59.391Z"
   },
   {
    "duration": 10,
    "start_time": "2023-10-05T21:38:24.459Z"
   },
   {
    "duration": 7,
    "start_time": "2023-10-05T21:39:57.605Z"
   },
   {
    "duration": 10,
    "start_time": "2023-10-05T21:40:52.171Z"
   },
   {
    "duration": 89,
    "start_time": "2023-10-05T21:41:25.115Z"
   },
   {
    "duration": 7,
    "start_time": "2023-10-05T21:41:29.691Z"
   },
   {
    "duration": 3,
    "start_time": "2023-10-05T21:44:24.725Z"
   },
   {
    "duration": 10,
    "start_time": "2023-10-05T21:44:48.967Z"
   },
   {
    "duration": 14,
    "start_time": "2023-10-05T21:44:59.365Z"
   },
   {
    "duration": 49,
    "start_time": "2023-10-06T09:05:55.527Z"
   },
   {
    "duration": 17,
    "start_time": "2023-10-06T09:06:01.741Z"
   },
   {
    "duration": 6,
    "start_time": "2023-10-06T09:07:43.373Z"
   },
   {
    "duration": 431,
    "start_time": "2023-10-06T09:07:57.733Z"
   },
   {
    "duration": 669,
    "start_time": "2023-10-06T09:07:58.166Z"
   },
   {
    "duration": 32,
    "start_time": "2023-10-06T09:07:58.837Z"
   },
   {
    "duration": 32,
    "start_time": "2023-10-06T09:07:58.871Z"
   },
   {
    "duration": 19,
    "start_time": "2023-10-06T09:07:58.905Z"
   },
   {
    "duration": 28,
    "start_time": "2023-10-06T09:07:58.925Z"
   },
   {
    "duration": 72,
    "start_time": "2023-10-06T09:07:58.954Z"
   },
   {
    "duration": 2210,
    "start_time": "2023-10-06T09:07:59.027Z"
   },
   {
    "duration": 26,
    "start_time": "2023-10-06T09:08:01.239Z"
   },
   {
    "duration": 205,
    "start_time": "2023-10-06T09:08:01.268Z"
   },
   {
    "duration": 14,
    "start_time": "2023-10-06T09:08:01.474Z"
   },
   {
    "duration": 77,
    "start_time": "2023-10-06T09:08:01.489Z"
   },
   {
    "duration": 53,
    "start_time": "2023-10-06T09:08:01.567Z"
   },
   {
    "duration": 41,
    "start_time": "2023-10-06T09:08:01.622Z"
   },
   {
    "duration": 68,
    "start_time": "2023-10-06T09:08:01.665Z"
   },
   {
    "duration": 45,
    "start_time": "2023-10-06T09:08:01.734Z"
   },
   {
    "duration": 40,
    "start_time": "2023-10-06T09:08:01.780Z"
   },
   {
    "duration": 45,
    "start_time": "2023-10-06T09:08:01.821Z"
   },
   {
    "duration": 110,
    "start_time": "2023-10-06T09:08:01.867Z"
   },
   {
    "duration": 5,
    "start_time": "2023-10-06T09:08:14.201Z"
   },
   {
    "duration": 5,
    "start_time": "2023-10-06T09:08:35.765Z"
   },
   {
    "duration": 6,
    "start_time": "2023-10-06T09:08:46.252Z"
   },
   {
    "duration": 11,
    "start_time": "2023-10-06T09:09:03.807Z"
   },
   {
    "duration": 7,
    "start_time": "2023-10-06T09:09:41.798Z"
   },
   {
    "duration": 7,
    "start_time": "2023-10-06T09:09:46.387Z"
   },
   {
    "duration": 40,
    "start_time": "2023-10-06T09:10:01.233Z"
   },
   {
    "duration": 7,
    "start_time": "2023-10-06T09:10:42.189Z"
   },
   {
    "duration": 4,
    "start_time": "2023-10-06T09:11:08.782Z"
   },
   {
    "duration": 18,
    "start_time": "2023-10-06T09:11:22.538Z"
   },
   {
    "duration": 6,
    "start_time": "2023-10-06T09:17:18.107Z"
   },
   {
    "duration": 9,
    "start_time": "2023-10-06T09:17:51.416Z"
   },
   {
    "duration": 14,
    "start_time": "2023-10-06T09:18:06.820Z"
   },
   {
    "duration": 100,
    "start_time": "2023-10-06T09:35:27.218Z"
   },
   {
    "duration": 11,
    "start_time": "2023-10-06T09:35:33.965Z"
   },
   {
    "duration": 6,
    "start_time": "2023-10-06T09:39:38.829Z"
   },
   {
    "duration": 16,
    "start_time": "2023-10-06T09:39:55.386Z"
   },
   {
    "duration": 108,
    "start_time": "2023-10-06T09:53:47.973Z"
   },
   {
    "duration": 129,
    "start_time": "2023-10-06T09:57:13.506Z"
   },
   {
    "duration": 13,
    "start_time": "2023-10-06T10:19:14.957Z"
   },
   {
    "duration": 7,
    "start_time": "2023-10-06T10:19:34.123Z"
   },
   {
    "duration": 10,
    "start_time": "2023-10-06T10:19:53.503Z"
   },
   {
    "duration": 4,
    "start_time": "2023-10-06T10:38:13.010Z"
   },
   {
    "duration": 53,
    "start_time": "2023-10-06T16:59:48.618Z"
   },
   {
    "duration": 397,
    "start_time": "2023-10-06T17:00:25.101Z"
   },
   {
    "duration": 339,
    "start_time": "2023-10-06T17:00:25.500Z"
   },
   {
    "duration": 23,
    "start_time": "2023-10-06T17:00:25.841Z"
   },
   {
    "duration": 42,
    "start_time": "2023-10-06T17:00:25.867Z"
   },
   {
    "duration": 25,
    "start_time": "2023-10-06T17:00:25.911Z"
   },
   {
    "duration": 11,
    "start_time": "2023-10-06T17:00:25.946Z"
   },
   {
    "duration": 83,
    "start_time": "2023-10-06T17:00:25.959Z"
   },
   {
    "duration": 2555,
    "start_time": "2023-10-06T17:00:26.044Z"
   },
   {
    "duration": 10,
    "start_time": "2023-10-06T17:00:28.601Z"
   },
   {
    "duration": 30,
    "start_time": "2023-10-06T17:00:28.613Z"
   },
   {
    "duration": 7,
    "start_time": "2023-10-06T17:00:28.648Z"
   },
   {
    "duration": 31,
    "start_time": "2023-10-06T17:00:28.657Z"
   },
   {
    "duration": 12,
    "start_time": "2023-10-06T17:00:28.689Z"
   },
   {
    "duration": 17,
    "start_time": "2023-10-06T17:00:28.703Z"
   },
   {
    "duration": 23,
    "start_time": "2023-10-06T17:00:28.722Z"
   },
   {
    "duration": 21,
    "start_time": "2023-10-06T17:00:28.748Z"
   },
   {
    "duration": 14,
    "start_time": "2023-10-06T17:00:28.770Z"
   },
   {
    "duration": 32,
    "start_time": "2023-10-06T17:00:28.785Z"
   },
   {
    "duration": 16,
    "start_time": "2023-10-06T17:00:28.819Z"
   },
   {
    "duration": 38,
    "start_time": "2023-10-06T17:00:28.836Z"
   },
   {
    "duration": 40,
    "start_time": "2023-10-06T17:00:28.876Z"
   },
   {
    "duration": 118,
    "start_time": "2023-10-06T17:00:28.918Z"
   },
   {
    "duration": 14,
    "start_time": "2023-10-06T17:00:29.038Z"
   },
   {
    "duration": 9,
    "start_time": "2023-10-06T17:00:29.054Z"
   },
   {
    "duration": 34,
    "start_time": "2023-10-06T17:00:29.065Z"
   },
   {
    "duration": 76,
    "start_time": "2023-10-06T17:07:57.255Z"
   },
   {
    "duration": 86,
    "start_time": "2023-10-06T17:08:04.303Z"
   },
   {
    "duration": 98,
    "start_time": "2023-10-06T17:15:48.364Z"
   },
   {
    "duration": 93,
    "start_time": "2023-10-06T17:15:53.392Z"
   },
   {
    "duration": 8,
    "start_time": "2023-10-06T17:16:18.916Z"
   },
   {
    "duration": 22,
    "start_time": "2023-10-06T17:16:36.118Z"
   },
   {
    "duration": 6,
    "start_time": "2023-10-06T17:17:15.905Z"
   },
   {
    "duration": 5,
    "start_time": "2023-10-06T17:17:25.670Z"
   },
   {
    "duration": 25,
    "start_time": "2023-10-06T17:17:46.694Z"
   },
   {
    "duration": 7,
    "start_time": "2023-10-06T17:20:46.070Z"
   },
   {
    "duration": 25,
    "start_time": "2023-10-06T17:21:01.770Z"
   },
   {
    "duration": 7,
    "start_time": "2023-10-06T17:22:09.719Z"
   },
   {
    "duration": 24,
    "start_time": "2023-10-06T17:23:11.447Z"
   },
   {
    "duration": 4,
    "start_time": "2023-10-06T17:54:13.714Z"
   },
   {
    "duration": 919,
    "start_time": "2023-10-06T17:56:11.458Z"
   },
   {
    "duration": 11,
    "start_time": "2023-10-06T17:57:57.239Z"
   },
   {
    "duration": 292,
    "start_time": "2023-10-06T17:58:08.634Z"
   },
   {
    "duration": 340,
    "start_time": "2023-10-06T17:59:01.257Z"
   },
   {
    "duration": 273,
    "start_time": "2023-10-06T17:59:10.689Z"
   },
   {
    "duration": 283,
    "start_time": "2023-10-06T17:59:22.717Z"
   },
   {
    "duration": 265,
    "start_time": "2023-10-06T17:59:28.481Z"
   },
   {
    "duration": 146,
    "start_time": "2023-10-06T18:42:31.429Z"
   },
   {
    "duration": 4,
    "start_time": "2023-10-06T18:42:35.628Z"
   },
   {
    "duration": 33,
    "start_time": "2023-10-06T18:42:51.613Z"
   },
   {
    "duration": 39,
    "start_time": "2023-10-06T18:43:26.450Z"
   },
   {
    "duration": 2,
    "start_time": "2023-10-06T19:19:08.236Z"
   },
   {
    "duration": 134,
    "start_time": "2023-10-06T19:23:43.918Z"
   },
   {
    "duration": 249,
    "start_time": "2023-10-06T19:24:18.002Z"
   },
   {
    "duration": 196,
    "start_time": "2023-10-06T19:24:25.987Z"
   },
   {
    "duration": 271,
    "start_time": "2023-10-06T19:24:31.276Z"
   },
   {
    "duration": 165,
    "start_time": "2023-10-06T19:25:00.396Z"
   },
   {
    "duration": 224,
    "start_time": "2023-10-06T19:25:08.342Z"
   },
   {
    "duration": 202,
    "start_time": "2023-10-06T19:25:33.299Z"
   },
   {
    "duration": 234,
    "start_time": "2023-10-06T19:25:52.221Z"
   },
   {
    "duration": 374,
    "start_time": "2023-10-06T19:26:02.157Z"
   },
   {
    "duration": 233,
    "start_time": "2023-10-06T19:26:09.648Z"
   },
   {
    "duration": 308,
    "start_time": "2023-10-06T19:26:14.401Z"
   },
   {
    "duration": 250,
    "start_time": "2023-10-06T19:26:19.174Z"
   },
   {
    "duration": 262,
    "start_time": "2023-10-06T19:26:44.820Z"
   },
   {
    "duration": 326,
    "start_time": "2023-10-06T19:26:49.381Z"
   },
   {
    "duration": 252,
    "start_time": "2023-10-06T19:26:56.006Z"
   },
   {
    "duration": 296,
    "start_time": "2023-10-06T19:27:43.898Z"
   },
   {
    "duration": 374,
    "start_time": "2023-10-06T19:27:49.193Z"
   },
   {
    "duration": 224,
    "start_time": "2023-10-06T19:27:54.768Z"
   },
   {
    "duration": 247,
    "start_time": "2023-10-06T19:28:00.174Z"
   },
   {
    "duration": 9,
    "start_time": "2023-10-06T19:29:14.897Z"
   },
   {
    "duration": 245,
    "start_time": "2023-10-06T19:34:44.519Z"
   },
   {
    "duration": 296,
    "start_time": "2023-10-06T19:37:12.348Z"
   },
   {
    "duration": 212,
    "start_time": "2023-10-06T19:37:26.686Z"
   },
   {
    "duration": 279,
    "start_time": "2023-10-06T19:37:31.295Z"
   },
   {
    "duration": 173,
    "start_time": "2023-10-06T19:37:35.361Z"
   },
   {
    "duration": 153,
    "start_time": "2023-10-06T19:37:38.873Z"
   },
   {
    "duration": 206,
    "start_time": "2023-10-06T19:37:44.476Z"
   },
   {
    "duration": 170,
    "start_time": "2023-10-06T19:38:05.123Z"
   },
   {
    "duration": 155,
    "start_time": "2023-10-06T19:38:42.054Z"
   },
   {
    "duration": 156,
    "start_time": "2023-10-06T19:39:49.987Z"
   },
   {
    "duration": 151,
    "start_time": "2023-10-06T19:39:57.766Z"
   },
   {
    "duration": 146,
    "start_time": "2023-10-06T19:40:06.238Z"
   },
   {
    "duration": 152,
    "start_time": "2023-10-06T19:40:15.824Z"
   },
   {
    "duration": 2,
    "start_time": "2023-10-06T19:41:03.178Z"
   },
   {
    "duration": 10,
    "start_time": "2023-10-06T19:41:16.639Z"
   },
   {
    "duration": 156,
    "start_time": "2023-10-06T19:41:42.436Z"
   },
   {
    "duration": 152,
    "start_time": "2023-10-06T19:41:55.001Z"
   },
   {
    "duration": 152,
    "start_time": "2023-10-06T19:53:36.858Z"
   },
   {
    "duration": 151,
    "start_time": "2023-10-06T19:53:53.198Z"
   },
   {
    "duration": 3,
    "start_time": "2023-10-06T19:54:22.836Z"
   },
   {
    "duration": 147,
    "start_time": "2023-10-06T19:54:26.082Z"
   },
   {
    "duration": 166,
    "start_time": "2023-10-06T19:54:34.234Z"
   },
   {
    "duration": 160,
    "start_time": "2023-10-06T19:54:43.826Z"
   },
   {
    "duration": 197,
    "start_time": "2023-10-06T19:54:50.622Z"
   },
   {
    "duration": 203,
    "start_time": "2023-10-06T19:55:08.342Z"
   },
   {
    "duration": 180,
    "start_time": "2023-10-06T19:55:12.096Z"
   },
   {
    "duration": 179,
    "start_time": "2023-10-06T19:55:17.310Z"
   },
   {
    "duration": 226,
    "start_time": "2023-10-06T19:55:21.583Z"
   },
   {
    "duration": 10,
    "start_time": "2023-10-06T19:55:56.937Z"
   },
   {
    "duration": 8,
    "start_time": "2023-10-06T19:57:00.680Z"
   },
   {
    "duration": 164,
    "start_time": "2023-10-06T19:57:19.963Z"
   },
   {
    "duration": 171,
    "start_time": "2023-10-06T19:57:49.394Z"
   },
   {
    "duration": 171,
    "start_time": "2023-10-06T19:57:54.135Z"
   },
   {
    "duration": 139,
    "start_time": "2023-10-06T19:57:58.788Z"
   },
   {
    "duration": 152,
    "start_time": "2023-10-06T19:58:25.009Z"
   },
   {
    "duration": 128,
    "start_time": "2023-10-06T19:58:35.465Z"
   },
   {
    "duration": 150,
    "start_time": "2023-10-06T19:58:43.039Z"
   },
   {
    "duration": 125,
    "start_time": "2023-10-06T19:59:37.356Z"
   },
   {
    "duration": 133,
    "start_time": "2023-10-06T19:59:42.591Z"
   },
   {
    "duration": 143,
    "start_time": "2023-10-06T19:59:48.604Z"
   },
   {
    "duration": 147,
    "start_time": "2023-10-06T19:59:53.602Z"
   },
   {
    "duration": 147,
    "start_time": "2023-10-06T20:00:09.435Z"
   },
   {
    "duration": 344,
    "start_time": "2023-10-06T20:00:20.678Z"
   },
   {
    "duration": 143,
    "start_time": "2023-10-06T20:00:35.499Z"
   },
   {
    "duration": 9,
    "start_time": "2023-10-06T20:01:21.521Z"
   },
   {
    "duration": 187,
    "start_time": "2023-10-06T20:02:54.278Z"
   },
   {
    "duration": 170,
    "start_time": "2023-10-06T20:03:07.083Z"
   },
   {
    "duration": 163,
    "start_time": "2023-10-06T20:03:13.371Z"
   },
   {
    "duration": 181,
    "start_time": "2023-10-06T20:03:58.821Z"
   },
   {
    "duration": 154,
    "start_time": "2023-10-06T20:06:05.574Z"
   },
   {
    "duration": 141,
    "start_time": "2023-10-06T20:06:09.616Z"
   },
   {
    "duration": 243,
    "start_time": "2023-10-06T20:06:14.064Z"
   },
   {
    "duration": 202,
    "start_time": "2023-10-06T20:06:18.626Z"
   },
   {
    "duration": 573,
    "start_time": "2023-10-06T20:06:26.853Z"
   },
   {
    "duration": 176,
    "start_time": "2023-10-06T20:06:34.578Z"
   },
   {
    "duration": 146,
    "start_time": "2023-10-06T20:08:36.405Z"
   },
   {
    "duration": 164,
    "start_time": "2023-10-06T20:08:52.992Z"
   },
   {
    "duration": 79,
    "start_time": "2023-10-06T20:09:20.288Z"
   },
   {
    "duration": 141,
    "start_time": "2023-10-06T20:09:25.355Z"
   },
   {
    "duration": 158,
    "start_time": "2023-10-06T20:09:44.591Z"
   },
   {
    "duration": 101,
    "start_time": "2023-10-06T20:10:15.040Z"
   },
   {
    "duration": 149,
    "start_time": "2023-10-06T20:10:20.350Z"
   },
   {
    "duration": 210,
    "start_time": "2023-10-06T20:10:24.346Z"
   },
   {
    "duration": 9,
    "start_time": "2023-10-06T20:11:05.756Z"
   },
   {
    "duration": 144,
    "start_time": "2023-10-06T20:18:46.018Z"
   },
   {
    "duration": 147,
    "start_time": "2023-10-06T20:19:05.682Z"
   },
   {
    "duration": 147,
    "start_time": "2023-10-06T20:19:25.359Z"
   },
   {
    "duration": 148,
    "start_time": "2023-10-06T20:19:45.711Z"
   },
   {
    "duration": 372,
    "start_time": "2023-10-06T20:19:49.853Z"
   },
   {
    "duration": 152,
    "start_time": "2023-10-06T20:19:56.635Z"
   },
   {
    "duration": 155,
    "start_time": "2023-10-06T20:20:00.903Z"
   },
   {
    "duration": 9,
    "start_time": "2023-10-06T20:20:36.861Z"
   },
   {
    "duration": 24,
    "start_time": "2023-10-06T20:21:18.488Z"
   },
   {
    "duration": 8,
    "start_time": "2023-10-06T20:23:16.175Z"
   },
   {
    "duration": 8,
    "start_time": "2023-10-06T20:23:40.265Z"
   },
   {
    "duration": 24,
    "start_time": "2023-10-06T20:23:52.445Z"
   },
   {
    "duration": 9,
    "start_time": "2023-10-06T20:25:59.655Z"
   },
   {
    "duration": 14,
    "start_time": "2023-10-06T20:26:11.157Z"
   },
   {
    "duration": 129,
    "start_time": "2023-10-06T20:29:02.284Z"
   },
   {
    "duration": 3,
    "start_time": "2023-10-06T20:32:18.550Z"
   },
   {
    "duration": 10,
    "start_time": "2023-10-06T20:32:36.422Z"
   },
   {
    "duration": 113,
    "start_time": "2023-10-06T20:37:28.022Z"
   },
   {
    "duration": 123,
    "start_time": "2023-10-06T20:38:57.896Z"
   },
   {
    "duration": 116,
    "start_time": "2023-10-06T20:39:06.110Z"
   },
   {
    "duration": 8,
    "start_time": "2023-10-06T20:41:22.683Z"
   },
   {
    "duration": 250,
    "start_time": "2023-10-06T20:41:32.569Z"
   },
   {
    "duration": 153,
    "start_time": "2023-10-06T20:41:43.041Z"
   },
   {
    "duration": 4,
    "start_time": "2023-10-06T20:42:13.063Z"
   },
   {
    "duration": 148,
    "start_time": "2023-10-06T20:42:16.827Z"
   },
   {
    "duration": 142,
    "start_time": "2023-10-06T20:42:31.167Z"
   },
   {
    "duration": 159,
    "start_time": "2023-10-06T20:42:39.252Z"
   },
   {
    "duration": 146,
    "start_time": "2023-10-06T20:42:43.994Z"
   },
   {
    "duration": 162,
    "start_time": "2023-10-06T20:42:49.394Z"
   },
   {
    "duration": 162,
    "start_time": "2023-10-06T20:43:01.254Z"
   },
   {
    "duration": 157,
    "start_time": "2023-10-06T20:43:05.920Z"
   },
   {
    "duration": 159,
    "start_time": "2023-10-06T20:43:09.511Z"
   },
   {
    "duration": 149,
    "start_time": "2023-10-06T20:43:14.917Z"
   },
   {
    "duration": 164,
    "start_time": "2023-10-06T20:43:21.452Z"
   },
   {
    "duration": 9,
    "start_time": "2023-10-06T20:53:19.983Z"
   },
   {
    "duration": 1381,
    "start_time": "2023-10-06T20:56:09.352Z"
   },
   {
    "duration": 155,
    "start_time": "2023-10-06T20:56:27.603Z"
   },
   {
    "duration": 4,
    "start_time": "2023-10-06T20:57:16.344Z"
   },
   {
    "duration": 137,
    "start_time": "2023-10-06T20:57:20.795Z"
   },
   {
    "duration": 162,
    "start_time": "2023-10-06T20:57:31.583Z"
   },
   {
    "duration": 9,
    "start_time": "2023-10-06T20:58:34.123Z"
   },
   {
    "duration": 9,
    "start_time": "2023-10-06T21:03:56.234Z"
   },
   {
    "duration": 3,
    "start_time": "2023-10-06T21:06:36.742Z"
   },
   {
    "duration": 146,
    "start_time": "2023-10-06T21:06:40.223Z"
   },
   {
    "duration": 152,
    "start_time": "2023-10-06T21:07:08.083Z"
   },
   {
    "duration": 189,
    "start_time": "2023-10-06T21:07:14.407Z"
   },
   {
    "duration": 157,
    "start_time": "2023-10-06T21:08:12.208Z"
   },
   {
    "duration": 296,
    "start_time": "2023-10-06T21:08:26.341Z"
   },
   {
    "duration": 211,
    "start_time": "2023-10-06T21:09:26.080Z"
   },
   {
    "duration": 212,
    "start_time": "2023-10-06T21:10:59.396Z"
   },
   {
    "duration": 220,
    "start_time": "2023-10-06T21:11:08.296Z"
   },
   {
    "duration": 243,
    "start_time": "2023-10-06T21:16:22.168Z"
   },
   {
    "duration": 22,
    "start_time": "2023-10-06T21:53:17.306Z"
   },
   {
    "duration": 191,
    "start_time": "2023-10-06T21:53:50.956Z"
   },
   {
    "duration": 1336,
    "start_time": "2023-10-06T21:55:17.650Z"
   },
   {
    "duration": 450,
    "start_time": "2023-10-06T21:55:56.579Z"
   },
   {
    "duration": 29,
    "start_time": "2023-10-06T21:57:41.481Z"
   },
   {
    "duration": 83,
    "start_time": "2023-10-06T21:58:35.202Z"
   },
   {
    "duration": 1483,
    "start_time": "2023-10-06T21:58:41.383Z"
   },
   {
    "duration": 1487,
    "start_time": "2023-10-06T22:00:25.823Z"
   },
   {
    "duration": 1256,
    "start_time": "2023-10-06T22:01:01.497Z"
   },
   {
    "duration": 1852,
    "start_time": "2023-10-06T22:01:13.775Z"
   },
   {
    "duration": 22,
    "start_time": "2023-10-06T22:01:20.404Z"
   },
   {
    "duration": 1673,
    "start_time": "2023-10-06T22:01:56.829Z"
   },
   {
    "duration": 1473,
    "start_time": "2023-10-06T22:03:40.666Z"
   },
   {
    "duration": 109,
    "start_time": "2023-10-06T22:04:42.819Z"
   },
   {
    "duration": 4,
    "start_time": "2023-10-06T22:04:54.275Z"
   },
   {
    "duration": 1509,
    "start_time": "2023-10-06T22:04:58.499Z"
   },
   {
    "duration": 3,
    "start_time": "2023-10-06T22:05:03.077Z"
   },
   {
    "duration": 2010,
    "start_time": "2023-10-06T22:05:06.697Z"
   },
   {
    "duration": 7,
    "start_time": "2023-10-06T22:06:27.072Z"
   },
   {
    "duration": 179,
    "start_time": "2023-10-06T22:08:15.124Z"
   },
   {
    "duration": 95,
    "start_time": "2023-10-06T22:08:23.475Z"
   },
   {
    "duration": 180,
    "start_time": "2023-10-06T22:08:37.519Z"
   },
   {
    "duration": 185,
    "start_time": "2023-10-06T22:08:47.175Z"
   },
   {
    "duration": 175,
    "start_time": "2023-10-06T22:10:01.106Z"
   },
   {
    "duration": 178,
    "start_time": "2023-10-06T22:10:09.873Z"
   },
   {
    "duration": 193,
    "start_time": "2023-10-06T22:10:24.959Z"
   },
   {
    "duration": 180,
    "start_time": "2023-10-06T22:10:38.541Z"
   },
   {
    "duration": 171,
    "start_time": "2023-10-06T22:10:55.821Z"
   },
   {
    "duration": 184,
    "start_time": "2023-10-06T22:11:02.260Z"
   },
   {
    "duration": 179,
    "start_time": "2023-10-06T22:11:06.573Z"
   },
   {
    "duration": 179,
    "start_time": "2023-10-06T22:12:04.748Z"
   },
   {
    "duration": 188,
    "start_time": "2023-10-06T22:12:14.066Z"
   },
   {
    "duration": 132,
    "start_time": "2023-10-06T22:13:35.681Z"
   },
   {
    "duration": 170,
    "start_time": "2023-10-06T22:13:52.634Z"
   },
   {
    "duration": 182,
    "start_time": "2023-10-06T22:14:04.756Z"
   },
   {
    "duration": 207,
    "start_time": "2023-10-06T22:14:29.574Z"
   },
   {
    "duration": 216,
    "start_time": "2023-10-06T22:14:38.256Z"
   },
   {
    "duration": 210,
    "start_time": "2023-10-06T22:17:25.116Z"
   },
   {
    "duration": 201,
    "start_time": "2023-10-06T22:17:35.704Z"
   },
   {
    "duration": 206,
    "start_time": "2023-10-06T22:17:53.471Z"
   },
   {
    "duration": 203,
    "start_time": "2023-10-06T22:17:58.669Z"
   },
   {
    "duration": 210,
    "start_time": "2023-10-06T22:18:45.974Z"
   },
   {
    "duration": 195,
    "start_time": "2023-10-06T22:20:46.439Z"
   },
   {
    "duration": 172,
    "start_time": "2023-10-06T22:21:12.456Z"
   },
   {
    "duration": 182,
    "start_time": "2023-10-06T22:21:18.978Z"
   },
   {
    "duration": 214,
    "start_time": "2023-10-06T22:23:24.647Z"
   },
   {
    "duration": 178,
    "start_time": "2023-10-06T22:23:29.707Z"
   },
   {
    "duration": 187,
    "start_time": "2023-10-06T22:23:37.957Z"
   },
   {
    "duration": 173,
    "start_time": "2023-10-06T22:24:09.985Z"
   },
   {
    "duration": 164,
    "start_time": "2023-10-06T22:26:47.832Z"
   },
   {
    "duration": 193,
    "start_time": "2023-10-06T22:27:33.662Z"
   },
   {
    "duration": 1539,
    "start_time": "2023-10-06T22:31:42.058Z"
   },
   {
    "duration": 1968,
    "start_time": "2023-10-06T22:34:49.171Z"
   },
   {
    "duration": 955,
    "start_time": "2023-10-06T22:35:48.895Z"
   },
   {
    "duration": 15,
    "start_time": "2023-10-06T22:39:55.930Z"
   },
   {
    "duration": 14,
    "start_time": "2023-10-06T22:40:57.739Z"
   },
   {
    "duration": 16,
    "start_time": "2023-10-06T22:42:42.894Z"
   },
   {
    "duration": 14,
    "start_time": "2023-10-06T22:42:48.935Z"
   },
   {
    "duration": 24,
    "start_time": "2023-10-06T22:43:22.557Z"
   },
   {
    "duration": 139,
    "start_time": "2023-10-06T22:44:03.365Z"
   },
   {
    "duration": 23,
    "start_time": "2023-10-06T22:44:27.675Z"
   },
   {
    "duration": 137,
    "start_time": "2023-10-06T22:44:34.210Z"
   },
   {
    "duration": 159,
    "start_time": "2023-10-06T22:44:46.988Z"
   },
   {
    "duration": 169,
    "start_time": "2023-10-06T22:44:58.560Z"
   },
   {
    "duration": 321,
    "start_time": "2023-10-06T22:50:02.292Z"
   },
   {
    "duration": 167,
    "start_time": "2023-10-06T22:50:12.753Z"
   },
   {
    "duration": 498,
    "start_time": "2023-10-06T22:50:21.516Z"
   },
   {
    "duration": 187,
    "start_time": "2023-10-06T22:50:32.097Z"
   },
   {
    "duration": 165,
    "start_time": "2023-10-06T22:50:41.430Z"
   },
   {
    "duration": 1647,
    "start_time": "2023-10-06T22:52:29.591Z"
   },
   {
    "duration": 198,
    "start_time": "2023-10-06T22:53:23.592Z"
   },
   {
    "duration": 136,
    "start_time": "2023-10-06T22:53:37.583Z"
   },
   {
    "duration": 159,
    "start_time": "2023-10-06T22:53:41.732Z"
   },
   {
    "duration": 341,
    "start_time": "2023-10-06T22:54:33.618Z"
   },
   {
    "duration": 323,
    "start_time": "2023-10-06T22:54:41.683Z"
   },
   {
    "duration": 470,
    "start_time": "2023-10-06T22:55:12.386Z"
   },
   {
    "duration": 505,
    "start_time": "2023-10-06T22:55:29.486Z"
   },
   {
    "duration": 526,
    "start_time": "2023-10-06T22:55:44.026Z"
   },
   {
    "duration": 203,
    "start_time": "2023-10-06T23:12:10.845Z"
   },
   {
    "duration": 6,
    "start_time": "2023-10-06T23:12:19.794Z"
   },
   {
    "duration": 10,
    "start_time": "2023-10-06T23:12:32.371Z"
   },
   {
    "duration": 14,
    "start_time": "2023-10-06T23:20:19.158Z"
   },
   {
    "duration": 12,
    "start_time": "2023-10-06T23:21:01.552Z"
   },
   {
    "duration": 19,
    "start_time": "2023-10-06T23:21:16.589Z"
   },
   {
    "duration": 144,
    "start_time": "2023-10-06T23:25:34.386Z"
   },
   {
    "duration": 9,
    "start_time": "2023-10-06T23:26:26.498Z"
   },
   {
    "duration": 90,
    "start_time": "2023-10-06T23:26:36.503Z"
   },
   {
    "duration": 154,
    "start_time": "2023-10-06T23:26:45.536Z"
   },
   {
    "duration": 1404,
    "start_time": "2023-10-06T23:27:16.394Z"
   },
   {
    "duration": 8,
    "start_time": "2023-10-06T23:32:59.673Z"
   },
   {
    "duration": 8,
    "start_time": "2023-10-06T23:35:04.814Z"
   },
   {
    "duration": 12,
    "start_time": "2023-10-06T23:35:23.798Z"
   },
   {
    "duration": 156,
    "start_time": "2023-10-06T23:35:52.013Z"
   },
   {
    "duration": 77,
    "start_time": "2023-10-06T23:35:56.099Z"
   },
   {
    "duration": 8,
    "start_time": "2023-10-06T23:36:08.381Z"
   },
   {
    "duration": 45,
    "start_time": "2023-10-06T23:36:15.034Z"
   },
   {
    "duration": 27,
    "start_time": "2023-10-06T23:37:14.752Z"
   },
   {
    "duration": 27,
    "start_time": "2023-10-06T23:38:09.870Z"
   },
   {
    "duration": 16,
    "start_time": "2023-10-06T23:38:26.217Z"
   },
   {
    "duration": 12,
    "start_time": "2023-10-06T23:38:39.567Z"
   },
   {
    "duration": 18,
    "start_time": "2023-10-06T23:44:13.564Z"
   },
   {
    "duration": 159,
    "start_time": "2023-10-06T23:44:51.034Z"
   },
   {
    "duration": 148,
    "start_time": "2023-10-06T23:46:30.194Z"
   },
   {
    "duration": 404,
    "start_time": "2023-10-07T08:23:15.742Z"
   },
   {
    "duration": 313,
    "start_time": "2023-10-07T08:23:16.148Z"
   },
   {
    "duration": 17,
    "start_time": "2023-10-07T08:23:16.463Z"
   },
   {
    "duration": 53,
    "start_time": "2023-10-07T08:23:16.482Z"
   },
   {
    "duration": 52,
    "start_time": "2023-10-07T08:23:16.537Z"
   },
   {
    "duration": 33,
    "start_time": "2023-10-07T08:23:16.591Z"
   },
   {
    "duration": 102,
    "start_time": "2023-10-07T08:23:16.626Z"
   },
   {
    "duration": 2105,
    "start_time": "2023-10-07T08:23:16.730Z"
   },
   {
    "duration": 11,
    "start_time": "2023-10-07T08:23:18.837Z"
   },
   {
    "duration": 36,
    "start_time": "2023-10-07T08:23:18.850Z"
   },
   {
    "duration": 2,
    "start_time": "2023-10-07T08:23:18.889Z"
   },
   {
    "duration": 37,
    "start_time": "2023-10-07T08:23:18.893Z"
   },
   {
    "duration": 27,
    "start_time": "2023-10-07T08:23:18.931Z"
   },
   {
    "duration": 39,
    "start_time": "2023-10-07T08:23:18.961Z"
   },
   {
    "duration": 25,
    "start_time": "2023-10-07T08:23:19.002Z"
   },
   {
    "duration": 27,
    "start_time": "2023-10-07T08:23:19.029Z"
   },
   {
    "duration": 32,
    "start_time": "2023-10-07T08:23:19.058Z"
   },
   {
    "duration": 30,
    "start_time": "2023-10-07T08:23:19.091Z"
   },
   {
    "duration": 37,
    "start_time": "2023-10-07T08:23:19.123Z"
   },
   {
    "duration": 33,
    "start_time": "2023-10-07T08:23:19.162Z"
   },
   {
    "duration": 24,
    "start_time": "2023-10-07T08:23:19.196Z"
   },
   {
    "duration": 122,
    "start_time": "2023-10-07T08:23:19.221Z"
   },
   {
    "duration": 10,
    "start_time": "2023-10-07T08:23:19.345Z"
   },
   {
    "duration": 37,
    "start_time": "2023-10-07T08:23:19.356Z"
   },
   {
    "duration": 24,
    "start_time": "2023-10-07T08:23:19.394Z"
   },
   {
    "duration": 56,
    "start_time": "2023-10-07T08:23:19.420Z"
   },
   {
    "duration": 35,
    "start_time": "2023-10-07T08:23:19.478Z"
   },
   {
    "duration": 25,
    "start_time": "2023-10-07T08:23:19.515Z"
   },
   {
    "duration": 38,
    "start_time": "2023-10-07T08:23:19.542Z"
   },
   {
    "duration": 4,
    "start_time": "2023-10-07T08:23:19.582Z"
   },
   {
    "duration": 310,
    "start_time": "2023-10-07T08:23:19.588Z"
   },
   {
    "duration": 23,
    "start_time": "2023-10-07T08:23:19.900Z"
   },
   {
    "duration": 252,
    "start_time": "2023-10-07T08:23:19.924Z"
   },
   {
    "duration": 9,
    "start_time": "2023-10-07T08:23:20.178Z"
   },
   {
    "duration": 176,
    "start_time": "2023-10-07T08:23:20.189Z"
   },
   {
    "duration": 9,
    "start_time": "2023-10-07T08:23:20.368Z"
   },
   {
    "duration": 273,
    "start_time": "2023-10-07T08:23:20.379Z"
   },
   {
    "duration": 10,
    "start_time": "2023-10-07T08:23:20.654Z"
   },
   {
    "duration": 186,
    "start_time": "2023-10-07T08:23:20.665Z"
   },
   {
    "duration": 8,
    "start_time": "2023-10-07T08:23:20.853Z"
   },
   {
    "duration": 164,
    "start_time": "2023-10-07T08:23:20.865Z"
   },
   {
    "duration": 13,
    "start_time": "2023-10-07T08:23:21.031Z"
   },
   {
    "duration": 163,
    "start_time": "2023-10-07T08:23:21.046Z"
   },
   {
    "duration": 8,
    "start_time": "2023-10-07T08:23:21.211Z"
   },
   {
    "duration": 128,
    "start_time": "2023-10-07T08:23:21.221Z"
   },
   {
    "duration": 9,
    "start_time": "2023-10-07T08:23:21.351Z"
   },
   {
    "duration": 176,
    "start_time": "2023-10-07T08:23:21.361Z"
   },
   {
    "duration": 11,
    "start_time": "2023-10-07T08:23:21.539Z"
   },
   {
    "duration": 179,
    "start_time": "2023-10-07T08:23:21.551Z"
   },
   {
    "duration": 14,
    "start_time": "2023-10-07T08:23:21.732Z"
   },
   {
    "duration": 8,
    "start_time": "2023-10-07T08:23:21.747Z"
   },
   {
    "duration": 238,
    "start_time": "2023-10-07T08:23:21.756Z"
   },
   {
    "duration": 3,
    "start_time": "2023-10-07T08:23:21.996Z"
   },
   {
    "duration": 221,
    "start_time": "2023-10-07T08:23:22.001Z"
   },
   {
    "duration": 199,
    "start_time": "2023-10-07T08:23:22.223Z"
   },
   {
    "duration": 197,
    "start_time": "2023-10-07T08:23:22.424Z"
   },
   {
    "duration": 249,
    "start_time": "2023-10-07T08:23:22.623Z"
   },
   {
    "duration": 185,
    "start_time": "2023-10-07T08:23:22.874Z"
   },
   {
    "duration": 77,
    "start_time": "2023-10-07T08:23:23.061Z"
   },
   {
    "duration": 0,
    "start_time": "2023-10-07T08:23:23.139Z"
   },
   {
    "duration": 0,
    "start_time": "2023-10-07T08:23:23.140Z"
   },
   {
    "duration": 0,
    "start_time": "2023-10-07T08:23:23.142Z"
   },
   {
    "duration": 0,
    "start_time": "2023-10-07T08:23:23.143Z"
   },
   {
    "duration": 0,
    "start_time": "2023-10-07T08:23:23.144Z"
   },
   {
    "duration": 0,
    "start_time": "2023-10-07T08:23:23.145Z"
   },
   {
    "duration": 0,
    "start_time": "2023-10-07T08:23:23.146Z"
   },
   {
    "duration": 425,
    "start_time": "2023-10-07T08:29:08.841Z"
   },
   {
    "duration": 90,
    "start_time": "2023-10-07T08:29:09.268Z"
   },
   {
    "duration": 15,
    "start_time": "2023-10-07T08:29:09.359Z"
   },
   {
    "duration": 43,
    "start_time": "2023-10-07T08:29:09.376Z"
   },
   {
    "duration": 35,
    "start_time": "2023-10-07T08:29:09.421Z"
   },
   {
    "duration": 10,
    "start_time": "2023-10-07T08:29:09.458Z"
   },
   {
    "duration": 75,
    "start_time": "2023-10-07T08:29:09.470Z"
   },
   {
    "duration": 2048,
    "start_time": "2023-10-07T08:29:09.547Z"
   },
   {
    "duration": 9,
    "start_time": "2023-10-07T08:29:11.597Z"
   },
   {
    "duration": 30,
    "start_time": "2023-10-07T08:29:11.609Z"
   },
   {
    "duration": 3,
    "start_time": "2023-10-07T08:29:11.640Z"
   },
   {
    "duration": 23,
    "start_time": "2023-10-07T08:29:11.644Z"
   },
   {
    "duration": 21,
    "start_time": "2023-10-07T08:29:11.668Z"
   },
   {
    "duration": 13,
    "start_time": "2023-10-07T08:29:11.691Z"
   },
   {
    "duration": 27,
    "start_time": "2023-10-07T08:29:11.705Z"
   },
   {
    "duration": 22,
    "start_time": "2023-10-07T08:29:11.734Z"
   },
   {
    "duration": 28,
    "start_time": "2023-10-07T08:29:11.758Z"
   },
   {
    "duration": 13,
    "start_time": "2023-10-07T08:29:11.788Z"
   },
   {
    "duration": 8,
    "start_time": "2023-10-07T08:29:11.803Z"
   },
   {
    "duration": 27,
    "start_time": "2023-10-07T08:29:11.812Z"
   },
   {
    "duration": 21,
    "start_time": "2023-10-07T08:29:11.840Z"
   },
   {
    "duration": 96,
    "start_time": "2023-10-07T08:29:11.863Z"
   },
   {
    "duration": 11,
    "start_time": "2023-10-07T08:29:11.960Z"
   },
   {
    "duration": 18,
    "start_time": "2023-10-07T08:29:11.973Z"
   },
   {
    "duration": 12,
    "start_time": "2023-10-07T08:29:11.992Z"
   },
   {
    "duration": 45,
    "start_time": "2023-10-07T08:29:12.005Z"
   },
   {
    "duration": 25,
    "start_time": "2023-10-07T08:29:12.052Z"
   },
   {
    "duration": 23,
    "start_time": "2023-10-07T08:29:12.081Z"
   },
   {
    "duration": 45,
    "start_time": "2023-10-07T08:29:12.106Z"
   },
   {
    "duration": 3,
    "start_time": "2023-10-07T08:29:12.153Z"
   },
   {
    "duration": 313,
    "start_time": "2023-10-07T08:29:12.157Z"
   },
   {
    "duration": 22,
    "start_time": "2023-10-07T08:29:12.471Z"
   },
   {
    "duration": 250,
    "start_time": "2023-10-07T08:29:12.495Z"
   },
   {
    "duration": 9,
    "start_time": "2023-10-07T08:29:12.746Z"
   },
   {
    "duration": 159,
    "start_time": "2023-10-07T08:29:12.756Z"
   },
   {
    "duration": 9,
    "start_time": "2023-10-07T08:29:12.916Z"
   },
   {
    "duration": 259,
    "start_time": "2023-10-07T08:29:12.926Z"
   },
   {
    "duration": 8,
    "start_time": "2023-10-07T08:29:13.187Z"
   },
   {
    "duration": 194,
    "start_time": "2023-10-07T08:29:13.197Z"
   },
   {
    "duration": 10,
    "start_time": "2023-10-07T08:29:13.393Z"
   },
   {
    "duration": 199,
    "start_time": "2023-10-07T08:29:13.404Z"
   },
   {
    "duration": 8,
    "start_time": "2023-10-07T08:29:13.604Z"
   },
   {
    "duration": 213,
    "start_time": "2023-10-07T08:29:13.614Z"
   },
   {
    "duration": 16,
    "start_time": "2023-10-07T08:29:13.828Z"
   },
   {
    "duration": 238,
    "start_time": "2023-10-07T08:29:13.846Z"
   },
   {
    "duration": 10,
    "start_time": "2023-10-07T08:29:14.086Z"
   },
   {
    "duration": 186,
    "start_time": "2023-10-07T08:29:14.098Z"
   },
   {
    "duration": 10,
    "start_time": "2023-10-07T08:29:14.285Z"
   },
   {
    "duration": 212,
    "start_time": "2023-10-07T08:29:14.297Z"
   },
   {
    "duration": 11,
    "start_time": "2023-10-07T08:29:14.512Z"
   },
   {
    "duration": 43,
    "start_time": "2023-10-07T08:29:14.525Z"
   },
   {
    "duration": 261,
    "start_time": "2023-10-07T08:29:14.570Z"
   },
   {
    "duration": 2,
    "start_time": "2023-10-07T08:29:14.832Z"
   },
   {
    "duration": 203,
    "start_time": "2023-10-07T08:29:14.843Z"
   },
   {
    "duration": 179,
    "start_time": "2023-10-07T08:29:15.048Z"
   },
   {
    "duration": 192,
    "start_time": "2023-10-07T08:29:15.229Z"
   },
   {
    "duration": 169,
    "start_time": "2023-10-07T08:29:15.423Z"
   },
   {
    "duration": 264,
    "start_time": "2023-10-07T08:29:15.594Z"
   },
   {
    "duration": 530,
    "start_time": "2023-10-07T08:29:15.860Z"
   },
   {
    "duration": 112,
    "start_time": "2023-10-07T08:29:16.392Z"
   },
   {
    "duration": 0,
    "start_time": "2023-10-07T08:29:16.506Z"
   },
   {
    "duration": 0,
    "start_time": "2023-10-07T08:29:16.507Z"
   },
   {
    "duration": 0,
    "start_time": "2023-10-07T08:29:16.508Z"
   },
   {
    "duration": 0,
    "start_time": "2023-10-07T08:29:16.509Z"
   },
   {
    "duration": 0,
    "start_time": "2023-10-07T08:29:16.510Z"
   },
   {
    "duration": 8,
    "start_time": "2023-10-07T09:03:54.757Z"
   },
   {
    "duration": 21,
    "start_time": "2023-10-07T09:03:55.200Z"
   },
   {
    "duration": 8,
    "start_time": "2023-10-07T09:03:56.028Z"
   },
   {
    "duration": 143,
    "start_time": "2023-10-07T09:03:56.437Z"
   },
   {
    "duration": 89,
    "start_time": "2023-10-07T09:03:57.573Z"
   },
   {
    "duration": 4,
    "start_time": "2023-10-08T18:24:57.120Z"
   },
   {
    "duration": 50,
    "start_time": "2023-10-08T18:25:38.182Z"
   },
   {
    "duration": 110,
    "start_time": "2023-10-08T18:25:53.387Z"
   },
   {
    "duration": 7,
    "start_time": "2023-10-08T18:26:00.899Z"
   },
   {
    "duration": 7,
    "start_time": "2023-10-08T18:26:05.320Z"
   },
   {
    "duration": 8,
    "start_time": "2023-10-08T18:29:45.569Z"
   },
   {
    "duration": 7,
    "start_time": "2023-10-08T18:29:55.192Z"
   },
   {
    "duration": 7,
    "start_time": "2023-10-08T18:31:46.809Z"
   },
   {
    "duration": 258,
    "start_time": "2023-10-08T18:32:03.565Z"
   },
   {
    "duration": 13,
    "start_time": "2023-10-08T18:33:10.766Z"
   },
   {
    "duration": 7,
    "start_time": "2023-10-08T18:33:29.486Z"
   },
   {
    "duration": 9,
    "start_time": "2023-10-08T18:46:42.823Z"
   },
   {
    "duration": 456,
    "start_time": "2023-10-08T18:47:05.006Z"
   },
   {
    "duration": 193,
    "start_time": "2023-10-08T18:47:05.467Z"
   },
   {
    "duration": 24,
    "start_time": "2023-10-08T18:47:05.662Z"
   },
   {
    "duration": 48,
    "start_time": "2023-10-08T18:47:05.689Z"
   },
   {
    "duration": 45,
    "start_time": "2023-10-08T18:47:05.740Z"
   },
   {
    "duration": 3,
    "start_time": "2023-10-08T18:47:05.787Z"
   },
   {
    "duration": 119,
    "start_time": "2023-10-08T18:47:05.791Z"
   },
   {
    "duration": 3026,
    "start_time": "2023-10-08T18:47:05.912Z"
   },
   {
    "duration": 14,
    "start_time": "2023-10-08T18:47:08.940Z"
   },
   {
    "duration": 44,
    "start_time": "2023-10-08T18:47:08.959Z"
   },
   {
    "duration": 4,
    "start_time": "2023-10-08T18:47:09.006Z"
   },
   {
    "duration": 22,
    "start_time": "2023-10-08T18:47:09.012Z"
   },
   {
    "duration": 19,
    "start_time": "2023-10-08T18:47:09.037Z"
   },
   {
    "duration": 17,
    "start_time": "2023-10-08T18:47:09.059Z"
   },
   {
    "duration": 38,
    "start_time": "2023-10-08T18:47:09.079Z"
   },
   {
    "duration": 41,
    "start_time": "2023-10-08T18:47:09.120Z"
   },
   {
    "duration": 20,
    "start_time": "2023-10-08T18:47:09.163Z"
   },
   {
    "duration": 42,
    "start_time": "2023-10-08T18:47:09.185Z"
   },
   {
    "duration": 17,
    "start_time": "2023-10-08T18:47:09.229Z"
   },
   {
    "duration": 26,
    "start_time": "2023-10-08T18:47:09.248Z"
   },
   {
    "duration": 34,
    "start_time": "2023-10-08T18:47:09.276Z"
   },
   {
    "duration": 134,
    "start_time": "2023-10-08T18:47:09.313Z"
   },
   {
    "duration": 28,
    "start_time": "2023-10-08T18:47:09.449Z"
   },
   {
    "duration": 21,
    "start_time": "2023-10-08T18:47:09.479Z"
   },
   {
    "duration": 17,
    "start_time": "2023-10-08T18:47:09.502Z"
   },
   {
    "duration": 54,
    "start_time": "2023-10-08T18:47:09.521Z"
   },
   {
    "duration": 26,
    "start_time": "2023-10-08T18:47:09.577Z"
   },
   {
    "duration": 42,
    "start_time": "2023-10-08T18:47:09.607Z"
   },
   {
    "duration": 43,
    "start_time": "2023-10-08T18:47:09.650Z"
   },
   {
    "duration": 4,
    "start_time": "2023-10-08T18:47:09.695Z"
   },
   {
    "duration": 364,
    "start_time": "2023-10-08T18:47:09.701Z"
   },
   {
    "duration": 30,
    "start_time": "2023-10-08T18:47:10.068Z"
   },
   {
    "duration": 310,
    "start_time": "2023-10-08T18:47:10.100Z"
   },
   {
    "duration": 10,
    "start_time": "2023-10-08T18:47:10.412Z"
   },
   {
    "duration": 304,
    "start_time": "2023-10-08T18:47:10.424Z"
   },
   {
    "duration": 11,
    "start_time": "2023-10-08T18:47:10.730Z"
   },
   {
    "duration": 243,
    "start_time": "2023-10-08T18:47:10.743Z"
   },
   {
    "duration": 11,
    "start_time": "2023-10-08T18:47:10.988Z"
   },
   {
    "duration": 213,
    "start_time": "2023-10-08T18:47:11.000Z"
   },
   {
    "duration": 10,
    "start_time": "2023-10-08T18:47:11.214Z"
   },
   {
    "duration": 207,
    "start_time": "2023-10-08T18:47:11.226Z"
   },
   {
    "duration": 9,
    "start_time": "2023-10-08T18:47:11.436Z"
   },
   {
    "duration": 217,
    "start_time": "2023-10-08T18:47:11.458Z"
   },
   {
    "duration": 11,
    "start_time": "2023-10-08T18:47:11.677Z"
   },
   {
    "duration": 172,
    "start_time": "2023-10-08T18:47:11.690Z"
   },
   {
    "duration": 14,
    "start_time": "2023-10-08T18:47:11.865Z"
   },
   {
    "duration": 261,
    "start_time": "2023-10-08T18:47:11.881Z"
   },
   {
    "duration": 19,
    "start_time": "2023-10-08T18:47:12.144Z"
   },
   {
    "duration": 219,
    "start_time": "2023-10-08T18:47:12.166Z"
   },
   {
    "duration": 25,
    "start_time": "2023-10-08T18:47:12.387Z"
   },
   {
    "duration": 112,
    "start_time": "2023-10-08T18:47:12.415Z"
   },
   {
    "duration": 0,
    "start_time": "2023-10-08T18:47:12.529Z"
   },
   {
    "duration": 0,
    "start_time": "2023-10-08T18:47:12.531Z"
   },
   {
    "duration": 0,
    "start_time": "2023-10-08T18:47:12.532Z"
   },
   {
    "duration": 0,
    "start_time": "2023-10-08T18:47:12.534Z"
   },
   {
    "duration": 0,
    "start_time": "2023-10-08T18:47:12.535Z"
   },
   {
    "duration": 0,
    "start_time": "2023-10-08T18:47:12.537Z"
   },
   {
    "duration": 0,
    "start_time": "2023-10-08T18:47:12.538Z"
   },
   {
    "duration": 0,
    "start_time": "2023-10-08T18:47:12.557Z"
   },
   {
    "duration": 0,
    "start_time": "2023-10-08T18:47:12.559Z"
   },
   {
    "duration": 0,
    "start_time": "2023-10-08T18:47:12.561Z"
   },
   {
    "duration": 0,
    "start_time": "2023-10-08T18:47:12.564Z"
   },
   {
    "duration": 0,
    "start_time": "2023-10-08T18:47:12.567Z"
   },
   {
    "duration": 0,
    "start_time": "2023-10-08T18:47:12.569Z"
   },
   {
    "duration": 0,
    "start_time": "2023-10-08T18:47:12.573Z"
   },
   {
    "duration": 147,
    "start_time": "2023-10-08T18:47:16.083Z"
   },
   {
    "duration": 142,
    "start_time": "2023-10-08T18:49:08.232Z"
   },
   {
    "duration": 157,
    "start_time": "2023-10-08T18:49:18.973Z"
   },
   {
    "duration": 160,
    "start_time": "2023-10-08T18:49:33.007Z"
   },
   {
    "duration": 3,
    "start_time": "2023-10-08T18:55:02.018Z"
   },
   {
    "duration": 168,
    "start_time": "2023-10-08T18:55:50.624Z"
   },
   {
    "duration": 10,
    "start_time": "2023-10-08T18:59:27.069Z"
   },
   {
    "duration": 11,
    "start_time": "2023-10-08T19:01:22.886Z"
   },
   {
    "duration": 3,
    "start_time": "2023-10-08T19:01:40.979Z"
   },
   {
    "duration": 3,
    "start_time": "2023-10-08T19:02:34.770Z"
   },
   {
    "duration": 10,
    "start_time": "2023-10-08T19:02:57.011Z"
   },
   {
    "duration": 4,
    "start_time": "2023-10-08T19:04:34.212Z"
   },
   {
    "duration": 5,
    "start_time": "2023-10-08T19:04:41.001Z"
   },
   {
    "duration": 6,
    "start_time": "2023-10-08T19:04:52.510Z"
   },
   {
    "duration": 4,
    "start_time": "2023-10-08T19:05:06.053Z"
   },
   {
    "duration": 9,
    "start_time": "2023-10-08T19:05:17.121Z"
   },
   {
    "duration": 5,
    "start_time": "2023-10-08T19:06:05.142Z"
   },
   {
    "duration": 4,
    "start_time": "2023-10-08T19:11:56.441Z"
   },
   {
    "duration": 4,
    "start_time": "2023-10-08T19:12:14.030Z"
   },
   {
    "duration": 5,
    "start_time": "2023-10-08T19:13:11.843Z"
   },
   {
    "duration": 471,
    "start_time": "2023-10-08T19:14:05.665Z"
   },
   {
    "duration": 120,
    "start_time": "2023-10-08T19:14:06.138Z"
   },
   {
    "duration": 18,
    "start_time": "2023-10-08T19:14:06.260Z"
   },
   {
    "duration": 11,
    "start_time": "2023-10-08T19:14:06.281Z"
   },
   {
    "duration": 6,
    "start_time": "2023-10-08T19:14:06.294Z"
   },
   {
    "duration": 57,
    "start_time": "2023-10-08T19:14:06.302Z"
   },
   {
    "duration": 39,
    "start_time": "2023-10-08T19:14:06.362Z"
   },
   {
    "duration": 3,
    "start_time": "2023-10-08T19:14:06.403Z"
   },
   {
    "duration": 106,
    "start_time": "2023-10-08T19:14:06.408Z"
   },
   {
    "duration": 2488,
    "start_time": "2023-10-08T19:14:06.517Z"
   },
   {
    "duration": 11,
    "start_time": "2023-10-08T19:14:09.007Z"
   },
   {
    "duration": 39,
    "start_time": "2023-10-08T19:14:09.020Z"
   },
   {
    "duration": 2,
    "start_time": "2023-10-08T19:14:09.061Z"
   },
   {
    "duration": 16,
    "start_time": "2023-10-08T19:14:09.065Z"
   },
   {
    "duration": 7,
    "start_time": "2023-10-08T19:14:09.083Z"
   },
   {
    "duration": 14,
    "start_time": "2023-10-08T19:14:09.092Z"
   },
   {
    "duration": 16,
    "start_time": "2023-10-08T19:14:09.108Z"
   },
   {
    "duration": 32,
    "start_time": "2023-10-08T19:14:09.126Z"
   },
   {
    "duration": 11,
    "start_time": "2023-10-08T19:14:09.160Z"
   },
   {
    "duration": 17,
    "start_time": "2023-10-08T19:14:09.174Z"
   },
   {
    "duration": 12,
    "start_time": "2023-10-08T19:14:09.193Z"
   },
   {
    "duration": 32,
    "start_time": "2023-10-08T19:14:09.207Z"
   },
   {
    "duration": 20,
    "start_time": "2023-10-08T19:14:09.257Z"
   },
   {
    "duration": 131,
    "start_time": "2023-10-08T19:14:09.278Z"
   },
   {
    "duration": 18,
    "start_time": "2023-10-08T19:14:09.411Z"
   },
   {
    "duration": 38,
    "start_time": "2023-10-08T19:14:09.431Z"
   },
   {
    "duration": 3,
    "start_time": "2023-10-08T19:14:09.471Z"
   },
   {
    "duration": 58,
    "start_time": "2023-10-08T19:14:09.478Z"
   },
   {
    "duration": 33,
    "start_time": "2023-10-08T19:14:09.537Z"
   },
   {
    "duration": 28,
    "start_time": "2023-10-08T19:14:09.572Z"
   },
   {
    "duration": 29,
    "start_time": "2023-10-08T19:14:09.601Z"
   },
   {
    "duration": 5,
    "start_time": "2023-10-08T19:14:09.657Z"
   },
   {
    "duration": 346,
    "start_time": "2023-10-08T19:14:09.663Z"
   },
   {
    "duration": 28,
    "start_time": "2023-10-08T19:14:10.011Z"
   },
   {
    "duration": 268,
    "start_time": "2023-10-08T19:14:10.056Z"
   },
   {
    "duration": 10,
    "start_time": "2023-10-08T19:14:10.326Z"
   },
   {
    "duration": 196,
    "start_time": "2023-10-08T19:14:10.338Z"
   },
   {
    "duration": 10,
    "start_time": "2023-10-08T19:14:10.536Z"
   },
   {
    "duration": 334,
    "start_time": "2023-10-08T19:14:10.548Z"
   },
   {
    "duration": 10,
    "start_time": "2023-10-08T19:14:10.884Z"
   },
   {
    "duration": 189,
    "start_time": "2023-10-08T19:14:10.896Z"
   },
   {
    "duration": 11,
    "start_time": "2023-10-08T19:14:11.087Z"
   },
   {
    "duration": 195,
    "start_time": "2023-10-08T19:14:11.100Z"
   },
   {
    "duration": 10,
    "start_time": "2023-10-08T19:14:11.296Z"
   },
   {
    "duration": 243,
    "start_time": "2023-10-08T19:14:11.307Z"
   },
   {
    "duration": 13,
    "start_time": "2023-10-08T19:14:11.552Z"
   },
   {
    "duration": 154,
    "start_time": "2023-10-08T19:14:11.567Z"
   },
   {
    "duration": 11,
    "start_time": "2023-10-08T19:14:11.723Z"
   },
   {
    "duration": 205,
    "start_time": "2023-10-08T19:14:11.736Z"
   },
   {
    "duration": 22,
    "start_time": "2023-10-08T19:14:11.943Z"
   },
   {
    "duration": 205,
    "start_time": "2023-10-08T19:14:11.967Z"
   },
   {
    "duration": 11,
    "start_time": "2023-10-08T19:14:12.174Z"
   },
   {
    "duration": 14,
    "start_time": "2023-10-08T19:14:12.186Z"
   },
   {
    "duration": 20,
    "start_time": "2023-10-08T19:14:12.202Z"
   },
   {
    "duration": 26,
    "start_time": "2023-10-08T19:14:12.224Z"
   },
   {
    "duration": 7,
    "start_time": "2023-10-08T19:14:12.252Z"
   },
   {
    "duration": 40,
    "start_time": "2023-10-08T19:14:12.260Z"
   },
   {
    "duration": 242,
    "start_time": "2023-10-08T19:14:12.302Z"
   },
   {
    "duration": 159,
    "start_time": "2023-10-08T19:14:12.546Z"
   },
   {
    "duration": 4,
    "start_time": "2023-10-08T19:14:12.707Z"
   },
   {
    "duration": 11,
    "start_time": "2023-10-08T19:14:12.712Z"
   },
   {
    "duration": 224,
    "start_time": "2023-10-08T19:14:12.724Z"
   },
   {
    "duration": 197,
    "start_time": "2023-10-08T19:14:12.950Z"
   },
   {
    "duration": 470,
    "start_time": "2023-10-08T19:14:13.149Z"
   },
   {
    "duration": 202,
    "start_time": "2023-10-08T19:14:13.621Z"
   },
   {
    "duration": 204,
    "start_time": "2023-10-08T19:14:13.825Z"
   },
   {
    "duration": 560,
    "start_time": "2023-10-08T19:14:14.031Z"
   },
   {
    "duration": 9,
    "start_time": "2023-10-08T19:14:14.593Z"
   },
   {
    "duration": 38,
    "start_time": "2023-10-08T19:14:14.603Z"
   },
   {
    "duration": 19,
    "start_time": "2023-10-08T19:14:14.642Z"
   },
   {
    "duration": 176,
    "start_time": "2023-10-08T19:14:14.663Z"
   },
   {
    "duration": 5,
    "start_time": "2023-10-08T19:14:38.704Z"
   },
   {
    "duration": 6,
    "start_time": "2023-10-08T19:14:47.498Z"
   },
   {
    "duration": 3,
    "start_time": "2023-10-08T19:18:05.708Z"
   },
   {
    "duration": 411,
    "start_time": "2024-02-29T19:59:33.250Z"
   },
   {
    "duration": 145,
    "start_time": "2024-02-29T19:59:35.615Z"
   },
   {
    "duration": 15,
    "start_time": "2024-02-29T19:59:37.634Z"
   },
   {
    "duration": 30,
    "start_time": "2024-02-29T19:59:39.995Z"
   },
   {
    "duration": 25,
    "start_time": "2024-02-29T19:59:41.800Z"
   },
   {
    "duration": 2,
    "start_time": "2024-02-29T19:59:43.615Z"
   },
   {
    "duration": 80,
    "start_time": "2024-02-29T19:59:45.374Z"
   },
   {
    "duration": 2047,
    "start_time": "2024-02-29T19:59:46.650Z"
   },
   {
    "duration": 9,
    "start_time": "2024-02-29T19:59:48.698Z"
   },
   {
    "duration": 32,
    "start_time": "2024-02-29T19:59:52.874Z"
   },
   {
    "duration": 3,
    "start_time": "2024-02-29T19:59:54.184Z"
   },
   {
    "duration": 9,
    "start_time": "2024-02-29T20:00:00.624Z"
   },
   {
    "duration": 9,
    "start_time": "2024-02-29T20:00:09.515Z"
   },
   {
    "duration": 5,
    "start_time": "2024-02-29T20:00:11.544Z"
   },
   {
    "duration": 13,
    "start_time": "2024-02-29T20:00:18.139Z"
   },
   {
    "duration": 11,
    "start_time": "2024-02-29T20:00:20.244Z"
   },
   {
    "duration": 11,
    "start_time": "2024-02-29T20:00:21.215Z"
   },
   {
    "duration": 14,
    "start_time": "2024-02-29T20:00:22.284Z"
   },
   {
    "duration": 9,
    "start_time": "2024-02-29T20:00:23.089Z"
   },
   {
    "duration": 15,
    "start_time": "2024-02-29T20:00:23.994Z"
   },
   {
    "duration": 18,
    "start_time": "2024-02-29T20:00:25.615Z"
   },
   {
    "duration": 102,
    "start_time": "2024-02-29T20:00:30.141Z"
   },
   {
    "duration": 13,
    "start_time": "2024-02-29T20:00:31.774Z"
   },
   {
    "duration": 17,
    "start_time": "2024-02-29T20:00:35.870Z"
   },
   {
    "duration": 2,
    "start_time": "2024-02-29T20:00:41.995Z"
   },
   {
    "duration": 25,
    "start_time": "2024-02-29T20:00:42.919Z"
   },
   {
    "duration": 26,
    "start_time": "2024-02-29T20:00:44.205Z"
   },
   {
    "duration": 27,
    "start_time": "2024-02-29T20:00:45.510Z"
   },
   {
    "duration": 24,
    "start_time": "2024-02-29T20:00:46.500Z"
   },
   {
    "duration": 3,
    "start_time": "2024-02-29T20:00:47.874Z"
   },
   {
    "duration": 275,
    "start_time": "2024-02-29T20:00:48.625Z"
   },
   {
    "duration": 25,
    "start_time": "2024-02-29T20:00:51.404Z"
   },
   {
    "duration": 241,
    "start_time": "2024-02-29T20:01:13.109Z"
   },
   {
    "duration": 8,
    "start_time": "2024-02-29T20:01:15.355Z"
   },
   {
    "duration": 168,
    "start_time": "2024-02-29T20:01:21.669Z"
   },
   {
    "duration": 8,
    "start_time": "2024-02-29T20:01:23.000Z"
   },
   {
    "duration": 236,
    "start_time": "2024-02-29T20:01:24.990Z"
   },
   {
    "duration": 8,
    "start_time": "2024-02-29T20:01:25.870Z"
   },
   {
    "duration": 150,
    "start_time": "2024-02-29T20:01:28.264Z"
   },
   {
    "duration": 8,
    "start_time": "2024-02-29T20:01:29.780Z"
   },
   {
    "duration": 164,
    "start_time": "2024-02-29T20:01:35.469Z"
   },
   {
    "duration": 9,
    "start_time": "2024-02-29T20:01:37.755Z"
   },
   {
    "duration": 144,
    "start_time": "2024-02-29T20:01:39.755Z"
   },
   {
    "duration": 9,
    "start_time": "2024-02-29T20:01:41.135Z"
   },
   {
    "duration": 120,
    "start_time": "2024-02-29T20:01:44.465Z"
   },
   {
    "duration": 9,
    "start_time": "2024-02-29T20:01:51.610Z"
   },
   {
    "duration": 166,
    "start_time": "2024-02-29T20:01:58.145Z"
   },
   {
    "duration": 9,
    "start_time": "2024-02-29T20:01:58.890Z"
   },
   {
    "duration": 162,
    "start_time": "2024-02-29T20:02:00.835Z"
   },
   {
    "duration": 10,
    "start_time": "2024-02-29T20:02:01.780Z"
   },
   {
    "duration": 3,
    "start_time": "2024-02-29T20:02:03.799Z"
   },
   {
    "duration": 4,
    "start_time": "2024-02-29T20:02:05.330Z"
   },
   {
    "duration": 3,
    "start_time": "2024-02-29T20:02:06.480Z"
   },
   {
    "duration": 4,
    "start_time": "2024-02-29T20:02:07.725Z"
   },
   {
    "duration": 2,
    "start_time": "2024-02-29T20:02:27.485Z"
   },
   {
    "duration": 9,
    "start_time": "2024-02-29T20:02:28.095Z"
   },
   {
    "duration": 209,
    "start_time": "2024-02-29T20:02:29.235Z"
   },
   {
    "duration": 120,
    "start_time": "2024-02-29T20:02:35.475Z"
   },
   {
    "duration": 2,
    "start_time": "2024-02-29T20:02:36.915Z"
   },
   {
    "duration": 2,
    "start_time": "2024-02-29T20:02:48.410Z"
   },
   {
    "duration": 177,
    "start_time": "2024-02-29T20:02:49.295Z"
   },
   {
    "duration": 182,
    "start_time": "2024-02-29T20:02:50.954Z"
   },
   {
    "duration": 247,
    "start_time": "2024-02-29T20:02:52.825Z"
   },
   {
    "duration": 156,
    "start_time": "2024-02-29T20:02:55.020Z"
   },
   {
    "duration": 207,
    "start_time": "2024-02-29T20:02:57.060Z"
   },
   {
    "duration": 510,
    "start_time": "2024-02-29T20:02:59.220Z"
   },
   {
    "duration": 8,
    "start_time": "2024-02-29T20:03:04.555Z"
   },
   {
    "duration": 21,
    "start_time": "2024-02-29T20:03:05.455Z"
   },
   {
    "duration": 9,
    "start_time": "2024-02-29T20:03:07.565Z"
   },
   {
    "duration": 139,
    "start_time": "2024-02-29T20:03:09.220Z"
   }
  ],
  "kernelspec": {
   "display_name": "Python 3 (ipykernel)",
   "language": "python",
   "name": "python3"
  },
  "language_info": {
   "codemirror_mode": {
    "name": "ipython",
    "version": 3
   },
   "file_extension": ".py",
   "mimetype": "text/x-python",
   "name": "python",
   "nbconvert_exporter": "python",
   "pygments_lexer": "ipython3",
   "version": "3.9.5"
  },
  "toc": {
   "base_numbering": 1,
   "nav_menu": {},
   "number_sections": true,
   "sideBar": true,
   "skip_h1_title": true,
   "title_cell": "Table of Contents",
   "title_sidebar": "Contents",
   "toc_cell": false,
   "toc_position": {},
   "toc_section_display": true,
   "toc_window_display": false
  }
 },
 "nbformat": 4,
 "nbformat_minor": 2
}
